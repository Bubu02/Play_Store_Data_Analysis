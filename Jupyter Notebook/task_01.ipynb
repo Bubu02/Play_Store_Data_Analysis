{
 "cells": [
  {
   "cell_type": "code",
   "execution_count": 28,
   "metadata": {},
   "outputs": [],
   "source": [
    "import pandas as pd\n",
    "import numpy as np\n",
    "import warnings\n",
    "from sklearn.pipeline import Pipeline, FunctionTransformer\n",
    "\n",
    "warnings.filterwarnings('ignore')"
   ]
  },
  {
   "cell_type": "markdown",
   "metadata": {},
   "source": [
    "### Define preprocessing functions"
   ]
  },
  {
   "cell_type": "code",
   "execution_count": 29,
   "metadata": {},
   "outputs": [],
   "source": [
    "def load_data(file_path):\n",
    "    return pd.read_csv(file_path)"
   ]
  },
  {
   "cell_type": "code",
   "execution_count": 30,
   "metadata": {},
   "outputs": [],
   "source": [
    "def filter_paid_apps(df):\n",
    "    return df[df['Type'] == 'Paid'].copy()"
   ]
  },
  {
   "cell_type": "code",
   "execution_count": 31,
   "metadata": {},
   "outputs": [],
   "source": [
    "def clean_price(df):\n",
    "    df['Price'] = df['Price'].str.replace('$', '').astype(float)\n",
    "    return df"
   ]
  },
  {
   "cell_type": "code",
   "execution_count": 32,
   "metadata": {},
   "outputs": [],
   "source": [
    "def clean_installs(df):\n",
    "    df['Installs'] = df['Installs'].str.replace('+', '').str.replace(',', '').astype(int)\n",
    "    return df"
   ]
  },
  {
   "cell_type": "code",
   "execution_count": 33,
   "metadata": {},
   "outputs": [],
   "source": [
    "def calculate_revenue(df):\n",
    "    df['Revenue'] = df['Installs'] * df['Price']\n",
    "    return df"
   ]
  },
  {
   "cell_type": "code",
   "execution_count": 34,
   "metadata": {},
   "outputs": [],
   "source": [
    "# Load data separately\n",
    "playstore_data = load_data('../Data Set/Play Store Data.csv')"
   ]
  },
  {
   "cell_type": "markdown",
   "metadata": {},
   "source": [
    "### Create preprocessing pipeline"
   ]
  },
  {
   "cell_type": "code",
   "execution_count": 35,
   "metadata": {},
   "outputs": [],
   "source": [
    "# Create preprocessing pipeline\n",
    "preprocessing_pipeline = Pipeline([\n",
    "    ('filter_paid_apps', FunctionTransformer(filter_paid_apps)),\n",
    "    ('clean_price', FunctionTransformer(clean_price)),\n",
    "    ('clean_installs', FunctionTransformer(clean_installs)),\n",
    "    ('calculate_revenue', FunctionTransformer(calculate_revenue))\n",
    "])"
   ]
  },
  {
   "cell_type": "code",
   "execution_count": 36,
   "metadata": {},
   "outputs": [],
   "source": [
    "# Apply the pipeline to playstore_data\n",
    "paid_apps = preprocessing_pipeline.transform(playstore_data)"
   ]
  },
  {
   "cell_type": "code",
   "execution_count": 37,
   "metadata": {},
   "outputs": [
    {
     "data": {
      "application/vnd.plotly.v1+json": {
       "config": {
        "plotlyServerURL": "https://plot.ly"
       },
       "data": [
        {
         "hovertemplate": "Category=BUSINESS<br>Number of Installs=%{x}<br>Revenue (USD)=%{y}<extra></extra>",
         "legendgroup": "BUSINESS",
         "marker": {
          "color": "#636efa",
          "symbol": "circle"
         },
         "mode": "markers",
         "name": "BUSINESS",
         "orientation": "v",
         "showlegend": true,
         "type": "scatter",
         "x": {
          "bdata": "oIYBAKCGAQCghgEAoIYBAGQAAAAFAAAA9AEAAOgDAAAQJwAA6AMAADIAAAAKAAAAZAAAAAoAAAA=",
          "dtype": "i4"
         },
         "xaxis": "x",
         "y": {
          "bdata": "AAAAAOB0HkEAAAAA4HQeQQAAAADgdB5BAAAAAOB0HkH//////xefQM3MzMzMzBNAAAAAAICRwUAAAAAAACyvQAEAAAAAM91AAAAAAAB+s0AAAAAAABh8QGdmZmZm5jhAAAAAAABMlEAzMzMzMx+MQA==",
          "dtype": "f8"
         },
         "yaxis": "y"
        },
        {
         "hovertemplate": "<b>OLS trendline</b><br>Revenue = 4.99476 * Installs + -940.501<br>R<sup>2</sup>=0.999373<br><br>Category=BUSINESS<br>Number of Installs=%{x}<br>Revenue (USD)=%{y} <b>(trend)</b><extra></extra>",
         "legendgroup": "BUSINESS",
         "marker": {
          "color": "#636efa",
          "symbol": "circle"
         },
         "mode": "lines",
         "name": "BUSINESS",
         "showlegend": false,
         "type": "scatter",
         "x": {
          "bdata": "BQAAAAoAAAAKAAAAMgAAAGQAAABkAAAA9AEAAOgDAADoAwAAECcAAKCGAQCghgEAoIYBAKCGAQA=",
          "dtype": "i4"
         },
         "xaxis": "x",
         "y": {
          "bdata": "YOpBAzicjMDsxv22bdSLwOzG/bZt1IvATqvcVBuWhcCOkWa0aJB7wI6RZrRokHvAtuWLvYFTmEAraW1RgqyvQCtpbVGCrK9ArjsTxuHt50DX5f1BnG0eQdfl/UGcbR5B1+X9QZxtHkHX5f1BnG0eQQ==",
          "dtype": "f8"
         },
         "yaxis": "y"
        },
        {
         "hovertemplate": "Category=COMMUNICATION<br>Number of Installs=%{x}<br>Revenue (USD)=%{y}<extra></extra>",
         "legendgroup": "COMMUNICATION",
         "marker": {
          "color": "#EF553B",
          "symbol": "circle"
         },
         "mode": "markers",
         "name": "COMMUNICATION",
         "orientation": "v",
         "showlegend": true,
         "type": "scatter",
         "x": {
          "bdata": "oIYBAPQBAAAKAAAAECcAAPQBAAAKAAAA9AEAAEBCDwAKAAAAZAAAAOgDAABkAAAAZAAAAIgTAABkAAAAZAAAABAnAACIEwAACgAAAOgDAAAKAAAAoIYBAIgTAACghgEAECcAABAnAADoAwAA",
          "dtype": "i4"
         },
         "xaxis": "x",
         "y": {
          "bdata": "AAAAAGBaGEEAAAAAACyfQGZmZmZm5jNAAAAAAIBd6EAAAAAAAPB+QMzMzMzM/GhAAAAAAAB+o0AAAAAA2M9GQc3MzMzMzCNAAAAAAACgYkAAAAAAAPCOQAAAAAAAoGJAAAAAAACgYkAAAAAAgF3YQAAAAAAAwFhAAAAAAACgYkABAAAAADPdQAAAAAAAVrNAZ2ZmZmbmOEAAAAAAAHSjQM3MzMzMzCNAAAAAAECzEUEAAAAAABq9QAAAAABgWhhBAQAAAAAz3UAAAAAAAFbDQAAAAAAAXKdA",
          "dtype": "f8"
         },
         "yaxis": "y"
        },
        {
         "hovertemplate": "<b>OLS trendline</b><br>Revenue = 3.00035 * Installs + 6175.72<br>R<sup>2</sup>=0.997715<br><br>Category=COMMUNICATION<br>Number of Installs=%{x}<br>Revenue (USD)=%{y} <b>(trend)</b><extra></extra>",
         "legendgroup": "COMMUNICATION",
         "marker": {
          "color": "#EF553B",
          "symbol": "circle"
         },
         "mode": "lines",
         "name": "COMMUNICATION",
         "showlegend": false,
         "type": "scatter",
         "x": {
          "bdata": "CgAAAAoAAAAKAAAACgAAAAoAAABkAAAAZAAAAGQAAABkAAAAZAAAAPQBAAD0AQAA9AEAAOgDAADoAwAA6AMAAIgTAACIEwAAiBMAABAnAAAQJwAAECcAABAnAACghgEAoIYBAKCGAQBAQg8A",
          "dtype": "i4"
         },
         "xaxis": "x",
         "y": {
          "bdata": "OitY/bk9uEA6K1j9uT24QDorWP25PbhAOitY/bk9uEA6K1j9uT24QFFxiPPBS7lAUXGI88FLuUBRcYjzwUu5QFFxiPPBS7lAUXGI88FLuUCeGiZW5fu9QJ4aJlbl+71AnhomVuX7vUAgl7XICOzBQCCXtcgI7MFAIJe1yAjswUDR8uTaXK7UQNHy5NpcrtRA0fLk2lyu1EDx0Yi3ZarhQPHRiLdlquFA8dGIt2Wq4UDx0Yi3ZarhQHJhox2JsBJBcmGjHYmwEkFyYaMdibASQS5FE6Qc8EZB",
          "dtype": "f8"
         },
         "yaxis": "y"
        },
        {
         "hovertemplate": "Category=DATING<br>Number of Installs=%{x}<br>Revenue (USD)=%{y}<extra></extra>",
         "legendgroup": "DATING",
         "marker": {
          "color": "#00cc96",
          "symbol": "circle"
         },
         "mode": "markers",
         "name": "DATING",
         "orientation": "v",
         "showlegend": true,
         "type": "scatter",
         "x": {
          "bdata": "ECfoAzIAZABkAGQAECc=",
          "dtype": "i2"
         },
         "xaxis": "x",
         "y": {
          "bdata": "AAAAAIB740AAAAAAAE67QAAAAAAAoFJAAAAAAACwckAAAAAAAPB4QAAAAAAA+IhAAAAAAIB740A=",
          "dtype": "f8"
         },
         "yaxis": "y"
        },
        {
         "hovertemplate": "<b>OLS trendline</b><br>Revenue = 3.941 * Installs + 603.025<br>R<sup>2</sup>=0.996498<br><br>Category=DATING<br>Number of Installs=%{x}<br>Revenue (USD)=%{y} <b>(trend)</b><extra></extra>",
         "legendgroup": "DATING",
         "marker": {
          "color": "#00cc96",
          "symbol": "circle"
         },
         "mode": "lines",
         "name": "DATING",
         "showlegend": false,
         "type": "scatter",
         "x": {
          "bdata": "MgBkAGQAZADoAxAnECc=",
          "dtype": "i2"
         },
         "xaxis": "x",
         "y": {
          "bdata": "/CKXvpkAiUCDjyoFACmPQIOPKgUAKY9Ag48qBQApj0AfBnEfBsCxQP7BbGqgieNA/sFsaqCJ40A=",
          "dtype": "f8"
         },
         "yaxis": "y"
        },
        {
         "hovertemplate": "Category=EDUCATION<br>Number of Installs=%{x}<br>Revenue (USD)=%{y}<extra></extra>",
         "legendgroup": "EDUCATION",
         "marker": {
          "color": "#ab63fa",
          "symbol": "circle"
         },
         "mode": "markers",
         "name": "EDUCATION",
         "orientation": "v",
         "showlegend": true,
         "type": "scatter",
         "x": {
          "bdata": "6AMAAOgDAAAgoQcAoIYBAA==",
          "dtype": "i4"
         },
         "xaxis": "x",
         "y": {
          "bdata": "AAAAAAAsr0AAAAAAAGa3QAAAAAD4cD5BAAAAAGBaGEE=",
          "dtype": "f8"
         },
         "yaxis": "y"
        },
        {
         "hovertemplate": "<b>OLS trendline</b><br>Revenue = 3.98823 * Installs + 765.639<br>R<sup>2</sup>=0.999999<br><br>Category=EDUCATION<br>Number of Installs=%{x}<br>Revenue (USD)=%{y} <b>(trend)</b><extra></extra>",
         "legendgroup": "EDUCATION",
         "marker": {
          "color": "#ab63fa",
          "symbol": "circle"
         },
         "mode": "lines",
         "name": "EDUCATION",
         "showlegend": false,
         "type": "scatter",
         "x": {
          "bdata": "6AMAAOgDAACghgEAIKEHAA==",
          "dtype": "i4"
         },
         "xaxis": "x",
         "y": {
          "bdata": "1hvutt+RskDWG+6235GyQDp644mUYxhBNkUZHoNwPkE=",
          "dtype": "f8"
         },
         "yaxis": "y"
        },
        {
         "hovertemplate": "Category=ENTERTAINMENT<br>Number of Installs=%{x}<br>Revenue (USD)=%{y}<extra></extra>",
         "legendgroup": "ENTERTAINMENT",
         "marker": {
          "color": "#FFA15A",
          "symbol": "circle"
         },
         "mode": "markers",
         "name": "ENTERTAINMENT",
         "orientation": "v",
         "showlegend": true,
         "type": "scatter",
         "x": {
          "bdata": "oIYBAKCGAQA=",
          "dtype": "i4"
         },
         "xaxis": "x",
         "y": {
          "bdata": "AAAAAOB0HkEAAAAA4D8SQQ==",
          "dtype": "f8"
         },
         "yaxis": "y"
        },
        {
         "hovertemplate": "<b>OLS trendline</b><br>Revenue = 3.99<br>R<sup>2</sup>=0.000000<br><br>Category=ENTERTAINMENT<br>Number of Installs=%{x}<br>Revenue (USD)=%{y} <b>(trend)</b><extra></extra>",
         "legendgroup": "ENTERTAINMENT",
         "marker": {
          "color": "#FFA15A",
          "symbol": "circle"
         },
         "mode": "lines",
         "name": "ENTERTAINMENT",
         "showlegend": false,
         "type": "scatter",
         "x": {
          "bdata": "oIYBAKCGAQA=",
          "dtype": "i4"
         },
         "xaxis": "x",
         "y": {
          "bdata": "/////19aGEH/////X1oYQQ==",
          "dtype": "f8"
         },
         "yaxis": "y"
        },
        {
         "hovertemplate": "Category=FOOD_AND_DRINK<br>Number of Installs=%{x}<br>Revenue (USD)=%{y}<extra></extra>",
         "legendgroup": "FOOD_AND_DRINK",
         "marker": {
          "color": "#19d3f3",
          "symbol": "circle"
         },
         "mode": "markers",
         "name": "FOOD_AND_DRINK",
         "orientation": "v",
         "showlegend": true,
         "type": "scatter",
         "x": {
          "bdata": "ECcAAFDDAAA=",
          "dtype": "i4"
         },
         "xaxis": "x",
         "y": {
          "bdata": "AAAAAIAK4UAAAAAA4HQOQQ==",
          "dtype": "f8"
         },
         "yaxis": "y"
        },
        {
         "hovertemplate": "<b>OLS trendline</b><br>Revenue = 5.365 * Installs + -18750<br>R<sup>2</sup>=1.000000<br><br>Category=FOOD_AND_DRINK<br>Number of Installs=%{x}<br>Revenue (USD)=%{y} <b>(trend)</b><extra></extra>",
         "legendgroup": "FOOD_AND_DRINK",
         "marker": {
          "color": "#19d3f3",
          "symbol": "circle"
         },
         "mode": "lines",
         "name": "FOOD_AND_DRINK",
         "showlegend": false,
         "type": "scatter",
         "x": {
          "bdata": "ECcAAFDDAAA=",
          "dtype": "i4"
         },
         "xaxis": "x",
         "y": {
          "bdata": "AgAAAIAK4UAAAAAA4HQOQQ==",
          "dtype": "f8"
         },
         "yaxis": "y"
        },
        {
         "hovertemplate": "Category=HEALTH_AND_FITNESS<br>Number of Installs=%{x}<br>Revenue (USD)=%{y}<extra></extra>",
         "legendgroup": "HEALTH_AND_FITNESS",
         "marker": {
          "color": "#FF6692",
          "symbol": "circle"
         },
         "mode": "markers",
         "name": "HEALTH_AND_FITNESS",
         "orientation": "v",
         "showlegend": true,
         "type": "scatter",
         "x": {
          "bdata": "oIYBABAnAACghgEAoIYBAFDDAABQwwAAUMMAAOgDAAAyAAAACgAAAKCGAQDoAwAAMgAAABAnAADoAwAA6AMAAA==",
          "dtype": "i4"
         },
         "xaxis": "x",
         "y": {
          "bdata": "AAAAAOA/EkEAAAAAgHvjQAAAAADgPxJBAAAAAOA/EkEAAAAAwEr4QAAAAADgPwJBAAAAAMBK+EAAAAAAABifQAAAAAAAuHJAzczMzMzMI0AAAAAAIE0VQQAAAAAAfrNAAAAAAAA4f0AAAAAAwBDxQAAAAAAAfrNAAAAAAAA2v0A=",
          "dtype": "f8"
         },
         "yaxis": "y"
        },
        {
         "hovertemplate": "<b>OLS trendline</b><br>Revenue = 2.99752 * Installs + 260.267<br>R<sup>2</sup>=0.963490<br><br>Category=HEALTH_AND_FITNESS<br>Number of Installs=%{x}<br>Revenue (USD)=%{y} <b>(trend)</b><extra></extra>",
         "legendgroup": "HEALTH_AND_FITNESS",
         "marker": {
          "color": "#FF6692",
          "symbol": "circle"
         },
         "mode": "lines",
         "name": "HEALTH_AND_FITNESS",
         "showlegend": false,
         "type": "scatter",
         "x": {
          "bdata": "CgAAADIAAAAyAAAA6AMAAOgDAADoAwAA6AMAABAnAAAQJwAAUMMAAFDDAABQwwAAoIYBAKCGAQCghgEAoIYBAA==",
          "dtype": "i4"
         },
         "xaxis": "x",
         "y": {
          "bdata": "efjG3d8jckCera8XSaJ5QJ6trxdJonlAec/ghpFzqUB5z+CGkXOpQHnP4IaRc6lAec/ghpFzqUDENnIg3IbdQMQ2ciDcht1ApcgoCcFTAkGlyCgJwVMCQaXIKAnBUwJBcvXE969PEkFy9cT3r08SQXL1xPevTxJBcvXE969PEkE=",
          "dtype": "f8"
         },
         "yaxis": "y"
        },
        {
         "hovertemplate": "Category=GAME<br>Number of Installs=%{x}<br>Revenue (USD)=%{y}<extra></extra>",
         "legendgroup": "GAME",
         "marker": {
          "color": "#B6E880",
          "symbol": "circle"
         },
         "mode": "markers",
         "name": "GAME",
         "orientation": "v",
         "showlegend": true,
         "type": "scatter",
         "x": {
          "bdata": "oIYBAKCGAQCghgEAoIYBAKCGAQCghgEAoIYBAKCGAQCghgEAZAAAAOgDAAD0AQAAgJaYABAnAAABAAAA6AMAABAnAADoAwAA6AMAAIgTAAAQJwAAZAAAAFDDAACghgEAoIYBABAnAADoAwAAUMMAAEBCDwAgoQcA6AMAAKCGAQBQwwAAECcAAOgDAABAQg8AoIYBAKCGAQCghgEAAQAAAAEAAADoAwAAUMMAABAnAAABAAAA9AEAAGQAAAAQJwAAiBMAAOgDAACghgEAZAAAAOgDAAAQJwAAQEIPAGQAAAAKAAAAUMMAABAnAADoAwAAZAAAAKCGAQBkAAAAQEIPAKCGAQAQJwAAECcAADIAAABAQg8AQEIPAEBCDwDoAwAA6AMAAKCGAQCIEwAAoIYBAKCGAQBkAAAAZAAAAKCGAQBAQg8AAQAAABAnAAA=",
          "dtype": "i4"
         },
         "xaxis": "x",
         "y": {
          "bdata": "AAAAAOA/EkEAAAAAwEoIQQAAAADgdB5BAAAAAOB0HkEAAAAA4HQeQQAAAACwRyJBAAAAAPBUJUEAAAAAsHwuQQAAAADgdB5BAAAAAADAWEAAAAAAABifQAAAAAAA8H5AAAAAAPzhYkH/////3/UFQa5H4XoUru8/AAAAAAB+s0AAAAAAAFbDQAAAAAAA8I5AAAAAAAB0o0AAAAAAAG/DQAAAAACAXehAAAAAAADAWEAAAAAAwEr4QAAAAADASghBAAAAAOB0HkEAAAAAgF3oQAAAAAAAKJlAAAAAAIAr6EAAAAAAYDYuQQAAAABwXS5BAAAAAAAsr0AAAAAAgCv4QAAAAADASvhAAAAAAIBd6EAAAAAAAPCOQAAAAADYz0ZBAAAAAOA/EkEAAAAA4D8SQQAAAADgPxJBrkfhehSu7z/Xo3A9Ctf3PwAAAAAA8I5AAAAAAOB0DkEAAAAAwIHzQK5H4XoUru8/AAAAAACKoUAAAAAAAOCVQAAAAAAAb9NAAAAAAMAQ4UAAAAAAAE67QAAAAADgPxJBAAAAAADgaEAAAAAAAESrQAAAAACAXehAAAAAACyqWkEAAAAAAMBYQM3MzMzMzCNAAAAAAOB0DkEBAAAAADPdQAAAAAAA8I5AAAAAAAAQfEAAAAAAwEoIQQAAAAAAMH9AAAAAAAwJU0EAAAAA4D8SQQAAAACAe+NAAQAAAAAz3UAAAAAAAOBYQAAAAABgNi5BAAAAAGA2LkEAAAAAYDYuQQAAAAAA8I5AAAAAAAAYn0AAAAAA4D8SQQAAAAAAVrNAAAAAAGBaGEEAAAAA4D8SQQAAAAAAwFhAAAAAAADgaEAAAAAA4D8SQQAAAABgNi5BrkfhehSu7z//////X70EQQ==",
          "dtype": "f8"
         },
         "yaxis": "y"
        },
        {
         "hovertemplate": "<b>OLS trendline</b><br>Revenue = 1.06576 * Installs + 222894<br>R<sup>2</sup>=0.685870<br><br>Category=GAME<br>Number of Installs=%{x}<br>Revenue (USD)=%{y} <b>(trend)</b><extra></extra>",
         "legendgroup": "GAME",
         "marker": {
          "color": "#B6E880",
          "symbol": "circle"
         },
         "mode": "lines",
         "name": "GAME",
         "showlegend": false,
         "type": "scatter",
         "x": {
          "bdata": "AQAAAAEAAAABAAAAAQAAAAEAAAAKAAAAMgAAAGQAAABkAAAAZAAAAGQAAABkAAAAZAAAAGQAAABkAAAAZAAAAPQBAAD0AQAA6AMAAOgDAADoAwAA6AMAAOgDAADoAwAA6AMAAOgDAADoAwAA6AMAAOgDAADoAwAA6AMAAIgTAACIEwAAiBMAABAnAAAQJwAAECcAABAnAAAQJwAAECcAABAnAAAQJwAAECcAABAnAAAQJwAAECcAAFDDAABQwwAAUMMAAFDDAABQwwAAoIYBAKCGAQCghgEAoIYBAKCGAQCghgEAoIYBAKCGAQCghgEAoIYBAKCGAQCghgEAoIYBAKCGAQCghgEAoIYBAKCGAQCghgEAoIYBAKCGAQCghgEAoIYBACChBwBAQg8AQEIPAEBCDwBAQg8AQEIPAEBCDwBAQg8AQEIPAICWmAA=",
          "dtype": "i4"
         },
         "xaxis": "x",
         "y": {
          "bdata": "fTEl1XU1C0F9MSXVdTULQX0xJdV1NQtBfTEl1XU1C0F9MSXVdTULQSrGM5HCNQtBgj4fnBc3C0HvlMXpwTgLQe+UxenBOAtB75TF6cE4C0HvlMXpwTgLQe+UxenBOAtB75TF6cE4C0HvlMXpwTgLQe+UxenBOAtB75TF6cE4C0FcSPhWFEYLQVxI+FYURgtBpah3X7tWC0GlqHdfu1YLQaWod1+7VgtBpah3X7tWC0GlqHdfu1YLQaWod1+7VgtBpah3X7tWC0GlqHdfu1YLQaWod1+7VgtBpah3X7tWC0GlqHdfu1YLQaWod1+7VgtBpah3X7tWC0HoqnKj89sLQeiqcqPz2wtB6Kpyo/PbC0G7bWz4eYIMQbttbPh5ggxBu21s+HmCDEG7bWz4eYIMQbttbPh5ggxBu21s+HmCDEG7bWz4eYIMQbttbPh5ggxBu21s+HmCDEG7bWz4eYIMQbttbPh5ggxBu21s+HmCDEEsQh1QVtsQQSxCHVBW2xBBLEIdUFbbEEEsQh1QVtsQQSxCHVBW2xBBThD++PUbFEFOEP749RsUQU4Q/vj1GxRBThD++PUbFEFOEP749RsUQU4Q/vj1GxRBThD++PUbFEFOEP749RsUQU4Q/vj1GxRBThD++PUbFEFOEP749RsUQU4Q/vj1GxRBThD++PUbFEFOEP749RsUQU4Q/vj1GxRBThD++PUbFEFOEP749RsUQU4Q/vj1GxRBThD++PUbFEFOEP749RsUQU4Q/vj1GxRBThD++PUbFEGwQAKgeRAnQa4jM/bLqTNBriMz9supM0GuIzP2y6kzQa4jM/bLqTNBriMz9supM0GuIzP2y6kzQa4jM/bLqTNBriMz9supM0H267aUu8BkQQ==",
          "dtype": "f8"
         },
         "yaxis": "y"
        },
        {
         "hovertemplate": "Category=FAMILY<br>Number of Installs=%{x}<br>Revenue (USD)=%{y}<extra></extra>",
         "legendgroup": "FAMILY",
         "marker": {
          "color": "#FF97FF",
          "symbol": "circle"
         },
         "mode": "markers",
         "name": "FAMILY",
         "orientation": "v",
         "showlegend": true,
         "type": "scatter",
         "x": {
          "bdata": "iBMAAIgTAADoAwAA9AEAAKCGAQAgoQcAECcAABAnAADoAwAA6AMAAOgDAABkAAAAZAAAAOgDAACIEwAAiBMAAOgDAAAQJwAAECcAAIgTAADoAwAAECcAABAnAABQwwAA6AMAABAnAAAQJwAAUMMAAICWmABAQg8AUMMAAKCGAQAKAAAAoIYBAAUAAABkAAAAQEIPAPQBAADoAwAA6AMAAGQAAACAlpgAiBMAAKCGAQAQJwAAECcAAKCGAQAQJwAAECcAAAoAAABkAAAA6AMAAKCGAQBQwwAAECcAAIgTAAAQJwAAoIYBABAnAACghgEAUMMAABAnAADoAwAAiBMAAIgTAAABAAAAiBMAAPQBAAAKAAAAECcAAIgTAAAQJwAAoIYBAKCGAQDoAwAAZAAAAGQAAAAKAAAAAAAAAAoAAAABAAAAIKEHAAoAAAABAAAABQAAAGQAAAAAAAAAZAAAAAoAAAAyAAAA6AMAAKCGAQBkAAAAoIYBAFDDAABQwwAAZAAAAAoAAADoAwAA6AMAAAoAAADoAwAA6AMAAOgDAABAQg8AiBMAADIAAAAgoQcAECcAAGQAAAAyAAAA6AMAAOgDAABQwwAAMgAAAAoAAADoAwAAECcAAAoAAAAQJwAAoIYBAKCGAQCghgEAECcAABAnAAAQJwAAiBMAAGQAAAAKAAAAZAAAAAoAAAABAAAA9AEAAOgDAACghgEAECcAABAnAABQwwAAECcAAGQAAAAyAAAAiBMAAFDDAAAQJwAAoIYBABAnAACghgEAoIYBAKCGAQAQJwAA9AEAAFDDAACghgEAUMMAABAnAABQwwAAoIYBAFDDAAAyAAAAQEIPAKCGAQAKAAAAMgAAAGQAAAAyAAAAECcAABAnAAAKAAAAIKEHAOgDAAAQJwAAMgAAAOgDAAAgoQcAECcAAGQAAABkAAAAQEIPAFDDAADoAwAAMgAAAPQBAABQwwAAZAAAABAnAACghgEAoIYBAGQAAABkAAAAECcAADIAAAA=",
          "dtype": "i4"
         },
         "xaxis": "x",
         "y": {
          "bdata": "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",
          "dtype": "f8"
         },
         "yaxis": "y"
        },
        {
         "hovertemplate": "<b>OLS trendline</b><br>Revenue = 6.86628 * Installs + -150097<br>R<sup>2</sup>=0.981375<br><br>Category=FAMILY<br>Number of Installs=%{x}<br>Revenue (USD)=%{y} <b>(trend)</b><extra></extra>",
         "legendgroup": "FAMILY",
         "marker": {
          "color": "#FF97FF",
          "symbol": "circle"
         },
         "mode": "lines",
         "name": "FAMILY",
         "showlegend": false,
         "type": "scatter",
         "x": {
          "bdata": "AAAAAAAAAAABAAAAAQAAAAEAAAABAAAABQAAAAUAAAAKAAAACgAAAAoAAAAKAAAACgAAAAoAAAAKAAAACgAAAAoAAAAKAAAACgAAAAoAAAAKAAAACgAAAAoAAAAyAAAAMgAAADIAAAAyAAAAMgAAADIAAAAyAAAAMgAAADIAAAAyAAAAMgAAAGQAAABkAAAAZAAAAGQAAABkAAAAZAAAAGQAAABkAAAAZAAAAGQAAABkAAAAZAAAAGQAAABkAAAAZAAAAGQAAABkAAAAZAAAAGQAAABkAAAAZAAAAPQBAAD0AQAA9AEAAPQBAAD0AQAA9AEAAOgDAADoAwAA6AMAAOgDAADoAwAA6AMAAOgDAADoAwAA6AMAAOgDAADoAwAA6AMAAOgDAADoAwAA6AMAAOgDAADoAwAA6AMAAOgDAADoAwAA6AMAAOgDAADoAwAA6AMAAOgDAADoAwAAiBMAAIgTAACIEwAAiBMAAIgTAACIEwAAiBMAAIgTAACIEwAAiBMAAIgTAACIEwAAiBMAAIgTAAAQJwAAECcAABAnAAAQJwAAECcAABAnAAAQJwAAECcAABAnAAAQJwAAECcAABAnAAAQJwAAECcAABAnAAAQJwAAECcAABAnAAAQJwAAECcAABAnAAAQJwAAECcAABAnAAAQJwAAECcAABAnAAAQJwAAECcAABAnAAAQJwAAECcAABAnAAAQJwAAECcAABAnAAAQJwAAUMMAAFDDAABQwwAAUMMAAFDDAABQwwAAUMMAAFDDAABQwwAAUMMAAFDDAABQwwAAUMMAAFDDAABQwwAAUMMAAKCGAQCghgEAoIYBAKCGAQCghgEAoIYBAKCGAQCghgEAoIYBAKCGAQCghgEAoIYBAKCGAQCghgEAoIYBAKCGAQCghgEAoIYBAKCGAQCghgEAoIYBAKCGAQCghgEAoIYBAKCGAQAgoQcAIKEHACChBwAgoQcAIKEHAEBCDwBAQg8AQEIPAEBCDwBAQg8AgJaYAICWmAA=",
          "dtype": "i4"
         },
         "xaxis": "x",
         "y": {
          "bdata": "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",
          "dtype": "f8"
         },
         "yaxis": "y"
        },
        {
         "hovertemplate": "Category=MEDICAL<br>Number of Installs=%{x}<br>Revenue (USD)=%{y}<extra></extra>",
         "legendgroup": "MEDICAL",
         "marker": {
          "color": "#FECB52",
          "symbol": "circle"
         },
         "mode": "markers",
         "name": "MEDICAL",
         "orientation": "v",
         "showlegend": true,
         "type": "scatter",
         "x": {
          "bdata": "oIYBABAnAAAQJwAAECcAABAnAAAQJwAAiBMAAIgTAACghgEAUMMAAOgDAAAQJwAAUMMAAOgDAADoAwAAECcAAOgDAADoAwAA6AMAAGQAAACIEwAAiBMAAPQBAADoAwAAECcAAOgDAABkAAAA6AMAAPQBAACIEwAA6AMAAPQBAADoAwAAiBMAABAnAADoAwAAECcAAGQAAADoAwAAiBMAABAnAADoAwAA6AMAAGQAAABQwwAA6AMAAOgDAACIEwAAiBMAAOgDAAAQJwAAMgAAAOgDAAAQJwAA6AMAAOgDAAD0AQAA9AEAAOgDAACIEwAA6AMAAKCGAQCghgEAECcAABAnAADoAwAAUMMAAOgDAADoAwAA6AMAABAnAAAQJwAAECcAAIgTAADoAwAA6AMAAOgDAAAQJwAAZAAAAGQAAACIEwAAECcAAGQAAADoAwAAAQAAADIAAAAKAAAAAQAAABAnAABkAAAAZAAAAOgDAAD0AQAAECcAAOgDAADoAwAAAQAAAAoAAAAKAAAAZAAAAOgDAAAyAAAAZAAAAGQAAAD0AQAAoIYBAGQAAAAyAAAAAAAAAA==",
          "dtype": "i4"
         },
         "xaxis": "x",
         "y": {
          "bdata": "AAAAAEB3K0EAAAAAAFbDQAAAAACAzupAAAAAAMBj+EAAAAAAwBDxQAAAAAAAavhAAAAAAIB700AAAAAAgD/dQAAAAADcEENBAAAAAJhLIkEAAAAAYIfzQAAAAADARf1AAAAAAOA/AkEAAAAAgJfQQAAAAAAALK9AAQAAAAAz3UAAAAAAAIPDQAAAAAAALK9AAAAAAABHzUAAAAAAALByQAAAAACAe9NAAQAAAAAzzUAAAAAAAEB/QAAAAACASd1AAQAAAAAz3UAAAAAAAFynQAAAAAAATJRAAAAAAAB+s0AAAAAAAFyXQAAAAABgTPJAAAAAAABmt0AAAAAAAESbQAAAAAAA8I5AAQAAAABRyED/////X4EOQQAAAAAAd8VAAAAAAABv00AAAAAAAIajQAAAAAAAfrNAAAAAAIB700ABAAAAADPdQAAAAAAAQr1AAAAAAABwl0AAAAAAALByQAAAAABgWghBAAAAAAAYn0AAAAAAAIPDQAAAAACAe9NAAAAAAIB700AAAAAAACyvQAAAAADAgfNAAAAAAABsh0AAAAAAAIPDQAAAAACAe+NAAAAAAICF00AAAAAAgEndQAAAAAAAO79AAAAAAADwfkAAAAAAwJjgQAAAAAAAVrNAAAAAAGCH80AAAAAAQHcrQQAAAADcEENBAAAAAMBj+EAAAAAAAGr4QAAAAACAl9BAAAAAAJhLIkEAAAAAgEndQAAAAAAAR81AAAAAAOBO8kAAAAAAwEX9QAAAAADAEPFAAAAAAIDO6kAAAAAAYEzyQAAAAAAAg8NAAAAAAMCY4EAAAAAAgEndQP////9fgQ5BAAAAAABMlEAAAAAAAD6vQAAAAACAP91AAQAAAAAz3UAAAAAAAIajQAAAAACAhdNA7FG4HoXrB0AAAAAAAMBIQDQzMzMz801ArkfhehSu7z8AAAAAgHvjQAAAAAAAuIJAAAAAAABAf0AAAAAAAFynQAAAAAAAZqdAAAAAAABWw0AAAAAAAPCOQAAAAAAAcrVA7FG4HoXrD0BnZmZmZuY9QM3MzMzMzCNAAAAAAAA4j0AAAAAAADLOQAAAAAAAwEhAAAAAAAA4j0AAAAAAANiFQAAAAAAALJ9AAAAAANwQQ0EAAAAAAMBYQAAAAAAAwEhAAAAAAAAAAAA=",
          "dtype": "f8"
         },
         "yaxis": "y"
        },
        {
         "hovertemplate": "<b>OLS trendline</b><br>Revenue = 16.9747 * Installs + -34310.9<br>R<sup>2</sup>=0.774631<br><br>Category=MEDICAL<br>Number of Installs=%{x}<br>Revenue (USD)=%{y} <b>(trend)</b><extra></extra>",
         "legendgroup": "MEDICAL",
         "marker": {
          "color": "#FECB52",
          "symbol": "circle"
         },
         "mode": "lines",
         "name": "MEDICAL",
         "showlegend": false,
         "type": "scatter",
         "x": {
          "bdata": "AAAAAAEAAAABAAAAAQAAAAoAAAAKAAAACgAAADIAAAAyAAAAMgAAADIAAABkAAAAZAAAAGQAAABkAAAAZAAAAGQAAABkAAAAZAAAAGQAAABkAAAAZAAAAGQAAABkAAAA9AEAAPQBAAD0AQAA9AEAAPQBAAD0AQAA9AEAAOgDAADoAwAA6AMAAOgDAADoAwAA6AMAAOgDAADoAwAA6AMAAOgDAADoAwAA6AMAAOgDAADoAwAA6AMAAOgDAADoAwAA6AMAAOgDAADoAwAA6AMAAOgDAADoAwAA6AMAAOgDAADoAwAA6AMAAOgDAADoAwAA6AMAAOgDAADoAwAA6AMAAOgDAADoAwAAiBMAAIgTAACIEwAAiBMAAIgTAACIEwAAiBMAAIgTAACIEwAAiBMAAIgTAACIEwAAECcAABAnAAAQJwAAECcAABAnAAAQJwAAECcAABAnAAAQJwAAECcAABAnAAAQJwAAECcAABAnAAAQJwAAECcAABAnAAAQJwAAECcAABAnAAAQJwAAECcAAFDDAABQwwAAUMMAAFDDAACghgEAoIYBAKCGAQCghgEAoIYBAA==",
          "dtype": "i4"
         },
         "xaxis": "x",
         "y": {
          "bdata": "WHeALN3A4MBa1u37vb7gwFrW7fu9vuDAWtbt+72+4MBqLcZGpavgwGotxkalq+DAai3GRqWr4MCzBd2vxVbgwLMF3a/FVuDAswXdr8VW4MCzBd2vxVbgwB4oc2Zc2d/AHihzZlzZ38AeKHNmXNnfwB4oc2Zc2d/AHihzZlzZ38AeKHNmXNnfwB4oc2Zc2d/AHihzZlzZ38AeKHNmXNnfwB4oc2Zc2d/AHihzZlzZ38AeKHNmXNnfwB4oc2Zc2d/A1Q08nOQ32cDVDTyc5DfZwNUNPJzkN9nA1Q08nOQ32cDVDTyc5DfZwNUNPJzkN9nA1Q08nOQ32cD6LHffDu7QwPosd98O7tDA+ix33w7u0MD6LHffDu7QwPosd98O7tDA+ix33w7u0MD6LHffDu7QwPosd98O7tDA+ix33w7u0MD6LHffDu7QwPosd98O7tDA+ix33w7u0MD6LHffDu7QwPosd98O7tDA+ix33w7u0MD6LHffDu7QwPosd98O7tDA+ix33w7u0MD6LHffDu7QwPosd98O7tDA+ix33w7u0MD6LHffDu7QwPosd98O7tDA+ix33w7u0MD6LHffDu7QwPosd98O7tDA+ix33w7u0MD6LHffDu7QwPosd98O7tDA+ix33w7u0MD6LHffDu7QwPosd98O7tDA+ix33w7u0MD6LHffDu7QwPosd98O7tDA7uxXg0+w6EDu7FeDT7DoQO7sV4NPsOhA7uxXg0+w6EDu7FeDT7DoQO7sV4NPsOhA7uxXg0+w6EDu7FeDT7DoQO7sV4NPsOhA7uxXg0+w6EDu7FeDT7DoQO7sV4NPsOhATRTMDF+IAEFNFMwMX4gAQU0UzAxfiABBTRTMDF+IAEFNFMwMX4gAQU0UzAxfiABBTRTMDF+IAEFNFMwMX4gAQU0UzAxfiABBTRTMDF+IAEFNFMwMX4gAQU0UzAxfiABBTRTMDF+IAEFNFMwMX4gAQU0UzAxfiABBTRTMDF+IAEFNFMwMX4gAQU0UzAxfiABBTRTMDF+IAEFNFMwMX4gAQU0UzAxfiABBTRTMDF+IAEE2Nx8brtooQTY3Hxuu2ihBNjcfG67aKEE2Nx8brtooQfE6gwS1YDlB8TqDBLVgOUHxOoMEtWA5QfE6gwS1YDlB8TqDBLVgOUE=",
          "dtype": "f8"
         },
         "yaxis": "y"
        },
        {
         "hovertemplate": "Category=PHOTOGRAPHY<br>Number of Installs=%{x}<br>Revenue (USD)=%{y}<extra></extra>",
         "legendgroup": "PHOTOGRAPHY",
         "marker": {
          "color": "#636efa",
          "symbol": "circle"
         },
         "mode": "markers",
         "name": "PHOTOGRAPHY",
         "orientation": "v",
         "showlegend": true,
         "type": "scatter",
         "x": {
          "bdata": "QEIPAKCGAQBAQg8AoIYBAEBCDwAQJwAACgAAAPQBAADoAwAA6AMAAOgDAACIEwAAUMMAAGQAAACghgEAoIYBAAoAAAAKAAAAIKEHABAnAAAKAAAAZAAAAA==",
          "dtype": "i4"
         },
         "xaxis": "x",
         "y": {
          "bdata": "AAAAAJzZVkEAAAAA4D8SQQAAAACc2VZBAAAAAOAbGEEAAAAAnNlWQQAAAACAXehAAAAAAAAANEAAAAAAAEiHQAAAAAAAg8NAAAAAAICF00AAAAAAAFynQAEAAAAAM81AAAAAAMBK+EAAAAAAAPB4QAAAAADgGxhBAAAAAEAwAkE0MzMzM3NBQGZmZmZmvnJAAAAAANjPNkEAAAAAAG/TQDQzMzMz80hAAAAAAAA4j0A=",
          "dtype": "f8"
         },
         "yaxis": "y"
        },
        {
         "hovertemplate": "<b>OLS trendline</b><br>Revenue = 5.85394 * Installs + -107661<br>R<sup>2</sup>=0.975276<br><br>Category=PHOTOGRAPHY<br>Number of Installs=%{x}<br>Revenue (USD)=%{y} <b>(trend)</b><extra></extra>",
         "legendgroup": "PHOTOGRAPHY",
         "marker": {
          "color": "#636efa",
          "symbol": "circle"
         },
         "mode": "lines",
         "name": "PHOTOGRAPHY",
         "showlegend": false,
         "type": "scatter",
         "x": {
          "bdata": "CgAAAAoAAAAKAAAACgAAAGQAAABkAAAA9AEAAOgDAADoAwAA6AMAAIgTAAAQJwAAECcAAFDDAACghgEAoIYBAKCGAQCghgEAIKEHAEBCDwBAQg8AQEIPAA==",
          "dtype": "i4"
         },
         "xaxis": "x",
         "y": {
          "bdata": "9tC+LCZF+sD20L4sJkX6wPbQviwmRfrA9tC+LCZF+sDH1gqAOCT6wMfWCoA4JPrASpuVR9+R+cDuEAPB79r4wO4QA8Hv2vjA7hADwe/a+MAOvm6McyPzwO2sapUw/OfA7axqlTD858Aj84rhYJYGQYz8FJWUKB1BjPwUlZQoHUGM/BSVlCgdQYz8FJWUKB1BjSLytnaCRUEjwyrymetVQSPDKvKZ61VBI8Mq8pnrVUE=",
          "dtype": "f8"
         },
         "yaxis": "y"
        },
        {
         "hovertemplate": "Category=SPORTS<br>Number of Installs=%{x}<br>Revenue (USD)=%{y}<extra></extra>",
         "legendgroup": "SPORTS",
         "marker": {
          "color": "#EF553B",
          "symbol": "circle"
         },
         "mode": "markers",
         "name": "SPORTS",
         "orientation": "v",
         "showlegend": true,
         "type": "scatter",
         "x": {
          "bdata": "UMMAAGQAAABkAAAAUMMAAEBCDwCIEwAA6AMAAOgDAADoAwAA6AMAAOgDAAAKAAAABQAAAGQAAAAQJwAA6AMAAIgTAACIEwAA9AEAAOgDAADoAwAAiBMAAIgTAACghgEA",
          "dtype": "i4"
         },
         "xaxis": "x",
         "y": {
          "bdata": "AAAAAGzhNkEAAAAAAEB4QAAAAAAA4HJAAAAAAGBaCEEAAAAAcF0+QQEAAAAAM81AAAAAAACKsUAAAAAAACyvQAAAAAAAXKdAAAAAAADwjkAAAAAAAPCOQAAAAAAAAEhAZmZmZmbmI0AAAAAAANB1QAAAAACAXehAAAAAAABcp0AAAAAAAG/DQAAAAAAAiLNAAAAAAABcl0AAAAAAAHSjQAAAAAAAGJ9AAAAAAABWs0AAAAAAAG/DQAAAAABwbytB",
          "dtype": "f8"
         },
         "yaxis": "y"
        },
        {
         "hovertemplate": "<b>OLS trendline</b><br>Revenue = 2.02119 * Installs + 91342.6<br>R<sup>2</sup>=0.632923<br><br>Category=SPORTS<br>Number of Installs=%{x}<br>Revenue (USD)=%{y} <b>(trend)</b><extra></extra>",
         "legendgroup": "SPORTS",
         "marker": {
          "color": "#EF553B",
          "symbol": "circle"
         },
         "mode": "lines",
         "name": "SPORTS",
         "showlegend": false,
         "type": "scatter",
         "x": {
          "bdata": "BQAAAAoAAABkAAAAZAAAAGQAAAD0AQAA6AMAAOgDAADoAwAA6AMAAOgDAADoAwAA6AMAAOgDAACIEwAAiBMAAIgTAACIEwAAiBMAABAnAABQwwAAUMMAAKCGAQBAQg8A",
          "dtype": "i4"
         },
         "xaxis": "x",
         "y": {
          "bdata": "i52FqItN9kDGDolaLU72QO8Ex96LWfZA7wTH3otZ9kDvBMfei1n2QGpn2n8TjPZAhaIyCT3L9kCFojIJPcv2QIWiMgk9y/ZAhaIyCT3L9kCFojIJPcv2QIWiMgk9y/ZAhaIyCT3L9kCFojIJPcv2QFl79FOJxPhAWXv0U4nE+EBZe/RTicT4QFl79FOJxPhAWXv0U4nE+EBhymaxKDz7QFOhfM6RfAdBU6F8zpF8B0E/FtxQV+kRQVh/vlcLHkBB",
          "dtype": "f8"
         },
         "yaxis": "y"
        },
        {
         "hovertemplate": "Category=PERSONALIZATION<br>Number of Installs=%{x}<br>Revenue (USD)=%{y}<extra></extra>",
         "legendgroup": "PERSONALIZATION",
         "marker": {
          "color": "#00cc96",
          "symbol": "circle"
         },
         "mode": "markers",
         "name": "PERSONALIZATION",
         "orientation": "v",
         "showlegend": true,
         "type": "scatter",
         "x": {
          "bdata": "QEIPAEBCDwAQJwAAECcAAKCGAQBkAAAAiBMAAOgDAAAQJwAAECcAAKCGAQAKAAAA6AMAAIgTAAD0AQAA9AEAAKCGAQDoAwAAECcAAIgTAABkAAAABQAAAGQAAADoAwAAZAAAAAoAAAD0AQAAAQAAAGQAAAAKAAAAAAAAAGQAAABkAAAAAQAAAGQAAACIEwAAZAAAAOgDAADoAwAAECcAABAnAAAyAAAAECcAAOgDAABkAAAAMgAAAAoAAAAyAAAACgAAAAoAAAD0AQAABQAAABAnAACghgEAAQAAAAoAAAAyAAAA9AEAAOgDAABAQg8AQEIPAOgDAADoAwAA6AMAAOgDAADoAwAACgAAAKCGAQAQJwAAZAAAAGQAAAABAAAAECcAAFDDAABkAAAAMgAAAOgDAAAQJwAAIKEHAFDDAAD0AQAAMgAAAGQAAAA=",
          "dtype": "i4"
         },
         "xaxis": "x",
         "y": {
          "bdata": "AAAAAEj/QkEAAAAAYDYuQQAAAAAAVsNAAAAAAMBj+EAAAAAAoGcbQQAAAAAAoGJAAAAAAABvw0AAAAAAAJCaQAEAAAAAM91AAAAAAABWw0AAAAAAgCv4QGdmZmZm5jhAAAAAAACQmkAAAAAAAFazQAAAAAAASIdAAAAAAABIh0AAAAAA4D8SQQAAAAAAdKNAAAAAAABWw0AAAAAAwBDhQAAAAAAA4GhAzczMzMzMHUAAAAAAAMBYQAAAAAAASJdAAAAAAADAWEDNzMzMzMwtQAAAAAAASIdA16NwPQrX9z8AAAAAAKBiQM3MzMzMzCNAAAAAAAAAAAAAAAAAAKBiQAAAAAAAoGJA16NwPQrX9z8AAAAAAMBYQAAAAAAAGr1AAAAAAADAWEAAAAAAAH6zQAAAAAAAGJ9AAAAAAABv00AAAAAAAFbDQAAAAAAAsGJAAAAAAABWw0AAAAAAAEiXQAAAAAAAwFhAAAAAAADASEDNzMzMzMwjQAAAAAAAwEhAzczMzMzMI0DNzMzMzMwjQAAAAAAASIdAzczMzMzME0AAAAAAAFbDQAAAAADASghBrkfhehSu7z/NzMzMzMwjQP//////T25AAAAAAABAj0AAAAAAAPCOQAAAAABI/0JBAAAAAGA2LkEAAAAAAPCOQAAAAAAAfrNAAAAAAADwjkAAAAAAAPCOQAAAAAAA8I5AzczMzMzMI0AAAAAA4HQeQQAAAAAAb9NAAAAAAADAWEABAAAAACBvQK5H4XoUru8/AAAAAABv00ABAAAAQGX+QAAAAAAAoGJAAAAAAADASEAAAAAAACyvQAAAAAAAVsNAAAAAAEj/MkEAAAAAgCvoQAAAAAAA8H5AAAAAAADASEAAAAAAAMBYQA==",
          "dtype": "f8"
         },
         "yaxis": "y"
        },
        {
         "hovertemplate": "<b>OLS trendline</b><br>Revenue = 1.78637 * Installs + 10636.1<br>R<sup>2</sup>=0.830871<br><br>Category=PERSONALIZATION<br>Number of Installs=%{x}<br>Revenue (USD)=%{y} <b>(trend)</b><extra></extra>",
         "legendgroup": "PERSONALIZATION",
         "marker": {
          "color": "#00cc96",
          "symbol": "circle"
         },
         "mode": "lines",
         "name": "PERSONALIZATION",
         "showlegend": false,
         "type": "scatter",
         "x": {
          "bdata": "AAAAAAEAAAABAAAAAQAAAAEAAAAFAAAABQAAAAoAAAAKAAAACgAAAAoAAAAKAAAACgAAAAoAAAAKAAAAMgAAADIAAAAyAAAAMgAAADIAAAAyAAAAZAAAAGQAAABkAAAAZAAAAGQAAABkAAAAZAAAAGQAAABkAAAAZAAAAGQAAABkAAAAZAAAAGQAAAD0AQAA9AEAAPQBAAD0AQAA9AEAAPQBAADoAwAA6AMAAOgDAADoAwAA6AMAAOgDAADoAwAA6AMAAOgDAADoAwAA6AMAAOgDAADoAwAA6AMAAIgTAACIEwAAiBMAAIgTAAAQJwAAECcAABAnAAAQJwAAECcAABAnAAAQJwAAECcAABAnAAAQJwAAECcAABAnAABQwwAAUMMAAKCGAQCghgEAoIYBAKCGAQCghgEAIKEHAEBCDwBAQg8AQEIPAEBCDwA=",
          "dtype": "i4"
         },
         "xaxis": "x",
         "y": {
          "bdata": "0iuspgrGxEAwJXNO78bEQDAlc07vxsRAMCVzTu/GxEAwJXNO78bEQKYKj+2BysRApgqP7YHKxEB56XE0+c7EQHnpcTT5zsRAeelxNPnOxEB56XE0+c7EQHnpcTT5zsRAeelxNPnOxEB56XE0+c7EQHnpcTT5zsRAFeCIa7PyxEAV4Ihrs/LEQBXgiGuz8sRAFeCIa7PyxEAV4Ihrs/LEQBXgiGuz8sRAWZRlMFwfxUBZlGUwXB/FQFmUZTBcH8VAWZRlMFwfxUBZlGUwXB/FQFmUZTBcH8VAWZRlMFwfxUBZlGUwXB/FQFmUZTBcH8VAWZRlMFwfxUBZlGUwXB/FQFmUZTBcH8VAWZRlMFwfxUBZlGUwXB/FQHU2S1eihMZAdTZLV6KExkB1NktXooTGQHU2S1eihMZAdTZLV6KExkB1NktXooTGQBhB6gc6Q8hAGEHqBzpDyEAYQeoHOkPIQBhB6gc6Q8hAGEHqBzpDyEAYQeoHOkPIQBhB6gc6Q8hAGEHqBzpDyEAYQeoHOkPIQBhB6gc6Q8hAGEHqBzpDyEAYQeoHOkPIQBhB6gc6Q8hAGEHqBzpDyEAXS3HG+xvTQBdLccb7G9NAF0txxvsb00AXS3HG+xvTQEWAjDny1NtARYCMOfLU20BFgIw58tTbQEWAjDny1NtARYCMOfLU20BFgIw58tTbQEWAjDny1NtARYCMOfLU20BFgIw58tTbQEWAjDny1NtARYCMOfLU20BFgIw58tTbQG2KmXQpZ/hAbYqZdCln+ECwxy7KyBoHQbDHLsrIGgdBsMcuysgaB0Gwxy7KyBoHQbDHLsrIGgdB3rZPUhqVK0GHXgI9jms7QYdeAj2OaztBh14CPY5rO0GHXgI9jms7QQ==",
          "dtype": "f8"
         },
         "yaxis": "y"
        },
        {
         "hovertemplate": "Category=PRODUCTIVITY<br>Number of Installs=%{x}<br>Revenue (USD)=%{y}<extra></extra>",
         "legendgroup": "PRODUCTIVITY",
         "marker": {
          "color": "#ab63fa",
          "symbol": "circle"
         },
         "mode": "markers",
         "name": "PRODUCTIVITY",
         "orientation": "v",
         "showlegend": true,
         "type": "scatter",
         "x": {
          "bdata": "oIYBAGQAAADoAwAAZAAAAOgDAADoAwAACgAAAKCGAQAKAAAAoIYBAAAAAABkAAAABQAAACChBwCIEwAA9AEAAAoAAAAKAAAAZAAAAAoAAADoAwAA6AMAADIAAABQwwAAIKEHADIAAABQwwAA6AMAAA==",
          "dtype": "i4"
         },
         "xaxis": "x",
         "y": {
          "bdata": "AAAAALBHIkEAAAAAALByQAAAAAAAXKdAAAAAAABIhEAAAAAAACiUQAAAAAAA8I5AZ2ZmZmbmPUAAAAAA4HQeQc3MzMzMzCNAAAAAAKBnG0EAAAAAAAAAAAAAAAAAMH9AzczMzMzME0AAAAAAcF0uQQAAAACAe9NAAAAAAACPsUBnZmZmZuY9QGdmZmZm5j1AAAAAAADAWEDNzMzMzMwjQAAAAAAAlcBAAAAAAADCsEAAAAAAAEBgQAAAAABAMPJAAAAAANjPNkEAAAAAAOBYQAAAAADgPwJBAAAAAAA2v0A=",
          "dtype": "f8"
         },
         "yaxis": "y"
        },
        {
         "hovertemplate": "<b>OLS trendline</b><br>Revenue = 2.5732 * Installs + 24281.3<br>R<sup>2</sup>=0.903678<br><br>Category=PRODUCTIVITY<br>Number of Installs=%{x}<br>Revenue (USD)=%{y} <b>(trend)</b><extra></extra>",
         "legendgroup": "PRODUCTIVITY",
         "marker": {
          "color": "#ab63fa",
          "symbol": "circle"
         },
         "mode": "lines",
         "name": "PRODUCTIVITY",
         "showlegend": false,
         "type": "scatter",
         "x": {
          "bdata": "AAAAAAUAAAAKAAAACgAAAAoAAAAKAAAACgAAADIAAAAyAAAAZAAAAGQAAABkAAAAZAAAAPQBAADoAwAA6AMAAOgDAADoAwAA6AMAAOgDAACIEwAAUMMAAFDDAACghgEAoIYBAKCGAQAgoQcAIKEHAA==",
          "dtype": "i4"
         },
         "xaxis": "x",
         "y": {
          "bdata": "5PJZh1W210BEpcHzjLnXQKRXKWDEvNdApFcpYMS810CkVylgxLzXQKRXKWDEvNdApFcpYMS810Cj6mbDf9bXQKPqZsN/1tdAYuJz/6n210Bi4nP/qfbXQGLic/+p9tdAYuJz/6n210BcoNvf+/fYQNRNXTiiOdpA1E1dOKI52kDUTV04ojnaQNRNXTiiOdpA1E1dOKI52kDUTV04ojnaQMlcNX5qI+JAtzZAA2qrAkG3NkADaqsCQYmXyqoEMBFBiZfKqgQwEUGJl8qqBDARQT2eB32gADRBPZ4HfaAANEE=",
          "dtype": "f8"
         },
         "yaxis": "y"
        },
        {
         "hovertemplate": "Category=WEATHER<br>Number of Installs=%{x}<br>Revenue (USD)=%{y}<extra></extra>",
         "legendgroup": "WEATHER",
         "marker": {
          "color": "#FFA15A",
          "symbol": "circle"
         },
         "mode": "markers",
         "name": "WEATHER",
         "orientation": "v",
         "showlegend": true,
         "type": "scatter",
         "x": {
          "bdata": "oIYBACChBwD0AQAAECcAAKCGAQD0AQAAoIYBAOgDAAA=",
          "dtype": "i4"
         },
         "xaxis": "x",
         "y": {
          "bdata": "AAAAAKBnG0EAAAAAnNlGQQAAAAAAGI9AAQAAAAAz3UAAAAAA4D8SQQAAAAAAXJdAAAAAAGBaGEEAAAAAAE67QA==",
          "dtype": "f8"
         },
         "yaxis": "y"
        },
        {
         "hovertemplate": "<b>OLS trendline</b><br>Revenue = 6.0101 * Installs + -87352.4<br>R<sup>2</sup>=0.986857<br><br>Category=WEATHER<br>Number of Installs=%{x}<br>Revenue (USD)=%{y} <b>(trend)</b><extra></extra>",
         "legendgroup": "WEATHER",
         "marker": {
          "color": "#FFA15A",
          "symbol": "circle"
         },
         "mode": "lines",
         "name": "WEATHER",
         "showlegend": false,
         "type": "scatter",
         "x": {
          "bdata": "9AEAAPQBAADoAwAAECcAAKCGAQCghgEAoIYBACChBwA=",
          "dtype": "i4"
         },
         "xaxis": "x",
         "y": {
          "bdata": "p7RBBLaX9MCntEEEtpf0wLp6/zvl2/PAZqBdndyc2sCLVM5p5VkfQYtUzmnlWR9Bi1TOaeVZH0GpcrE7oEJGQQ==",
          "dtype": "f8"
         },
         "yaxis": "y"
        },
        {
         "hovertemplate": "Category=TOOLS<br>Number of Installs=%{x}<br>Revenue (USD)=%{y}<extra></extra>",
         "legendgroup": "TOOLS",
         "marker": {
          "color": "#19d3f3",
          "symbol": "circle"
         },
         "mode": "markers",
         "name": "TOOLS",
         "orientation": "v",
         "showlegend": true,
         "type": "scatter",
         "x": {
          "bdata": "ZAAAAIgTAADoAwAAiBMAAAoAAABkAAAAECcAADIAAAAQJwAAiBMAAOgDAAAQJwAAECcAABAnAAAQJwAAECcAAAoAAABkAAAAZAAAAAoAAADoAwAA6AMAAGQAAACIEwAAoIYBABAnAAAyAAAAZAAAAPQBAAD0AQAACgAAAAoAAADoAwAAECcAAAUAAAAQJwAA6AMAAGQAAAD0AQAA9AEAAOgDAACghgEAECcAAFDDAAAKAAAACgAAAPQBAABkAAAA6AMAADIAAAAKAAAAAQAAAGQAAADoAwAAUMMAAAUAAAAQJwAAECcAAOgDAABkAAAA6AMAAPQBAAAQJwAAECcAAKCGAQBAQg8AiBMAAOgDAACIEwAAiBMAAIgTAACIEwAAZAAAABAnAADoAwAAiBMAAGQAAACghgEA",
          "dtype": "i4"
         },
         "xaxis": "x",
         "y": {
          "bdata": "AAAAAADgaEAAAAAAgF3YQAAAAAAASJdAAAAAAGBM8kBmZmZmZj5wQAAAAAAAuIJAAAAAAABWw0AAAAAAAABWQAEAAAAAM91AAAAAAABWs0AAAAAAACyvQAAAAAAAb9NAAAAAAABq2EAAAAAAAG/TQAEAAAAAM91AAQAAAAAz3UDNzMzMzMwjQAAAAAAAMH9AAAAAAACwckBnZmZmZuY9QAAAAAAAdKNAAAAAAAAYn0AAAAAAAOBoQAAAAAAAVrNAAQAAAEBlDkEAAAAAAG/TQAAAAAAA4FhAAAAAAADweEAAAAAAACyfQAAAAAAALJ9AzczMzMzMI0DNzMzMzMwjQAAAAAAA8I5AAAAAAABL2UCamZmZmXlGQAEAAAAAM91AAAAAAADwjkAAAAAAAMBYQAAAAAAA8H5AAAAAAADwfkAAAAAAAEiXQAAAAABgWhhBAAAAAAAL40AAAAAA4D8CQc3MzMzMzCNAzczMzMzMLUAAAAAAAPB+QAAAAAAA4GhAAAAAAABmt0AAAAAAALBiQM3MzMzMzCNA16NwPQrX9z8AAAAAAPB4QAAAAAAAfrNAAAAAAOA/AkHNzMzMzMwTQAAAAAAABOBAAAAAAIBd6EAAAAAAAPCOQAAAAAAAuIJAAAAAAABHzUAAAAAAABiPQAAAAAAAz9xAAAAAAAA900AAAAAAoGcbQQAAAADYz0ZBAAAAAIBd2EAAAAAAAH6zQAAAAACAXdhAAAAAAIBd2EAAAAAAgF3YQAAAAACAXdhAAAAAAACgYkAAAAAAAG/TQAAAAAAAXKdAAAAAAACIs0AAAAAAAKBiQAAAAAAgTRVB",
          "dtype": "f8"
         },
         "yaxis": "y"
        },
        {
         "hovertemplate": "<b>OLS trendline</b><br>Revenue = 3.00819 * Installs + 3440.43<br>R<sup>2</sup>=0.995405<br><br>Category=TOOLS<br>Number of Installs=%{x}<br>Revenue (USD)=%{y} <b>(trend)</b><extra></extra>",
         "legendgroup": "TOOLS",
         "marker": {
          "color": "#19d3f3",
          "symbol": "circle"
         },
         "mode": "lines",
         "name": "TOOLS",
         "showlegend": false,
         "type": "scatter",
         "x": {
          "bdata": "AQAAAAUAAAAFAAAACgAAAAoAAAAKAAAACgAAAAoAAAAKAAAACgAAAAoAAAAyAAAAMgAAADIAAABkAAAAZAAAAGQAAABkAAAAZAAAAGQAAABkAAAAZAAAAGQAAABkAAAAZAAAAGQAAAD0AQAA9AEAAPQBAAD0AQAA9AEAAPQBAADoAwAA6AMAAOgDAADoAwAA6AMAAOgDAADoAwAA6AMAAOgDAADoAwAA6AMAAOgDAADoAwAAiBMAAIgTAACIEwAAiBMAAIgTAACIEwAAiBMAAIgTAACIEwAAiBMAABAnAAAQJwAAECcAABAnAAAQJwAAECcAABAnAAAQJwAAECcAABAnAAAQJwAAECcAABAnAAAQJwAAECcAABAnAABQwwAAUMMAAKCGAQCghgEAoIYBAKCGAQBAQg8A",
          "dtype": "i4"
         },
         "xaxis": "x",
         "y": {
          "bdata": "LsZLt97mqkDnfSt87/6qQOd9K3zv/qpAjiNDcgQdq0COI0NyBB2rQI4jQ3IEHatAjiNDcgQdq0COI0NyBB2rQI4jQ3IEHatAjiNDcgQdq0COI0NyBB2rQMhQACOsDaxAyFAAI6wNrEDIUAAjrA2sQE/J7L99Oq1AT8nsv306rUBPyey/fTqtQE/J7L99Oq1AT8nsv306rUBPyey/fTqtQE/J7L99Oq1AT8nsv306rUBPyey/fTqtQE/J7L99Oq1AT8nsv306rUBPyey/fTqtQMZGqFOFULNAxkaoU4VQs0DGRqhThVCzQMZGqFOFULNAxkaoU4VQs0DGRqhThVCzQGuhRmSdMLlAa6FGZJ0wuUBroUZknTC5QGuhRmSdMLlAa6FGZJ0wuUBroUZknTC5QGuhRmSdMLlAa6FGZJ0wuUBroUZknTC5QGuhRmSdMLlAa6FGZJ0wuUBroUZknTC5QGuhRmSdMLlApl1OelcM0kCmXU56VwzSQKZdTnpXDNJApl1OelcM0kCmXU56VwzSQKZdTnpXDNJApl1OelcM0kCmXU56VwzSQKZdTnpXDNJApl1OelcM0kAiIO3RSV7gQCIg7dFJXuBAIiDt0Ule4EAiIO3RSV7gQCIg7dFJXuBAIiDt0Ule4EAiIO3RSV7gQCIg7dFJXuBAIiDt0Ule4EAiIO3RSV7gQCIg7dFJXuBAIiDt0Ule4EAiIO3RSV7gQCIg7dFJXuBAIiDt0Ule4EAiIO3RSV7gQKcqB57OxwJBpyoHns7HAkH2AvvoDJISQfYC++gMkhJB9gL76AySEkH2AvvoDJISQQ0XjDcW+kZB",
          "dtype": "f8"
         },
         "yaxis": "y"
        },
        {
         "hovertemplate": "Category=TRAVEL_AND_LOCAL<br>Number of Installs=%{x}<br>Revenue (USD)=%{y}<extra></extra>",
         "legendgroup": "TRAVEL_AND_LOCAL",
         "marker": {
          "color": "#FF6692",
          "symbol": "circle"
         },
         "mode": "markers",
         "name": "TRAVEL_AND_LOCAL",
         "orientation": "v",
         "showlegend": true,
         "type": "scatter",
         "x": {
          "bdata": "oIYBAOgDAAAKAAAAiBMAAFDDAAAyAAAAiBMAAAAAAADoAwAA6AMAABAnAAAQJwAA",
          "dtype": "i4"
         },
         "xaxis": "x",
         "y": {
          "bdata": "AAAAAHBvK0EAAAAAAJXAQM3MzMzMzC1AAAAAAIB700ABAAAAQGX+QAAAAAAAMG9AAQAAAAAzzUAAAAAAAAAAAAAAAAAAGJ9AAAAAAAAApEAAAAAAgD/tQAAAAAAAb9NA",
          "dtype": "f8"
         },
         "yaxis": "y"
        },
        {
         "hovertemplate": "<b>OLS trendline</b><br>Revenue = 7.98604 * Installs + -25868.4<br>R<sup>2</sup>=0.884874<br><br>Category=TRAVEL_AND_LOCAL<br>Number of Installs=%{x}<br>Revenue (USD)=%{y} <b>(trend)</b><extra></extra>",
         "legendgroup": "TRAVEL_AND_LOCAL",
         "marker": {
          "color": "#FF6692",
          "symbol": "circle"
         },
         "mode": "lines",
         "name": "TRAVEL_AND_LOCAL",
         "showlegend": false,
         "type": "scatter",
         "x": {
          "bdata": "AAAAAAoAAAAyAAAA6AMAAOgDAADoAwAAiBMAAIgTAAAQJwAAECcAAFDDAACghgEA",
          "dtype": "i4"
         },
         "xaxis": "x",
         "y": {
          "bdata": "Yq1T8BdD2cDudivfIC/ZwCCdippE39jANGiePJV20cA0aJ48lXbRwDRonjyVdtHABFltJOt2y0AEWW0k63bLQDODYIoBXepAM4NgigFd6kBZPZHy5soWQcTaE7L/lCdB",
          "dtype": "f8"
         },
         "yaxis": "y"
        },
        {
         "hovertemplate": "Category=LIFESTYLE<br>Number of Installs=%{x}<br>Revenue (USD)=%{y}<extra></extra>",
         "legendgroup": "LIFESTYLE",
         "marker": {
          "color": "#B6E880",
          "symbol": "circle"
         },
         "mode": "markers",
         "name": "LIFESTYLE",
         "orientation": "v",
         "showlegend": true,
         "type": "scatter",
         "x": {
          "bdata": "iBMAAIgTAAAQJwAAECcAAIgTAAAQJwAAoIYBABAnAADoAwAA6AMAAIgTAABAQg8A6AMAAIgTAABkAAAAECcAAAoAAADoAwAAAAAAAA==",
          "dtype": "i4"
         },
         "xaxis": "x",
         "y": {
          "bdata": "AAAAAABWs0AAAAAAAG/DQAAAAABOhE5BAAAAAICETkEAAAAAgHvTQAEAAAAAUdhAAAAAwLASg0EAAAAALuNGQQAAAABYMRdBAAAAAMCM4kABAAAAAFHIQAAAAACc2VZBAAAAAAB+s0ABAAAAADPNQAAAAAAAwFhAAAAAAMCB80BmZmZmZmY+QAAAAAAAfrNAAAAAAAAAAAA=",
          "dtype": "f8"
         },
         "yaxis": "y"
        },
        {
         "hovertemplate": "<b>OLS trendline</b><br>Revenue = 6.96366 * Installs + 2.59858e+06<br>R<sup>2</sup>=0.030257<br><br>Category=LIFESTYLE<br>Number of Installs=%{x}<br>Revenue (USD)=%{y} <b>(trend)</b><extra></extra>",
         "legendgroup": "LIFESTYLE",
         "marker": {
          "color": "#B6E880",
          "symbol": "circle"
         },
         "mode": "lines",
         "name": "LIFESTYLE",
         "showlegend": false,
         "type": "scatter",
         "x": {
          "bdata": "AAAAAAoAAABkAAAA6AMAAOgDAADoAwAA6AMAAIgTAACIEwAAiBMAAIgTAACIEwAAECcAABAnAAAQJwAAECcAABAnAACghgEAQEIPAA==",
          "dtype": "i4"
         },
         "xaxis": "x",
         "y": {
          "bdata": "TiXvDlrTQ0F5J2rgfNNDQfs6vT221ENBFP774vPgQ0EU/vvi8+BDQRT+++Lz4ENBFP774vPgQ0ErYS8zWxdEQSthLzNbF0RBK2EvM1sXREErYS8zWxdEQSthLzNbF0RBB51vV1xbREEHnW9XXFtEQQedb1dcW0RBB51vV1xbREEHnW9XXFtEQYvS8+NwI0lBbHpHmA89YkE=",
          "dtype": "f8"
         },
         "yaxis": "y"
        },
        {
         "hovertemplate": "Category=AUTO_AND_VEHICLES<br>Number of Installs=%{x}<br>Revenue (USD)=%{y}<extra></extra>",
         "legendgroup": "AUTO_AND_VEHICLES",
         "marker": {
          "color": "#FF97FF",
          "symbol": "circle"
         },
         "mode": "markers",
         "name": "AUTO_AND_VEHICLES",
         "orientation": "v",
         "showlegend": true,
         "type": "scatter",
         "x": {
          "bdata": "UMMAADIAAABkAAAA",
          "dtype": "i4"
         },
         "xaxis": "x",
         "y": {
          "bdata": "AAAAAMBK+EAAAAAAADh/QAAAAAAAoGJA",
          "dtype": "f8"
         },
         "yaxis": "y"
        },
        {
         "hovertemplate": "<b>OLS trendline</b><br>Revenue = 1.98649 * Installs + 175.376<br>R<sup>2</sup>=0.999985<br><br>Category=AUTO_AND_VEHICLES<br>Number of Installs=%{x}<br>Revenue (USD)=%{y} <b>(trend)</b><extra></extra>",
         "legendgroup": "AUTO_AND_VEHICLES",
         "marker": {
          "color": "#FF97FF",
          "symbol": "circle"
         },
         "mode": "lines",
         "name": "AUTO_AND_VEHICLES",
         "showlegend": false,
         "type": "scatter",
         "x": {
          "bdata": "MgAAAGQAAABQwwAA",
          "dtype": "i4"
         },
         "xaxis": "x",
         "y": {
          "bdata": "2KiN8TQrcUBcyUSuZWB3QIktYGW8SvhA",
          "dtype": "f8"
         },
         "yaxis": "y"
        },
        {
         "hovertemplate": "Category=NEWS_AND_MAGAZINES<br>Number of Installs=%{x}<br>Revenue (USD)=%{y}<extra></extra>",
         "legendgroup": "NEWS_AND_MAGAZINES",
         "marker": {
          "color": "#FECB52",
          "symbol": "circle"
         },
         "mode": "markers",
         "name": "NEWS_AND_MAGAZINES",
         "orientation": "v",
         "showlegend": true,
         "type": "scatter",
         "x": {
          "bdata": "iBP0AQ==",
          "dtype": "i2"
         },
         "xaxis": "x",
         "y": {
          "bdata": "AAAAAABWs0AAAAAAAFyXQA==",
          "dtype": "f8"
         },
         "yaxis": "y"
        },
        {
         "hovertemplate": "<b>OLS trendline</b><br>Revenue = 0.767778 * Installs + 1111.11<br>R<sup>2</sup>=1.000000<br><br>Category=NEWS_AND_MAGAZINES<br>Number of Installs=%{x}<br>Revenue (USD)=%{y} <b>(trend)</b><extra></extra>",
         "legendgroup": "NEWS_AND_MAGAZINES",
         "marker": {
          "color": "#FECB52",
          "symbol": "circle"
         },
         "mode": "lines",
         "name": "NEWS_AND_MAGAZINES",
         "showlegend": false,
         "type": "scatter",
         "x": {
          "bdata": "9AGIEw==",
          "dtype": "i2"
         },
         "xaxis": "x",
         "y": {
          "bdata": "//////9bl0D//////1WzQA==",
          "dtype": "f8"
         },
         "yaxis": "y"
        },
        {
         "hovertemplate": "Category=SHOPPING<br>Number of Installs=%{x}<br>Revenue (USD)=%{y}<extra></extra>",
         "legendgroup": "SHOPPING",
         "marker": {
          "color": "#636efa",
          "symbol": "circle"
         },
         "mode": "markers",
         "name": "SHOPPING",
         "orientation": "v",
         "showlegend": true,
         "type": "scatter",
         "x": {
          "bdata": "ZAAQJw==",
          "dtype": "i2"
         },
         "xaxis": "x",
         "y": {
          "bdata": "AQAAAAAgb0ABAAAAADPdQA==",
          "dtype": "f8"
         },
         "yaxis": "y"
        },
        {
         "hovertemplate": "<b>OLS trendline</b><br>Revenue = 2.99505 * Installs + -50.5051<br>R<sup>2</sup>=1.000000<br><br>Category=SHOPPING<br>Number of Installs=%{x}<br>Revenue (USD)=%{y} <b>(trend)</b><extra></extra>",
         "legendgroup": "SHOPPING",
         "marker": {
          "color": "#636efa",
          "symbol": "circle"
         },
         "mode": "lines",
         "name": "SHOPPING",
         "showlegend": false,
         "type": "scatter",
         "x": {
          "bdata": "ZAAQJw==",
          "dtype": "i2"
         },
         "xaxis": "x",
         "y": {
          "bdata": "8v////8fb0ABAAAAADPdQA==",
          "dtype": "f8"
         },
         "yaxis": "y"
        },
        {
         "hovertemplate": "Category=BOOKS_AND_REFERENCE<br>Number of Installs=%{x}<br>Revenue (USD)=%{y}<extra></extra>",
         "legendgroup": "BOOKS_AND_REFERENCE",
         "marker": {
          "color": "#EF553B",
          "symbol": "circle"
         },
         "mode": "markers",
         "name": "BOOKS_AND_REFERENCE",
         "orientation": "v",
         "showlegend": true,
         "type": "scatter",
         "x": {
          "bdata": "iBNkABAnMgDoAwoACgAKAAoACgABAAUACgD0AegDCgCIEwUA9AEKAAoACgAKAAoACgAKAAUACgA=",
          "dtype": "i2"
         },
         "xaxis": "x",
         "y": {
          "bdata": "AQAAAAAzzUAAAAAAAPB4QAAAAACA7OVAAAAAAADgVUAAAAAAABCoQJqZmZmZmTNANDMzMzPzTUA0MzMzM/NNQDQzMzMz801ANDMzMzNzS0D2KFyPwvUXQDQzMzMz8z1AzczMzMzMI0AAAAAAAPB+QAAAAAAAGJ9AZ2ZmZmbmPUAAAAAAAHbWQM3MzMzMzBNAAAAAAADwfkDNzMzMzAxCQDQzMzMzc0tAmpmZmZk5UEA0MzMzM/NNQJqZmZmZOVBAmpmZmZk5UECamZmZmTlQQDQzMzMz8z1ANDMzMzNzS0A=",
          "dtype": "f8"
         },
         "yaxis": "y"
        },
        {
         "hovertemplate": "<b>OLS trendline</b><br>Revenue = 4.27679 * Installs + -338.959<br>R<sup>2</sup>=0.976957<br><br>Category=BOOKS_AND_REFERENCE<br>Number of Installs=%{x}<br>Revenue (USD)=%{y} <b>(trend)</b><extra></extra>",
         "legendgroup": "BOOKS_AND_REFERENCE",
         "marker": {
          "color": "#EF553B",
          "symbol": "circle"
         },
         "mode": "lines",
         "name": "BOOKS_AND_REFERENCE",
         "showlegend": false,
         "type": "scatter",
         "x": {
          "bdata": "AQAFAAUABQAKAAoACgAKAAoACgAKAAoACgAKAAoACgAKAAoACgAyAGQA9AH0AegD6AOIE4gTECc=",
          "dtype": "i2"
         },
         "xaxis": "x",
         "y": {
          "bdata": "ixKExOnqdMAipqrfMtlzwCKmqt8y2XPAIqaq3zLZc8Cf3ppBDoNywJ/emkEOg3LAn96aQQ6DcsCf3ppBDoNywJ/emkEOg3LAn96aQQ6DcsCf3ppBDoNywJ/emkEOg3LAn96aQQ6DcsCf3ppBDoNywJ/emkEOg3LAn96aQQ6DcsCf3ppBDoNywJ/emkEOg3LAn96aQQ6DcsAYinJEpUdfwGSiBG4TLlZAZeAbkL0dnEBl4BuQvR2cQBku03+ow65AGS7Tf6jDrkCpo7/HPo3UQKmjv8c+jdRAhRi7dp235EA=",
          "dtype": "f8"
         },
         "yaxis": "y"
        },
        {
         "hovertemplate": "Category=SOCIAL<br>Number of Installs=%{x}<br>Revenue (USD)=%{y}<extra></extra>",
         "legendgroup": "SOCIAL",
         "marker": {
          "color": "#00cc96",
          "symbol": "circle"
         },
         "mode": "markers",
         "name": "SOCIAL",
         "orientation": "v",
         "showlegend": true,
         "type": "scatter",
         "x": {
          "bdata": "6AOIEwAA",
          "dtype": "i2"
         },
         "xaxis": "x",
         "y": {
          "bdata": "AAAAAADwjkAAAAAAAFazQAAAAAAAAAAA",
          "dtype": "f8"
         },
         "yaxis": "y"
        },
        {
         "hovertemplate": "<b>OLS trendline</b><br>Revenue = 0.99 * Installs + 8.74023e-14<br>R<sup>2</sup>=1.000000<br><br>Category=SOCIAL<br>Number of Installs=%{x}<br>Revenue (USD)=%{y} <b>(trend)</b><extra></extra>",
         "legendgroup": "SOCIAL",
         "marker": {
          "color": "#00cc96",
          "symbol": "circle"
         },
         "mode": "lines",
         "name": "SOCIAL",
         "showlegend": false,
         "type": "scatter",
         "x": {
          "bdata": "AADoA4gT",
          "dtype": "i2"
         },
         "xaxis": "x",
         "y": {
          "bdata": "AAAAAACaOD0CAAAAAPCOQAEAAAAAVrNA",
          "dtype": "f8"
         },
         "yaxis": "y"
        },
        {
         "hovertemplate": "Category=ART_AND_DESIGN<br>Number of Installs=%{x}<br>Revenue (USD)=%{y}<extra></extra>",
         "legendgroup": "ART_AND_DESIGN",
         "marker": {
          "color": "#ab63fa",
          "symbol": "circle"
         },
         "mode": "markers",
         "name": "ART_AND_DESIGN",
         "orientation": "v",
         "showlegend": true,
         "type": "scatter",
         "x": {
          "bdata": "iBMQJ+gD",
          "dtype": "i2"
         },
         "xaxis": "x",
         "y": {
          "bdata": "AAAAAABvw0AAAAAAAG/TQAAAAAAAGJ9A",
          "dtype": "f8"
         },
         "yaxis": "y"
        },
        {
         "hovertemplate": "<b>OLS trendline</b><br>Revenue = 1.99 * Installs + -1.85185e-13<br>R<sup>2</sup>=1.000000<br><br>Category=ART_AND_DESIGN<br>Number of Installs=%{x}<br>Revenue (USD)=%{y} <b>(trend)</b><extra></extra>",
         "legendgroup": "ART_AND_DESIGN",
         "marker": {
          "color": "#ab63fa",
          "symbol": "circle"
         },
         "mode": "lines",
         "name": "ART_AND_DESIGN",
         "showlegend": false,
         "type": "scatter",
         "x": {
          "bdata": "6AOIExAn",
          "dtype": "i2"
         },
         "xaxis": "x",
         "y": {
          "bdata": "AAAAAAAYn0ABAAAAAG/DQAEAAAAAb9NA",
          "dtype": "f8"
         },
         "yaxis": "y"
        },
        {
         "hovertemplate": "Category=VIDEO_PLAYERS<br>Number of Installs=%{x}<br>Revenue (USD)=%{y}<extra></extra>",
         "legendgroup": "VIDEO_PLAYERS",
         "marker": {
          "color": "#FFA15A",
          "symbol": "circle"
         },
         "mode": "markers",
         "name": "VIDEO_PLAYERS",
         "orientation": "v",
         "showlegend": true,
         "type": "scatter",
         "x": {
          "bdata": "ECcAABAnAABQwwAA6AMAAA==",
          "dtype": "i4"
         },
         "xaxis": "x",
         "y": {
          "bdata": "AAAAAAAazUAAAAAAAG/TQAAAAACwRxJBAAAAAADwjkA=",
          "dtype": "f8"
         },
         "yaxis": "y"
        },
        {
         "hovertemplate": "<b>OLS trendline</b><br>Revenue = 6.50536 * Installs + -31647.6<br>R<sup>2</sup>=0.980031<br><br>Category=VIDEO_PLAYERS<br>Number of Installs=%{x}<br>Revenue (USD)=%{y} <b>(trend)</b><extra></extra>",
         "legendgroup": "VIDEO_PLAYERS",
         "marker": {
          "color": "#FFA15A",
          "symbol": "circle"
         },
         "mode": "lines",
         "name": "VIDEO_PLAYERS",
         "showlegend": false,
         "type": "scatter",
         "x": {
          "bdata": "6AMAABAnAAAQJwAAUMMAAA==",
          "dtype": "i4"
         },
         "xaxis": "x",
         "y": {
          "bdata": "Go1dQo6N2MCk2R+Rv0/gQKTZH5G/T+BAbOLd/9DrEUE=",
          "dtype": "f8"
         },
         "yaxis": "y"
        },
        {
         "hovertemplate": "Category=FINANCE<br>Number of Installs=%{x}<br>Revenue (USD)=%{y}<extra></extra>",
         "legendgroup": "FINANCE",
         "marker": {
          "color": "#19d3f3",
          "symbol": "circle"
         },
         "mode": "markers",
         "name": "FINANCE",
         "orientation": "v",
         "showlegend": true,
         "type": "scatter",
         "x": {
          "bdata": "UMMAAOgDAACIEwAAECcAAOgDAACIEwAA6AMAAOgDAAD0AQAA6AMAAKCGAQBkAAAAAQAAAAEAAAAAAAAAAAAAABAnAAA=",
          "dtype": "i4"
         },
         "xaxis": "x",
         "y": {
          "bdata": "AAAAwLASc0EAAAAA2GkYQQAAAABOhD5B/////18uB0EAAAAA2GkYQQAAAABOhD5BAAAAANhpGEEAAAAAACyvQAAAAAAALJ9AAAAAAAAYn0AAAAAA4D8SQQAAAAAAMH9A9ihcj8L1F0A9CtejcP08QAAAAAAAAAAAAAAAAAAAAAABAAAAADPdQA==",
          "dtype": "f8"
         },
         "yaxis": "y"
        },
        {
         "hovertemplate": "<b>OLS trendline</b><br>Revenue = 71.9926 * Installs + 727336<br>R<sup>2</sup>=0.150431<br><br>Category=FINANCE<br>Number of Installs=%{x}<br>Revenue (USD)=%{y} <b>(trend)</b><extra></extra>",
         "legendgroup": "FINANCE",
         "marker": {
          "color": "#19d3f3",
          "symbol": "circle"
         },
         "mode": "lines",
         "name": "FINANCE",
         "showlegend": false,
         "type": "scatter",
         "x": {
          "bdata": "AAAAAAAAAAABAAAAAQAAAGQAAAD0AQAA6AMAAOgDAADoAwAA6AMAAOgDAACIEwAAiBMAABAnAAAQJwAAUMMAAKCGAQA=",
          "dtype": "i4"
         },
         "xaxis": "x",
         "y": {
          "bdata": "o/A4Mk8yJkGj8DgyTzImQYVQcS7fMiZBhVBxLt8yJkHAZD64jWomQTY1VNCHSydByXlvbsBkKEHJeW9uwGQoQcl5b27AZChByXlvbsBkKEHJeW9uwGQoQTDPpK9ClzBBMM+kr0KXMEEOJi3GXRU2QQ4mLcZdFTZBQPebno2BUEFs0PBW0TxeQQ==",
          "dtype": "f8"
         },
         "yaxis": "y"
        },
        {
         "hovertemplate": "Category=MAPS_AND_NAVIGATION<br>Number of Installs=%{x}<br>Revenue (USD)=%{y}<extra></extra>",
         "legendgroup": "MAPS_AND_NAVIGATION",
         "marker": {
          "color": "#FF6692",
          "symbol": "circle"
         },
         "mode": "markers",
         "name": "MAPS_AND_NAVIGATION",
         "orientation": "v",
         "showlegend": true,
         "type": "scatter",
         "x": {
          "bdata": "ECcAAKCGAQDoAwAAECcAAGQAAAA=",
          "dtype": "i4"
         },
         "xaxis": "x",
         "y": {
          "bdata": "AAAAAABWw0AAAAAAmEsyQQAAAAAA8I5AAQAAAAAz3UAAAAAAADiPQA==",
          "dtype": "f8"
         },
         "yaxis": "y"
        },
        {
         "hovertemplate": "<b>OLS trendline</b><br>Revenue = 12.4171 * Installs + -52584.7<br>R<sup>2</sup>=0.991090<br><br>Category=MAPS_AND_NAVIGATION<br>Number of Installs=%{x}<br>Revenue (USD)=%{y} <b>(trend)</b><extra></extra>",
         "legendgroup": "MAPS_AND_NAVIGATION",
         "marker": {
          "color": "#FF6692",
          "symbol": "circle"
         },
         "mode": "lines",
         "name": "MAPS_AND_NAVIGATION",
         "showlegend": false,
         "type": "scatter",
         "x": {
          "bdata": "ZAAAAOgDAAAQJwAAECcAAKCGAQA=",
          "dtype": "i4"
         },
         "xaxis": "x",
         "y": {
          "bdata": "xvVL8N4R6cAkYS4V8pzjwJi2/DwnevFAmLb8PCd68UDkO4ygBiUyQQ==",
          "dtype": "f8"
         },
         "yaxis": "y"
        },
        {
         "hovertemplate": "Category=PARENTING<br>Number of Installs=%{x}<br>Revenue (USD)=%{y}<extra></extra>",
         "legendgroup": "PARENTING",
         "marker": {
          "color": "#B6E880",
          "symbol": "circle"
         },
         "mode": "markers",
         "name": "PARENTING",
         "orientation": "v",
         "showlegend": true,
         "type": "scatter",
         "x": {
          "bdata": "UMMAAGQAAAA=",
          "dtype": "i4"
         },
         "xaxis": "x",
         "y": {
          "bdata": "AAAAAOB0DkEAAAAAALB8QA==",
          "dtype": "f8"
         },
         "yaxis": "y"
        },
        {
         "hovertemplate": "<b>OLS trendline</b><br>Revenue = 4.9908 * Installs + -40.0802<br>R<sup>2</sup>=1.000000<br><br>Category=PARENTING<br>Number of Installs=%{x}<br>Revenue (USD)=%{y} <b>(trend)</b><extra></extra>",
         "legendgroup": "PARENTING",
         "marker": {
          "color": "#B6E880",
          "symbol": "circle"
         },
         "mode": "lines",
         "name": "PARENTING",
         "showlegend": false,
         "type": "scatter",
         "x": {
          "bdata": "ZAAAAFDDAAA=",
          "dtype": "i4"
         },
         "xaxis": "x",
         "y": {
          "bdata": "s/7///+vfEADAAAA4HQOQQ==",
          "dtype": "f8"
         },
         "yaxis": "y"
        },
        {
         "hovertemplate": "Category=LIBRARIES_AND_DEMO<br>Number of Installs=%{x}<br>Revenue (USD)=%{y}<extra></extra>",
         "legendgroup": "LIBRARIES_AND_DEMO",
         "marker": {
          "color": "#FF97FF",
          "symbol": "circle"
         },
         "mode": "markers",
         "name": "LIBRARIES_AND_DEMO",
         "orientation": "v",
         "showlegend": true,
         "type": "scatter",
         "x": {
          "bdata": "ZA==",
          "dtype": "i1"
         },
         "xaxis": "x",
         "y": {
          "bdata": "AAAAAADAWEA=",
          "dtype": "f8"
         },
         "yaxis": "y"
        },
        {
         "hovertemplate": "Category=LIBRARIES_AND_DEMO<extra></extra>",
         "legendgroup": "LIBRARIES_AND_DEMO",
         "marker": {
          "color": "#FF97FF",
          "symbol": "circle"
         },
         "mode": "lines",
         "name": "LIBRARIES_AND_DEMO",
         "showlegend": false,
         "type": "scatter",
         "xaxis": "x",
         "yaxis": "y"
        },
        {
         "hovertemplate": "Category=EVENTS<br>Number of Installs=%{x}<br>Revenue (USD)=%{y}<extra></extra>",
         "legendgroup": "EVENTS",
         "marker": {
          "color": "#FECB52",
          "symbol": "circle"
         },
         "mode": "markers",
         "name": "EVENTS",
         "orientation": "v",
         "showlegend": true,
         "type": "scatter",
         "x": {
          "bdata": "AQ==",
          "dtype": "i1"
         },
         "xaxis": "x",
         "y": {
          "bdata": "j8L1KFx/W0A=",
          "dtype": "f8"
         },
         "yaxis": "y"
        },
        {
         "hovertemplate": "Category=EVENTS<extra></extra>",
         "legendgroup": "EVENTS",
         "marker": {
          "color": "#FECB52",
          "symbol": "circle"
         },
         "mode": "lines",
         "name": "EVENTS",
         "showlegend": false,
         "type": "scatter",
         "xaxis": "x",
         "yaxis": "y"
        }
       ],
       "layout": {
        "legend": {
         "title": {
          "text": "Category"
         },
         "tracegroupgap": 0
        },
        "template": {
         "data": {
          "bar": [
           {
            "error_x": {
             "color": "#2a3f5f"
            },
            "error_y": {
             "color": "#2a3f5f"
            },
            "marker": {
             "line": {
              "color": "#E5ECF6",
              "width": 0.5
             },
             "pattern": {
              "fillmode": "overlay",
              "size": 10,
              "solidity": 0.2
             }
            },
            "type": "bar"
           }
          ],
          "barpolar": [
           {
            "marker": {
             "line": {
              "color": "#E5ECF6",
              "width": 0.5
             },
             "pattern": {
              "fillmode": "overlay",
              "size": 10,
              "solidity": 0.2
             }
            },
            "type": "barpolar"
           }
          ],
          "carpet": [
           {
            "aaxis": {
             "endlinecolor": "#2a3f5f",
             "gridcolor": "white",
             "linecolor": "white",
             "minorgridcolor": "white",
             "startlinecolor": "#2a3f5f"
            },
            "baxis": {
             "endlinecolor": "#2a3f5f",
             "gridcolor": "white",
             "linecolor": "white",
             "minorgridcolor": "white",
             "startlinecolor": "#2a3f5f"
            },
            "type": "carpet"
           }
          ],
          "choropleth": [
           {
            "colorbar": {
             "outlinewidth": 0,
             "ticks": ""
            },
            "type": "choropleth"
           }
          ],
          "contour": [
           {
            "colorbar": {
             "outlinewidth": 0,
             "ticks": ""
            },
            "colorscale": [
             [
              0,
              "#0d0887"
             ],
             [
              0.1111111111111111,
              "#46039f"
             ],
             [
              0.2222222222222222,
              "#7201a8"
             ],
             [
              0.3333333333333333,
              "#9c179e"
             ],
             [
              0.4444444444444444,
              "#bd3786"
             ],
             [
              0.5555555555555556,
              "#d8576b"
             ],
             [
              0.6666666666666666,
              "#ed7953"
             ],
             [
              0.7777777777777778,
              "#fb9f3a"
             ],
             [
              0.8888888888888888,
              "#fdca26"
             ],
             [
              1,
              "#f0f921"
             ]
            ],
            "type": "contour"
           }
          ],
          "contourcarpet": [
           {
            "colorbar": {
             "outlinewidth": 0,
             "ticks": ""
            },
            "type": "contourcarpet"
           }
          ],
          "heatmap": [
           {
            "colorbar": {
             "outlinewidth": 0,
             "ticks": ""
            },
            "colorscale": [
             [
              0,
              "#0d0887"
             ],
             [
              0.1111111111111111,
              "#46039f"
             ],
             [
              0.2222222222222222,
              "#7201a8"
             ],
             [
              0.3333333333333333,
              "#9c179e"
             ],
             [
              0.4444444444444444,
              "#bd3786"
             ],
             [
              0.5555555555555556,
              "#d8576b"
             ],
             [
              0.6666666666666666,
              "#ed7953"
             ],
             [
              0.7777777777777778,
              "#fb9f3a"
             ],
             [
              0.8888888888888888,
              "#fdca26"
             ],
             [
              1,
              "#f0f921"
             ]
            ],
            "type": "heatmap"
           }
          ],
          "histogram": [
           {
            "marker": {
             "pattern": {
              "fillmode": "overlay",
              "size": 10,
              "solidity": 0.2
             }
            },
            "type": "histogram"
           }
          ],
          "histogram2d": [
           {
            "colorbar": {
             "outlinewidth": 0,
             "ticks": ""
            },
            "colorscale": [
             [
              0,
              "#0d0887"
             ],
             [
              0.1111111111111111,
              "#46039f"
             ],
             [
              0.2222222222222222,
              "#7201a8"
             ],
             [
              0.3333333333333333,
              "#9c179e"
             ],
             [
              0.4444444444444444,
              "#bd3786"
             ],
             [
              0.5555555555555556,
              "#d8576b"
             ],
             [
              0.6666666666666666,
              "#ed7953"
             ],
             [
              0.7777777777777778,
              "#fb9f3a"
             ],
             [
              0.8888888888888888,
              "#fdca26"
             ],
             [
              1,
              "#f0f921"
             ]
            ],
            "type": "histogram2d"
           }
          ],
          "histogram2dcontour": [
           {
            "colorbar": {
             "outlinewidth": 0,
             "ticks": ""
            },
            "colorscale": [
             [
              0,
              "#0d0887"
             ],
             [
              0.1111111111111111,
              "#46039f"
             ],
             [
              0.2222222222222222,
              "#7201a8"
             ],
             [
              0.3333333333333333,
              "#9c179e"
             ],
             [
              0.4444444444444444,
              "#bd3786"
             ],
             [
              0.5555555555555556,
              "#d8576b"
             ],
             [
              0.6666666666666666,
              "#ed7953"
             ],
             [
              0.7777777777777778,
              "#fb9f3a"
             ],
             [
              0.8888888888888888,
              "#fdca26"
             ],
             [
              1,
              "#f0f921"
             ]
            ],
            "type": "histogram2dcontour"
           }
          ],
          "mesh3d": [
           {
            "colorbar": {
             "outlinewidth": 0,
             "ticks": ""
            },
            "type": "mesh3d"
           }
          ],
          "parcoords": [
           {
            "line": {
             "colorbar": {
              "outlinewidth": 0,
              "ticks": ""
             }
            },
            "type": "parcoords"
           }
          ],
          "pie": [
           {
            "automargin": true,
            "type": "pie"
           }
          ],
          "scatter": [
           {
            "fillpattern": {
             "fillmode": "overlay",
             "size": 10,
             "solidity": 0.2
            },
            "type": "scatter"
           }
          ],
          "scatter3d": [
           {
            "line": {
             "colorbar": {
              "outlinewidth": 0,
              "ticks": ""
             }
            },
            "marker": {
             "colorbar": {
              "outlinewidth": 0,
              "ticks": ""
             }
            },
            "type": "scatter3d"
           }
          ],
          "scattercarpet": [
           {
            "marker": {
             "colorbar": {
              "outlinewidth": 0,
              "ticks": ""
             }
            },
            "type": "scattercarpet"
           }
          ],
          "scattergeo": [
           {
            "marker": {
             "colorbar": {
              "outlinewidth": 0,
              "ticks": ""
             }
            },
            "type": "scattergeo"
           }
          ],
          "scattergl": [
           {
            "marker": {
             "colorbar": {
              "outlinewidth": 0,
              "ticks": ""
             }
            },
            "type": "scattergl"
           }
          ],
          "scattermap": [
           {
            "marker": {
             "colorbar": {
              "outlinewidth": 0,
              "ticks": ""
             }
            },
            "type": "scattermap"
           }
          ],
          "scattermapbox": [
           {
            "marker": {
             "colorbar": {
              "outlinewidth": 0,
              "ticks": ""
             }
            },
            "type": "scattermapbox"
           }
          ],
          "scatterpolar": [
           {
            "marker": {
             "colorbar": {
              "outlinewidth": 0,
              "ticks": ""
             }
            },
            "type": "scatterpolar"
           }
          ],
          "scatterpolargl": [
           {
            "marker": {
             "colorbar": {
              "outlinewidth": 0,
              "ticks": ""
             }
            },
            "type": "scatterpolargl"
           }
          ],
          "scatterternary": [
           {
            "marker": {
             "colorbar": {
              "outlinewidth": 0,
              "ticks": ""
             }
            },
            "type": "scatterternary"
           }
          ],
          "surface": [
           {
            "colorbar": {
             "outlinewidth": 0,
             "ticks": ""
            },
            "colorscale": [
             [
              0,
              "#0d0887"
             ],
             [
              0.1111111111111111,
              "#46039f"
             ],
             [
              0.2222222222222222,
              "#7201a8"
             ],
             [
              0.3333333333333333,
              "#9c179e"
             ],
             [
              0.4444444444444444,
              "#bd3786"
             ],
             [
              0.5555555555555556,
              "#d8576b"
             ],
             [
              0.6666666666666666,
              "#ed7953"
             ],
             [
              0.7777777777777778,
              "#fb9f3a"
             ],
             [
              0.8888888888888888,
              "#fdca26"
             ],
             [
              1,
              "#f0f921"
             ]
            ],
            "type": "surface"
           }
          ],
          "table": [
           {
            "cells": {
             "fill": {
              "color": "#EBF0F8"
             },
             "line": {
              "color": "white"
             }
            },
            "header": {
             "fill": {
              "color": "#C8D4E3"
             },
             "line": {
              "color": "white"
             }
            },
            "type": "table"
           }
          ]
         },
         "layout": {
          "annotationdefaults": {
           "arrowcolor": "#2a3f5f",
           "arrowhead": 0,
           "arrowwidth": 1
          },
          "autotypenumbers": "strict",
          "coloraxis": {
           "colorbar": {
            "outlinewidth": 0,
            "ticks": ""
           }
          },
          "colorscale": {
           "diverging": [
            [
             0,
             "#8e0152"
            ],
            [
             0.1,
             "#c51b7d"
            ],
            [
             0.2,
             "#de77ae"
            ],
            [
             0.3,
             "#f1b6da"
            ],
            [
             0.4,
             "#fde0ef"
            ],
            [
             0.5,
             "#f7f7f7"
            ],
            [
             0.6,
             "#e6f5d0"
            ],
            [
             0.7,
             "#b8e186"
            ],
            [
             0.8,
             "#7fbc41"
            ],
            [
             0.9,
             "#4d9221"
            ],
            [
             1,
             "#276419"
            ]
           ],
           "sequential": [
            [
             0,
             "#0d0887"
            ],
            [
             0.1111111111111111,
             "#46039f"
            ],
            [
             0.2222222222222222,
             "#7201a8"
            ],
            [
             0.3333333333333333,
             "#9c179e"
            ],
            [
             0.4444444444444444,
             "#bd3786"
            ],
            [
             0.5555555555555556,
             "#d8576b"
            ],
            [
             0.6666666666666666,
             "#ed7953"
            ],
            [
             0.7777777777777778,
             "#fb9f3a"
            ],
            [
             0.8888888888888888,
             "#fdca26"
            ],
            [
             1,
             "#f0f921"
            ]
           ],
           "sequentialminus": [
            [
             0,
             "#0d0887"
            ],
            [
             0.1111111111111111,
             "#46039f"
            ],
            [
             0.2222222222222222,
             "#7201a8"
            ],
            [
             0.3333333333333333,
             "#9c179e"
            ],
            [
             0.4444444444444444,
             "#bd3786"
            ],
            [
             0.5555555555555556,
             "#d8576b"
            ],
            [
             0.6666666666666666,
             "#ed7953"
            ],
            [
             0.7777777777777778,
             "#fb9f3a"
            ],
            [
             0.8888888888888888,
             "#fdca26"
            ],
            [
             1,
             "#f0f921"
            ]
           ]
          },
          "colorway": [
           "#636efa",
           "#EF553B",
           "#00cc96",
           "#ab63fa",
           "#FFA15A",
           "#19d3f3",
           "#FF6692",
           "#B6E880",
           "#FF97FF",
           "#FECB52"
          ],
          "font": {
           "color": "#2a3f5f"
          },
          "geo": {
           "bgcolor": "white",
           "lakecolor": "white",
           "landcolor": "#E5ECF6",
           "showlakes": true,
           "showland": true,
           "subunitcolor": "white"
          },
          "hoverlabel": {
           "align": "left"
          },
          "hovermode": "closest",
          "mapbox": {
           "style": "light"
          },
          "paper_bgcolor": "white",
          "plot_bgcolor": "#E5ECF6",
          "polar": {
           "angularaxis": {
            "gridcolor": "white",
            "linecolor": "white",
            "ticks": ""
           },
           "bgcolor": "#E5ECF6",
           "radialaxis": {
            "gridcolor": "white",
            "linecolor": "white",
            "ticks": ""
           }
          },
          "scene": {
           "xaxis": {
            "backgroundcolor": "#E5ECF6",
            "gridcolor": "white",
            "gridwidth": 2,
            "linecolor": "white",
            "showbackground": true,
            "ticks": "",
            "zerolinecolor": "white"
           },
           "yaxis": {
            "backgroundcolor": "#E5ECF6",
            "gridcolor": "white",
            "gridwidth": 2,
            "linecolor": "white",
            "showbackground": true,
            "ticks": "",
            "zerolinecolor": "white"
           },
           "zaxis": {
            "backgroundcolor": "#E5ECF6",
            "gridcolor": "white",
            "gridwidth": 2,
            "linecolor": "white",
            "showbackground": true,
            "ticks": "",
            "zerolinecolor": "white"
           }
          },
          "shapedefaults": {
           "line": {
            "color": "#2a3f5f"
           }
          },
          "ternary": {
           "aaxis": {
            "gridcolor": "white",
            "linecolor": "white",
            "ticks": ""
           },
           "baxis": {
            "gridcolor": "white",
            "linecolor": "white",
            "ticks": ""
           },
           "bgcolor": "#E5ECF6",
           "caxis": {
            "gridcolor": "white",
            "linecolor": "white",
            "ticks": ""
           }
          },
          "title": {
           "x": 0.05
          },
          "xaxis": {
           "automargin": true,
           "gridcolor": "white",
           "linecolor": "white",
           "ticks": "",
           "title": {
            "standoff": 15
           },
           "zerolinecolor": "white",
           "zerolinewidth": 2
          },
          "yaxis": {
           "automargin": true,
           "gridcolor": "white",
           "linecolor": "white",
           "ticks": "",
           "title": {
            "standoff": 15
           },
           "zerolinecolor": "white",
           "zerolinewidth": 2
          }
         }
        },
        "title": {
         "text": "Relationship between Revenue and Number of Installs for Paid Apps"
        },
        "xaxis": {
         "anchor": "y",
         "domain": [
          0,
          1
         ],
         "title": {
          "text": "Number of Installs"
         }
        },
        "yaxis": {
         "anchor": "x",
         "domain": [
          0,
          1
         ],
         "title": {
          "text": "Revenue (USD)"
         }
        }
       }
      }
     },
     "metadata": {},
     "output_type": "display_data"
    }
   ],
   "source": [
    "import plotly.express as px\n",
    "\n",
    "# Create an interactive scatter plot with Plotly\n",
    "fig = px.scatter(paid_apps, x='Installs', y='Revenue', color='Category', \n",
    "                 title='Relationship between Revenue and Number of Installs for Paid Apps',\n",
    "                 labels={'Installs': 'Number of Installs', 'Revenue': 'Revenue (USD)'},\n",
    "                 trendline='ols')  # Add a trendline\n",
    "\n",
    "# Show the plot\n",
    "fig.show()"
   ]
  },
  {
   "cell_type": "code",
   "execution_count": 39,
   "metadata": {},
   "outputs": [
    {
     "data": {
      "application/vnd.plotly.v1+json": {
       "config": {
        "plotlyServerURL": "https://plot.ly"
       },
       "data": [
        {
         "customdata": [
          [
           "BUSINESS"
          ],
          [
           "BUSINESS"
          ],
          [
           "BUSINESS"
          ],
          [
           "BUSINESS"
          ],
          [
           "BUSINESS"
          ],
          [
           "BUSINESS"
          ],
          [
           "BUSINESS"
          ],
          [
           "BUSINESS"
          ],
          [
           "BUSINESS"
          ],
          [
           "BUSINESS"
          ],
          [
           "BUSINESS"
          ],
          [
           "BUSINESS"
          ],
          [
           "BUSINESS"
          ],
          [
           "BUSINESS"
          ]
         ],
         "hovertemplate": "App Category=%{customdata[0]}<br>Number of Installs=%{x}<br>Revenue (USD)=%{marker.size}<extra></extra>",
         "legendgroup": "BUSINESS",
         "marker": {
          "color": "#636efa",
          "line": {
           "color": "DarkSlateGrey",
           "width": 1
          },
          "opacity": 0.7,
          "size": {
           "bdata": "AAAAAOB0HkEAAAAA4HQeQQAAAADgdB5BAAAAAOB0HkH//////xefQM3MzMzMzBNAAAAAAICRwUAAAAAAACyvQAEAAAAAM91AAAAAAAB+s0AAAAAAABh8QGdmZmZm5jhAAAAAAABMlEAzMzMzMx+MQA==",
           "dtype": "f8"
          },
          "sizemode": "area",
          "sizeref": 174750,
          "symbol": "circle"
         },
         "mode": "markers",
         "name": "BUSINESS",
         "orientation": "v",
         "showlegend": true,
         "type": "scatter",
         "x": {
          "bdata": "oIYBAKCGAQCghgEAoIYBAGQAAAAFAAAA9AEAAOgDAAAQJwAA6AMAADIAAAAKAAAAZAAAAAoAAAA=",
          "dtype": "i4"
         },
         "xaxis": "x",
         "y": {
          "bdata": "AAAAAOB0HkEAAAAA4HQeQQAAAADgdB5BAAAAAOB0HkH//////xefQM3MzMzMzBNAAAAAAICRwUAAAAAAACyvQAEAAAAAM91AAAAAAAB+s0AAAAAAABh8QGdmZmZm5jhAAAAAAABMlEAzMzMzMx+MQA==",
          "dtype": "f8"
         },
         "yaxis": "y"
        },
        {
         "hovertemplate": "<b>OLS trendline</b><br>Revenue = 4.99476 * Installs + -940.501<br>R<sup>2</sup>=0.999373<br><br>App Category=BUSINESS<br>Number of Installs=%{x}<br>Revenue (USD)=%{y} <b>(trend)</b><extra></extra>",
         "legendgroup": "BUSINESS",
         "marker": {
          "color": "#636efa",
          "symbol": "circle"
         },
         "mode": "lines",
         "name": "BUSINESS",
         "showlegend": false,
         "type": "scatter",
         "x": {
          "bdata": "BQAAAAoAAAAKAAAAMgAAAGQAAABkAAAA9AEAAOgDAADoAwAAECcAAKCGAQCghgEAoIYBAKCGAQA=",
          "dtype": "i4"
         },
         "xaxis": "x",
         "y": {
          "bdata": "YOpBAzicjMDsxv22bdSLwOzG/bZt1IvATqvcVBuWhcCOkWa0aJB7wI6RZrRokHvAtuWLvYFTmEAraW1RgqyvQCtpbVGCrK9ArjsTxuHt50DX5f1BnG0eQdfl/UGcbR5B1+X9QZxtHkHX5f1BnG0eQQ==",
          "dtype": "f8"
         },
         "yaxis": "y"
        },
        {
         "customdata": [
          [
           "COMMUNICATION"
          ],
          [
           "COMMUNICATION"
          ],
          [
           "COMMUNICATION"
          ],
          [
           "COMMUNICATION"
          ],
          [
           "COMMUNICATION"
          ],
          [
           "COMMUNICATION"
          ],
          [
           "COMMUNICATION"
          ],
          [
           "COMMUNICATION"
          ],
          [
           "COMMUNICATION"
          ],
          [
           "COMMUNICATION"
          ],
          [
           "COMMUNICATION"
          ],
          [
           "COMMUNICATION"
          ],
          [
           "COMMUNICATION"
          ],
          [
           "COMMUNICATION"
          ],
          [
           "COMMUNICATION"
          ],
          [
           "COMMUNICATION"
          ],
          [
           "COMMUNICATION"
          ],
          [
           "COMMUNICATION"
          ],
          [
           "COMMUNICATION"
          ],
          [
           "COMMUNICATION"
          ],
          [
           "COMMUNICATION"
          ],
          [
           "COMMUNICATION"
          ],
          [
           "COMMUNICATION"
          ],
          [
           "COMMUNICATION"
          ],
          [
           "COMMUNICATION"
          ],
          [
           "COMMUNICATION"
          ],
          [
           "COMMUNICATION"
          ]
         ],
         "hovertemplate": "App Category=%{customdata[0]}<br>Number of Installs=%{x}<br>Revenue (USD)=%{marker.size}<extra></extra>",
         "legendgroup": "COMMUNICATION",
         "marker": {
          "color": "#EF553B",
          "line": {
           "color": "DarkSlateGrey",
           "width": 1
          },
          "opacity": 0.7,
          "size": {
           "bdata": "AAAAAGBaGEEAAAAAACyfQGZmZmZm5jNAAAAAAIBd6EAAAAAAAPB+QMzMzMzM/GhAAAAAAAB+o0AAAAAA2M9GQc3MzMzMzCNAAAAAAACgYkAAAAAAAPCOQAAAAAAAoGJAAAAAAACgYkAAAAAAgF3YQAAAAAAAwFhAAAAAAACgYkABAAAAADPdQAAAAAAAVrNAZ2ZmZmbmOEAAAAAAAHSjQM3MzMzMzCNAAAAAAECzEUEAAAAAABq9QAAAAABgWhhBAQAAAAAz3UAAAAAAAFbDQAAAAAAAXKdA",
           "dtype": "f8"
          },
          "sizemode": "area",
          "sizeref": 174750,
          "symbol": "circle"
         },
         "mode": "markers",
         "name": "COMMUNICATION",
         "orientation": "v",
         "showlegend": true,
         "type": "scatter",
         "x": {
          "bdata": "oIYBAPQBAAAKAAAAECcAAPQBAAAKAAAA9AEAAEBCDwAKAAAAZAAAAOgDAABkAAAAZAAAAIgTAABkAAAAZAAAABAnAACIEwAACgAAAOgDAAAKAAAAoIYBAIgTAACghgEAECcAABAnAADoAwAA",
          "dtype": "i4"
         },
         "xaxis": "x",
         "y": {
          "bdata": "AAAAAGBaGEEAAAAAACyfQGZmZmZm5jNAAAAAAIBd6EAAAAAAAPB+QMzMzMzM/GhAAAAAAAB+o0AAAAAA2M9GQc3MzMzMzCNAAAAAAACgYkAAAAAAAPCOQAAAAAAAoGJAAAAAAACgYkAAAAAAgF3YQAAAAAAAwFhAAAAAAACgYkABAAAAADPdQAAAAAAAVrNAZ2ZmZmbmOEAAAAAAAHSjQM3MzMzMzCNAAAAAAECzEUEAAAAAABq9QAAAAABgWhhBAQAAAAAz3UAAAAAAAFbDQAAAAAAAXKdA",
          "dtype": "f8"
         },
         "yaxis": "y"
        },
        {
         "hovertemplate": "<b>OLS trendline</b><br>Revenue = 3.00035 * Installs + 6175.72<br>R<sup>2</sup>=0.997715<br><br>App Category=COMMUNICATION<br>Number of Installs=%{x}<br>Revenue (USD)=%{y} <b>(trend)</b><extra></extra>",
         "legendgroup": "COMMUNICATION",
         "marker": {
          "color": "#EF553B",
          "symbol": "circle"
         },
         "mode": "lines",
         "name": "COMMUNICATION",
         "showlegend": false,
         "type": "scatter",
         "x": {
          "bdata": "CgAAAAoAAAAKAAAACgAAAAoAAABkAAAAZAAAAGQAAABkAAAAZAAAAPQBAAD0AQAA9AEAAOgDAADoAwAA6AMAAIgTAACIEwAAiBMAABAnAAAQJwAAECcAABAnAACghgEAoIYBAKCGAQBAQg8A",
          "dtype": "i4"
         },
         "xaxis": "x",
         "y": {
          "bdata": "OitY/bk9uEA6K1j9uT24QDorWP25PbhAOitY/bk9uEA6K1j9uT24QFFxiPPBS7lAUXGI88FLuUBRcYjzwUu5QFFxiPPBS7lAUXGI88FLuUCeGiZW5fu9QJ4aJlbl+71AnhomVuX7vUAgl7XICOzBQCCXtcgI7MFAIJe1yAjswUDR8uTaXK7UQNHy5NpcrtRA0fLk2lyu1EDx0Yi3ZarhQPHRiLdlquFA8dGIt2Wq4UDx0Yi3ZarhQHJhox2JsBJBcmGjHYmwEkFyYaMdibASQS5FE6Qc8EZB",
          "dtype": "f8"
         },
         "yaxis": "y"
        },
        {
         "customdata": [
          [
           "DATING"
          ],
          [
           "DATING"
          ],
          [
           "DATING"
          ],
          [
           "DATING"
          ],
          [
           "DATING"
          ],
          [
           "DATING"
          ],
          [
           "DATING"
          ]
         ],
         "hovertemplate": "App Category=%{customdata[0]}<br>Number of Installs=%{x}<br>Revenue (USD)=%{marker.size}<extra></extra>",
         "legendgroup": "DATING",
         "marker": {
          "color": "#00cc96",
          "line": {
           "color": "DarkSlateGrey",
           "width": 1
          },
          "opacity": 0.7,
          "size": {
           "bdata": "AAAAAIB740AAAAAAAE67QAAAAAAAoFJAAAAAAACwckAAAAAAAPB4QAAAAAAA+IhAAAAAAIB740A=",
           "dtype": "f8"
          },
          "sizemode": "area",
          "sizeref": 174750,
          "symbol": "circle"
         },
         "mode": "markers",
         "name": "DATING",
         "orientation": "v",
         "showlegend": true,
         "type": "scatter",
         "x": {
          "bdata": "ECfoAzIAZABkAGQAECc=",
          "dtype": "i2"
         },
         "xaxis": "x",
         "y": {
          "bdata": "AAAAAIB740AAAAAAAE67QAAAAAAAoFJAAAAAAACwckAAAAAAAPB4QAAAAAAA+IhAAAAAAIB740A=",
          "dtype": "f8"
         },
         "yaxis": "y"
        },
        {
         "hovertemplate": "<b>OLS trendline</b><br>Revenue = 3.941 * Installs + 603.025<br>R<sup>2</sup>=0.996498<br><br>App Category=DATING<br>Number of Installs=%{x}<br>Revenue (USD)=%{y} <b>(trend)</b><extra></extra>",
         "legendgroup": "DATING",
         "marker": {
          "color": "#00cc96",
          "symbol": "circle"
         },
         "mode": "lines",
         "name": "DATING",
         "showlegend": false,
         "type": "scatter",
         "x": {
          "bdata": "MgBkAGQAZADoAxAnECc=",
          "dtype": "i2"
         },
         "xaxis": "x",
         "y": {
          "bdata": "/CKXvpkAiUCDjyoFACmPQIOPKgUAKY9Ag48qBQApj0AfBnEfBsCxQP7BbGqgieNA/sFsaqCJ40A=",
          "dtype": "f8"
         },
         "yaxis": "y"
        },
        {
         "customdata": [
          [
           "EDUCATION"
          ],
          [
           "EDUCATION"
          ],
          [
           "EDUCATION"
          ],
          [
           "EDUCATION"
          ]
         ],
         "hovertemplate": "App Category=%{customdata[0]}<br>Number of Installs=%{x}<br>Revenue (USD)=%{marker.size}<extra></extra>",
         "legendgroup": "EDUCATION",
         "marker": {
          "color": "#ab63fa",
          "line": {
           "color": "DarkSlateGrey",
           "width": 1
          },
          "opacity": 0.7,
          "size": {
           "bdata": "AAAAAAAsr0AAAAAAAGa3QAAAAAD4cD5BAAAAAGBaGEE=",
           "dtype": "f8"
          },
          "sizemode": "area",
          "sizeref": 174750,
          "symbol": "circle"
         },
         "mode": "markers",
         "name": "EDUCATION",
         "orientation": "v",
         "showlegend": true,
         "type": "scatter",
         "x": {
          "bdata": "6AMAAOgDAAAgoQcAoIYBAA==",
          "dtype": "i4"
         },
         "xaxis": "x",
         "y": {
          "bdata": "AAAAAAAsr0AAAAAAAGa3QAAAAAD4cD5BAAAAAGBaGEE=",
          "dtype": "f8"
         },
         "yaxis": "y"
        },
        {
         "hovertemplate": "<b>OLS trendline</b><br>Revenue = 3.98823 * Installs + 765.639<br>R<sup>2</sup>=0.999999<br><br>App Category=EDUCATION<br>Number of Installs=%{x}<br>Revenue (USD)=%{y} <b>(trend)</b><extra></extra>",
         "legendgroup": "EDUCATION",
         "marker": {
          "color": "#ab63fa",
          "symbol": "circle"
         },
         "mode": "lines",
         "name": "EDUCATION",
         "showlegend": false,
         "type": "scatter",
         "x": {
          "bdata": "6AMAAOgDAACghgEAIKEHAA==",
          "dtype": "i4"
         },
         "xaxis": "x",
         "y": {
          "bdata": "1hvutt+RskDWG+6235GyQDp644mUYxhBNkUZHoNwPkE=",
          "dtype": "f8"
         },
         "yaxis": "y"
        },
        {
         "customdata": [
          [
           "ENTERTAINMENT"
          ],
          [
           "ENTERTAINMENT"
          ]
         ],
         "hovertemplate": "App Category=%{customdata[0]}<br>Number of Installs=%{x}<br>Revenue (USD)=%{marker.size}<extra></extra>",
         "legendgroup": "ENTERTAINMENT",
         "marker": {
          "color": "#FFA15A",
          "line": {
           "color": "DarkSlateGrey",
           "width": 1
          },
          "opacity": 0.7,
          "size": {
           "bdata": "AAAAAOB0HkEAAAAA4D8SQQ==",
           "dtype": "f8"
          },
          "sizemode": "area",
          "sizeref": 174750,
          "symbol": "circle"
         },
         "mode": "markers",
         "name": "ENTERTAINMENT",
         "orientation": "v",
         "showlegend": true,
         "type": "scatter",
         "x": {
          "bdata": "oIYBAKCGAQA=",
          "dtype": "i4"
         },
         "xaxis": "x",
         "y": {
          "bdata": "AAAAAOB0HkEAAAAA4D8SQQ==",
          "dtype": "f8"
         },
         "yaxis": "y"
        },
        {
         "hovertemplate": "<b>OLS trendline</b><br>Revenue = 3.99<br>R<sup>2</sup>=0.000000<br><br>App Category=ENTERTAINMENT<br>Number of Installs=%{x}<br>Revenue (USD)=%{y} <b>(trend)</b><extra></extra>",
         "legendgroup": "ENTERTAINMENT",
         "marker": {
          "color": "#FFA15A",
          "symbol": "circle"
         },
         "mode": "lines",
         "name": "ENTERTAINMENT",
         "showlegend": false,
         "type": "scatter",
         "x": {
          "bdata": "oIYBAKCGAQA=",
          "dtype": "i4"
         },
         "xaxis": "x",
         "y": {
          "bdata": "/////19aGEH/////X1oYQQ==",
          "dtype": "f8"
         },
         "yaxis": "y"
        },
        {
         "customdata": [
          [
           "FOOD_AND_DRINK"
          ],
          [
           "FOOD_AND_DRINK"
          ]
         ],
         "hovertemplate": "App Category=%{customdata[0]}<br>Number of Installs=%{x}<br>Revenue (USD)=%{marker.size}<extra></extra>",
         "legendgroup": "FOOD_AND_DRINK",
         "marker": {
          "color": "#19d3f3",
          "line": {
           "color": "DarkSlateGrey",
           "width": 1
          },
          "opacity": 0.7,
          "size": {
           "bdata": "AAAAAIAK4UAAAAAA4HQOQQ==",
           "dtype": "f8"
          },
          "sizemode": "area",
          "sizeref": 174750,
          "symbol": "circle"
         },
         "mode": "markers",
         "name": "FOOD_AND_DRINK",
         "orientation": "v",
         "showlegend": true,
         "type": "scatter",
         "x": {
          "bdata": "ECcAAFDDAAA=",
          "dtype": "i4"
         },
         "xaxis": "x",
         "y": {
          "bdata": "AAAAAIAK4UAAAAAA4HQOQQ==",
          "dtype": "f8"
         },
         "yaxis": "y"
        },
        {
         "hovertemplate": "<b>OLS trendline</b><br>Revenue = 5.365 * Installs + -18750<br>R<sup>2</sup>=1.000000<br><br>App Category=FOOD_AND_DRINK<br>Number of Installs=%{x}<br>Revenue (USD)=%{y} <b>(trend)</b><extra></extra>",
         "legendgroup": "FOOD_AND_DRINK",
         "marker": {
          "color": "#19d3f3",
          "symbol": "circle"
         },
         "mode": "lines",
         "name": "FOOD_AND_DRINK",
         "showlegend": false,
         "type": "scatter",
         "x": {
          "bdata": "ECcAAFDDAAA=",
          "dtype": "i4"
         },
         "xaxis": "x",
         "y": {
          "bdata": "AgAAAIAK4UAAAAAA4HQOQQ==",
          "dtype": "f8"
         },
         "yaxis": "y"
        },
        {
         "customdata": [
          [
           "HEALTH_AND_FITNESS"
          ],
          [
           "HEALTH_AND_FITNESS"
          ],
          [
           "HEALTH_AND_FITNESS"
          ],
          [
           "HEALTH_AND_FITNESS"
          ],
          [
           "HEALTH_AND_FITNESS"
          ],
          [
           "HEALTH_AND_FITNESS"
          ],
          [
           "HEALTH_AND_FITNESS"
          ],
          [
           "HEALTH_AND_FITNESS"
          ],
          [
           "HEALTH_AND_FITNESS"
          ],
          [
           "HEALTH_AND_FITNESS"
          ],
          [
           "HEALTH_AND_FITNESS"
          ],
          [
           "HEALTH_AND_FITNESS"
          ],
          [
           "HEALTH_AND_FITNESS"
          ],
          [
           "HEALTH_AND_FITNESS"
          ],
          [
           "HEALTH_AND_FITNESS"
          ],
          [
           "HEALTH_AND_FITNESS"
          ]
         ],
         "hovertemplate": "App Category=%{customdata[0]}<br>Number of Installs=%{x}<br>Revenue (USD)=%{marker.size}<extra></extra>",
         "legendgroup": "HEALTH_AND_FITNESS",
         "marker": {
          "color": "#FF6692",
          "line": {
           "color": "DarkSlateGrey",
           "width": 1
          },
          "opacity": 0.7,
          "size": {
           "bdata": "AAAAAOA/EkEAAAAAgHvjQAAAAADgPxJBAAAAAOA/EkEAAAAAwEr4QAAAAADgPwJBAAAAAMBK+EAAAAAAABifQAAAAAAAuHJAzczMzMzMI0AAAAAAIE0VQQAAAAAAfrNAAAAAAAA4f0AAAAAAwBDxQAAAAAAAfrNAAAAAAAA2v0A=",
           "dtype": "f8"
          },
          "sizemode": "area",
          "sizeref": 174750,
          "symbol": "circle"
         },
         "mode": "markers",
         "name": "HEALTH_AND_FITNESS",
         "orientation": "v",
         "showlegend": true,
         "type": "scatter",
         "x": {
          "bdata": "oIYBABAnAACghgEAoIYBAFDDAABQwwAAUMMAAOgDAAAyAAAACgAAAKCGAQDoAwAAMgAAABAnAADoAwAA6AMAAA==",
          "dtype": "i4"
         },
         "xaxis": "x",
         "y": {
          "bdata": "AAAAAOA/EkEAAAAAgHvjQAAAAADgPxJBAAAAAOA/EkEAAAAAwEr4QAAAAADgPwJBAAAAAMBK+EAAAAAAABifQAAAAAAAuHJAzczMzMzMI0AAAAAAIE0VQQAAAAAAfrNAAAAAAAA4f0AAAAAAwBDxQAAAAAAAfrNAAAAAAAA2v0A=",
          "dtype": "f8"
         },
         "yaxis": "y"
        },
        {
         "hovertemplate": "<b>OLS trendline</b><br>Revenue = 2.99752 * Installs + 260.267<br>R<sup>2</sup>=0.963490<br><br>App Category=HEALTH_AND_FITNESS<br>Number of Installs=%{x}<br>Revenue (USD)=%{y} <b>(trend)</b><extra></extra>",
         "legendgroup": "HEALTH_AND_FITNESS",
         "marker": {
          "color": "#FF6692",
          "symbol": "circle"
         },
         "mode": "lines",
         "name": "HEALTH_AND_FITNESS",
         "showlegend": false,
         "type": "scatter",
         "x": {
          "bdata": "CgAAADIAAAAyAAAA6AMAAOgDAADoAwAA6AMAABAnAAAQJwAAUMMAAFDDAABQwwAAoIYBAKCGAQCghgEAoIYBAA==",
          "dtype": "i4"
         },
         "xaxis": "x",
         "y": {
          "bdata": "efjG3d8jckCera8XSaJ5QJ6trxdJonlAec/ghpFzqUB5z+CGkXOpQHnP4IaRc6lAec/ghpFzqUDENnIg3IbdQMQ2ciDcht1ApcgoCcFTAkGlyCgJwVMCQaXIKAnBUwJBcvXE969PEkFy9cT3r08SQXL1xPevTxJBcvXE969PEkE=",
          "dtype": "f8"
         },
         "yaxis": "y"
        },
        {
         "customdata": [
          [
           "GAME"
          ],
          [
           "GAME"
          ],
          [
           "GAME"
          ],
          [
           "GAME"
          ],
          [
           "GAME"
          ],
          [
           "GAME"
          ],
          [
           "GAME"
          ],
          [
           "GAME"
          ],
          [
           "GAME"
          ],
          [
           "GAME"
          ],
          [
           "GAME"
          ],
          [
           "GAME"
          ],
          [
           "GAME"
          ],
          [
           "GAME"
          ],
          [
           "GAME"
          ],
          [
           "GAME"
          ],
          [
           "GAME"
          ],
          [
           "GAME"
          ],
          [
           "GAME"
          ],
          [
           "GAME"
          ],
          [
           "GAME"
          ],
          [
           "GAME"
          ],
          [
           "GAME"
          ],
          [
           "GAME"
          ],
          [
           "GAME"
          ],
          [
           "GAME"
          ],
          [
           "GAME"
          ],
          [
           "GAME"
          ],
          [
           "GAME"
          ],
          [
           "GAME"
          ],
          [
           "GAME"
          ],
          [
           "GAME"
          ],
          [
           "GAME"
          ],
          [
           "GAME"
          ],
          [
           "GAME"
          ],
          [
           "GAME"
          ],
          [
           "GAME"
          ],
          [
           "GAME"
          ],
          [
           "GAME"
          ],
          [
           "GAME"
          ],
          [
           "GAME"
          ],
          [
           "GAME"
          ],
          [
           "GAME"
          ],
          [
           "GAME"
          ],
          [
           "GAME"
          ],
          [
           "GAME"
          ],
          [
           "GAME"
          ],
          [
           "GAME"
          ],
          [
           "GAME"
          ],
          [
           "GAME"
          ],
          [
           "GAME"
          ],
          [
           "GAME"
          ],
          [
           "GAME"
          ],
          [
           "GAME"
          ],
          [
           "GAME"
          ],
          [
           "GAME"
          ],
          [
           "GAME"
          ],
          [
           "GAME"
          ],
          [
           "GAME"
          ],
          [
           "GAME"
          ],
          [
           "GAME"
          ],
          [
           "GAME"
          ],
          [
           "GAME"
          ],
          [
           "GAME"
          ],
          [
           "GAME"
          ],
          [
           "GAME"
          ],
          [
           "GAME"
          ],
          [
           "GAME"
          ],
          [
           "GAME"
          ],
          [
           "GAME"
          ],
          [
           "GAME"
          ],
          [
           "GAME"
          ],
          [
           "GAME"
          ],
          [
           "GAME"
          ],
          [
           "GAME"
          ],
          [
           "GAME"
          ],
          [
           "GAME"
          ],
          [
           "GAME"
          ],
          [
           "GAME"
          ],
          [
           "GAME"
          ],
          [
           "GAME"
          ],
          [
           "GAME"
          ],
          [
           "GAME"
          ]
         ],
         "hovertemplate": "App Category=%{customdata[0]}<br>Number of Installs=%{x}<br>Revenue (USD)=%{marker.size}<extra></extra>",
         "legendgroup": "GAME",
         "marker": {
          "color": "#B6E880",
          "line": {
           "color": "DarkSlateGrey",
           "width": 1
          },
          "opacity": 0.7,
          "size": {
           "bdata": "AAAAAOA/EkEAAAAAwEoIQQAAAADgdB5BAAAAAOB0HkEAAAAA4HQeQQAAAACwRyJBAAAAAPBUJUEAAAAAsHwuQQAAAADgdB5BAAAAAADAWEAAAAAAABifQAAAAAAA8H5AAAAAAPzhYkH/////3/UFQa5H4XoUru8/AAAAAAB+s0AAAAAAAFbDQAAAAAAA8I5AAAAAAAB0o0AAAAAAAG/DQAAAAACAXehAAAAAAADAWEAAAAAAwEr4QAAAAADASghBAAAAAOB0HkEAAAAAgF3oQAAAAAAAKJlAAAAAAIAr6EAAAAAAYDYuQQAAAABwXS5BAAAAAAAsr0AAAAAAgCv4QAAAAADASvhAAAAAAIBd6EAAAAAAAPCOQAAAAADYz0ZBAAAAAOA/EkEAAAAA4D8SQQAAAADgPxJBrkfhehSu7z/Xo3A9Ctf3PwAAAAAA8I5AAAAAAOB0DkEAAAAAwIHzQK5H4XoUru8/AAAAAACKoUAAAAAAAOCVQAAAAAAAb9NAAAAAAMAQ4UAAAAAAAE67QAAAAADgPxJBAAAAAADgaEAAAAAAAESrQAAAAACAXehAAAAAACyqWkEAAAAAAMBYQM3MzMzMzCNAAAAAAOB0DkEBAAAAADPdQAAAAAAA8I5AAAAAAAAQfEAAAAAAwEoIQQAAAAAAMH9AAAAAAAwJU0EAAAAA4D8SQQAAAACAe+NAAQAAAAAz3UAAAAAAAOBYQAAAAABgNi5BAAAAAGA2LkEAAAAAYDYuQQAAAAAA8I5AAAAAAAAYn0AAAAAA4D8SQQAAAAAAVrNAAAAAAGBaGEEAAAAA4D8SQQAAAAAAwFhAAAAAAADgaEAAAAAA4D8SQQAAAABgNi5BrkfhehSu7z//////X70EQQ==",
           "dtype": "f8"
          },
          "sizemode": "area",
          "sizeref": 174750,
          "symbol": "circle"
         },
         "mode": "markers",
         "name": "GAME",
         "orientation": "v",
         "showlegend": true,
         "type": "scatter",
         "x": {
          "bdata": "oIYBAKCGAQCghgEAoIYBAKCGAQCghgEAoIYBAKCGAQCghgEAZAAAAOgDAAD0AQAAgJaYABAnAAABAAAA6AMAABAnAADoAwAA6AMAAIgTAAAQJwAAZAAAAFDDAACghgEAoIYBABAnAADoAwAAUMMAAEBCDwAgoQcA6AMAAKCGAQBQwwAAECcAAOgDAABAQg8AoIYBAKCGAQCghgEAAQAAAAEAAADoAwAAUMMAABAnAAABAAAA9AEAAGQAAAAQJwAAiBMAAOgDAACghgEAZAAAAOgDAAAQJwAAQEIPAGQAAAAKAAAAUMMAABAnAADoAwAAZAAAAKCGAQBkAAAAQEIPAKCGAQAQJwAAECcAADIAAABAQg8AQEIPAEBCDwDoAwAA6AMAAKCGAQCIEwAAoIYBAKCGAQBkAAAAZAAAAKCGAQBAQg8AAQAAABAnAAA=",
          "dtype": "i4"
         },
         "xaxis": "x",
         "y": {
          "bdata": "AAAAAOA/EkEAAAAAwEoIQQAAAADgdB5BAAAAAOB0HkEAAAAA4HQeQQAAAACwRyJBAAAAAPBUJUEAAAAAsHwuQQAAAADgdB5BAAAAAADAWEAAAAAAABifQAAAAAAA8H5AAAAAAPzhYkH/////3/UFQa5H4XoUru8/AAAAAAB+s0AAAAAAAFbDQAAAAAAA8I5AAAAAAAB0o0AAAAAAAG/DQAAAAACAXehAAAAAAADAWEAAAAAAwEr4QAAAAADASghBAAAAAOB0HkEAAAAAgF3oQAAAAAAAKJlAAAAAAIAr6EAAAAAAYDYuQQAAAABwXS5BAAAAAAAsr0AAAAAAgCv4QAAAAADASvhAAAAAAIBd6EAAAAAAAPCOQAAAAADYz0ZBAAAAAOA/EkEAAAAA4D8SQQAAAADgPxJBrkfhehSu7z/Xo3A9Ctf3PwAAAAAA8I5AAAAAAOB0DkEAAAAAwIHzQK5H4XoUru8/AAAAAACKoUAAAAAAAOCVQAAAAAAAb9NAAAAAAMAQ4UAAAAAAAE67QAAAAADgPxJBAAAAAADgaEAAAAAAAESrQAAAAACAXehAAAAAACyqWkEAAAAAAMBYQM3MzMzMzCNAAAAAAOB0DkEBAAAAADPdQAAAAAAA8I5AAAAAAAAQfEAAAAAAwEoIQQAAAAAAMH9AAAAAAAwJU0EAAAAA4D8SQQAAAACAe+NAAQAAAAAz3UAAAAAAAOBYQAAAAABgNi5BAAAAAGA2LkEAAAAAYDYuQQAAAAAA8I5AAAAAAAAYn0AAAAAA4D8SQQAAAAAAVrNAAAAAAGBaGEEAAAAA4D8SQQAAAAAAwFhAAAAAAADgaEAAAAAA4D8SQQAAAABgNi5BrkfhehSu7z//////X70EQQ==",
          "dtype": "f8"
         },
         "yaxis": "y"
        },
        {
         "hovertemplate": "<b>OLS trendline</b><br>Revenue = 1.06576 * Installs + 222894<br>R<sup>2</sup>=0.685870<br><br>App Category=GAME<br>Number of Installs=%{x}<br>Revenue (USD)=%{y} <b>(trend)</b><extra></extra>",
         "legendgroup": "GAME",
         "marker": {
          "color": "#B6E880",
          "symbol": "circle"
         },
         "mode": "lines",
         "name": "GAME",
         "showlegend": false,
         "type": "scatter",
         "x": {
          "bdata": "AQAAAAEAAAABAAAAAQAAAAEAAAAKAAAAMgAAAGQAAABkAAAAZAAAAGQAAABkAAAAZAAAAGQAAABkAAAAZAAAAPQBAAD0AQAA6AMAAOgDAADoAwAA6AMAAOgDAADoAwAA6AMAAOgDAADoAwAA6AMAAOgDAADoAwAA6AMAAIgTAACIEwAAiBMAABAnAAAQJwAAECcAABAnAAAQJwAAECcAABAnAAAQJwAAECcAABAnAAAQJwAAECcAAFDDAABQwwAAUMMAAFDDAABQwwAAoIYBAKCGAQCghgEAoIYBAKCGAQCghgEAoIYBAKCGAQCghgEAoIYBAKCGAQCghgEAoIYBAKCGAQCghgEAoIYBAKCGAQCghgEAoIYBAKCGAQCghgEAoIYBACChBwBAQg8AQEIPAEBCDwBAQg8AQEIPAEBCDwBAQg8AQEIPAICWmAA=",
          "dtype": "i4"
         },
         "xaxis": "x",
         "y": {
          "bdata": "fTEl1XU1C0F9MSXVdTULQX0xJdV1NQtBfTEl1XU1C0F9MSXVdTULQSrGM5HCNQtBgj4fnBc3C0HvlMXpwTgLQe+UxenBOAtB75TF6cE4C0HvlMXpwTgLQe+UxenBOAtB75TF6cE4C0HvlMXpwTgLQe+UxenBOAtB75TF6cE4C0FcSPhWFEYLQVxI+FYURgtBpah3X7tWC0GlqHdfu1YLQaWod1+7VgtBpah3X7tWC0GlqHdfu1YLQaWod1+7VgtBpah3X7tWC0GlqHdfu1YLQaWod1+7VgtBpah3X7tWC0GlqHdfu1YLQaWod1+7VgtBpah3X7tWC0HoqnKj89sLQeiqcqPz2wtB6Kpyo/PbC0G7bWz4eYIMQbttbPh5ggxBu21s+HmCDEG7bWz4eYIMQbttbPh5ggxBu21s+HmCDEG7bWz4eYIMQbttbPh5ggxBu21s+HmCDEG7bWz4eYIMQbttbPh5ggxBu21s+HmCDEEsQh1QVtsQQSxCHVBW2xBBLEIdUFbbEEEsQh1QVtsQQSxCHVBW2xBBThD++PUbFEFOEP749RsUQU4Q/vj1GxRBThD++PUbFEFOEP749RsUQU4Q/vj1GxRBThD++PUbFEFOEP749RsUQU4Q/vj1GxRBThD++PUbFEFOEP749RsUQU4Q/vj1GxRBThD++PUbFEFOEP749RsUQU4Q/vj1GxRBThD++PUbFEFOEP749RsUQU4Q/vj1GxRBThD++PUbFEFOEP749RsUQU4Q/vj1GxRBThD++PUbFEGwQAKgeRAnQa4jM/bLqTNBriMz9supM0GuIzP2y6kzQa4jM/bLqTNBriMz9supM0GuIzP2y6kzQa4jM/bLqTNBriMz9supM0H267aUu8BkQQ==",
          "dtype": "f8"
         },
         "yaxis": "y"
        },
        {
         "customdata": [
          [
           "FAMILY"
          ],
          [
           "FAMILY"
          ],
          [
           "FAMILY"
          ],
          [
           "FAMILY"
          ],
          [
           "FAMILY"
          ],
          [
           "FAMILY"
          ],
          [
           "FAMILY"
          ],
          [
           "FAMILY"
          ],
          [
           "FAMILY"
          ],
          [
           "FAMILY"
          ],
          [
           "FAMILY"
          ],
          [
           "FAMILY"
          ],
          [
           "FAMILY"
          ],
          [
           "FAMILY"
          ],
          [
           "FAMILY"
          ],
          [
           "FAMILY"
          ],
          [
           "FAMILY"
          ],
          [
           "FAMILY"
          ],
          [
           "FAMILY"
          ],
          [
           "FAMILY"
          ],
          [
           "FAMILY"
          ],
          [
           "FAMILY"
          ],
          [
           "FAMILY"
          ],
          [
           "FAMILY"
          ],
          [
           "FAMILY"
          ],
          [
           "FAMILY"
          ],
          [
           "FAMILY"
          ],
          [
           "FAMILY"
          ],
          [
           "FAMILY"
          ],
          [
           "FAMILY"
          ],
          [
           "FAMILY"
          ],
          [
           "FAMILY"
          ],
          [
           "FAMILY"
          ],
          [
           "FAMILY"
          ],
          [
           "FAMILY"
          ],
          [
           "FAMILY"
          ],
          [
           "FAMILY"
          ],
          [
           "FAMILY"
          ],
          [
           "FAMILY"
          ],
          [
           "FAMILY"
          ],
          [
           "FAMILY"
          ],
          [
           "FAMILY"
          ],
          [
           "FAMILY"
          ],
          [
           "FAMILY"
          ],
          [
           "FAMILY"
          ],
          [
           "FAMILY"
          ],
          [
           "FAMILY"
          ],
          [
           "FAMILY"
          ],
          [
           "FAMILY"
          ],
          [
           "FAMILY"
          ],
          [
           "FAMILY"
          ],
          [
           "FAMILY"
          ],
          [
           "FAMILY"
          ],
          [
           "FAMILY"
          ],
          [
           "FAMILY"
          ],
          [
           "FAMILY"
          ],
          [
           "FAMILY"
          ],
          [
           "FAMILY"
          ],
          [
           "FAMILY"
          ],
          [
           "FAMILY"
          ],
          [
           "FAMILY"
          ],
          [
           "FAMILY"
          ],
          [
           "FAMILY"
          ],
          [
           "FAMILY"
          ],
          [
           "FAMILY"
          ],
          [
           "FAMILY"
          ],
          [
           "FAMILY"
          ],
          [
           "FAMILY"
          ],
          [
           "FAMILY"
          ],
          [
           "FAMILY"
          ],
          [
           "FAMILY"
          ],
          [
           "FAMILY"
          ],
          [
           "FAMILY"
          ],
          [
           "FAMILY"
          ],
          [
           "FAMILY"
          ],
          [
           "FAMILY"
          ],
          [
           "FAMILY"
          ],
          [
           "FAMILY"
          ],
          [
           "FAMILY"
          ],
          [
           "FAMILY"
          ],
          [
           "FAMILY"
          ],
          [
           "FAMILY"
          ],
          [
           "FAMILY"
          ],
          [
           "FAMILY"
          ],
          [
           "FAMILY"
          ],
          [
           "FAMILY"
          ],
          [
           "FAMILY"
          ],
          [
           "FAMILY"
          ],
          [
           "FAMILY"
          ],
          [
           "FAMILY"
          ],
          [
           "FAMILY"
          ],
          [
           "FAMILY"
          ],
          [
           "FAMILY"
          ],
          [
           "FAMILY"
          ],
          [
           "FAMILY"
          ],
          [
           "FAMILY"
          ],
          [
           "FAMILY"
          ],
          [
           "FAMILY"
          ],
          [
           "FAMILY"
          ],
          [
           "FAMILY"
          ],
          [
           "FAMILY"
          ],
          [
           "FAMILY"
          ],
          [
           "FAMILY"
          ],
          [
           "FAMILY"
          ],
          [
           "FAMILY"
          ],
          [
           "FAMILY"
          ],
          [
           "FAMILY"
          ],
          [
           "FAMILY"
          ],
          [
           "FAMILY"
          ],
          [
           "FAMILY"
          ],
          [
           "FAMILY"
          ],
          [
           "FAMILY"
          ],
          [
           "FAMILY"
          ],
          [
           "FAMILY"
          ],
          [
           "FAMILY"
          ],
          [
           "FAMILY"
          ],
          [
           "FAMILY"
          ],
          [
           "FAMILY"
          ],
          [
           "FAMILY"
          ],
          [
           "FAMILY"
          ],
          [
           "FAMILY"
          ],
          [
           "FAMILY"
          ],
          [
           "FAMILY"
          ],
          [
           "FAMILY"
          ],
          [
           "FAMILY"
          ],
          [
           "FAMILY"
          ],
          [
           "FAMILY"
          ],
          [
           "FAMILY"
          ],
          [
           "FAMILY"
          ],
          [
           "FAMILY"
          ],
          [
           "FAMILY"
          ],
          [
           "FAMILY"
          ],
          [
           "FAMILY"
          ],
          [
           "FAMILY"
          ],
          [
           "FAMILY"
          ],
          [
           "FAMILY"
          ],
          [
           "FAMILY"
          ],
          [
           "FAMILY"
          ],
          [
           "FAMILY"
          ],
          [
           "FAMILY"
          ],
          [
           "FAMILY"
          ],
          [
           "FAMILY"
          ],
          [
           "FAMILY"
          ],
          [
           "FAMILY"
          ],
          [
           "FAMILY"
          ],
          [
           "FAMILY"
          ],
          [
           "FAMILY"
          ],
          [
           "FAMILY"
          ],
          [
           "FAMILY"
          ],
          [
           "FAMILY"
          ],
          [
           "FAMILY"
          ],
          [
           "FAMILY"
          ],
          [
           "FAMILY"
          ],
          [
           "FAMILY"
          ],
          [
           "FAMILY"
          ],
          [
           "FAMILY"
          ],
          [
           "FAMILY"
          ],
          [
           "FAMILY"
          ],
          [
           "FAMILY"
          ],
          [
           "FAMILY"
          ],
          [
           "FAMILY"
          ],
          [
           "FAMILY"
          ],
          [
           "FAMILY"
          ],
          [
           "FAMILY"
          ],
          [
           "FAMILY"
          ],
          [
           "FAMILY"
          ],
          [
           "FAMILY"
          ],
          [
           "FAMILY"
          ],
          [
           "FAMILY"
          ],
          [
           "FAMILY"
          ],
          [
           "FAMILY"
          ],
          [
           "FAMILY"
          ],
          [
           "FAMILY"
          ],
          [
           "FAMILY"
          ],
          [
           "FAMILY"
          ],
          [
           "FAMILY"
          ],
          [
           "FAMILY"
          ],
          [
           "FAMILY"
          ],
          [
           "FAMILY"
          ],
          [
           "FAMILY"
          ],
          [
           "FAMILY"
          ],
          [
           "FAMILY"
          ],
          [
           "FAMILY"
          ],
          [
           "FAMILY"
          ],
          [
           "FAMILY"
          ],
          [
           "FAMILY"
          ],
          [
           "FAMILY"
          ],
          [
           "FAMILY"
          ],
          [
           "FAMILY"
          ],
          [
           "FAMILY"
          ],
          [
           "FAMILY"
          ]
         ],
         "hovertemplate": "App Category=%{customdata[0]}<br>Number of Installs=%{x}<br>Revenue (USD)=%{marker.size}<extra></extra>",
         "legendgroup": "FAMILY",
         "marker": {
          "color": "#FF97FF",
          "line": {
           "color": "DarkSlateGrey",
           "width": 1
          },
          "opacity": 0.7,
          "size": {
           "bdata": "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",
           "dtype": "f8"
          },
          "sizemode": "area",
          "sizeref": 174750,
          "symbol": "circle"
         },
         "mode": "markers",
         "name": "FAMILY",
         "orientation": "v",
         "showlegend": true,
         "type": "scatter",
         "x": {
          "bdata": "iBMAAIgTAADoAwAA9AEAAKCGAQAgoQcAECcAABAnAADoAwAA6AMAAOgDAABkAAAAZAAAAOgDAACIEwAAiBMAAOgDAAAQJwAAECcAAIgTAADoAwAAECcAABAnAABQwwAA6AMAABAnAAAQJwAAUMMAAICWmABAQg8AUMMAAKCGAQAKAAAAoIYBAAUAAABkAAAAQEIPAPQBAADoAwAA6AMAAGQAAACAlpgAiBMAAKCGAQAQJwAAECcAAKCGAQAQJwAAECcAAAoAAABkAAAA6AMAAKCGAQBQwwAAECcAAIgTAAAQJwAAoIYBABAnAACghgEAUMMAABAnAADoAwAAiBMAAIgTAAABAAAAiBMAAPQBAAAKAAAAECcAAIgTAAAQJwAAoIYBAKCGAQDoAwAAZAAAAGQAAAAKAAAAAAAAAAoAAAABAAAAIKEHAAoAAAABAAAABQAAAGQAAAAAAAAAZAAAAAoAAAAyAAAA6AMAAKCGAQBkAAAAoIYBAFDDAABQwwAAZAAAAAoAAADoAwAA6AMAAAoAAADoAwAA6AMAAOgDAABAQg8AiBMAADIAAAAgoQcAECcAAGQAAAAyAAAA6AMAAOgDAABQwwAAMgAAAAoAAADoAwAAECcAAAoAAAAQJwAAoIYBAKCGAQCghgEAECcAABAnAAAQJwAAiBMAAGQAAAAKAAAAZAAAAAoAAAABAAAA9AEAAOgDAACghgEAECcAABAnAABQwwAAECcAAGQAAAAyAAAAiBMAAFDDAAAQJwAAoIYBABAnAACghgEAoIYBAKCGAQAQJwAA9AEAAFDDAACghgEAUMMAABAnAABQwwAAoIYBAFDDAAAyAAAAQEIPAKCGAQAKAAAAMgAAAGQAAAAyAAAAECcAABAnAAAKAAAAIKEHAOgDAAAQJwAAMgAAAOgDAAAgoQcAECcAAGQAAABkAAAAQEIPAFDDAADoAwAAMgAAAPQBAABQwwAAZAAAABAnAACghgEAoIYBAGQAAABkAAAAECcAADIAAAA=",
          "dtype": "i4"
         },
         "xaxis": "x",
         "y": {
          "bdata": "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",
          "dtype": "f8"
         },
         "yaxis": "y"
        },
        {
         "hovertemplate": "<b>OLS trendline</b><br>Revenue = 6.86628 * Installs + -150097<br>R<sup>2</sup>=0.981375<br><br>App Category=FAMILY<br>Number of Installs=%{x}<br>Revenue (USD)=%{y} <b>(trend)</b><extra></extra>",
         "legendgroup": "FAMILY",
         "marker": {
          "color": "#FF97FF",
          "symbol": "circle"
         },
         "mode": "lines",
         "name": "FAMILY",
         "showlegend": false,
         "type": "scatter",
         "x": {
          "bdata": "AAAAAAAAAAABAAAAAQAAAAEAAAABAAAABQAAAAUAAAAKAAAACgAAAAoAAAAKAAAACgAAAAoAAAAKAAAACgAAAAoAAAAKAAAACgAAAAoAAAAKAAAACgAAAAoAAAAyAAAAMgAAADIAAAAyAAAAMgAAADIAAAAyAAAAMgAAADIAAAAyAAAAMgAAAGQAAABkAAAAZAAAAGQAAABkAAAAZAAAAGQAAABkAAAAZAAAAGQAAABkAAAAZAAAAGQAAABkAAAAZAAAAGQAAABkAAAAZAAAAGQAAABkAAAAZAAAAPQBAAD0AQAA9AEAAPQBAAD0AQAA9AEAAOgDAADoAwAA6AMAAOgDAADoAwAA6AMAAOgDAADoAwAA6AMAAOgDAADoAwAA6AMAAOgDAADoAwAA6AMAAOgDAADoAwAA6AMAAOgDAADoAwAA6AMAAOgDAADoAwAA6AMAAOgDAADoAwAAiBMAAIgTAACIEwAAiBMAAIgTAACIEwAAiBMAAIgTAACIEwAAiBMAAIgTAACIEwAAiBMAAIgTAAAQJwAAECcAABAnAAAQJwAAECcAABAnAAAQJwAAECcAABAnAAAQJwAAECcAABAnAAAQJwAAECcAABAnAAAQJwAAECcAABAnAAAQJwAAECcAABAnAAAQJwAAECcAABAnAAAQJwAAECcAABAnAAAQJwAAECcAABAnAAAQJwAAECcAABAnAAAQJwAAECcAABAnAAAQJwAAUMMAAFDDAABQwwAAUMMAAFDDAABQwwAAUMMAAFDDAABQwwAAUMMAAFDDAABQwwAAUMMAAFDDAABQwwAAUMMAAKCGAQCghgEAoIYBAKCGAQCghgEAoIYBAKCGAQCghgEAoIYBAKCGAQCghgEAoIYBAKCGAQCghgEAoIYBAKCGAQCghgEAoIYBAKCGAQCghgEAoIYBAKCGAQCghgEAoIYBAKCGAQAgoQcAIKEHACChBwAgoQcAIKEHAEBCDwBAQg8AQEIPAEBCDwBAQg8AgJaYAICWmAA=",
          "dtype": "i4"
         },
         "xaxis": "x",
         "y": {
          "bdata": "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",
          "dtype": "f8"
         },
         "yaxis": "y"
        },
        {
         "customdata": [
          [
           "MEDICAL"
          ],
          [
           "MEDICAL"
          ],
          [
           "MEDICAL"
          ],
          [
           "MEDICAL"
          ],
          [
           "MEDICAL"
          ],
          [
           "MEDICAL"
          ],
          [
           "MEDICAL"
          ],
          [
           "MEDICAL"
          ],
          [
           "MEDICAL"
          ],
          [
           "MEDICAL"
          ],
          [
           "MEDICAL"
          ],
          [
           "MEDICAL"
          ],
          [
           "MEDICAL"
          ],
          [
           "MEDICAL"
          ],
          [
           "MEDICAL"
          ],
          [
           "MEDICAL"
          ],
          [
           "MEDICAL"
          ],
          [
           "MEDICAL"
          ],
          [
           "MEDICAL"
          ],
          [
           "MEDICAL"
          ],
          [
           "MEDICAL"
          ],
          [
           "MEDICAL"
          ],
          [
           "MEDICAL"
          ],
          [
           "MEDICAL"
          ],
          [
           "MEDICAL"
          ],
          [
           "MEDICAL"
          ],
          [
           "MEDICAL"
          ],
          [
           "MEDICAL"
          ],
          [
           "MEDICAL"
          ],
          [
           "MEDICAL"
          ],
          [
           "MEDICAL"
          ],
          [
           "MEDICAL"
          ],
          [
           "MEDICAL"
          ],
          [
           "MEDICAL"
          ],
          [
           "MEDICAL"
          ],
          [
           "MEDICAL"
          ],
          [
           "MEDICAL"
          ],
          [
           "MEDICAL"
          ],
          [
           "MEDICAL"
          ],
          [
           "MEDICAL"
          ],
          [
           "MEDICAL"
          ],
          [
           "MEDICAL"
          ],
          [
           "MEDICAL"
          ],
          [
           "MEDICAL"
          ],
          [
           "MEDICAL"
          ],
          [
           "MEDICAL"
          ],
          [
           "MEDICAL"
          ],
          [
           "MEDICAL"
          ],
          [
           "MEDICAL"
          ],
          [
           "MEDICAL"
          ],
          [
           "MEDICAL"
          ],
          [
           "MEDICAL"
          ],
          [
           "MEDICAL"
          ],
          [
           "MEDICAL"
          ],
          [
           "MEDICAL"
          ],
          [
           "MEDICAL"
          ],
          [
           "MEDICAL"
          ],
          [
           "MEDICAL"
          ],
          [
           "MEDICAL"
          ],
          [
           "MEDICAL"
          ],
          [
           "MEDICAL"
          ],
          [
           "MEDICAL"
          ],
          [
           "MEDICAL"
          ],
          [
           "MEDICAL"
          ],
          [
           "MEDICAL"
          ],
          [
           "MEDICAL"
          ],
          [
           "MEDICAL"
          ],
          [
           "MEDICAL"
          ],
          [
           "MEDICAL"
          ],
          [
           "MEDICAL"
          ],
          [
           "MEDICAL"
          ],
          [
           "MEDICAL"
          ],
          [
           "MEDICAL"
          ],
          [
           "MEDICAL"
          ],
          [
           "MEDICAL"
          ],
          [
           "MEDICAL"
          ],
          [
           "MEDICAL"
          ],
          [
           "MEDICAL"
          ],
          [
           "MEDICAL"
          ],
          [
           "MEDICAL"
          ],
          [
           "MEDICAL"
          ],
          [
           "MEDICAL"
          ],
          [
           "MEDICAL"
          ],
          [
           "MEDICAL"
          ],
          [
           "MEDICAL"
          ],
          [
           "MEDICAL"
          ],
          [
           "MEDICAL"
          ],
          [
           "MEDICAL"
          ],
          [
           "MEDICAL"
          ],
          [
           "MEDICAL"
          ],
          [
           "MEDICAL"
          ],
          [
           "MEDICAL"
          ],
          [
           "MEDICAL"
          ],
          [
           "MEDICAL"
          ],
          [
           "MEDICAL"
          ],
          [
           "MEDICAL"
          ],
          [
           "MEDICAL"
          ],
          [
           "MEDICAL"
          ],
          [
           "MEDICAL"
          ],
          [
           "MEDICAL"
          ],
          [
           "MEDICAL"
          ],
          [
           "MEDICAL"
          ],
          [
           "MEDICAL"
          ],
          [
           "MEDICAL"
          ],
          [
           "MEDICAL"
          ],
          [
           "MEDICAL"
          ],
          [
           "MEDICAL"
          ],
          [
           "MEDICAL"
          ],
          [
           "MEDICAL"
          ]
         ],
         "hovertemplate": "App Category=%{customdata[0]}<br>Number of Installs=%{x}<br>Revenue (USD)=%{marker.size}<extra></extra>",
         "legendgroup": "MEDICAL",
         "marker": {
          "color": "#FECB52",
          "line": {
           "color": "DarkSlateGrey",
           "width": 1
          },
          "opacity": 0.7,
          "size": {
           "bdata": "AAAAAEB3K0EAAAAAAFbDQAAAAACAzupAAAAAAMBj+EAAAAAAwBDxQAAAAAAAavhAAAAAAIB700AAAAAAgD/dQAAAAADcEENBAAAAAJhLIkEAAAAAYIfzQAAAAADARf1AAAAAAOA/AkEAAAAAgJfQQAAAAAAALK9AAQAAAAAz3UAAAAAAAIPDQAAAAAAALK9AAAAAAABHzUAAAAAAALByQAAAAACAe9NAAQAAAAAzzUAAAAAAAEB/QAAAAACASd1AAQAAAAAz3UAAAAAAAFynQAAAAAAATJRAAAAAAAB+s0AAAAAAAFyXQAAAAABgTPJAAAAAAABmt0AAAAAAAESbQAAAAAAA8I5AAQAAAABRyED/////X4EOQQAAAAAAd8VAAAAAAABv00AAAAAAAIajQAAAAAAAfrNAAAAAAIB700ABAAAAADPdQAAAAAAAQr1AAAAAAABwl0AAAAAAALByQAAAAABgWghBAAAAAAAYn0AAAAAAAIPDQAAAAACAe9NAAAAAAIB700AAAAAAACyvQAAAAADAgfNAAAAAAABsh0AAAAAAAIPDQAAAAACAe+NAAAAAAICF00AAAAAAgEndQAAAAAAAO79AAAAAAADwfkAAAAAAwJjgQAAAAAAAVrNAAAAAAGCH80AAAAAAQHcrQQAAAADcEENBAAAAAMBj+EAAAAAAAGr4QAAAAACAl9BAAAAAAJhLIkEAAAAAgEndQAAAAAAAR81AAAAAAOBO8kAAAAAAwEX9QAAAAADAEPFAAAAAAIDO6kAAAAAAYEzyQAAAAAAAg8NAAAAAAMCY4EAAAAAAgEndQP////9fgQ5BAAAAAABMlEAAAAAAAD6vQAAAAACAP91AAQAAAAAz3UAAAAAAAIajQAAAAACAhdNA7FG4HoXrB0AAAAAAAMBIQDQzMzMz801ArkfhehSu7z8AAAAAgHvjQAAAAAAAuIJAAAAAAABAf0AAAAAAAFynQAAAAAAAZqdAAAAAAABWw0AAAAAAAPCOQAAAAAAAcrVA7FG4HoXrD0BnZmZmZuY9QM3MzMzMzCNAAAAAAAA4j0AAAAAAADLOQAAAAAAAwEhAAAAAAAA4j0AAAAAAANiFQAAAAAAALJ9AAAAAANwQQ0EAAAAAAMBYQAAAAAAAwEhAAAAAAAAAAAA=",
           "dtype": "f8"
          },
          "sizemode": "area",
          "sizeref": 174750,
          "symbol": "circle"
         },
         "mode": "markers",
         "name": "MEDICAL",
         "orientation": "v",
         "showlegend": true,
         "type": "scatter",
         "x": {
          "bdata": "oIYBABAnAAAQJwAAECcAABAnAAAQJwAAiBMAAIgTAACghgEAUMMAAOgDAAAQJwAAUMMAAOgDAADoAwAAECcAAOgDAADoAwAA6AMAAGQAAACIEwAAiBMAAPQBAADoAwAAECcAAOgDAABkAAAA6AMAAPQBAACIEwAA6AMAAPQBAADoAwAAiBMAABAnAADoAwAAECcAAGQAAADoAwAAiBMAABAnAADoAwAA6AMAAGQAAABQwwAA6AMAAOgDAACIEwAAiBMAAOgDAAAQJwAAMgAAAOgDAAAQJwAA6AMAAOgDAAD0AQAA9AEAAOgDAACIEwAA6AMAAKCGAQCghgEAECcAABAnAADoAwAAUMMAAOgDAADoAwAA6AMAABAnAAAQJwAAECcAAIgTAADoAwAA6AMAAOgDAAAQJwAAZAAAAGQAAACIEwAAECcAAGQAAADoAwAAAQAAADIAAAAKAAAAAQAAABAnAABkAAAAZAAAAOgDAAD0AQAAECcAAOgDAADoAwAAAQAAAAoAAAAKAAAAZAAAAOgDAAAyAAAAZAAAAGQAAAD0AQAAoIYBAGQAAAAyAAAAAAAAAA==",
          "dtype": "i4"
         },
         "xaxis": "x",
         "y": {
          "bdata": "AAAAAEB3K0EAAAAAAFbDQAAAAACAzupAAAAAAMBj+EAAAAAAwBDxQAAAAAAAavhAAAAAAIB700AAAAAAgD/dQAAAAADcEENBAAAAAJhLIkEAAAAAYIfzQAAAAADARf1AAAAAAOA/AkEAAAAAgJfQQAAAAAAALK9AAQAAAAAz3UAAAAAAAIPDQAAAAAAALK9AAAAAAABHzUAAAAAAALByQAAAAACAe9NAAQAAAAAzzUAAAAAAAEB/QAAAAACASd1AAQAAAAAz3UAAAAAAAFynQAAAAAAATJRAAAAAAAB+s0AAAAAAAFyXQAAAAABgTPJAAAAAAABmt0AAAAAAAESbQAAAAAAA8I5AAQAAAABRyED/////X4EOQQAAAAAAd8VAAAAAAABv00AAAAAAAIajQAAAAAAAfrNAAAAAAIB700ABAAAAADPdQAAAAAAAQr1AAAAAAABwl0AAAAAAALByQAAAAABgWghBAAAAAAAYn0AAAAAAAIPDQAAAAACAe9NAAAAAAIB700AAAAAAACyvQAAAAADAgfNAAAAAAABsh0AAAAAAAIPDQAAAAACAe+NAAAAAAICF00AAAAAAgEndQAAAAAAAO79AAAAAAADwfkAAAAAAwJjgQAAAAAAAVrNAAAAAAGCH80AAAAAAQHcrQQAAAADcEENBAAAAAMBj+EAAAAAAAGr4QAAAAACAl9BAAAAAAJhLIkEAAAAAgEndQAAAAAAAR81AAAAAAOBO8kAAAAAAwEX9QAAAAADAEPFAAAAAAIDO6kAAAAAAYEzyQAAAAAAAg8NAAAAAAMCY4EAAAAAAgEndQP////9fgQ5BAAAAAABMlEAAAAAAAD6vQAAAAACAP91AAQAAAAAz3UAAAAAAAIajQAAAAACAhdNA7FG4HoXrB0AAAAAAAMBIQDQzMzMz801ArkfhehSu7z8AAAAAgHvjQAAAAAAAuIJAAAAAAABAf0AAAAAAAFynQAAAAAAAZqdAAAAAAABWw0AAAAAAAPCOQAAAAAAAcrVA7FG4HoXrD0BnZmZmZuY9QM3MzMzMzCNAAAAAAAA4j0AAAAAAADLOQAAAAAAAwEhAAAAAAAA4j0AAAAAAANiFQAAAAAAALJ9AAAAAANwQQ0EAAAAAAMBYQAAAAAAAwEhAAAAAAAAAAAA=",
          "dtype": "f8"
         },
         "yaxis": "y"
        },
        {
         "hovertemplate": "<b>OLS trendline</b><br>Revenue = 16.9747 * Installs + -34310.9<br>R<sup>2</sup>=0.774631<br><br>App Category=MEDICAL<br>Number of Installs=%{x}<br>Revenue (USD)=%{y} <b>(trend)</b><extra></extra>",
         "legendgroup": "MEDICAL",
         "marker": {
          "color": "#FECB52",
          "symbol": "circle"
         },
         "mode": "lines",
         "name": "MEDICAL",
         "showlegend": false,
         "type": "scatter",
         "x": {
          "bdata": "AAAAAAEAAAABAAAAAQAAAAoAAAAKAAAACgAAADIAAAAyAAAAMgAAADIAAABkAAAAZAAAAGQAAABkAAAAZAAAAGQAAABkAAAAZAAAAGQAAABkAAAAZAAAAGQAAABkAAAA9AEAAPQBAAD0AQAA9AEAAPQBAAD0AQAA9AEAAOgDAADoAwAA6AMAAOgDAADoAwAA6AMAAOgDAADoAwAA6AMAAOgDAADoAwAA6AMAAOgDAADoAwAA6AMAAOgDAADoAwAA6AMAAOgDAADoAwAA6AMAAOgDAADoAwAA6AMAAOgDAADoAwAA6AMAAOgDAADoAwAA6AMAAOgDAADoAwAA6AMAAOgDAADoAwAAiBMAAIgTAACIEwAAiBMAAIgTAACIEwAAiBMAAIgTAACIEwAAiBMAAIgTAACIEwAAECcAABAnAAAQJwAAECcAABAnAAAQJwAAECcAABAnAAAQJwAAECcAABAnAAAQJwAAECcAABAnAAAQJwAAECcAABAnAAAQJwAAECcAABAnAAAQJwAAECcAAFDDAABQwwAAUMMAAFDDAACghgEAoIYBAKCGAQCghgEAoIYBAA==",
          "dtype": "i4"
         },
         "xaxis": "x",
         "y": {
          "bdata": "WHeALN3A4MBa1u37vb7gwFrW7fu9vuDAWtbt+72+4MBqLcZGpavgwGotxkalq+DAai3GRqWr4MCzBd2vxVbgwLMF3a/FVuDAswXdr8VW4MCzBd2vxVbgwB4oc2Zc2d/AHihzZlzZ38AeKHNmXNnfwB4oc2Zc2d/AHihzZlzZ38AeKHNmXNnfwB4oc2Zc2d/AHihzZlzZ38AeKHNmXNnfwB4oc2Zc2d/AHihzZlzZ38AeKHNmXNnfwB4oc2Zc2d/A1Q08nOQ32cDVDTyc5DfZwNUNPJzkN9nA1Q08nOQ32cDVDTyc5DfZwNUNPJzkN9nA1Q08nOQ32cD6LHffDu7QwPosd98O7tDA+ix33w7u0MD6LHffDu7QwPosd98O7tDA+ix33w7u0MD6LHffDu7QwPosd98O7tDA+ix33w7u0MD6LHffDu7QwPosd98O7tDA+ix33w7u0MD6LHffDu7QwPosd98O7tDA+ix33w7u0MD6LHffDu7QwPosd98O7tDA+ix33w7u0MD6LHffDu7QwPosd98O7tDA+ix33w7u0MD6LHffDu7QwPosd98O7tDA+ix33w7u0MD6LHffDu7QwPosd98O7tDA+ix33w7u0MD6LHffDu7QwPosd98O7tDA+ix33w7u0MD6LHffDu7QwPosd98O7tDA+ix33w7u0MD6LHffDu7QwPosd98O7tDA7uxXg0+w6EDu7FeDT7DoQO7sV4NPsOhA7uxXg0+w6EDu7FeDT7DoQO7sV4NPsOhA7uxXg0+w6EDu7FeDT7DoQO7sV4NPsOhA7uxXg0+w6EDu7FeDT7DoQO7sV4NPsOhATRTMDF+IAEFNFMwMX4gAQU0UzAxfiABBTRTMDF+IAEFNFMwMX4gAQU0UzAxfiABBTRTMDF+IAEFNFMwMX4gAQU0UzAxfiABBTRTMDF+IAEFNFMwMX4gAQU0UzAxfiABBTRTMDF+IAEFNFMwMX4gAQU0UzAxfiABBTRTMDF+IAEFNFMwMX4gAQU0UzAxfiABBTRTMDF+IAEFNFMwMX4gAQU0UzAxfiABBTRTMDF+IAEE2Nx8brtooQTY3Hxuu2ihBNjcfG67aKEE2Nx8brtooQfE6gwS1YDlB8TqDBLVgOUHxOoMEtWA5QfE6gwS1YDlB8TqDBLVgOUE=",
          "dtype": "f8"
         },
         "yaxis": "y"
        },
        {
         "customdata": [
          [
           "PHOTOGRAPHY"
          ],
          [
           "PHOTOGRAPHY"
          ],
          [
           "PHOTOGRAPHY"
          ],
          [
           "PHOTOGRAPHY"
          ],
          [
           "PHOTOGRAPHY"
          ],
          [
           "PHOTOGRAPHY"
          ],
          [
           "PHOTOGRAPHY"
          ],
          [
           "PHOTOGRAPHY"
          ],
          [
           "PHOTOGRAPHY"
          ],
          [
           "PHOTOGRAPHY"
          ],
          [
           "PHOTOGRAPHY"
          ],
          [
           "PHOTOGRAPHY"
          ],
          [
           "PHOTOGRAPHY"
          ],
          [
           "PHOTOGRAPHY"
          ],
          [
           "PHOTOGRAPHY"
          ],
          [
           "PHOTOGRAPHY"
          ],
          [
           "PHOTOGRAPHY"
          ],
          [
           "PHOTOGRAPHY"
          ],
          [
           "PHOTOGRAPHY"
          ],
          [
           "PHOTOGRAPHY"
          ],
          [
           "PHOTOGRAPHY"
          ],
          [
           "PHOTOGRAPHY"
          ]
         ],
         "hovertemplate": "App Category=%{customdata[0]}<br>Number of Installs=%{x}<br>Revenue (USD)=%{marker.size}<extra></extra>",
         "legendgroup": "PHOTOGRAPHY",
         "marker": {
          "color": "#636efa",
          "line": {
           "color": "DarkSlateGrey",
           "width": 1
          },
          "opacity": 0.7,
          "size": {
           "bdata": "AAAAAJzZVkEAAAAA4D8SQQAAAACc2VZBAAAAAOAbGEEAAAAAnNlWQQAAAACAXehAAAAAAAAANEAAAAAAAEiHQAAAAAAAg8NAAAAAAICF00AAAAAAAFynQAEAAAAAM81AAAAAAMBK+EAAAAAAAPB4QAAAAADgGxhBAAAAAEAwAkE0MzMzM3NBQGZmZmZmvnJAAAAAANjPNkEAAAAAAG/TQDQzMzMz80hAAAAAAAA4j0A=",
           "dtype": "f8"
          },
          "sizemode": "area",
          "sizeref": 174750,
          "symbol": "circle"
         },
         "mode": "markers",
         "name": "PHOTOGRAPHY",
         "orientation": "v",
         "showlegend": true,
         "type": "scatter",
         "x": {
          "bdata": "QEIPAKCGAQBAQg8AoIYBAEBCDwAQJwAACgAAAPQBAADoAwAA6AMAAOgDAACIEwAAUMMAAGQAAACghgEAoIYBAAoAAAAKAAAAIKEHABAnAAAKAAAAZAAAAA==",
          "dtype": "i4"
         },
         "xaxis": "x",
         "y": {
          "bdata": "AAAAAJzZVkEAAAAA4D8SQQAAAACc2VZBAAAAAOAbGEEAAAAAnNlWQQAAAACAXehAAAAAAAAANEAAAAAAAEiHQAAAAAAAg8NAAAAAAICF00AAAAAAAFynQAEAAAAAM81AAAAAAMBK+EAAAAAAAPB4QAAAAADgGxhBAAAAAEAwAkE0MzMzM3NBQGZmZmZmvnJAAAAAANjPNkEAAAAAAG/TQDQzMzMz80hAAAAAAAA4j0A=",
          "dtype": "f8"
         },
         "yaxis": "y"
        },
        {
         "hovertemplate": "<b>OLS trendline</b><br>Revenue = 5.85394 * Installs + -107661<br>R<sup>2</sup>=0.975276<br><br>App Category=PHOTOGRAPHY<br>Number of Installs=%{x}<br>Revenue (USD)=%{y} <b>(trend)</b><extra></extra>",
         "legendgroup": "PHOTOGRAPHY",
         "marker": {
          "color": "#636efa",
          "symbol": "circle"
         },
         "mode": "lines",
         "name": "PHOTOGRAPHY",
         "showlegend": false,
         "type": "scatter",
         "x": {
          "bdata": "CgAAAAoAAAAKAAAACgAAAGQAAABkAAAA9AEAAOgDAADoAwAA6AMAAIgTAAAQJwAAECcAAFDDAACghgEAoIYBAKCGAQCghgEAIKEHAEBCDwBAQg8AQEIPAA==",
          "dtype": "i4"
         },
         "xaxis": "x",
         "y": {
          "bdata": "9tC+LCZF+sD20L4sJkX6wPbQviwmRfrA9tC+LCZF+sDH1gqAOCT6wMfWCoA4JPrASpuVR9+R+cDuEAPB79r4wO4QA8Hv2vjA7hADwe/a+MAOvm6McyPzwO2sapUw/OfA7axqlTD858Aj84rhYJYGQYz8FJWUKB1BjPwUlZQoHUGM/BSVlCgdQYz8FJWUKB1BjSLytnaCRUEjwyrymetVQSPDKvKZ61VBI8Mq8pnrVUE=",
          "dtype": "f8"
         },
         "yaxis": "y"
        },
        {
         "customdata": [
          [
           "SPORTS"
          ],
          [
           "SPORTS"
          ],
          [
           "SPORTS"
          ],
          [
           "SPORTS"
          ],
          [
           "SPORTS"
          ],
          [
           "SPORTS"
          ],
          [
           "SPORTS"
          ],
          [
           "SPORTS"
          ],
          [
           "SPORTS"
          ],
          [
           "SPORTS"
          ],
          [
           "SPORTS"
          ],
          [
           "SPORTS"
          ],
          [
           "SPORTS"
          ],
          [
           "SPORTS"
          ],
          [
           "SPORTS"
          ],
          [
           "SPORTS"
          ],
          [
           "SPORTS"
          ],
          [
           "SPORTS"
          ],
          [
           "SPORTS"
          ],
          [
           "SPORTS"
          ],
          [
           "SPORTS"
          ],
          [
           "SPORTS"
          ],
          [
           "SPORTS"
          ],
          [
           "SPORTS"
          ]
         ],
         "hovertemplate": "App Category=%{customdata[0]}<br>Number of Installs=%{x}<br>Revenue (USD)=%{marker.size}<extra></extra>",
         "legendgroup": "SPORTS",
         "marker": {
          "color": "#EF553B",
          "line": {
           "color": "DarkSlateGrey",
           "width": 1
          },
          "opacity": 0.7,
          "size": {
           "bdata": "AAAAAGzhNkEAAAAAAEB4QAAAAAAA4HJAAAAAAGBaCEEAAAAAcF0+QQEAAAAAM81AAAAAAACKsUAAAAAAACyvQAAAAAAAXKdAAAAAAADwjkAAAAAAAPCOQAAAAAAAAEhAZmZmZmbmI0AAAAAAANB1QAAAAACAXehAAAAAAABcp0AAAAAAAG/DQAAAAAAAiLNAAAAAAABcl0AAAAAAAHSjQAAAAAAAGJ9AAAAAAABWs0AAAAAAAG/DQAAAAABwbytB",
           "dtype": "f8"
          },
          "sizemode": "area",
          "sizeref": 174750,
          "symbol": "circle"
         },
         "mode": "markers",
         "name": "SPORTS",
         "orientation": "v",
         "showlegend": true,
         "type": "scatter",
         "x": {
          "bdata": "UMMAAGQAAABkAAAAUMMAAEBCDwCIEwAA6AMAAOgDAADoAwAA6AMAAOgDAAAKAAAABQAAAGQAAAAQJwAA6AMAAIgTAACIEwAA9AEAAOgDAADoAwAAiBMAAIgTAACghgEA",
          "dtype": "i4"
         },
         "xaxis": "x",
         "y": {
          "bdata": "AAAAAGzhNkEAAAAAAEB4QAAAAAAA4HJAAAAAAGBaCEEAAAAAcF0+QQEAAAAAM81AAAAAAACKsUAAAAAAACyvQAAAAAAAXKdAAAAAAADwjkAAAAAAAPCOQAAAAAAAAEhAZmZmZmbmI0AAAAAAANB1QAAAAACAXehAAAAAAABcp0AAAAAAAG/DQAAAAAAAiLNAAAAAAABcl0AAAAAAAHSjQAAAAAAAGJ9AAAAAAABWs0AAAAAAAG/DQAAAAABwbytB",
          "dtype": "f8"
         },
         "yaxis": "y"
        },
        {
         "hovertemplate": "<b>OLS trendline</b><br>Revenue = 2.02119 * Installs + 91342.6<br>R<sup>2</sup>=0.632923<br><br>App Category=SPORTS<br>Number of Installs=%{x}<br>Revenue (USD)=%{y} <b>(trend)</b><extra></extra>",
         "legendgroup": "SPORTS",
         "marker": {
          "color": "#EF553B",
          "symbol": "circle"
         },
         "mode": "lines",
         "name": "SPORTS",
         "showlegend": false,
         "type": "scatter",
         "x": {
          "bdata": "BQAAAAoAAABkAAAAZAAAAGQAAAD0AQAA6AMAAOgDAADoAwAA6AMAAOgDAADoAwAA6AMAAOgDAACIEwAAiBMAAIgTAACIEwAAiBMAABAnAABQwwAAUMMAAKCGAQBAQg8A",
          "dtype": "i4"
         },
         "xaxis": "x",
         "y": {
          "bdata": "i52FqItN9kDGDolaLU72QO8Ex96LWfZA7wTH3otZ9kDvBMfei1n2QGpn2n8TjPZAhaIyCT3L9kCFojIJPcv2QIWiMgk9y/ZAhaIyCT3L9kCFojIJPcv2QIWiMgk9y/ZAhaIyCT3L9kCFojIJPcv2QFl79FOJxPhAWXv0U4nE+EBZe/RTicT4QFl79FOJxPhAWXv0U4nE+EBhymaxKDz7QFOhfM6RfAdBU6F8zpF8B0E/FtxQV+kRQVh/vlcLHkBB",
          "dtype": "f8"
         },
         "yaxis": "y"
        },
        {
         "customdata": [
          [
           "PERSONALIZATION"
          ],
          [
           "PERSONALIZATION"
          ],
          [
           "PERSONALIZATION"
          ],
          [
           "PERSONALIZATION"
          ],
          [
           "PERSONALIZATION"
          ],
          [
           "PERSONALIZATION"
          ],
          [
           "PERSONALIZATION"
          ],
          [
           "PERSONALIZATION"
          ],
          [
           "PERSONALIZATION"
          ],
          [
           "PERSONALIZATION"
          ],
          [
           "PERSONALIZATION"
          ],
          [
           "PERSONALIZATION"
          ],
          [
           "PERSONALIZATION"
          ],
          [
           "PERSONALIZATION"
          ],
          [
           "PERSONALIZATION"
          ],
          [
           "PERSONALIZATION"
          ],
          [
           "PERSONALIZATION"
          ],
          [
           "PERSONALIZATION"
          ],
          [
           "PERSONALIZATION"
          ],
          [
           "PERSONALIZATION"
          ],
          [
           "PERSONALIZATION"
          ],
          [
           "PERSONALIZATION"
          ],
          [
           "PERSONALIZATION"
          ],
          [
           "PERSONALIZATION"
          ],
          [
           "PERSONALIZATION"
          ],
          [
           "PERSONALIZATION"
          ],
          [
           "PERSONALIZATION"
          ],
          [
           "PERSONALIZATION"
          ],
          [
           "PERSONALIZATION"
          ],
          [
           "PERSONALIZATION"
          ],
          [
           "PERSONALIZATION"
          ],
          [
           "PERSONALIZATION"
          ],
          [
           "PERSONALIZATION"
          ],
          [
           "PERSONALIZATION"
          ],
          [
           "PERSONALIZATION"
          ],
          [
           "PERSONALIZATION"
          ],
          [
           "PERSONALIZATION"
          ],
          [
           "PERSONALIZATION"
          ],
          [
           "PERSONALIZATION"
          ],
          [
           "PERSONALIZATION"
          ],
          [
           "PERSONALIZATION"
          ],
          [
           "PERSONALIZATION"
          ],
          [
           "PERSONALIZATION"
          ],
          [
           "PERSONALIZATION"
          ],
          [
           "PERSONALIZATION"
          ],
          [
           "PERSONALIZATION"
          ],
          [
           "PERSONALIZATION"
          ],
          [
           "PERSONALIZATION"
          ],
          [
           "PERSONALIZATION"
          ],
          [
           "PERSONALIZATION"
          ],
          [
           "PERSONALIZATION"
          ],
          [
           "PERSONALIZATION"
          ],
          [
           "PERSONALIZATION"
          ],
          [
           "PERSONALIZATION"
          ],
          [
           "PERSONALIZATION"
          ],
          [
           "PERSONALIZATION"
          ],
          [
           "PERSONALIZATION"
          ],
          [
           "PERSONALIZATION"
          ],
          [
           "PERSONALIZATION"
          ],
          [
           "PERSONALIZATION"
          ],
          [
           "PERSONALIZATION"
          ],
          [
           "PERSONALIZATION"
          ],
          [
           "PERSONALIZATION"
          ],
          [
           "PERSONALIZATION"
          ],
          [
           "PERSONALIZATION"
          ],
          [
           "PERSONALIZATION"
          ],
          [
           "PERSONALIZATION"
          ],
          [
           "PERSONALIZATION"
          ],
          [
           "PERSONALIZATION"
          ],
          [
           "PERSONALIZATION"
          ],
          [
           "PERSONALIZATION"
          ],
          [
           "PERSONALIZATION"
          ],
          [
           "PERSONALIZATION"
          ],
          [
           "PERSONALIZATION"
          ],
          [
           "PERSONALIZATION"
          ],
          [
           "PERSONALIZATION"
          ],
          [
           "PERSONALIZATION"
          ],
          [
           "PERSONALIZATION"
          ],
          [
           "PERSONALIZATION"
          ],
          [
           "PERSONALIZATION"
          ],
          [
           "PERSONALIZATION"
          ],
          [
           "PERSONALIZATION"
          ],
          [
           "PERSONALIZATION"
          ]
         ],
         "hovertemplate": "App Category=%{customdata[0]}<br>Number of Installs=%{x}<br>Revenue (USD)=%{marker.size}<extra></extra>",
         "legendgroup": "PERSONALIZATION",
         "marker": {
          "color": "#00cc96",
          "line": {
           "color": "DarkSlateGrey",
           "width": 1
          },
          "opacity": 0.7,
          "size": {
           "bdata": "AAAAAEj/QkEAAAAAYDYuQQAAAAAAVsNAAAAAAMBj+EAAAAAAoGcbQQAAAAAAoGJAAAAAAABvw0AAAAAAAJCaQAEAAAAAM91AAAAAAABWw0AAAAAAgCv4QGdmZmZm5jhAAAAAAACQmkAAAAAAAFazQAAAAAAASIdAAAAAAABIh0AAAAAA4D8SQQAAAAAAdKNAAAAAAABWw0AAAAAAwBDhQAAAAAAA4GhAzczMzMzMHUAAAAAAAMBYQAAAAAAASJdAAAAAAADAWEDNzMzMzMwtQAAAAAAASIdA16NwPQrX9z8AAAAAAKBiQM3MzMzMzCNAAAAAAAAAAAAAAAAAAKBiQAAAAAAAoGJA16NwPQrX9z8AAAAAAMBYQAAAAAAAGr1AAAAAAADAWEAAAAAAAH6zQAAAAAAAGJ9AAAAAAABv00AAAAAAAFbDQAAAAAAAsGJAAAAAAABWw0AAAAAAAEiXQAAAAAAAwFhAAAAAAADASEDNzMzMzMwjQAAAAAAAwEhAzczMzMzMI0DNzMzMzMwjQAAAAAAASIdAzczMzMzME0AAAAAAAFbDQAAAAADASghBrkfhehSu7z/NzMzMzMwjQP//////T25AAAAAAABAj0AAAAAAAPCOQAAAAABI/0JBAAAAAGA2LkEAAAAAAPCOQAAAAAAAfrNAAAAAAADwjkAAAAAAAPCOQAAAAAAA8I5AzczMzMzMI0AAAAAA4HQeQQAAAAAAb9NAAAAAAADAWEABAAAAACBvQK5H4XoUru8/AAAAAABv00ABAAAAQGX+QAAAAAAAoGJAAAAAAADASEAAAAAAACyvQAAAAAAAVsNAAAAAAEj/MkEAAAAAgCvoQAAAAAAA8H5AAAAAAADASEAAAAAAAMBYQA==",
           "dtype": "f8"
          },
          "sizemode": "area",
          "sizeref": 174750,
          "symbol": "circle"
         },
         "mode": "markers",
         "name": "PERSONALIZATION",
         "orientation": "v",
         "showlegend": true,
         "type": "scatter",
         "x": {
          "bdata": "QEIPAEBCDwAQJwAAECcAAKCGAQBkAAAAiBMAAOgDAAAQJwAAECcAAKCGAQAKAAAA6AMAAIgTAAD0AQAA9AEAAKCGAQDoAwAAECcAAIgTAABkAAAABQAAAGQAAADoAwAAZAAAAAoAAAD0AQAAAQAAAGQAAAAKAAAAAAAAAGQAAABkAAAAAQAAAGQAAACIEwAAZAAAAOgDAADoAwAAECcAABAnAAAyAAAAECcAAOgDAABkAAAAMgAAAAoAAAAyAAAACgAAAAoAAAD0AQAABQAAABAnAACghgEAAQAAAAoAAAAyAAAA9AEAAOgDAABAQg8AQEIPAOgDAADoAwAA6AMAAOgDAADoAwAACgAAAKCGAQAQJwAAZAAAAGQAAAABAAAAECcAAFDDAABkAAAAMgAAAOgDAAAQJwAAIKEHAFDDAAD0AQAAMgAAAGQAAAA=",
          "dtype": "i4"
         },
         "xaxis": "x",
         "y": {
          "bdata": "AAAAAEj/QkEAAAAAYDYuQQAAAAAAVsNAAAAAAMBj+EAAAAAAoGcbQQAAAAAAoGJAAAAAAABvw0AAAAAAAJCaQAEAAAAAM91AAAAAAABWw0AAAAAAgCv4QGdmZmZm5jhAAAAAAACQmkAAAAAAAFazQAAAAAAASIdAAAAAAABIh0AAAAAA4D8SQQAAAAAAdKNAAAAAAABWw0AAAAAAwBDhQAAAAAAA4GhAzczMzMzMHUAAAAAAAMBYQAAAAAAASJdAAAAAAADAWEDNzMzMzMwtQAAAAAAASIdA16NwPQrX9z8AAAAAAKBiQM3MzMzMzCNAAAAAAAAAAAAAAAAAAKBiQAAAAAAAoGJA16NwPQrX9z8AAAAAAMBYQAAAAAAAGr1AAAAAAADAWEAAAAAAAH6zQAAAAAAAGJ9AAAAAAABv00AAAAAAAFbDQAAAAAAAsGJAAAAAAABWw0AAAAAAAEiXQAAAAAAAwFhAAAAAAADASEDNzMzMzMwjQAAAAAAAwEhAzczMzMzMI0DNzMzMzMwjQAAAAAAASIdAzczMzMzME0AAAAAAAFbDQAAAAADASghBrkfhehSu7z/NzMzMzMwjQP//////T25AAAAAAABAj0AAAAAAAPCOQAAAAABI/0JBAAAAAGA2LkEAAAAAAPCOQAAAAAAAfrNAAAAAAADwjkAAAAAAAPCOQAAAAAAA8I5AzczMzMzMI0AAAAAA4HQeQQAAAAAAb9NAAAAAAADAWEABAAAAACBvQK5H4XoUru8/AAAAAABv00ABAAAAQGX+QAAAAAAAoGJAAAAAAADASEAAAAAAACyvQAAAAAAAVsNAAAAAAEj/MkEAAAAAgCvoQAAAAAAA8H5AAAAAAADASEAAAAAAAMBYQA==",
          "dtype": "f8"
         },
         "yaxis": "y"
        },
        {
         "hovertemplate": "<b>OLS trendline</b><br>Revenue = 1.78637 * Installs + 10636.1<br>R<sup>2</sup>=0.830871<br><br>App Category=PERSONALIZATION<br>Number of Installs=%{x}<br>Revenue (USD)=%{y} <b>(trend)</b><extra></extra>",
         "legendgroup": "PERSONALIZATION",
         "marker": {
          "color": "#00cc96",
          "symbol": "circle"
         },
         "mode": "lines",
         "name": "PERSONALIZATION",
         "showlegend": false,
         "type": "scatter",
         "x": {
          "bdata": "AAAAAAEAAAABAAAAAQAAAAEAAAAFAAAABQAAAAoAAAAKAAAACgAAAAoAAAAKAAAACgAAAAoAAAAKAAAAMgAAADIAAAAyAAAAMgAAADIAAAAyAAAAZAAAAGQAAABkAAAAZAAAAGQAAABkAAAAZAAAAGQAAABkAAAAZAAAAGQAAABkAAAAZAAAAGQAAAD0AQAA9AEAAPQBAAD0AQAA9AEAAPQBAADoAwAA6AMAAOgDAADoAwAA6AMAAOgDAADoAwAA6AMAAOgDAADoAwAA6AMAAOgDAADoAwAA6AMAAIgTAACIEwAAiBMAAIgTAAAQJwAAECcAABAnAAAQJwAAECcAABAnAAAQJwAAECcAABAnAAAQJwAAECcAABAnAABQwwAAUMMAAKCGAQCghgEAoIYBAKCGAQCghgEAIKEHAEBCDwBAQg8AQEIPAEBCDwA=",
          "dtype": "i4"
         },
         "xaxis": "x",
         "y": {
          "bdata": "0iuspgrGxEAwJXNO78bEQDAlc07vxsRAMCVzTu/GxEAwJXNO78bEQKYKj+2BysRApgqP7YHKxEB56XE0+c7EQHnpcTT5zsRAeelxNPnOxEB56XE0+c7EQHnpcTT5zsRAeelxNPnOxEB56XE0+c7EQHnpcTT5zsRAFeCIa7PyxEAV4Ihrs/LEQBXgiGuz8sRAFeCIa7PyxEAV4Ihrs/LEQBXgiGuz8sRAWZRlMFwfxUBZlGUwXB/FQFmUZTBcH8VAWZRlMFwfxUBZlGUwXB/FQFmUZTBcH8VAWZRlMFwfxUBZlGUwXB/FQFmUZTBcH8VAWZRlMFwfxUBZlGUwXB/FQFmUZTBcH8VAWZRlMFwfxUBZlGUwXB/FQHU2S1eihMZAdTZLV6KExkB1NktXooTGQHU2S1eihMZAdTZLV6KExkB1NktXooTGQBhB6gc6Q8hAGEHqBzpDyEAYQeoHOkPIQBhB6gc6Q8hAGEHqBzpDyEAYQeoHOkPIQBhB6gc6Q8hAGEHqBzpDyEAYQeoHOkPIQBhB6gc6Q8hAGEHqBzpDyEAYQeoHOkPIQBhB6gc6Q8hAGEHqBzpDyEAXS3HG+xvTQBdLccb7G9NAF0txxvsb00AXS3HG+xvTQEWAjDny1NtARYCMOfLU20BFgIw58tTbQEWAjDny1NtARYCMOfLU20BFgIw58tTbQEWAjDny1NtARYCMOfLU20BFgIw58tTbQEWAjDny1NtARYCMOfLU20BFgIw58tTbQG2KmXQpZ/hAbYqZdCln+ECwxy7KyBoHQbDHLsrIGgdBsMcuysgaB0Gwxy7KyBoHQbDHLsrIGgdB3rZPUhqVK0GHXgI9jms7QYdeAj2OaztBh14CPY5rO0GHXgI9jms7QQ==",
          "dtype": "f8"
         },
         "yaxis": "y"
        },
        {
         "customdata": [
          [
           "PRODUCTIVITY"
          ],
          [
           "PRODUCTIVITY"
          ],
          [
           "PRODUCTIVITY"
          ],
          [
           "PRODUCTIVITY"
          ],
          [
           "PRODUCTIVITY"
          ],
          [
           "PRODUCTIVITY"
          ],
          [
           "PRODUCTIVITY"
          ],
          [
           "PRODUCTIVITY"
          ],
          [
           "PRODUCTIVITY"
          ],
          [
           "PRODUCTIVITY"
          ],
          [
           "PRODUCTIVITY"
          ],
          [
           "PRODUCTIVITY"
          ],
          [
           "PRODUCTIVITY"
          ],
          [
           "PRODUCTIVITY"
          ],
          [
           "PRODUCTIVITY"
          ],
          [
           "PRODUCTIVITY"
          ],
          [
           "PRODUCTIVITY"
          ],
          [
           "PRODUCTIVITY"
          ],
          [
           "PRODUCTIVITY"
          ],
          [
           "PRODUCTIVITY"
          ],
          [
           "PRODUCTIVITY"
          ],
          [
           "PRODUCTIVITY"
          ],
          [
           "PRODUCTIVITY"
          ],
          [
           "PRODUCTIVITY"
          ],
          [
           "PRODUCTIVITY"
          ],
          [
           "PRODUCTIVITY"
          ],
          [
           "PRODUCTIVITY"
          ],
          [
           "PRODUCTIVITY"
          ]
         ],
         "hovertemplate": "App Category=%{customdata[0]}<br>Number of Installs=%{x}<br>Revenue (USD)=%{marker.size}<extra></extra>",
         "legendgroup": "PRODUCTIVITY",
         "marker": {
          "color": "#ab63fa",
          "line": {
           "color": "DarkSlateGrey",
           "width": 1
          },
          "opacity": 0.7,
          "size": {
           "bdata": "AAAAALBHIkEAAAAAALByQAAAAAAAXKdAAAAAAABIhEAAAAAAACiUQAAAAAAA8I5AZ2ZmZmbmPUAAAAAA4HQeQc3MzMzMzCNAAAAAAKBnG0EAAAAAAAAAAAAAAAAAMH9AzczMzMzME0AAAAAAcF0uQQAAAACAe9NAAAAAAACPsUBnZmZmZuY9QGdmZmZm5j1AAAAAAADAWEDNzMzMzMwjQAAAAAAAlcBAAAAAAADCsEAAAAAAAEBgQAAAAABAMPJAAAAAANjPNkEAAAAAAOBYQAAAAADgPwJBAAAAAAA2v0A=",
           "dtype": "f8"
          },
          "sizemode": "area",
          "sizeref": 174750,
          "symbol": "circle"
         },
         "mode": "markers",
         "name": "PRODUCTIVITY",
         "orientation": "v",
         "showlegend": true,
         "type": "scatter",
         "x": {
          "bdata": "oIYBAGQAAADoAwAAZAAAAOgDAADoAwAACgAAAKCGAQAKAAAAoIYBAAAAAABkAAAABQAAACChBwCIEwAA9AEAAAoAAAAKAAAAZAAAAAoAAADoAwAA6AMAADIAAABQwwAAIKEHADIAAABQwwAA6AMAAA==",
          "dtype": "i4"
         },
         "xaxis": "x",
         "y": {
          "bdata": "AAAAALBHIkEAAAAAALByQAAAAAAAXKdAAAAAAABIhEAAAAAAACiUQAAAAAAA8I5AZ2ZmZmbmPUAAAAAA4HQeQc3MzMzMzCNAAAAAAKBnG0EAAAAAAAAAAAAAAAAAMH9AzczMzMzME0AAAAAAcF0uQQAAAACAe9NAAAAAAACPsUBnZmZmZuY9QGdmZmZm5j1AAAAAAADAWEDNzMzMzMwjQAAAAAAAlcBAAAAAAADCsEAAAAAAAEBgQAAAAABAMPJAAAAAANjPNkEAAAAAAOBYQAAAAADgPwJBAAAAAAA2v0A=",
          "dtype": "f8"
         },
         "yaxis": "y"
        },
        {
         "hovertemplate": "<b>OLS trendline</b><br>Revenue = 2.5732 * Installs + 24281.3<br>R<sup>2</sup>=0.903678<br><br>App Category=PRODUCTIVITY<br>Number of Installs=%{x}<br>Revenue (USD)=%{y} <b>(trend)</b><extra></extra>",
         "legendgroup": "PRODUCTIVITY",
         "marker": {
          "color": "#ab63fa",
          "symbol": "circle"
         },
         "mode": "lines",
         "name": "PRODUCTIVITY",
         "showlegend": false,
         "type": "scatter",
         "x": {
          "bdata": "AAAAAAUAAAAKAAAACgAAAAoAAAAKAAAACgAAADIAAAAyAAAAZAAAAGQAAABkAAAAZAAAAPQBAADoAwAA6AMAAOgDAADoAwAA6AMAAOgDAACIEwAAUMMAAFDDAACghgEAoIYBAKCGAQAgoQcAIKEHAA==",
          "dtype": "i4"
         },
         "xaxis": "x",
         "y": {
          "bdata": "5PJZh1W210BEpcHzjLnXQKRXKWDEvNdApFcpYMS810CkVylgxLzXQKRXKWDEvNdApFcpYMS810Cj6mbDf9bXQKPqZsN/1tdAYuJz/6n210Bi4nP/qfbXQGLic/+p9tdAYuJz/6n210BcoNvf+/fYQNRNXTiiOdpA1E1dOKI52kDUTV04ojnaQNRNXTiiOdpA1E1dOKI52kDUTV04ojnaQMlcNX5qI+JAtzZAA2qrAkG3NkADaqsCQYmXyqoEMBFBiZfKqgQwEUGJl8qqBDARQT2eB32gADRBPZ4HfaAANEE=",
          "dtype": "f8"
         },
         "yaxis": "y"
        },
        {
         "customdata": [
          [
           "WEATHER"
          ],
          [
           "WEATHER"
          ],
          [
           "WEATHER"
          ],
          [
           "WEATHER"
          ],
          [
           "WEATHER"
          ],
          [
           "WEATHER"
          ],
          [
           "WEATHER"
          ],
          [
           "WEATHER"
          ]
         ],
         "hovertemplate": "App Category=%{customdata[0]}<br>Number of Installs=%{x}<br>Revenue (USD)=%{marker.size}<extra></extra>",
         "legendgroup": "WEATHER",
         "marker": {
          "color": "#FFA15A",
          "line": {
           "color": "DarkSlateGrey",
           "width": 1
          },
          "opacity": 0.7,
          "size": {
           "bdata": "AAAAAKBnG0EAAAAAnNlGQQAAAAAAGI9AAQAAAAAz3UAAAAAA4D8SQQAAAAAAXJdAAAAAAGBaGEEAAAAAAE67QA==",
           "dtype": "f8"
          },
          "sizemode": "area",
          "sizeref": 174750,
          "symbol": "circle"
         },
         "mode": "markers",
         "name": "WEATHER",
         "orientation": "v",
         "showlegend": true,
         "type": "scatter",
         "x": {
          "bdata": "oIYBACChBwD0AQAAECcAAKCGAQD0AQAAoIYBAOgDAAA=",
          "dtype": "i4"
         },
         "xaxis": "x",
         "y": {
          "bdata": "AAAAAKBnG0EAAAAAnNlGQQAAAAAAGI9AAQAAAAAz3UAAAAAA4D8SQQAAAAAAXJdAAAAAAGBaGEEAAAAAAE67QA==",
          "dtype": "f8"
         },
         "yaxis": "y"
        },
        {
         "hovertemplate": "<b>OLS trendline</b><br>Revenue = 6.0101 * Installs + -87352.4<br>R<sup>2</sup>=0.986857<br><br>App Category=WEATHER<br>Number of Installs=%{x}<br>Revenue (USD)=%{y} <b>(trend)</b><extra></extra>",
         "legendgroup": "WEATHER",
         "marker": {
          "color": "#FFA15A",
          "symbol": "circle"
         },
         "mode": "lines",
         "name": "WEATHER",
         "showlegend": false,
         "type": "scatter",
         "x": {
          "bdata": "9AEAAPQBAADoAwAAECcAAKCGAQCghgEAoIYBACChBwA=",
          "dtype": "i4"
         },
         "xaxis": "x",
         "y": {
          "bdata": "p7RBBLaX9MCntEEEtpf0wLp6/zvl2/PAZqBdndyc2sCLVM5p5VkfQYtUzmnlWR9Bi1TOaeVZH0GpcrE7oEJGQQ==",
          "dtype": "f8"
         },
         "yaxis": "y"
        },
        {
         "customdata": [
          [
           "TOOLS"
          ],
          [
           "TOOLS"
          ],
          [
           "TOOLS"
          ],
          [
           "TOOLS"
          ],
          [
           "TOOLS"
          ],
          [
           "TOOLS"
          ],
          [
           "TOOLS"
          ],
          [
           "TOOLS"
          ],
          [
           "TOOLS"
          ],
          [
           "TOOLS"
          ],
          [
           "TOOLS"
          ],
          [
           "TOOLS"
          ],
          [
           "TOOLS"
          ],
          [
           "TOOLS"
          ],
          [
           "TOOLS"
          ],
          [
           "TOOLS"
          ],
          [
           "TOOLS"
          ],
          [
           "TOOLS"
          ],
          [
           "TOOLS"
          ],
          [
           "TOOLS"
          ],
          [
           "TOOLS"
          ],
          [
           "TOOLS"
          ],
          [
           "TOOLS"
          ],
          [
           "TOOLS"
          ],
          [
           "TOOLS"
          ],
          [
           "TOOLS"
          ],
          [
           "TOOLS"
          ],
          [
           "TOOLS"
          ],
          [
           "TOOLS"
          ],
          [
           "TOOLS"
          ],
          [
           "TOOLS"
          ],
          [
           "TOOLS"
          ],
          [
           "TOOLS"
          ],
          [
           "TOOLS"
          ],
          [
           "TOOLS"
          ],
          [
           "TOOLS"
          ],
          [
           "TOOLS"
          ],
          [
           "TOOLS"
          ],
          [
           "TOOLS"
          ],
          [
           "TOOLS"
          ],
          [
           "TOOLS"
          ],
          [
           "TOOLS"
          ],
          [
           "TOOLS"
          ],
          [
           "TOOLS"
          ],
          [
           "TOOLS"
          ],
          [
           "TOOLS"
          ],
          [
           "TOOLS"
          ],
          [
           "TOOLS"
          ],
          [
           "TOOLS"
          ],
          [
           "TOOLS"
          ],
          [
           "TOOLS"
          ],
          [
           "TOOLS"
          ],
          [
           "TOOLS"
          ],
          [
           "TOOLS"
          ],
          [
           "TOOLS"
          ],
          [
           "TOOLS"
          ],
          [
           "TOOLS"
          ],
          [
           "TOOLS"
          ],
          [
           "TOOLS"
          ],
          [
           "TOOLS"
          ],
          [
           "TOOLS"
          ],
          [
           "TOOLS"
          ],
          [
           "TOOLS"
          ],
          [
           "TOOLS"
          ],
          [
           "TOOLS"
          ],
          [
           "TOOLS"
          ],
          [
           "TOOLS"
          ],
          [
           "TOOLS"
          ],
          [
           "TOOLS"
          ],
          [
           "TOOLS"
          ],
          [
           "TOOLS"
          ],
          [
           "TOOLS"
          ],
          [
           "TOOLS"
          ],
          [
           "TOOLS"
          ],
          [
           "TOOLS"
          ],
          [
           "TOOLS"
          ],
          [
           "TOOLS"
          ],
          [
           "TOOLS"
          ]
         ],
         "hovertemplate": "App Category=%{customdata[0]}<br>Number of Installs=%{x}<br>Revenue (USD)=%{marker.size}<extra></extra>",
         "legendgroup": "TOOLS",
         "marker": {
          "color": "#19d3f3",
          "line": {
           "color": "DarkSlateGrey",
           "width": 1
          },
          "opacity": 0.7,
          "size": {
           "bdata": "AAAAAADgaEAAAAAAgF3YQAAAAAAASJdAAAAAAGBM8kBmZmZmZj5wQAAAAAAAuIJAAAAAAABWw0AAAAAAAABWQAEAAAAAM91AAAAAAABWs0AAAAAAACyvQAAAAAAAb9NAAAAAAABq2EAAAAAAAG/TQAEAAAAAM91AAQAAAAAz3UDNzMzMzMwjQAAAAAAAMH9AAAAAAACwckBnZmZmZuY9QAAAAAAAdKNAAAAAAAAYn0AAAAAAAOBoQAAAAAAAVrNAAQAAAEBlDkEAAAAAAG/TQAAAAAAA4FhAAAAAAADweEAAAAAAACyfQAAAAAAALJ9AzczMzMzMI0DNzMzMzMwjQAAAAAAA8I5AAAAAAABL2UCamZmZmXlGQAEAAAAAM91AAAAAAADwjkAAAAAAAMBYQAAAAAAA8H5AAAAAAADwfkAAAAAAAEiXQAAAAABgWhhBAAAAAAAL40AAAAAA4D8CQc3MzMzMzCNAzczMzMzMLUAAAAAAAPB+QAAAAAAA4GhAAAAAAABmt0AAAAAAALBiQM3MzMzMzCNA16NwPQrX9z8AAAAAAPB4QAAAAAAAfrNAAAAAAOA/AkHNzMzMzMwTQAAAAAAABOBAAAAAAIBd6EAAAAAAAPCOQAAAAAAAuIJAAAAAAABHzUAAAAAAABiPQAAAAAAAz9xAAAAAAAA900AAAAAAoGcbQQAAAADYz0ZBAAAAAIBd2EAAAAAAAH6zQAAAAACAXdhAAAAAAIBd2EAAAAAAgF3YQAAAAACAXdhAAAAAAACgYkAAAAAAAG/TQAAAAAAAXKdAAAAAAACIs0AAAAAAAKBiQAAAAAAgTRVB",
           "dtype": "f8"
          },
          "sizemode": "area",
          "sizeref": 174750,
          "symbol": "circle"
         },
         "mode": "markers",
         "name": "TOOLS",
         "orientation": "v",
         "showlegend": true,
         "type": "scatter",
         "x": {
          "bdata": "ZAAAAIgTAADoAwAAiBMAAAoAAABkAAAAECcAADIAAAAQJwAAiBMAAOgDAAAQJwAAECcAABAnAAAQJwAAECcAAAoAAABkAAAAZAAAAAoAAADoAwAA6AMAAGQAAACIEwAAoIYBABAnAAAyAAAAZAAAAPQBAAD0AQAACgAAAAoAAADoAwAAECcAAAUAAAAQJwAA6AMAAGQAAAD0AQAA9AEAAOgDAACghgEAECcAAFDDAAAKAAAACgAAAPQBAABkAAAA6AMAADIAAAAKAAAAAQAAAGQAAADoAwAAUMMAAAUAAAAQJwAAECcAAOgDAABkAAAA6AMAAPQBAAAQJwAAECcAAKCGAQBAQg8AiBMAAOgDAACIEwAAiBMAAIgTAACIEwAAZAAAABAnAADoAwAAiBMAAGQAAACghgEA",
          "dtype": "i4"
         },
         "xaxis": "x",
         "y": {
          "bdata": "AAAAAADgaEAAAAAAgF3YQAAAAAAASJdAAAAAAGBM8kBmZmZmZj5wQAAAAAAAuIJAAAAAAABWw0AAAAAAAABWQAEAAAAAM91AAAAAAABWs0AAAAAAACyvQAAAAAAAb9NAAAAAAABq2EAAAAAAAG/TQAEAAAAAM91AAQAAAAAz3UDNzMzMzMwjQAAAAAAAMH9AAAAAAACwckBnZmZmZuY9QAAAAAAAdKNAAAAAAAAYn0AAAAAAAOBoQAAAAAAAVrNAAQAAAEBlDkEAAAAAAG/TQAAAAAAA4FhAAAAAAADweEAAAAAAACyfQAAAAAAALJ9AzczMzMzMI0DNzMzMzMwjQAAAAAAA8I5AAAAAAABL2UCamZmZmXlGQAEAAAAAM91AAAAAAADwjkAAAAAAAMBYQAAAAAAA8H5AAAAAAADwfkAAAAAAAEiXQAAAAABgWhhBAAAAAAAL40AAAAAA4D8CQc3MzMzMzCNAzczMzMzMLUAAAAAAAPB+QAAAAAAA4GhAAAAAAABmt0AAAAAAALBiQM3MzMzMzCNA16NwPQrX9z8AAAAAAPB4QAAAAAAAfrNAAAAAAOA/AkHNzMzMzMwTQAAAAAAABOBAAAAAAIBd6EAAAAAAAPCOQAAAAAAAuIJAAAAAAABHzUAAAAAAABiPQAAAAAAAz9xAAAAAAAA900AAAAAAoGcbQQAAAADYz0ZBAAAAAIBd2EAAAAAAAH6zQAAAAACAXdhAAAAAAIBd2EAAAAAAgF3YQAAAAACAXdhAAAAAAACgYkAAAAAAAG/TQAAAAAAAXKdAAAAAAACIs0AAAAAAAKBiQAAAAAAgTRVB",
          "dtype": "f8"
         },
         "yaxis": "y"
        },
        {
         "hovertemplate": "<b>OLS trendline</b><br>Revenue = 3.00819 * Installs + 3440.43<br>R<sup>2</sup>=0.995405<br><br>App Category=TOOLS<br>Number of Installs=%{x}<br>Revenue (USD)=%{y} <b>(trend)</b><extra></extra>",
         "legendgroup": "TOOLS",
         "marker": {
          "color": "#19d3f3",
          "symbol": "circle"
         },
         "mode": "lines",
         "name": "TOOLS",
         "showlegend": false,
         "type": "scatter",
         "x": {
          "bdata": "AQAAAAUAAAAFAAAACgAAAAoAAAAKAAAACgAAAAoAAAAKAAAACgAAAAoAAAAyAAAAMgAAADIAAABkAAAAZAAAAGQAAABkAAAAZAAAAGQAAABkAAAAZAAAAGQAAABkAAAAZAAAAGQAAAD0AQAA9AEAAPQBAAD0AQAA9AEAAPQBAADoAwAA6AMAAOgDAADoAwAA6AMAAOgDAADoAwAA6AMAAOgDAADoAwAA6AMAAOgDAADoAwAAiBMAAIgTAACIEwAAiBMAAIgTAACIEwAAiBMAAIgTAACIEwAAiBMAABAnAAAQJwAAECcAABAnAAAQJwAAECcAABAnAAAQJwAAECcAABAnAAAQJwAAECcAABAnAAAQJwAAECcAABAnAABQwwAAUMMAAKCGAQCghgEAoIYBAKCGAQBAQg8A",
          "dtype": "i4"
         },
         "xaxis": "x",
         "y": {
          "bdata": "LsZLt97mqkDnfSt87/6qQOd9K3zv/qpAjiNDcgQdq0COI0NyBB2rQI4jQ3IEHatAjiNDcgQdq0COI0NyBB2rQI4jQ3IEHatAjiNDcgQdq0COI0NyBB2rQMhQACOsDaxAyFAAI6wNrEDIUAAjrA2sQE/J7L99Oq1AT8nsv306rUBPyey/fTqtQE/J7L99Oq1AT8nsv306rUBPyey/fTqtQE/J7L99Oq1AT8nsv306rUBPyey/fTqtQE/J7L99Oq1AT8nsv306rUBPyey/fTqtQMZGqFOFULNAxkaoU4VQs0DGRqhThVCzQMZGqFOFULNAxkaoU4VQs0DGRqhThVCzQGuhRmSdMLlAa6FGZJ0wuUBroUZknTC5QGuhRmSdMLlAa6FGZJ0wuUBroUZknTC5QGuhRmSdMLlAa6FGZJ0wuUBroUZknTC5QGuhRmSdMLlAa6FGZJ0wuUBroUZknTC5QGuhRmSdMLlApl1OelcM0kCmXU56VwzSQKZdTnpXDNJApl1OelcM0kCmXU56VwzSQKZdTnpXDNJApl1OelcM0kCmXU56VwzSQKZdTnpXDNJApl1OelcM0kAiIO3RSV7gQCIg7dFJXuBAIiDt0Ule4EAiIO3RSV7gQCIg7dFJXuBAIiDt0Ule4EAiIO3RSV7gQCIg7dFJXuBAIiDt0Ule4EAiIO3RSV7gQCIg7dFJXuBAIiDt0Ule4EAiIO3RSV7gQCIg7dFJXuBAIiDt0Ule4EAiIO3RSV7gQKcqB57OxwJBpyoHns7HAkH2AvvoDJISQfYC++gMkhJB9gL76AySEkH2AvvoDJISQQ0XjDcW+kZB",
          "dtype": "f8"
         },
         "yaxis": "y"
        },
        {
         "customdata": [
          [
           "TRAVEL_AND_LOCAL"
          ],
          [
           "TRAVEL_AND_LOCAL"
          ],
          [
           "TRAVEL_AND_LOCAL"
          ],
          [
           "TRAVEL_AND_LOCAL"
          ],
          [
           "TRAVEL_AND_LOCAL"
          ],
          [
           "TRAVEL_AND_LOCAL"
          ],
          [
           "TRAVEL_AND_LOCAL"
          ],
          [
           "TRAVEL_AND_LOCAL"
          ],
          [
           "TRAVEL_AND_LOCAL"
          ],
          [
           "TRAVEL_AND_LOCAL"
          ],
          [
           "TRAVEL_AND_LOCAL"
          ],
          [
           "TRAVEL_AND_LOCAL"
          ]
         ],
         "hovertemplate": "App Category=%{customdata[0]}<br>Number of Installs=%{x}<br>Revenue (USD)=%{marker.size}<extra></extra>",
         "legendgroup": "TRAVEL_AND_LOCAL",
         "marker": {
          "color": "#FF6692",
          "line": {
           "color": "DarkSlateGrey",
           "width": 1
          },
          "opacity": 0.7,
          "size": {
           "bdata": "AAAAAHBvK0EAAAAAAJXAQM3MzMzMzC1AAAAAAIB700ABAAAAQGX+QAAAAAAAMG9AAQAAAAAzzUAAAAAAAAAAAAAAAAAAGJ9AAAAAAAAApEAAAAAAgD/tQAAAAAAAb9NA",
           "dtype": "f8"
          },
          "sizemode": "area",
          "sizeref": 174750,
          "symbol": "circle"
         },
         "mode": "markers",
         "name": "TRAVEL_AND_LOCAL",
         "orientation": "v",
         "showlegend": true,
         "type": "scatter",
         "x": {
          "bdata": "oIYBAOgDAAAKAAAAiBMAAFDDAAAyAAAAiBMAAAAAAADoAwAA6AMAABAnAAAQJwAA",
          "dtype": "i4"
         },
         "xaxis": "x",
         "y": {
          "bdata": "AAAAAHBvK0EAAAAAAJXAQM3MzMzMzC1AAAAAAIB700ABAAAAQGX+QAAAAAAAMG9AAQAAAAAzzUAAAAAAAAAAAAAAAAAAGJ9AAAAAAAAApEAAAAAAgD/tQAAAAAAAb9NA",
          "dtype": "f8"
         },
         "yaxis": "y"
        },
        {
         "hovertemplate": "<b>OLS trendline</b><br>Revenue = 7.98604 * Installs + -25868.4<br>R<sup>2</sup>=0.884874<br><br>App Category=TRAVEL_AND_LOCAL<br>Number of Installs=%{x}<br>Revenue (USD)=%{y} <b>(trend)</b><extra></extra>",
         "legendgroup": "TRAVEL_AND_LOCAL",
         "marker": {
          "color": "#FF6692",
          "symbol": "circle"
         },
         "mode": "lines",
         "name": "TRAVEL_AND_LOCAL",
         "showlegend": false,
         "type": "scatter",
         "x": {
          "bdata": "AAAAAAoAAAAyAAAA6AMAAOgDAADoAwAAiBMAAIgTAAAQJwAAECcAAFDDAACghgEA",
          "dtype": "i4"
         },
         "xaxis": "x",
         "y": {
          "bdata": "Yq1T8BdD2cDudivfIC/ZwCCdippE39jANGiePJV20cA0aJ48lXbRwDRonjyVdtHABFltJOt2y0AEWW0k63bLQDODYIoBXepAM4NgigFd6kBZPZHy5soWQcTaE7L/lCdB",
          "dtype": "f8"
         },
         "yaxis": "y"
        },
        {
         "customdata": [
          [
           "LIFESTYLE"
          ],
          [
           "LIFESTYLE"
          ],
          [
           "LIFESTYLE"
          ],
          [
           "LIFESTYLE"
          ],
          [
           "LIFESTYLE"
          ],
          [
           "LIFESTYLE"
          ],
          [
           "LIFESTYLE"
          ],
          [
           "LIFESTYLE"
          ],
          [
           "LIFESTYLE"
          ],
          [
           "LIFESTYLE"
          ],
          [
           "LIFESTYLE"
          ],
          [
           "LIFESTYLE"
          ],
          [
           "LIFESTYLE"
          ],
          [
           "LIFESTYLE"
          ],
          [
           "LIFESTYLE"
          ],
          [
           "LIFESTYLE"
          ],
          [
           "LIFESTYLE"
          ],
          [
           "LIFESTYLE"
          ],
          [
           "LIFESTYLE"
          ]
         ],
         "hovertemplate": "App Category=%{customdata[0]}<br>Number of Installs=%{x}<br>Revenue (USD)=%{marker.size}<extra></extra>",
         "legendgroup": "LIFESTYLE",
         "marker": {
          "color": "#B6E880",
          "line": {
           "color": "DarkSlateGrey",
           "width": 1
          },
          "opacity": 0.7,
          "size": {
           "bdata": "AAAAAABWs0AAAAAAAG/DQAAAAABOhE5BAAAAAICETkEAAAAAgHvTQAEAAAAAUdhAAAAAwLASg0EAAAAALuNGQQAAAABYMRdBAAAAAMCM4kABAAAAAFHIQAAAAACc2VZBAAAAAAB+s0ABAAAAADPNQAAAAAAAwFhAAAAAAMCB80BmZmZmZmY+QAAAAAAAfrNAAAAAAAAAAAA=",
           "dtype": "f8"
          },
          "sizemode": "area",
          "sizeref": 174750,
          "symbol": "circle"
         },
         "mode": "markers",
         "name": "LIFESTYLE",
         "orientation": "v",
         "showlegend": true,
         "type": "scatter",
         "x": {
          "bdata": "iBMAAIgTAAAQJwAAECcAAIgTAAAQJwAAoIYBABAnAADoAwAA6AMAAIgTAABAQg8A6AMAAIgTAABkAAAAECcAAAoAAADoAwAAAAAAAA==",
          "dtype": "i4"
         },
         "xaxis": "x",
         "y": {
          "bdata": "AAAAAABWs0AAAAAAAG/DQAAAAABOhE5BAAAAAICETkEAAAAAgHvTQAEAAAAAUdhAAAAAwLASg0EAAAAALuNGQQAAAABYMRdBAAAAAMCM4kABAAAAAFHIQAAAAACc2VZBAAAAAAB+s0ABAAAAADPNQAAAAAAAwFhAAAAAAMCB80BmZmZmZmY+QAAAAAAAfrNAAAAAAAAAAAA=",
          "dtype": "f8"
         },
         "yaxis": "y"
        },
        {
         "hovertemplate": "<b>OLS trendline</b><br>Revenue = 6.96366 * Installs + 2.59858e+06<br>R<sup>2</sup>=0.030257<br><br>App Category=LIFESTYLE<br>Number of Installs=%{x}<br>Revenue (USD)=%{y} <b>(trend)</b><extra></extra>",
         "legendgroup": "LIFESTYLE",
         "marker": {
          "color": "#B6E880",
          "symbol": "circle"
         },
         "mode": "lines",
         "name": "LIFESTYLE",
         "showlegend": false,
         "type": "scatter",
         "x": {
          "bdata": "AAAAAAoAAABkAAAA6AMAAOgDAADoAwAA6AMAAIgTAACIEwAAiBMAAIgTAACIEwAAECcAABAnAAAQJwAAECcAABAnAACghgEAQEIPAA==",
          "dtype": "i4"
         },
         "xaxis": "x",
         "y": {
          "bdata": "TiXvDlrTQ0F5J2rgfNNDQfs6vT221ENBFP774vPgQ0EU/vvi8+BDQRT+++Lz4ENBFP774vPgQ0ErYS8zWxdEQSthLzNbF0RBK2EvM1sXREErYS8zWxdEQSthLzNbF0RBB51vV1xbREEHnW9XXFtEQQedb1dcW0RBB51vV1xbREEHnW9XXFtEQYvS8+NwI0lBbHpHmA89YkE=",
          "dtype": "f8"
         },
         "yaxis": "y"
        },
        {
         "customdata": [
          [
           "AUTO_AND_VEHICLES"
          ],
          [
           "AUTO_AND_VEHICLES"
          ],
          [
           "AUTO_AND_VEHICLES"
          ]
         ],
         "hovertemplate": "App Category=%{customdata[0]}<br>Number of Installs=%{x}<br>Revenue (USD)=%{marker.size}<extra></extra>",
         "legendgroup": "AUTO_AND_VEHICLES",
         "marker": {
          "color": "#FF97FF",
          "line": {
           "color": "DarkSlateGrey",
           "width": 1
          },
          "opacity": 0.7,
          "size": {
           "bdata": "AAAAAMBK+EAAAAAAADh/QAAAAAAAoGJA",
           "dtype": "f8"
          },
          "sizemode": "area",
          "sizeref": 174750,
          "symbol": "circle"
         },
         "mode": "markers",
         "name": "AUTO_AND_VEHICLES",
         "orientation": "v",
         "showlegend": true,
         "type": "scatter",
         "x": {
          "bdata": "UMMAADIAAABkAAAA",
          "dtype": "i4"
         },
         "xaxis": "x",
         "y": {
          "bdata": "AAAAAMBK+EAAAAAAADh/QAAAAAAAoGJA",
          "dtype": "f8"
         },
         "yaxis": "y"
        },
        {
         "hovertemplate": "<b>OLS trendline</b><br>Revenue = 1.98649 * Installs + 175.376<br>R<sup>2</sup>=0.999985<br><br>App Category=AUTO_AND_VEHICLES<br>Number of Installs=%{x}<br>Revenue (USD)=%{y} <b>(trend)</b><extra></extra>",
         "legendgroup": "AUTO_AND_VEHICLES",
         "marker": {
          "color": "#FF97FF",
          "symbol": "circle"
         },
         "mode": "lines",
         "name": "AUTO_AND_VEHICLES",
         "showlegend": false,
         "type": "scatter",
         "x": {
          "bdata": "MgAAAGQAAABQwwAA",
          "dtype": "i4"
         },
         "xaxis": "x",
         "y": {
          "bdata": "2KiN8TQrcUBcyUSuZWB3QIktYGW8SvhA",
          "dtype": "f8"
         },
         "yaxis": "y"
        },
        {
         "customdata": [
          [
           "NEWS_AND_MAGAZINES"
          ],
          [
           "NEWS_AND_MAGAZINES"
          ]
         ],
         "hovertemplate": "App Category=%{customdata[0]}<br>Number of Installs=%{x}<br>Revenue (USD)=%{marker.size}<extra></extra>",
         "legendgroup": "NEWS_AND_MAGAZINES",
         "marker": {
          "color": "#FECB52",
          "line": {
           "color": "DarkSlateGrey",
           "width": 1
          },
          "opacity": 0.7,
          "size": {
           "bdata": "AAAAAABWs0AAAAAAAFyXQA==",
           "dtype": "f8"
          },
          "sizemode": "area",
          "sizeref": 174750,
          "symbol": "circle"
         },
         "mode": "markers",
         "name": "NEWS_AND_MAGAZINES",
         "orientation": "v",
         "showlegend": true,
         "type": "scatter",
         "x": {
          "bdata": "iBP0AQ==",
          "dtype": "i2"
         },
         "xaxis": "x",
         "y": {
          "bdata": "AAAAAABWs0AAAAAAAFyXQA==",
          "dtype": "f8"
         },
         "yaxis": "y"
        },
        {
         "hovertemplate": "<b>OLS trendline</b><br>Revenue = 0.767778 * Installs + 1111.11<br>R<sup>2</sup>=1.000000<br><br>App Category=NEWS_AND_MAGAZINES<br>Number of Installs=%{x}<br>Revenue (USD)=%{y} <b>(trend)</b><extra></extra>",
         "legendgroup": "NEWS_AND_MAGAZINES",
         "marker": {
          "color": "#FECB52",
          "symbol": "circle"
         },
         "mode": "lines",
         "name": "NEWS_AND_MAGAZINES",
         "showlegend": false,
         "type": "scatter",
         "x": {
          "bdata": "9AGIEw==",
          "dtype": "i2"
         },
         "xaxis": "x",
         "y": {
          "bdata": "//////9bl0D//////1WzQA==",
          "dtype": "f8"
         },
         "yaxis": "y"
        },
        {
         "customdata": [
          [
           "SHOPPING"
          ],
          [
           "SHOPPING"
          ]
         ],
         "hovertemplate": "App Category=%{customdata[0]}<br>Number of Installs=%{x}<br>Revenue (USD)=%{marker.size}<extra></extra>",
         "legendgroup": "SHOPPING",
         "marker": {
          "color": "#636efa",
          "line": {
           "color": "DarkSlateGrey",
           "width": 1
          },
          "opacity": 0.7,
          "size": {
           "bdata": "AQAAAAAgb0ABAAAAADPdQA==",
           "dtype": "f8"
          },
          "sizemode": "area",
          "sizeref": 174750,
          "symbol": "circle"
         },
         "mode": "markers",
         "name": "SHOPPING",
         "orientation": "v",
         "showlegend": true,
         "type": "scatter",
         "x": {
          "bdata": "ZAAQJw==",
          "dtype": "i2"
         },
         "xaxis": "x",
         "y": {
          "bdata": "AQAAAAAgb0ABAAAAADPdQA==",
          "dtype": "f8"
         },
         "yaxis": "y"
        },
        {
         "hovertemplate": "<b>OLS trendline</b><br>Revenue = 2.99505 * Installs + -50.5051<br>R<sup>2</sup>=1.000000<br><br>App Category=SHOPPING<br>Number of Installs=%{x}<br>Revenue (USD)=%{y} <b>(trend)</b><extra></extra>",
         "legendgroup": "SHOPPING",
         "marker": {
          "color": "#636efa",
          "symbol": "circle"
         },
         "mode": "lines",
         "name": "SHOPPING",
         "showlegend": false,
         "type": "scatter",
         "x": {
          "bdata": "ZAAQJw==",
          "dtype": "i2"
         },
         "xaxis": "x",
         "y": {
          "bdata": "8v////8fb0ABAAAAADPdQA==",
          "dtype": "f8"
         },
         "yaxis": "y"
        },
        {
         "customdata": [
          [
           "BOOKS_AND_REFERENCE"
          ],
          [
           "BOOKS_AND_REFERENCE"
          ],
          [
           "BOOKS_AND_REFERENCE"
          ],
          [
           "BOOKS_AND_REFERENCE"
          ],
          [
           "BOOKS_AND_REFERENCE"
          ],
          [
           "BOOKS_AND_REFERENCE"
          ],
          [
           "BOOKS_AND_REFERENCE"
          ],
          [
           "BOOKS_AND_REFERENCE"
          ],
          [
           "BOOKS_AND_REFERENCE"
          ],
          [
           "BOOKS_AND_REFERENCE"
          ],
          [
           "BOOKS_AND_REFERENCE"
          ],
          [
           "BOOKS_AND_REFERENCE"
          ],
          [
           "BOOKS_AND_REFERENCE"
          ],
          [
           "BOOKS_AND_REFERENCE"
          ],
          [
           "BOOKS_AND_REFERENCE"
          ],
          [
           "BOOKS_AND_REFERENCE"
          ],
          [
           "BOOKS_AND_REFERENCE"
          ],
          [
           "BOOKS_AND_REFERENCE"
          ],
          [
           "BOOKS_AND_REFERENCE"
          ],
          [
           "BOOKS_AND_REFERENCE"
          ],
          [
           "BOOKS_AND_REFERENCE"
          ],
          [
           "BOOKS_AND_REFERENCE"
          ],
          [
           "BOOKS_AND_REFERENCE"
          ],
          [
           "BOOKS_AND_REFERENCE"
          ],
          [
           "BOOKS_AND_REFERENCE"
          ],
          [
           "BOOKS_AND_REFERENCE"
          ],
          [
           "BOOKS_AND_REFERENCE"
          ],
          [
           "BOOKS_AND_REFERENCE"
          ]
         ],
         "hovertemplate": "App Category=%{customdata[0]}<br>Number of Installs=%{x}<br>Revenue (USD)=%{marker.size}<extra></extra>",
         "legendgroup": "BOOKS_AND_REFERENCE",
         "marker": {
          "color": "#EF553B",
          "line": {
           "color": "DarkSlateGrey",
           "width": 1
          },
          "opacity": 0.7,
          "size": {
           "bdata": "AQAAAAAzzUAAAAAAAPB4QAAAAACA7OVAAAAAAADgVUAAAAAAABCoQJqZmZmZmTNANDMzMzPzTUA0MzMzM/NNQDQzMzMz801ANDMzMzNzS0D2KFyPwvUXQDQzMzMz8z1AzczMzMzMI0AAAAAAAPB+QAAAAAAAGJ9AZ2ZmZmbmPUAAAAAAAHbWQM3MzMzMzBNAAAAAAADwfkDNzMzMzAxCQDQzMzMzc0tAmpmZmZk5UEA0MzMzM/NNQJqZmZmZOVBAmpmZmZk5UECamZmZmTlQQDQzMzMz8z1ANDMzMzNzS0A=",
           "dtype": "f8"
          },
          "sizemode": "area",
          "sizeref": 174750,
          "symbol": "circle"
         },
         "mode": "markers",
         "name": "BOOKS_AND_REFERENCE",
         "orientation": "v",
         "showlegend": true,
         "type": "scatter",
         "x": {
          "bdata": "iBNkABAnMgDoAwoACgAKAAoACgABAAUACgD0AegDCgCIEwUA9AEKAAoACgAKAAoACgAKAAUACgA=",
          "dtype": "i2"
         },
         "xaxis": "x",
         "y": {
          "bdata": "AQAAAAAzzUAAAAAAAPB4QAAAAACA7OVAAAAAAADgVUAAAAAAABCoQJqZmZmZmTNANDMzMzPzTUA0MzMzM/NNQDQzMzMz801ANDMzMzNzS0D2KFyPwvUXQDQzMzMz8z1AzczMzMzMI0AAAAAAAPB+QAAAAAAAGJ9AZ2ZmZmbmPUAAAAAAAHbWQM3MzMzMzBNAAAAAAADwfkDNzMzMzAxCQDQzMzMzc0tAmpmZmZk5UEA0MzMzM/NNQJqZmZmZOVBAmpmZmZk5UECamZmZmTlQQDQzMzMz8z1ANDMzMzNzS0A=",
          "dtype": "f8"
         },
         "yaxis": "y"
        },
        {
         "hovertemplate": "<b>OLS trendline</b><br>Revenue = 4.27679 * Installs + -338.959<br>R<sup>2</sup>=0.976957<br><br>App Category=BOOKS_AND_REFERENCE<br>Number of Installs=%{x}<br>Revenue (USD)=%{y} <b>(trend)</b><extra></extra>",
         "legendgroup": "BOOKS_AND_REFERENCE",
         "marker": {
          "color": "#EF553B",
          "symbol": "circle"
         },
         "mode": "lines",
         "name": "BOOKS_AND_REFERENCE",
         "showlegend": false,
         "type": "scatter",
         "x": {
          "bdata": "AQAFAAUABQAKAAoACgAKAAoACgAKAAoACgAKAAoACgAKAAoACgAyAGQA9AH0AegD6AOIE4gTECc=",
          "dtype": "i2"
         },
         "xaxis": "x",
         "y": {
          "bdata": "ixKExOnqdMAipqrfMtlzwCKmqt8y2XPAIqaq3zLZc8Cf3ppBDoNywJ/emkEOg3LAn96aQQ6DcsCf3ppBDoNywJ/emkEOg3LAn96aQQ6DcsCf3ppBDoNywJ/emkEOg3LAn96aQQ6DcsCf3ppBDoNywJ/emkEOg3LAn96aQQ6DcsCf3ppBDoNywJ/emkEOg3LAn96aQQ6DcsAYinJEpUdfwGSiBG4TLlZAZeAbkL0dnEBl4BuQvR2cQBku03+ow65AGS7Tf6jDrkCpo7/HPo3UQKmjv8c+jdRAhRi7dp235EA=",
          "dtype": "f8"
         },
         "yaxis": "y"
        },
        {
         "customdata": [
          [
           "SOCIAL"
          ],
          [
           "SOCIAL"
          ],
          [
           "SOCIAL"
          ]
         ],
         "hovertemplate": "App Category=%{customdata[0]}<br>Number of Installs=%{x}<br>Revenue (USD)=%{marker.size}<extra></extra>",
         "legendgroup": "SOCIAL",
         "marker": {
          "color": "#00cc96",
          "line": {
           "color": "DarkSlateGrey",
           "width": 1
          },
          "opacity": 0.7,
          "size": {
           "bdata": "AAAAAADwjkAAAAAAAFazQAAAAAAAAAAA",
           "dtype": "f8"
          },
          "sizemode": "area",
          "sizeref": 174750,
          "symbol": "circle"
         },
         "mode": "markers",
         "name": "SOCIAL",
         "orientation": "v",
         "showlegend": true,
         "type": "scatter",
         "x": {
          "bdata": "6AOIEwAA",
          "dtype": "i2"
         },
         "xaxis": "x",
         "y": {
          "bdata": "AAAAAADwjkAAAAAAAFazQAAAAAAAAAAA",
          "dtype": "f8"
         },
         "yaxis": "y"
        },
        {
         "hovertemplate": "<b>OLS trendline</b><br>Revenue = 0.99 * Installs + 8.74023e-14<br>R<sup>2</sup>=1.000000<br><br>App Category=SOCIAL<br>Number of Installs=%{x}<br>Revenue (USD)=%{y} <b>(trend)</b><extra></extra>",
         "legendgroup": "SOCIAL",
         "marker": {
          "color": "#00cc96",
          "symbol": "circle"
         },
         "mode": "lines",
         "name": "SOCIAL",
         "showlegend": false,
         "type": "scatter",
         "x": {
          "bdata": "AADoA4gT",
          "dtype": "i2"
         },
         "xaxis": "x",
         "y": {
          "bdata": "AAAAAACaOD0CAAAAAPCOQAEAAAAAVrNA",
          "dtype": "f8"
         },
         "yaxis": "y"
        },
        {
         "customdata": [
          [
           "ART_AND_DESIGN"
          ],
          [
           "ART_AND_DESIGN"
          ],
          [
           "ART_AND_DESIGN"
          ]
         ],
         "hovertemplate": "App Category=%{customdata[0]}<br>Number of Installs=%{x}<br>Revenue (USD)=%{marker.size}<extra></extra>",
         "legendgroup": "ART_AND_DESIGN",
         "marker": {
          "color": "#ab63fa",
          "line": {
           "color": "DarkSlateGrey",
           "width": 1
          },
          "opacity": 0.7,
          "size": {
           "bdata": "AAAAAABvw0AAAAAAAG/TQAAAAAAAGJ9A",
           "dtype": "f8"
          },
          "sizemode": "area",
          "sizeref": 174750,
          "symbol": "circle"
         },
         "mode": "markers",
         "name": "ART_AND_DESIGN",
         "orientation": "v",
         "showlegend": true,
         "type": "scatter",
         "x": {
          "bdata": "iBMQJ+gD",
          "dtype": "i2"
         },
         "xaxis": "x",
         "y": {
          "bdata": "AAAAAABvw0AAAAAAAG/TQAAAAAAAGJ9A",
          "dtype": "f8"
         },
         "yaxis": "y"
        },
        {
         "hovertemplate": "<b>OLS trendline</b><br>Revenue = 1.99 * Installs + -1.85185e-13<br>R<sup>2</sup>=1.000000<br><br>App Category=ART_AND_DESIGN<br>Number of Installs=%{x}<br>Revenue (USD)=%{y} <b>(trend)</b><extra></extra>",
         "legendgroup": "ART_AND_DESIGN",
         "marker": {
          "color": "#ab63fa",
          "symbol": "circle"
         },
         "mode": "lines",
         "name": "ART_AND_DESIGN",
         "showlegend": false,
         "type": "scatter",
         "x": {
          "bdata": "6AOIExAn",
          "dtype": "i2"
         },
         "xaxis": "x",
         "y": {
          "bdata": "AAAAAAAYn0ABAAAAAG/DQAEAAAAAb9NA",
          "dtype": "f8"
         },
         "yaxis": "y"
        },
        {
         "customdata": [
          [
           "VIDEO_PLAYERS"
          ],
          [
           "VIDEO_PLAYERS"
          ],
          [
           "VIDEO_PLAYERS"
          ],
          [
           "VIDEO_PLAYERS"
          ]
         ],
         "hovertemplate": "App Category=%{customdata[0]}<br>Number of Installs=%{x}<br>Revenue (USD)=%{marker.size}<extra></extra>",
         "legendgroup": "VIDEO_PLAYERS",
         "marker": {
          "color": "#FFA15A",
          "line": {
           "color": "DarkSlateGrey",
           "width": 1
          },
          "opacity": 0.7,
          "size": {
           "bdata": "AAAAAAAazUAAAAAAAG/TQAAAAACwRxJBAAAAAADwjkA=",
           "dtype": "f8"
          },
          "sizemode": "area",
          "sizeref": 174750,
          "symbol": "circle"
         },
         "mode": "markers",
         "name": "VIDEO_PLAYERS",
         "orientation": "v",
         "showlegend": true,
         "type": "scatter",
         "x": {
          "bdata": "ECcAABAnAABQwwAA6AMAAA==",
          "dtype": "i4"
         },
         "xaxis": "x",
         "y": {
          "bdata": "AAAAAAAazUAAAAAAAG/TQAAAAACwRxJBAAAAAADwjkA=",
          "dtype": "f8"
         },
         "yaxis": "y"
        },
        {
         "hovertemplate": "<b>OLS trendline</b><br>Revenue = 6.50536 * Installs + -31647.6<br>R<sup>2</sup>=0.980031<br><br>App Category=VIDEO_PLAYERS<br>Number of Installs=%{x}<br>Revenue (USD)=%{y} <b>(trend)</b><extra></extra>",
         "legendgroup": "VIDEO_PLAYERS",
         "marker": {
          "color": "#FFA15A",
          "symbol": "circle"
         },
         "mode": "lines",
         "name": "VIDEO_PLAYERS",
         "showlegend": false,
         "type": "scatter",
         "x": {
          "bdata": "6AMAABAnAAAQJwAAUMMAAA==",
          "dtype": "i4"
         },
         "xaxis": "x",
         "y": {
          "bdata": "Go1dQo6N2MCk2R+Rv0/gQKTZH5G/T+BAbOLd/9DrEUE=",
          "dtype": "f8"
         },
         "yaxis": "y"
        },
        {
         "customdata": [
          [
           "FINANCE"
          ],
          [
           "FINANCE"
          ],
          [
           "FINANCE"
          ],
          [
           "FINANCE"
          ],
          [
           "FINANCE"
          ],
          [
           "FINANCE"
          ],
          [
           "FINANCE"
          ],
          [
           "FINANCE"
          ],
          [
           "FINANCE"
          ],
          [
           "FINANCE"
          ],
          [
           "FINANCE"
          ],
          [
           "FINANCE"
          ],
          [
           "FINANCE"
          ],
          [
           "FINANCE"
          ],
          [
           "FINANCE"
          ],
          [
           "FINANCE"
          ],
          [
           "FINANCE"
          ]
         ],
         "hovertemplate": "App Category=%{customdata[0]}<br>Number of Installs=%{x}<br>Revenue (USD)=%{marker.size}<extra></extra>",
         "legendgroup": "FINANCE",
         "marker": {
          "color": "#19d3f3",
          "line": {
           "color": "DarkSlateGrey",
           "width": 1
          },
          "opacity": 0.7,
          "size": {
           "bdata": "AAAAwLASc0EAAAAA2GkYQQAAAABOhD5B/////18uB0EAAAAA2GkYQQAAAABOhD5BAAAAANhpGEEAAAAAACyvQAAAAAAALJ9AAAAAAAAYn0AAAAAA4D8SQQAAAAAAMH9A9ihcj8L1F0A9CtejcP08QAAAAAAAAAAAAAAAAAAAAAABAAAAADPdQA==",
           "dtype": "f8"
          },
          "sizemode": "area",
          "sizeref": 174750,
          "symbol": "circle"
         },
         "mode": "markers",
         "name": "FINANCE",
         "orientation": "v",
         "showlegend": true,
         "type": "scatter",
         "x": {
          "bdata": "UMMAAOgDAACIEwAAECcAAOgDAACIEwAA6AMAAOgDAAD0AQAA6AMAAKCGAQBkAAAAAQAAAAEAAAAAAAAAAAAAABAnAAA=",
          "dtype": "i4"
         },
         "xaxis": "x",
         "y": {
          "bdata": "AAAAwLASc0EAAAAA2GkYQQAAAABOhD5B/////18uB0EAAAAA2GkYQQAAAABOhD5BAAAAANhpGEEAAAAAACyvQAAAAAAALJ9AAAAAAAAYn0AAAAAA4D8SQQAAAAAAMH9A9ihcj8L1F0A9CtejcP08QAAAAAAAAAAAAAAAAAAAAAABAAAAADPdQA==",
          "dtype": "f8"
         },
         "yaxis": "y"
        },
        {
         "hovertemplate": "<b>OLS trendline</b><br>Revenue = 71.9926 * Installs + 727336<br>R<sup>2</sup>=0.150431<br><br>App Category=FINANCE<br>Number of Installs=%{x}<br>Revenue (USD)=%{y} <b>(trend)</b><extra></extra>",
         "legendgroup": "FINANCE",
         "marker": {
          "color": "#19d3f3",
          "symbol": "circle"
         },
         "mode": "lines",
         "name": "FINANCE",
         "showlegend": false,
         "type": "scatter",
         "x": {
          "bdata": "AAAAAAAAAAABAAAAAQAAAGQAAAD0AQAA6AMAAOgDAADoAwAA6AMAAOgDAACIEwAAiBMAABAnAAAQJwAAUMMAAKCGAQA=",
          "dtype": "i4"
         },
         "xaxis": "x",
         "y": {
          "bdata": "o/A4Mk8yJkGj8DgyTzImQYVQcS7fMiZBhVBxLt8yJkHAZD64jWomQTY1VNCHSydByXlvbsBkKEHJeW9uwGQoQcl5b27AZChByXlvbsBkKEHJeW9uwGQoQTDPpK9ClzBBMM+kr0KXMEEOJi3GXRU2QQ4mLcZdFTZBQPebno2BUEFs0PBW0TxeQQ==",
          "dtype": "f8"
         },
         "yaxis": "y"
        },
        {
         "customdata": [
          [
           "MAPS_AND_NAVIGATION"
          ],
          [
           "MAPS_AND_NAVIGATION"
          ],
          [
           "MAPS_AND_NAVIGATION"
          ],
          [
           "MAPS_AND_NAVIGATION"
          ],
          [
           "MAPS_AND_NAVIGATION"
          ]
         ],
         "hovertemplate": "App Category=%{customdata[0]}<br>Number of Installs=%{x}<br>Revenue (USD)=%{marker.size}<extra></extra>",
         "legendgroup": "MAPS_AND_NAVIGATION",
         "marker": {
          "color": "#FF6692",
          "line": {
           "color": "DarkSlateGrey",
           "width": 1
          },
          "opacity": 0.7,
          "size": {
           "bdata": "AAAAAABWw0AAAAAAmEsyQQAAAAAA8I5AAQAAAAAz3UAAAAAAADiPQA==",
           "dtype": "f8"
          },
          "sizemode": "area",
          "sizeref": 174750,
          "symbol": "circle"
         },
         "mode": "markers",
         "name": "MAPS_AND_NAVIGATION",
         "orientation": "v",
         "showlegend": true,
         "type": "scatter",
         "x": {
          "bdata": "ECcAAKCGAQDoAwAAECcAAGQAAAA=",
          "dtype": "i4"
         },
         "xaxis": "x",
         "y": {
          "bdata": "AAAAAABWw0AAAAAAmEsyQQAAAAAA8I5AAQAAAAAz3UAAAAAAADiPQA==",
          "dtype": "f8"
         },
         "yaxis": "y"
        },
        {
         "hovertemplate": "<b>OLS trendline</b><br>Revenue = 12.4171 * Installs + -52584.7<br>R<sup>2</sup>=0.991090<br><br>App Category=MAPS_AND_NAVIGATION<br>Number of Installs=%{x}<br>Revenue (USD)=%{y} <b>(trend)</b><extra></extra>",
         "legendgroup": "MAPS_AND_NAVIGATION",
         "marker": {
          "color": "#FF6692",
          "symbol": "circle"
         },
         "mode": "lines",
         "name": "MAPS_AND_NAVIGATION",
         "showlegend": false,
         "type": "scatter",
         "x": {
          "bdata": "ZAAAAOgDAAAQJwAAECcAAKCGAQA=",
          "dtype": "i4"
         },
         "xaxis": "x",
         "y": {
          "bdata": "xvVL8N4R6cAkYS4V8pzjwJi2/DwnevFAmLb8PCd68UDkO4ygBiUyQQ==",
          "dtype": "f8"
         },
         "yaxis": "y"
        },
        {
         "customdata": [
          [
           "PARENTING"
          ],
          [
           "PARENTING"
          ]
         ],
         "hovertemplate": "App Category=%{customdata[0]}<br>Number of Installs=%{x}<br>Revenue (USD)=%{marker.size}<extra></extra>",
         "legendgroup": "PARENTING",
         "marker": {
          "color": "#B6E880",
          "line": {
           "color": "DarkSlateGrey",
           "width": 1
          },
          "opacity": 0.7,
          "size": {
           "bdata": "AAAAAOB0DkEAAAAAALB8QA==",
           "dtype": "f8"
          },
          "sizemode": "area",
          "sizeref": 174750,
          "symbol": "circle"
         },
         "mode": "markers",
         "name": "PARENTING",
         "orientation": "v",
         "showlegend": true,
         "type": "scatter",
         "x": {
          "bdata": "UMMAAGQAAAA=",
          "dtype": "i4"
         },
         "xaxis": "x",
         "y": {
          "bdata": "AAAAAOB0DkEAAAAAALB8QA==",
          "dtype": "f8"
         },
         "yaxis": "y"
        },
        {
         "hovertemplate": "<b>OLS trendline</b><br>Revenue = 4.9908 * Installs + -40.0802<br>R<sup>2</sup>=1.000000<br><br>App Category=PARENTING<br>Number of Installs=%{x}<br>Revenue (USD)=%{y} <b>(trend)</b><extra></extra>",
         "legendgroup": "PARENTING",
         "marker": {
          "color": "#B6E880",
          "symbol": "circle"
         },
         "mode": "lines",
         "name": "PARENTING",
         "showlegend": false,
         "type": "scatter",
         "x": {
          "bdata": "ZAAAAFDDAAA=",
          "dtype": "i4"
         },
         "xaxis": "x",
         "y": {
          "bdata": "s/7///+vfEADAAAA4HQOQQ==",
          "dtype": "f8"
         },
         "yaxis": "y"
        },
        {
         "customdata": [
          [
           "LIBRARIES_AND_DEMO"
          ]
         ],
         "hovertemplate": "App Category=%{customdata[0]}<br>Number of Installs=%{x}<br>Revenue (USD)=%{marker.size}<extra></extra>",
         "legendgroup": "LIBRARIES_AND_DEMO",
         "marker": {
          "color": "#FF97FF",
          "line": {
           "color": "DarkSlateGrey",
           "width": 1
          },
          "opacity": 0.7,
          "size": {
           "bdata": "AAAAAADAWEA=",
           "dtype": "f8"
          },
          "sizemode": "area",
          "sizeref": 174750,
          "symbol": "circle"
         },
         "mode": "markers",
         "name": "LIBRARIES_AND_DEMO",
         "orientation": "v",
         "showlegend": true,
         "type": "scatter",
         "x": {
          "bdata": "ZA==",
          "dtype": "i1"
         },
         "xaxis": "x",
         "y": {
          "bdata": "AAAAAADAWEA=",
          "dtype": "f8"
         },
         "yaxis": "y"
        },
        {
         "hovertemplate": "App Category=LIBRARIES_AND_DEMO<extra></extra>",
         "legendgroup": "LIBRARIES_AND_DEMO",
         "marker": {
          "color": "#FF97FF",
          "symbol": "circle"
         },
         "mode": "lines",
         "name": "LIBRARIES_AND_DEMO",
         "showlegend": false,
         "type": "scatter",
         "xaxis": "x",
         "yaxis": "y"
        },
        {
         "customdata": [
          [
           "EVENTS"
          ]
         ],
         "hovertemplate": "App Category=%{customdata[0]}<br>Number of Installs=%{x}<br>Revenue (USD)=%{marker.size}<extra></extra>",
         "legendgroup": "EVENTS",
         "marker": {
          "color": "#FECB52",
          "line": {
           "color": "DarkSlateGrey",
           "width": 1
          },
          "opacity": 0.7,
          "size": {
           "bdata": "j8L1KFx/W0A=",
           "dtype": "f8"
          },
          "sizemode": "area",
          "sizeref": 174750,
          "symbol": "circle"
         },
         "mode": "markers",
         "name": "EVENTS",
         "orientation": "v",
         "showlegend": true,
         "type": "scatter",
         "x": {
          "bdata": "AQ==",
          "dtype": "i1"
         },
         "xaxis": "x",
         "y": {
          "bdata": "j8L1KFx/W0A=",
          "dtype": "f8"
         },
         "yaxis": "y"
        },
        {
         "hovertemplate": "App Category=EVENTS<extra></extra>",
         "legendgroup": "EVENTS",
         "marker": {
          "color": "#FECB52",
          "symbol": "circle"
         },
         "mode": "lines",
         "name": "EVENTS",
         "showlegend": false,
         "type": "scatter",
         "xaxis": "x",
         "yaxis": "y"
        }
       ],
       "layout": {
        "font": {
         "family": "Arial"
        },
        "height": 600,
        "legend": {
         "bgcolor": "rgba(255,255,255,0.9)",
         "bordercolor": "gray",
         "borderwidth": 1,
         "itemsizing": "constant",
         "title": {
          "text": "App Category"
         },
         "tracegroupgap": 0
        },
        "paper_bgcolor": "white",
        "plot_bgcolor": "rgba(240,240,240,0.2)",
        "showlegend": true,
        "template": {
         "data": {
          "bar": [
           {
            "error_x": {
             "color": "#2a3f5f"
            },
            "error_y": {
             "color": "#2a3f5f"
            },
            "marker": {
             "line": {
              "color": "white",
              "width": 0.5
             },
             "pattern": {
              "fillmode": "overlay",
              "size": 10,
              "solidity": 0.2
             }
            },
            "type": "bar"
           }
          ],
          "barpolar": [
           {
            "marker": {
             "line": {
              "color": "white",
              "width": 0.5
             },
             "pattern": {
              "fillmode": "overlay",
              "size": 10,
              "solidity": 0.2
             }
            },
            "type": "barpolar"
           }
          ],
          "carpet": [
           {
            "aaxis": {
             "endlinecolor": "#2a3f5f",
             "gridcolor": "#C8D4E3",
             "linecolor": "#C8D4E3",
             "minorgridcolor": "#C8D4E3",
             "startlinecolor": "#2a3f5f"
            },
            "baxis": {
             "endlinecolor": "#2a3f5f",
             "gridcolor": "#C8D4E3",
             "linecolor": "#C8D4E3",
             "minorgridcolor": "#C8D4E3",
             "startlinecolor": "#2a3f5f"
            },
            "type": "carpet"
           }
          ],
          "choropleth": [
           {
            "colorbar": {
             "outlinewidth": 0,
             "ticks": ""
            },
            "type": "choropleth"
           }
          ],
          "contour": [
           {
            "colorbar": {
             "outlinewidth": 0,
             "ticks": ""
            },
            "colorscale": [
             [
              0,
              "#0d0887"
             ],
             [
              0.1111111111111111,
              "#46039f"
             ],
             [
              0.2222222222222222,
              "#7201a8"
             ],
             [
              0.3333333333333333,
              "#9c179e"
             ],
             [
              0.4444444444444444,
              "#bd3786"
             ],
             [
              0.5555555555555556,
              "#d8576b"
             ],
             [
              0.6666666666666666,
              "#ed7953"
             ],
             [
              0.7777777777777778,
              "#fb9f3a"
             ],
             [
              0.8888888888888888,
              "#fdca26"
             ],
             [
              1,
              "#f0f921"
             ]
            ],
            "type": "contour"
           }
          ],
          "contourcarpet": [
           {
            "colorbar": {
             "outlinewidth": 0,
             "ticks": ""
            },
            "type": "contourcarpet"
           }
          ],
          "heatmap": [
           {
            "colorbar": {
             "outlinewidth": 0,
             "ticks": ""
            },
            "colorscale": [
             [
              0,
              "#0d0887"
             ],
             [
              0.1111111111111111,
              "#46039f"
             ],
             [
              0.2222222222222222,
              "#7201a8"
             ],
             [
              0.3333333333333333,
              "#9c179e"
             ],
             [
              0.4444444444444444,
              "#bd3786"
             ],
             [
              0.5555555555555556,
              "#d8576b"
             ],
             [
              0.6666666666666666,
              "#ed7953"
             ],
             [
              0.7777777777777778,
              "#fb9f3a"
             ],
             [
              0.8888888888888888,
              "#fdca26"
             ],
             [
              1,
              "#f0f921"
             ]
            ],
            "type": "heatmap"
           }
          ],
          "histogram": [
           {
            "marker": {
             "pattern": {
              "fillmode": "overlay",
              "size": 10,
              "solidity": 0.2
             }
            },
            "type": "histogram"
           }
          ],
          "histogram2d": [
           {
            "colorbar": {
             "outlinewidth": 0,
             "ticks": ""
            },
            "colorscale": [
             [
              0,
              "#0d0887"
             ],
             [
              0.1111111111111111,
              "#46039f"
             ],
             [
              0.2222222222222222,
              "#7201a8"
             ],
             [
              0.3333333333333333,
              "#9c179e"
             ],
             [
              0.4444444444444444,
              "#bd3786"
             ],
             [
              0.5555555555555556,
              "#d8576b"
             ],
             [
              0.6666666666666666,
              "#ed7953"
             ],
             [
              0.7777777777777778,
              "#fb9f3a"
             ],
             [
              0.8888888888888888,
              "#fdca26"
             ],
             [
              1,
              "#f0f921"
             ]
            ],
            "type": "histogram2d"
           }
          ],
          "histogram2dcontour": [
           {
            "colorbar": {
             "outlinewidth": 0,
             "ticks": ""
            },
            "colorscale": [
             [
              0,
              "#0d0887"
             ],
             [
              0.1111111111111111,
              "#46039f"
             ],
             [
              0.2222222222222222,
              "#7201a8"
             ],
             [
              0.3333333333333333,
              "#9c179e"
             ],
             [
              0.4444444444444444,
              "#bd3786"
             ],
             [
              0.5555555555555556,
              "#d8576b"
             ],
             [
              0.6666666666666666,
              "#ed7953"
             ],
             [
              0.7777777777777778,
              "#fb9f3a"
             ],
             [
              0.8888888888888888,
              "#fdca26"
             ],
             [
              1,
              "#f0f921"
             ]
            ],
            "type": "histogram2dcontour"
           }
          ],
          "mesh3d": [
           {
            "colorbar": {
             "outlinewidth": 0,
             "ticks": ""
            },
            "type": "mesh3d"
           }
          ],
          "parcoords": [
           {
            "line": {
             "colorbar": {
              "outlinewidth": 0,
              "ticks": ""
             }
            },
            "type": "parcoords"
           }
          ],
          "pie": [
           {
            "automargin": true,
            "type": "pie"
           }
          ],
          "scatter": [
           {
            "fillpattern": {
             "fillmode": "overlay",
             "size": 10,
             "solidity": 0.2
            },
            "type": "scatter"
           }
          ],
          "scatter3d": [
           {
            "line": {
             "colorbar": {
              "outlinewidth": 0,
              "ticks": ""
             }
            },
            "marker": {
             "colorbar": {
              "outlinewidth": 0,
              "ticks": ""
             }
            },
            "type": "scatter3d"
           }
          ],
          "scattercarpet": [
           {
            "marker": {
             "colorbar": {
              "outlinewidth": 0,
              "ticks": ""
             }
            },
            "type": "scattercarpet"
           }
          ],
          "scattergeo": [
           {
            "marker": {
             "colorbar": {
              "outlinewidth": 0,
              "ticks": ""
             }
            },
            "type": "scattergeo"
           }
          ],
          "scattergl": [
           {
            "marker": {
             "colorbar": {
              "outlinewidth": 0,
              "ticks": ""
             }
            },
            "type": "scattergl"
           }
          ],
          "scattermap": [
           {
            "marker": {
             "colorbar": {
              "outlinewidth": 0,
              "ticks": ""
             }
            },
            "type": "scattermap"
           }
          ],
          "scattermapbox": [
           {
            "marker": {
             "colorbar": {
              "outlinewidth": 0,
              "ticks": ""
             }
            },
            "type": "scattermapbox"
           }
          ],
          "scatterpolar": [
           {
            "marker": {
             "colorbar": {
              "outlinewidth": 0,
              "ticks": ""
             }
            },
            "type": "scatterpolar"
           }
          ],
          "scatterpolargl": [
           {
            "marker": {
             "colorbar": {
              "outlinewidth": 0,
              "ticks": ""
             }
            },
            "type": "scatterpolargl"
           }
          ],
          "scatterternary": [
           {
            "marker": {
             "colorbar": {
              "outlinewidth": 0,
              "ticks": ""
             }
            },
            "type": "scatterternary"
           }
          ],
          "surface": [
           {
            "colorbar": {
             "outlinewidth": 0,
             "ticks": ""
            },
            "colorscale": [
             [
              0,
              "#0d0887"
             ],
             [
              0.1111111111111111,
              "#46039f"
             ],
             [
              0.2222222222222222,
              "#7201a8"
             ],
             [
              0.3333333333333333,
              "#9c179e"
             ],
             [
              0.4444444444444444,
              "#bd3786"
             ],
             [
              0.5555555555555556,
              "#d8576b"
             ],
             [
              0.6666666666666666,
              "#ed7953"
             ],
             [
              0.7777777777777778,
              "#fb9f3a"
             ],
             [
              0.8888888888888888,
              "#fdca26"
             ],
             [
              1,
              "#f0f921"
             ]
            ],
            "type": "surface"
           }
          ],
          "table": [
           {
            "cells": {
             "fill": {
              "color": "#EBF0F8"
             },
             "line": {
              "color": "white"
             }
            },
            "header": {
             "fill": {
              "color": "#C8D4E3"
             },
             "line": {
              "color": "white"
             }
            },
            "type": "table"
           }
          ]
         },
         "layout": {
          "annotationdefaults": {
           "arrowcolor": "#2a3f5f",
           "arrowhead": 0,
           "arrowwidth": 1
          },
          "autotypenumbers": "strict",
          "coloraxis": {
           "colorbar": {
            "outlinewidth": 0,
            "ticks": ""
           }
          },
          "colorscale": {
           "diverging": [
            [
             0,
             "#8e0152"
            ],
            [
             0.1,
             "#c51b7d"
            ],
            [
             0.2,
             "#de77ae"
            ],
            [
             0.3,
             "#f1b6da"
            ],
            [
             0.4,
             "#fde0ef"
            ],
            [
             0.5,
             "#f7f7f7"
            ],
            [
             0.6,
             "#e6f5d0"
            ],
            [
             0.7,
             "#b8e186"
            ],
            [
             0.8,
             "#7fbc41"
            ],
            [
             0.9,
             "#4d9221"
            ],
            [
             1,
             "#276419"
            ]
           ],
           "sequential": [
            [
             0,
             "#0d0887"
            ],
            [
             0.1111111111111111,
             "#46039f"
            ],
            [
             0.2222222222222222,
             "#7201a8"
            ],
            [
             0.3333333333333333,
             "#9c179e"
            ],
            [
             0.4444444444444444,
             "#bd3786"
            ],
            [
             0.5555555555555556,
             "#d8576b"
            ],
            [
             0.6666666666666666,
             "#ed7953"
            ],
            [
             0.7777777777777778,
             "#fb9f3a"
            ],
            [
             0.8888888888888888,
             "#fdca26"
            ],
            [
             1,
             "#f0f921"
            ]
           ],
           "sequentialminus": [
            [
             0,
             "#0d0887"
            ],
            [
             0.1111111111111111,
             "#46039f"
            ],
            [
             0.2222222222222222,
             "#7201a8"
            ],
            [
             0.3333333333333333,
             "#9c179e"
            ],
            [
             0.4444444444444444,
             "#bd3786"
            ],
            [
             0.5555555555555556,
             "#d8576b"
            ],
            [
             0.6666666666666666,
             "#ed7953"
            ],
            [
             0.7777777777777778,
             "#fb9f3a"
            ],
            [
             0.8888888888888888,
             "#fdca26"
            ],
            [
             1,
             "#f0f921"
            ]
           ]
          },
          "colorway": [
           "#636efa",
           "#EF553B",
           "#00cc96",
           "#ab63fa",
           "#FFA15A",
           "#19d3f3",
           "#FF6692",
           "#B6E880",
           "#FF97FF",
           "#FECB52"
          ],
          "font": {
           "color": "#2a3f5f"
          },
          "geo": {
           "bgcolor": "white",
           "lakecolor": "white",
           "landcolor": "white",
           "showlakes": true,
           "showland": true,
           "subunitcolor": "#C8D4E3"
          },
          "hoverlabel": {
           "align": "left"
          },
          "hovermode": "closest",
          "mapbox": {
           "style": "light"
          },
          "paper_bgcolor": "white",
          "plot_bgcolor": "white",
          "polar": {
           "angularaxis": {
            "gridcolor": "#EBF0F8",
            "linecolor": "#EBF0F8",
            "ticks": ""
           },
           "bgcolor": "white",
           "radialaxis": {
            "gridcolor": "#EBF0F8",
            "linecolor": "#EBF0F8",
            "ticks": ""
           }
          },
          "scene": {
           "xaxis": {
            "backgroundcolor": "white",
            "gridcolor": "#DFE8F3",
            "gridwidth": 2,
            "linecolor": "#EBF0F8",
            "showbackground": true,
            "ticks": "",
            "zerolinecolor": "#EBF0F8"
           },
           "yaxis": {
            "backgroundcolor": "white",
            "gridcolor": "#DFE8F3",
            "gridwidth": 2,
            "linecolor": "#EBF0F8",
            "showbackground": true,
            "ticks": "",
            "zerolinecolor": "#EBF0F8"
           },
           "zaxis": {
            "backgroundcolor": "white",
            "gridcolor": "#DFE8F3",
            "gridwidth": 2,
            "linecolor": "#EBF0F8",
            "showbackground": true,
            "ticks": "",
            "zerolinecolor": "#EBF0F8"
           }
          },
          "shapedefaults": {
           "line": {
            "color": "#2a3f5f"
           }
          },
          "ternary": {
           "aaxis": {
            "gridcolor": "#DFE8F3",
            "linecolor": "#A2B1C6",
            "ticks": ""
           },
           "baxis": {
            "gridcolor": "#DFE8F3",
            "linecolor": "#A2B1C6",
            "ticks": ""
           },
           "bgcolor": "white",
           "caxis": {
            "gridcolor": "#DFE8F3",
            "linecolor": "#A2B1C6",
            "ticks": ""
           }
          },
          "title": {
           "x": 0.05
          },
          "xaxis": {
           "automargin": true,
           "gridcolor": "#EBF0F8",
           "linecolor": "#EBF0F8",
           "ticks": "",
           "title": {
            "standoff": 15
           },
           "zerolinecolor": "#EBF0F8",
           "zerolinewidth": 2
          },
          "yaxis": {
           "automargin": true,
           "gridcolor": "#EBF0F8",
           "linecolor": "#EBF0F8",
           "ticks": "",
           "title": {
            "standoff": 15
           },
           "zerolinecolor": "#EBF0F8",
           "zerolinewidth": 2
          }
         }
        },
        "title": {
         "font": {
          "size": 24
         },
         "text": "Relationship between Revenue and Number of Installs for Paid Apps",
         "x": 0.5
        },
        "width": 1000,
        "xaxis": {
         "anchor": "y",
         "domain": [
          0,
          1
         ],
         "gridcolor": "lightgray",
         "tickfont": {
          "size": 14
         },
         "title": {
          "font": {
           "size": 18
          },
          "text": "Number of Installs"
         },
         "zeroline": false
        },
        "yaxis": {
         "anchor": "x",
         "domain": [
          0,
          1
         ],
         "gridcolor": "lightgray",
         "tickfont": {
          "size": 14
         },
         "title": {
          "font": {
           "size": 18
          },
          "text": "Revenue (USD)"
         },
         "zeroline": false
        }
       }
      }
     },
     "metadata": {},
     "output_type": "display_data"
    }
   ],
   "source": [
    "import plotly.express as px\n",
    "\n",
    "# Create an interactive scatter plot with enhanced styling\n",
    "fig = px.scatter(paid_apps, \n",
    "                 x='Installs', \n",
    "                 y='Revenue', \n",
    "                 color='Category',\n",
    "                 title='Relationship between Revenue and Number of Installs for Paid Apps',\n",
    "                 labels={'Installs': 'Number of Installs', \n",
    "                        'Revenue': 'Revenue (USD)',\n",
    "                        'Category': 'App Category'},\n",
    "                 trendline='ols',\n",
    "                 template='plotly_white',  # Clean, professional template\n",
    "                 size='Revenue',  # Vary point size based on revenue\n",
    "                 hover_data=['Category', 'Revenue', 'Installs'],  # Enhanced hover information\n",
    "                 opacity=0.7)  # Add some transparency to better show overlapping points\n",
    "\n",
    "# Customize the layout\n",
    "fig.update_layout(\n",
    "    title_x=0.5,  # Center the title\n",
    "    title_font_size=24,\n",
    "    plot_bgcolor='rgba(240,240,240,0.2)',  # Light gray background\n",
    "    paper_bgcolor='white',\n",
    "    font_family='Arial',\n",
    "    legend=dict(\n",
    "        borderwidth=1,\n",
    "        bordercolor='gray',\n",
    "        bgcolor='rgba(255,255,255,0.9)'\n",
    "    ),\n",
    "    showlegend=True,\n",
    "    width=1000,\n",
    "    height=600\n",
    ")\n",
    "\n",
    "# Customize axes\n",
    "fig.update_xaxes(\n",
    "    gridcolor='lightgray',\n",
    "    zeroline=False,\n",
    "    title_font=dict(size=18),\n",
    "    tickfont=dict(size=14)\n",
    ")\n",
    "\n",
    "fig.update_yaxes(\n",
    "    gridcolor='lightgray',\n",
    "    zeroline=False,\n",
    "    title_font=dict(size=18),\n",
    "    tickfont=dict(size=14)\n",
    ")\n",
    "\n",
    "# Update marker properties\n",
    "fig.update_traces(\n",
    "    marker=dict(\n",
    "        line=dict(width=1, color='DarkSlateGrey')  # Add thin border to points\n",
    "    ),\n",
    "    selector=dict(mode='markers')\n",
    ")\n",
    "\n",
    "# Show the plot\n",
    "fig.show()"
   ]
  },
  {
   "cell_type": "code",
   "execution_count": null,
   "metadata": {},
   "outputs": [],
   "source": []
  }
 ],
 "metadata": {
  "kernelspec": {
   "display_name": "Python 3",
   "language": "python",
   "name": "python3"
  },
  "language_info": {
   "codemirror_mode": {
    "name": "ipython",
    "version": 3
   },
   "file_extension": ".py",
   "mimetype": "text/x-python",
   "name": "python",
   "nbconvert_exporter": "python",
   "pygments_lexer": "ipython3",
   "version": "3.12.4"
  }
 },
 "nbformat": 4,
 "nbformat_minor": 2
}
