{
 "cells": [
  {
   "cell_type": "markdown",
   "metadata": {},
   "source": [
    "<div style=\"padding:20px;color:black;margin:0;font-size:350%;text-align:center;display:fill;border-radius:5px;background-color:#aaf0f0;overflow:hidden;font-weight:700;border: 5px solid #21a3a3;\">  🧸PlayStore Data Analysis📈</div>"
   ]
  },
  {
   "cell_type": "markdown",
   "metadata": {},
   "source": [
    "<div style=\"border-radius:10px; border:#DEB887 solid; padding: 15px; background-color: #7FFFD4; font-size:100%; text-align:left\">\n",
    "\n",
    "<!-- <h3 align=\"center\"><font color='#DAA520'>💡 1st Task:</font></h3> -->\n",
    "    \n",
    "\n",
    "🪼 Create a scatter plot to visualize the relationship between revenue and the number \n",
    "of installs for paid apps only. Add a trendline to show the correlation and color-code\n",
    "the points based on app categories. "
   ]
  },
  {
   "cell_type": "code",
   "execution_count": 62,
   "metadata": {},
   "outputs": [],
   "source": [
    "import pandas as pd\n",
    "import numpy as np\n",
    "import warnings\n",
    "from sklearn.pipeline import Pipeline, FunctionTransformer\n",
    "from wordcloud import WordCloud\n",
    "import matplotlib.pyplot as plt\n",
    "from nltk.corpus import stopwords\n",
    "import nltk\n",
    "from collections import Counter\n",
    "import re\n",
    "from PIL import Image\n",
    "from tabulate import tabulate\n",
    "\n",
    "warnings.filterwarnings('ignore')"
   ]
  },
  {
   "cell_type": "code",
   "execution_count": 63,
   "metadata": {},
   "outputs": [],
   "source": [
    "# Load data separately\n",
    "playstore_data = pd.read_csv('../Data Set/Play Store Data.csv')\n",
    "review_data = pd.read_csv('../Data Set/User Reviews.csv')"
   ]
  },
  {
   "cell_type": "code",
   "execution_count": 64,
   "metadata": {},
   "outputs": [
    {
     "data": {
      "text/html": [
       "<div>\n",
       "<style scoped>\n",
       "    .dataframe tbody tr th:only-of-type {\n",
       "        vertical-align: middle;\n",
       "    }\n",
       "\n",
       "    .dataframe tbody tr th {\n",
       "        vertical-align: top;\n",
       "    }\n",
       "\n",
       "    .dataframe thead th {\n",
       "        text-align: right;\n",
       "    }\n",
       "</style>\n",
       "<table border=\"1\" class=\"dataframe\">\n",
       "  <thead>\n",
       "    <tr style=\"text-align: right;\">\n",
       "      <th></th>\n",
       "      <th>App</th>\n",
       "      <th>Category</th>\n",
       "      <th>Rating</th>\n",
       "      <th>Reviews</th>\n",
       "      <th>Size</th>\n",
       "      <th>Installs</th>\n",
       "      <th>Type</th>\n",
       "      <th>Price</th>\n",
       "      <th>Content Rating</th>\n",
       "      <th>Genres</th>\n",
       "      <th>Last Updated</th>\n",
       "      <th>Current Ver</th>\n",
       "      <th>Android Ver</th>\n",
       "    </tr>\n",
       "  </thead>\n",
       "  <tbody>\n",
       "    <tr>\n",
       "      <th>0</th>\n",
       "      <td>Photo Editor &amp; Candy Camera &amp; Grid &amp; ScrapBook</td>\n",
       "      <td>ART_AND_DESIGN</td>\n",
       "      <td>4.1</td>\n",
       "      <td>159</td>\n",
       "      <td>19M</td>\n",
       "      <td>10,000+</td>\n",
       "      <td>Free</td>\n",
       "      <td>0</td>\n",
       "      <td>Everyone</td>\n",
       "      <td>Art &amp; Design</td>\n",
       "      <td>January 7, 2018</td>\n",
       "      <td>1.0.0</td>\n",
       "      <td>4.0.3 and up</td>\n",
       "    </tr>\n",
       "    <tr>\n",
       "      <th>1</th>\n",
       "      <td>Coloring book moana</td>\n",
       "      <td>ART_AND_DESIGN</td>\n",
       "      <td>3.9</td>\n",
       "      <td>967</td>\n",
       "      <td>14M</td>\n",
       "      <td>500,000+</td>\n",
       "      <td>Free</td>\n",
       "      <td>0</td>\n",
       "      <td>Everyone</td>\n",
       "      <td>Art &amp; Design;Pretend Play</td>\n",
       "      <td>January 15, 2018</td>\n",
       "      <td>2.0.0</td>\n",
       "      <td>4.0.3 and up</td>\n",
       "    </tr>\n",
       "    <tr>\n",
       "      <th>2</th>\n",
       "      <td>U Launcher Lite – FREE Live Cool Themes, Hide ...</td>\n",
       "      <td>ART_AND_DESIGN</td>\n",
       "      <td>4.7</td>\n",
       "      <td>87510</td>\n",
       "      <td>8.7M</td>\n",
       "      <td>5,000,000+</td>\n",
       "      <td>Free</td>\n",
       "      <td>0</td>\n",
       "      <td>Everyone</td>\n",
       "      <td>Art &amp; Design</td>\n",
       "      <td>August 1, 2018</td>\n",
       "      <td>1.2.4</td>\n",
       "      <td>4.0.3 and up</td>\n",
       "    </tr>\n",
       "    <tr>\n",
       "      <th>3</th>\n",
       "      <td>Sketch - Draw &amp; Paint</td>\n",
       "      <td>ART_AND_DESIGN</td>\n",
       "      <td>4.5</td>\n",
       "      <td>215644</td>\n",
       "      <td>25M</td>\n",
       "      <td>50,000,000+</td>\n",
       "      <td>Free</td>\n",
       "      <td>0</td>\n",
       "      <td>Teen</td>\n",
       "      <td>Art &amp; Design</td>\n",
       "      <td>June 8, 2018</td>\n",
       "      <td>Varies with device</td>\n",
       "      <td>4.2 and up</td>\n",
       "    </tr>\n",
       "    <tr>\n",
       "      <th>4</th>\n",
       "      <td>Pixel Draw - Number Art Coloring Book</td>\n",
       "      <td>ART_AND_DESIGN</td>\n",
       "      <td>4.3</td>\n",
       "      <td>967</td>\n",
       "      <td>2.8M</td>\n",
       "      <td>100,000+</td>\n",
       "      <td>Free</td>\n",
       "      <td>0</td>\n",
       "      <td>Everyone</td>\n",
       "      <td>Art &amp; Design;Creativity</td>\n",
       "      <td>June 20, 2018</td>\n",
       "      <td>1.1</td>\n",
       "      <td>4.4 and up</td>\n",
       "    </tr>\n",
       "  </tbody>\n",
       "</table>\n",
       "</div>"
      ],
      "text/plain": [
       "                                                 App        Category  Rating  \\\n",
       "0     Photo Editor & Candy Camera & Grid & ScrapBook  ART_AND_DESIGN     4.1   \n",
       "1                                Coloring book moana  ART_AND_DESIGN     3.9   \n",
       "2  U Launcher Lite – FREE Live Cool Themes, Hide ...  ART_AND_DESIGN     4.7   \n",
       "3                              Sketch - Draw & Paint  ART_AND_DESIGN     4.5   \n",
       "4              Pixel Draw - Number Art Coloring Book  ART_AND_DESIGN     4.3   \n",
       "\n",
       "  Reviews  Size     Installs  Type Price Content Rating  \\\n",
       "0     159   19M      10,000+  Free     0       Everyone   \n",
       "1     967   14M     500,000+  Free     0       Everyone   \n",
       "2   87510  8.7M   5,000,000+  Free     0       Everyone   \n",
       "3  215644   25M  50,000,000+  Free     0           Teen   \n",
       "4     967  2.8M     100,000+  Free     0       Everyone   \n",
       "\n",
       "                      Genres      Last Updated         Current Ver  \\\n",
       "0               Art & Design   January 7, 2018               1.0.0   \n",
       "1  Art & Design;Pretend Play  January 15, 2018               2.0.0   \n",
       "2               Art & Design    August 1, 2018               1.2.4   \n",
       "3               Art & Design      June 8, 2018  Varies with device   \n",
       "4    Art & Design;Creativity     June 20, 2018                 1.1   \n",
       "\n",
       "    Android Ver  \n",
       "0  4.0.3 and up  \n",
       "1  4.0.3 and up  \n",
       "2  4.0.3 and up  \n",
       "3    4.2 and up  \n",
       "4    4.4 and up  "
      ]
     },
     "execution_count": 64,
     "metadata": {},
     "output_type": "execute_result"
    }
   ],
   "source": [
    "playstore_data.head(5)"
   ]
  },
  {
   "cell_type": "code",
   "execution_count": 65,
   "metadata": {},
   "outputs": [
    {
     "name": "stdout",
     "output_type": "stream",
     "text": [
      "<class 'pandas.core.frame.DataFrame'>\n",
      "RangeIndex: 10841 entries, 0 to 10840\n",
      "Data columns (total 13 columns):\n",
      " #   Column          Non-Null Count  Dtype  \n",
      "---  ------          --------------  -----  \n",
      " 0   App             10841 non-null  object \n",
      " 1   Category        10841 non-null  object \n",
      " 2   Rating          9367 non-null   float64\n",
      " 3   Reviews         10841 non-null  object \n",
      " 4   Size            10841 non-null  object \n",
      " 5   Installs        10841 non-null  object \n",
      " 6   Type            10840 non-null  object \n",
      " 7   Price           10841 non-null  object \n",
      " 8   Content Rating  10840 non-null  object \n",
      " 9   Genres          10841 non-null  object \n",
      " 10  Last Updated    10841 non-null  object \n",
      " 11  Current Ver     10833 non-null  object \n",
      " 12  Android Ver     10838 non-null  object \n",
      "dtypes: float64(1), object(12)\n",
      "memory usage: 1.1+ MB\n"
     ]
    }
   ],
   "source": [
    "playstore_data.info()"
   ]
  },
  {
   "cell_type": "code",
   "execution_count": 66,
   "metadata": {},
   "outputs": [
    {
     "data": {
      "text/plain": [
       "App                  0\n",
       "Category             0\n",
       "Rating            1474\n",
       "Reviews              0\n",
       "Size                 0\n",
       "Installs             0\n",
       "Type                 1\n",
       "Price                0\n",
       "Content Rating       1\n",
       "Genres               0\n",
       "Last Updated         0\n",
       "Current Ver          8\n",
       "Android Ver          3\n",
       "dtype: int64"
      ]
     },
     "execution_count": 66,
     "metadata": {},
     "output_type": "execute_result"
    }
   ],
   "source": [
    "# Identify the number of null values in each column of Play Store dataset\n",
    "playstore_data.isnull().sum()"
   ]
  },
  {
   "cell_type": "markdown",
   "metadata": {},
   "source": [
    "<div style=\"border-radius:10px; border:green solid; padding: 5px; height: 50px; background-color: white; font-size:150%; text-align:left\">\n",
    "  <h4 align=\"center\"><font color='blue'>💡 Define preprocessing functions:</font></h4>\n",
    "</div>"
   ]
  },
  {
   "cell_type": "code",
   "execution_count": 67,
   "metadata": {},
   "outputs": [],
   "source": [
    "def filter_paid_apps(df):\n",
    "    return df[df['Type'] == 'Paid'].copy()"
   ]
  },
  {
   "cell_type": "code",
   "execution_count": 68,
   "metadata": {},
   "outputs": [],
   "source": [
    "def clean_price(df):\n",
    "    df['Price'] = df['Price'].str.replace('$', '').astype(float)\n",
    "    return df"
   ]
  },
  {
   "cell_type": "code",
   "execution_count": 69,
   "metadata": {},
   "outputs": [],
   "source": [
    "def clean_installs(df):\n",
    "    df['Installs'] = df['Installs'].str.replace('+', '').str.replace(',', '').astype(int)\n",
    "    return df"
   ]
  },
  {
   "cell_type": "code",
   "execution_count": 70,
   "metadata": {},
   "outputs": [],
   "source": [
    "def calculate_revenue(df):\n",
    "    df['Revenue'] = df['Installs'] * df['Price']\n",
    "    return df"
   ]
  },
  {
   "cell_type": "markdown",
   "metadata": {},
   "source": [
    "<div style=\"border-radius:10px; border:green solid; padding: 5px; height: 50px; background-color: white; font-size:150%; text-align:left\">\n",
    "  <h4 align=\"center\"><font color='blue'>💡 Create Preprocessing Pipeline:</font></h4>\n",
    "</div>"
   ]
  },
  {
   "cell_type": "code",
   "execution_count": 71,
   "metadata": {},
   "outputs": [],
   "source": [
    "# Create preprocessing pipeline\n",
    "preprocessing_pipeline = Pipeline([\n",
    "    ('filter_paid_apps', FunctionTransformer(filter_paid_apps)),\n",
    "    ('clean_price', FunctionTransformer(clean_price)),\n",
    "    ('clean_installs', FunctionTransformer(clean_installs)),\n",
    "    ('calculate_revenue', FunctionTransformer(calculate_revenue))\n",
    "])"
   ]
  },
  {
   "cell_type": "code",
   "execution_count": 72,
   "metadata": {},
   "outputs": [],
   "source": [
    "# Apply the pipeline to playstore_data\n",
    "paid_apps = preprocessing_pipeline.transform(playstore_data)"
   ]
  },
  {
   "cell_type": "code",
   "execution_count": 73,
   "metadata": {},
   "outputs": [
    {
     "name": "stdout",
     "output_type": "stream",
     "text": [
      "<class 'pandas.core.frame.DataFrame'>\n",
      "Index: 800 entries, 234 to 10798\n",
      "Data columns (total 14 columns):\n",
      " #   Column          Non-Null Count  Dtype  \n",
      "---  ------          --------------  -----  \n",
      " 0   App             800 non-null    object \n",
      " 1   Category        800 non-null    object \n",
      " 2   Rating          647 non-null    float64\n",
      " 3   Reviews         800 non-null    object \n",
      " 4   Size            800 non-null    object \n",
      " 5   Installs        800 non-null    int64  \n",
      " 6   Type            800 non-null    object \n",
      " 7   Price           800 non-null    float64\n",
      " 8   Content Rating  800 non-null    object \n",
      " 9   Genres          800 non-null    object \n",
      " 10  Last Updated    800 non-null    object \n",
      " 11  Current Ver     798 non-null    object \n",
      " 12  Android Ver     799 non-null    object \n",
      " 13  Revenue         800 non-null    float64\n",
      "dtypes: float64(3), int64(1), object(10)\n",
      "memory usage: 93.8+ KB\n"
     ]
    }
   ],
   "source": [
    "paid_apps.info()"
   ]
  },
  {
   "cell_type": "code",
   "execution_count": 74,
   "metadata": {},
   "outputs": [
    {
     "name": "stdout",
     "output_type": "stream",
     "text": [
      "Skewness of Installs: 14.446690263938764\n",
      "Skewness of Revenue: 15.678274846015881\n"
     ]
    }
   ],
   "source": [
    "# Check skewness for 'Installs' and 'Revenue'\n",
    "\n",
    "skew_installs = paid_apps['Installs'].skew ()\n",
    "skew_revenue = paid_apps['Revenue'].skew ()\n",
    "\n",
    "print(f\"Skewness of Installs: {skew_installs}\")\n",
    "print(f\"Skewness of Revenue: {skew_revenue}\")"
   ]
  },
  {
   "cell_type": "code",
   "execution_count": 75,
   "metadata": {},
   "outputs": [
    {
     "name": "stdout",
     "output_type": "stream",
     "text": [
      "Skewness of log_installs: -0.10873177479945148\n",
      "Skewness of log_revenue: -0.1912368649997245\n"
     ]
    }
   ],
   "source": [
    "# Appply logarithimic transformation to reduce skewness\n",
    "\n",
    "paid_apps['Log_Installs'] = np.log1p (paid_apps['Installs']) # log1p is to handle zero and near-zero values.\n",
    "paid_apps['Log_Revenue'] = np.log1p (paid_apps['Revenue'])\n",
    "\n",
    "# Check the skewness again after transformation\n",
    "\n",
    "skew_log_installs = paid_apps['Log_Installs'].skew ()\n",
    "skew_log_revenue = paid_apps['Log_Revenue'].skew ()\n",
    "\n",
    "print(f\"Skewness of log_installs: {skew_log_installs}\")\n",
    "print(f\"Skewness of log_revenue: {skew_log_revenue}\")"
   ]
  },
  {
   "cell_type": "code",
   "execution_count": 76,
   "metadata": {},
   "outputs": [
    {
     "data": {
      "application/vnd.plotly.v1+json": {
       "config": {
        "plotlyServerURL": "https://plot.ly"
       },
       "data": [
        {
         "customdata": [
          [
           "TurboScan: scan documents and receipts in PDF",
           4.99
          ],
          [
           "Tiny Scanner Pro: PDF Doc Scan",
           4.99
          ],
          [
           "TurboScan: scan documents and receipts in PDF",
           4.99
          ],
          [
           "Tiny Scanner Pro: PDF Doc Scan",
           4.99
          ],
          [
           "AW Toolbox",
           19.9
          ],
          [
           "Bk Bee Sales Manager",
           0.99
          ],
          [
           "SkyTest BU/GU Lite",
           17.99
          ],
          [
           "BZ Reminder PRO",
           3.99
          ],
          [
           "CM FILE MANAGER Pro",
           2.99
          ],
          [
           "Super Resume Builder Pro, CV",
           4.99
          ],
          [
           "DG Surveyor",
           8.99
          ],
          [
           "The DG Buddy",
           2.49
          ],
          [
           "DS Helpdesk Plus",
           12.99
          ],
          [
           "Lean EQ",
           89.99
          ]
         ],
         "hovertemplate": "Category=BUSINESS<br>Log_Installs=%{x}<br>Log_Revenue=%{y}<br>App=%{customdata[0]}<br>Price=%{customdata[1]}<extra></extra>",
         "legendgroup": "BUSINESS",
         "marker": {
          "color": "rgb(102,194,165)",
          "line": {
           "color": "DarkSlateGray",
           "width": 1
          },
          "opacity": 0.7,
          "size": 12,
          "symbol": "circle"
         },
         "mode": "markers",
         "name": "BUSINESS",
         "orientation": "v",
         "showlegend": true,
         "type": "scatter",
         "x": {
          "bdata": "9pQtep8GJ0D2lC16nwYnQPaULXqfBidA9pQtep8GJ0Axuhsn4nUSQAIgKvoLq/w/IRhh/c3dGEBk+OSckKIbQELY+9a+ayJAZPjknJCiG0D/AFH/YHQPQEw3f7fjLgNAMbobJ+J1EkBMN3+34y4DQA==",
          "dtype": "f8"
         },
         "xaxis": "x",
         "y": {
          "bdata": "VaXORKA9KkBVpc5EoD0qQFWlzkSgPSpAVaXORKA9KkDQKgaqtGIeQCiSPzvFiPw/lecNp4U1IkDqgB5uZpUgQAx1T8p9nCRAHQNfZ+EHIUDUFi+1AXEYQNSfnomwCApAPhtO0TOuHEBfz2D8rDYbQA==",
          "dtype": "f8"
         },
         "yaxis": "y"
        },
        {
         "customdata": [
          [
           "Puffin Browser Pro",
           3.99
          ],
          [
           "Deaf - Hearing chat device H",
           3.99
          ],
          [
           "J Alvarej Moji",
           1.99
          ],
          [
           "K-@ Mail Pro - Email App",
           4.99
          ],
          [
           "pretty Easy privacy p≡p",
           0.99
          ],
          [
           "Z PIVOT",
           19.99
          ],
          [
           "AG Contacts, Premium edition",
           4.99
          ],
          [
           "Threema",
           2.99
          ],
          [
           "FREE CHATS C.L.",
           0.99
          ],
          [
           "10 WPM Amateur ham radio CW Morse code trainer",
           1.49
          ],
          [
           "CV-RECORD Pro",
           0.99
          ],
          [
           "2 Amateur ham radio CW Morse code practice keys TX",
           1.49
          ],
          [
           "CW Beacon for Ham Radio",
           1.49
          ],
          [
           "Morse Decoder for Ham Radio",
           4.99
          ],
          [
           "CW Studio ®",
           0.99
          ],
          [
           "20WPM Amateur ham radio Koch CW Morse code trainer",
           1.49
          ],
          [
           "Morse Trainer for Ham Radio",
           2.99
          ],
          [
           "Morse Machine for Ham Radio",
           0.99
          ],
          [
           "CW Ringtone (Morse Code generator)",
           2.49
          ],
          [
           "Koch Morse Trainer Pro",
           2.49
          ],
          [
           "iCluster - The DX-Cluster database",
           0.99
          ],
          [
           "WiFi Tether Router",
           2.9
          ],
          [
           "Remote EX for NISSAN",
           1.49
          ],
          [
           "ExDialer PRO Key",
           3.99
          ],
          [
           "Smart Wi-Fi Hotspot PRO",
           2.99
          ],
          [
           "Portable Wi-Fi hotspot Premium",
           0.99
          ],
          [
           "Talkie Pro - Wi-Fi Calling, Chats, File Sharing",
           2.99
          ]
         ],
         "hovertemplate": "Category=COMMUNICATION<br>Log_Installs=%{x}<br>Log_Revenue=%{y}<br>App=%{customdata[0]}<br>Price=%{customdata[1]}<extra></extra>",
         "legendgroup": "COMMUNICATION",
         "marker": {
          "color": "rgb(252,141,98)",
          "line": {
           "color": "DarkSlateGray",
           "width": 1
          },
          "opacity": 0.7,
          "size": 12,
          "symbol": "circle"
         },
         "mode": "markers",
         "name": "COMMUNICATION",
         "orientation": "v",
         "showlegend": true,
         "type": "scatter",
         "x": {
          "bdata": "9pQtep8GJ0AhGGH9zd0YQEw3f7fjLgNAQtj71r5rIkAhGGH9zd0YQEw3f7fjLgNAIRhh/c3dGEDI7R27iqErQEw3f7fjLgNAMbobJ+J1EkBk+OSckKIbQDG6GyfidRJAMbobJ+J1EkD51fzB5wghQDG6GyfidRJAMbobJ+J1EkBC2PvWvmsiQPnV/MHnCCFATDd/t+MuA0Bk+OSckKIbQEw3f7fjLgNA9pQtep8GJ0D51fzB5wghQPaULXqfBidAQtj71r5rIkBC2PvWvmsiQGT45JyQohtA",
          "dtype": "f8"
         },
         "xaxis": "x",
         "y": {
          "bdata": "2rl9xx7LKUDlSU8pRmUeQGKVzgFoUQhAAEkQM7aiJUClssWjiNMYQMjYBRwTNhVAX7J/8y5KH0BPCC9RUtItQPdUTaovHANAmk6B+uMKFEB2jHWfSJgbQJpOgfrjChRAmk6B+uMKFEAHc4qj1D8kQBZVtbuxaxJAmk6B+uMKFEAMdU/KfZwkQG8kc7TCAyFA1J+eibAICkCxltlLIUgfQPdUTaovHANAWj5dYsAnKUDw9J6FC9UhQNq5fcceyylADHVPyn2cJECwEJCnmWYiQAqphc24ASBA",
          "dtype": "f8"
         },
         "yaxis": "y"
        },
        {
         "customdata": [
          [
           "Moco+ - Chat, Meet People",
           3.99
          ],
          [
           "Calculator",
           6.99
          ],
          [
           "Truth or Dare Pro",
           1.49
          ],
          [
           "Private Dating, Hide App- Blue for PrivacyHider",
           2.99
          ],
          [
           "Ad Blocker for SayHi",
           3.99
          ],
          [
           "AMBW Dating App: Asian Men Black Women Interracial",
           7.99
          ],
          [
           "Moco+ - Chat, Meet People",
           3.99
          ]
         ],
         "hovertemplate": "Category=DATING<br>Log_Installs=%{x}<br>Log_Revenue=%{y}<br>App=%{customdata[0]}<br>Price=%{customdata[1]}<extra></extra>",
         "legendgroup": "DATING",
         "marker": {
          "color": "rgb(141,160,203)",
          "line": {
           "color": "DarkSlateGray",
           "width": 1
          },
          "opacity": 0.7,
          "size": 12,
          "symbol": "circle"
         },
         "mode": "markers",
         "name": "DATING",
         "orientation": "v",
         "showlegend": true,
         "type": "scatter",
         "x": {
          "bdata": "Qtj71r5rIkBk+OSckKIbQP8AUf9gdA9AMbobJ+J1EkAxuhsn4nUSQDG6GyfidRJAQtj71r5rIkA=",
          "dtype": "f8"
         },
         "xaxis": "x",
         "y": {
          "bdata": "LaVrTTUwJUBgvWIBa7QhQBW5WG7pSxFA2JVgWqzQFkCR43N7QvcXQM8qU9sKvRpALaVrTTUwJUA=",
          "dtype": "f8"
         },
         "yaxis": "y"
        },
        {
         "customdata": [
          [
           "Sago Mini Hat Maker",
           3.99
          ],
          [
           "Fuzzy Numbers: Pre-K Number Foundation",
           5.99
          ],
          [
           "Toca Life: City",
           3.99
          ],
          [
           "Toca Life: Hospital",
           3.99
          ]
         ],
         "hovertemplate": "Category=EDUCATION<br>Log_Installs=%{x}<br>Log_Revenue=%{y}<br>App=%{customdata[0]}<br>Price=%{customdata[1]}<extra></extra>",
         "legendgroup": "EDUCATION",
         "marker": {
          "color": "rgb(231,138,195)",
          "line": {
           "color": "DarkSlateGray",
           "width": 1
          },
          "opacity": 0.7,
          "size": 12,
          "symbol": "circle"
         },
         "mode": "markers",
         "name": "EDUCATION",
         "orientation": "v",
         "showlegend": true,
         "type": "scatter",
         "x": {
          "bdata": "ZPjknJCiG0Bk+OSckKIbQB42vKymPipA9pQtep8GJ0A=",
          "dtype": "f8"
         },
         "xaxis": "x",
         "y": {
          "bdata": "6oAebmaVIECjBp4KYmUhQPOENMMmAy1A2rl9xx7LKUA=",
          "dtype": "f8"
         },
         "yaxis": "y"
        },
        {
         "customdata": [
          [
           "My Talking Pet",
           4.99
          ],
          [
           "Meme Generator",
           2.99
          ]
         ],
         "hovertemplate": "Category=ENTERTAINMENT<br>Log_Installs=%{x}<br>Log_Revenue=%{y}<br>App=%{customdata[0]}<br>Price=%{customdata[1]}<extra></extra>",
         "legendgroup": "ENTERTAINMENT",
         "marker": {
          "color": "rgb(166,216,84)",
          "line": {
           "color": "DarkSlateGray",
           "width": 1
          },
          "opacity": 0.7,
          "size": 12,
          "symbol": "circle"
         },
         "mode": "markers",
         "name": "ENTERTAINMENT",
         "orientation": "v",
         "showlegend": true,
         "type": "scatter",
         "x": {
          "bdata": "9pQtep8GJ0D2lC16nwYnQA==",
          "dtype": "f8"
         },
         "xaxis": "x",
         "y": {
          "bdata": "VaXORKA9KkBopEFHZjcpQA==",
          "dtype": "f8"
         },
         "yaxis": "y"
        },
        {
         "customdata": [
          [
           "My CookBook Pro (Ad Free)",
           3.49
          ],
          [
           "Paprika Recipe Manager",
           4.99
          ]
         ],
         "hovertemplate": "Category=FOOD_AND_DRINK<br>Log_Installs=%{x}<br>Log_Revenue=%{y}<br>App=%{customdata[0]}<br>Price=%{customdata[1]}<extra></extra>",
         "legendgroup": "FOOD_AND_DRINK",
         "marker": {
          "color": "rgb(255,217,47)",
          "line": {
           "color": "DarkSlateGray",
           "width": 1
          },
          "opacity": 0.7,
          "size": 12,
          "symbol": "circle"
         },
         "mode": "markers",
         "name": "FOOD_AND_DRINK",
         "orientation": "v",
         "showlegend": true,
         "type": "scatter",
         "x": {
          "bdata": "Qtj71r5rIkAMAMiZvKMlQA==",
          "dtype": "f8"
         },
         "xaxis": "x",
         "y": {
          "bdata": "3z70m6jrJECzQB1YvNooQA==",
          "dtype": "f8"
         },
         "yaxis": "y"
        },
        {
         "customdata": [
          [
           "Pocket Yoga",
           2.99
          ],
          [
           "Meditation Studio",
           3.99
          ],
          [
           "Relax Melodies P: Sleep Sounds",
           2.99
          ],
          [
           "Pocket Yoga",
           2.99
          ],
          [
           "Daily Ab Workout",
           1.99
          ],
          [
           "cronometer (ad free)",
           2.99
          ],
          [
           "Lullaby Add-on for Sleep as Android",
           1.99
          ],
          [
           "Be Stronger",
           1.99
          ],
          [
           "Monitor My BP",
           5.99
          ],
          [
           "All-night drugstore CI & Price",
           0.99
          ],
          [
           "Tools & Mi Band",
           3.49
          ],
          [
           "Dr. McDougall Mobile Cookbook",
           4.99
          ],
          [
           "Vital Tones EI Pro",
           9.99
          ],
          [
           "The EO Bar",
           6.99
          ],
          [
           "EO Guide",
           4.99
          ],
          [
           "Fast Tract Diet",
           7.99
          ]
         ],
         "hovertemplate": "Category=HEALTH_AND_FITNESS<br>Log_Installs=%{x}<br>Log_Revenue=%{y}<br>App=%{customdata[0]}<br>Price=%{customdata[1]}<extra></extra>",
         "legendgroup": "HEALTH_AND_FITNESS",
         "marker": {
          "color": "rgb(229,196,148)",
          "line": {
           "color": "DarkSlateGray",
           "width": 1
          },
          "opacity": 0.7,
          "size": 12,
          "symbol": "circle"
         },
         "mode": "markers",
         "name": "HEALTH_AND_FITNESS",
         "orientation": "v",
         "showlegend": true,
         "type": "scatter",
         "x": {
          "bdata": "9pQtep8GJ0BC2PvWvmsiQPaULXqfBidA9pQtep8GJ0AMAMiZvKMlQAwAyJm8oyVADADImbyjJUBk+OSckKIbQP8AUf9gdA9ATDd/t+MuA0D2lC16nwYnQGT45JyQohtA/wBR/2B0D0BC2PvWvmsiQGT45JyQohtAZPjknJCiG0A=",
          "dtype": "f8"
         },
         "xaxis": "x",
         "y": {
          "bdata": "aKRBR2Y3KUAtpWtNNTAlQGikQUdmNylAaKRBR2Y3KUAi1N56DgQnQLi8ioeC1CdAItTeeg4EJ0DQKgaqtGIeQA5xYeVg0hZA91RNqi8cA0C1IZipkYYpQB0DX2fhByFAJrEFPcjcGEA+7VaQRk8mQB0DX2fhByFAOJqaUt74IUA=",
          "dtype": "f8"
         },
         "yaxis": "y"
        },
        {
         "customdata": [
          [
           "The Game of Life",
           2.99
          ],
          [
           "Clue",
           1.99
          ],
          [
           "The Room: Old Sins",
           4.99
          ],
          [
           "The Escapists",
           4.99
          ],
          [
           "Farming Simulator 18",
           4.99
          ],
          [
           "RollerCoaster Tycoon® Classic",
           5.99
          ],
          [
           "Call of Duty:Black Ops Zombies",
           6.99
          ],
          [
           "Star Wars ™: DIRTY",
           9.99
          ],
          [
           "Monument Valley 2",
           4.99
          ],
          [
           "B-52 Spirits of Glory Deluxe",
           0.99
          ],
          [
           "B-Grade Renegade",
           1.99
          ],
          [
           "CURSUM B",
           0.99
          ],
          [
           "Hitman Sniper",
           0.99
          ],
          [
           "The World Ends With You",
           17.99
          ],
          [
           "D+H Reaction Wall",
           0.99
          ],
          [
           "Traps n' Gemstones",
           4.99
          ],
          [
           "Ghosts'n Goblins MOBILE",
           0.99
          ],
          [
           "Lock 'n' Roll Pro - Ad Free",
           0.99
          ],
          [
           "Jump'N'Shoot Attack",
           2.49
          ],
          [
           "Ghouls'n Ghosts MOBILE",
           1.99
          ],
          [
           "Oddworld: New 'n' Tasty",
           4.99
          ],
          [
           "Obbligo o Verità? PRO",
           0.99
          ],
          [
           "R-TYPE II",
           1.99
          ],
          [
           "R-TYPE",
           1.99
          ],
          [
           "Don't Starve: Pocket Edition",
           4.99
          ],
          [
           "Don't Starve: Shipwrecked",
           4.99
          ],
          [
           "Ludo - Don't get angry",
           1.61
          ],
          [
           "Mental Hospital V",
           0.99
          ],
          [
           "Zombie Avengers:(Dreamsky)Stickman War Z",
           0.99
          ],
          [
           "Assassin's Creed Identity",
           1.99
          ],
          [
           "ONScripter Plus (Ad Free)",
           3.99
          ],
          [
           "Mupen64Plus AE (N64 Emulator)",
           0.99
          ],
          [
           "AJ Jump: Animal Jam Kangaroos!",
           1.99
          ],
          [
           "I am Bread",
           4.99
          ],
          [
           "Nightenfell: Shared AR",
           0.99
          ],
          [
           "Five Nights at Freddy's",
           2.99
          ],
          [
           "Five Nights at Freddy's: SL",
           2.99
          ],
          [
           "Five Nights at Freddy's 4",
           2.99
          ],
          [
           "Five Nights at Freddy's 3",
           2.99
          ],
          [
           "YAKALA AY",
           0.99
          ],
          [
           "Ra Ga Ba",
           1.49
          ],
          [
           "Wolf of the BF:Commando MOBILE",
           0.99
          ],
          [
           "Shadow Fight 2 Special Edition",
           4.99
          ],
          [
           "Backgammon NJ for Android",
           7.99
          ],
          [
           "Bi-Tank Ads Free",
           0.99
          ],
          [
           "BJ Bridge Pro 2018",
           4.49
          ],
          [
           "Blackjack Verite Drills",
           14
          ],
          [
           "MEGA MAN MOBILE",
           1.99
          ],
          [
           "New York Mysteries (Full)",
           6.99
          ],
          [
           "The Legacy (Full)",
           6.99
          ],
          [
           "Skip-Bo™",
           2.99
          ],
          [
           "Sic Bo",
           1.99
          ],
          [
           "BW-Go",
           3.49
          ],
          [
           "PAC-MAN CE DX",
           4.99
          ],
          [
           "Grand Theft Auto: San Andreas",
           6.99
          ],
          [
           "F*ck This Game",
           0.99
          ],
          [
           "211:CK",
           0.99
          ],
          [
           "Adventure Time Game Wizard",
           4.99
          ],
          [
           "Best Park in the Universe",
           2.99
          ],
          [
           "Chinese Chess 3D Online (Xiangqi, 象棋, co tuong)",
           0.99
          ],
          [
           "CT-REMOTE",
           4.49
          ],
          [
           "Cytus II",
           1.99
          ],
          [
           "Dr. Splorchy Presents Space Heroes",
           4.99
          ],
          [
           "DraStic DS Emulator",
           4.99
          ],
          [
           "Riptide GP: Renegade",
           2.99
          ],
          [
           "Dirt Trackin Sprint Cars",
           3.99
          ],
          [
           "Retro City Rampage DX",
           2.99
          ],
          [
           "Santa's Monster Shootout DX",
           1.99
          ],
          [
           "Lost Journey (Dreamsky)",
           0.99
          ],
          [
           "League of Stickman 2018- Ninja Arena PVP(Dreamsky)",
           0.99
          ],
          [
           "Stickman Legends: Shadow Wars",
           0.99
          ],
          [
           "E.G. Chess",
           0.99
          ],
          [
           "WIZARD Card Game",
           1.99
          ],
          [
           "The Game of Life",
           2.99
          ],
          [
           "Poker Equity Calculator Pro for No Limit Hold'em",
           0.99
          ],
          [
           "Superbrothers Sword & Sworcery",
           3.99
          ],
          [
           "Sonic 4™ Episode I",
           2.99
          ],
          [
           "An Elite Warrior Ex",
           0.99
          ],
          [
           "Galaxian(FC)",
           1.99
          ],
          [
           "Solitaire+",
           2.99
          ],
          [
           "Fruit Ninja Classic",
           0.99
          ],
          [
           "Mu.F.O.",
           0.99
          ],
          [
           "Trine 2: Complete Story",
           16.99
          ]
         ],
         "hovertemplate": "Category=GAME<br>Log_Installs=%{x}<br>Log_Revenue=%{y}<br>App=%{customdata[0]}<br>Price=%{customdata[1]}<extra></extra>",
         "legendgroup": "GAME",
         "marker": {
          "color": "rgb(179,179,179)",
          "line": {
           "color": "DarkSlateGray",
           "width": 1
          },
          "opacity": 0.7,
          "size": 12,
          "symbol": "circle"
         },
         "mode": "markers",
         "name": "GAME",
         "orientation": "v",
         "showlegend": true,
         "type": "scatter",
         "x": {
          "bdata": "9pQtep8GJ0D2lC16nwYnQPaULXqfBidA9pQtep8GJ0D2lC16nwYnQPaULXqfBidA9pQtep8GJ0D2lC16nwYnQPaULXqfBidAMbobJ+J1EkBk+OSckKIbQCEYYf3N3RhAmynshTseMEBC2PvWvmsiQO85+v5CLuY/ZPjknJCiG0BC2PvWvmsiQGT45JyQohtAZPjknJCiG0D51fzB5wghQELY+9a+ayJAMbobJ+J1EkAMAMiZvKMlQPaULXqfBidA9pQtep8GJ0BC2PvWvmsiQGT45JyQohtADADImbyjJUDI7R27iqErQB42vKymPipAZPjknJCiG0D2lC16nwYnQAwAyJm8oyVAQtj71r5rIkBk+OSckKIbQMjtHbuKoStA9pQtep8GJ0D2lC16nwYnQPaULXqfBidA7zn6/kIu5j/vOfr+Qi7mP2T45JyQohtADADImbyjJUBC2PvWvmsiQO85+v5CLuY/IRhh/c3dGEAxuhsn4nUSQELY+9a+ayJA+dX8wecIIUBk+OSckKIbQPaULXqfBidAMbobJ+J1EkBk+OSckKIbQELY+9a+ayJAyO0du4qhK0Axuhsn4nUSQEw3f7fjLgNADADImbyjJUBC2PvWvmsiQGT45JyQohtAMbobJ+J1EkD2lC16nwYnQDG6GyfidRJAyO0du4qhK0D2lC16nwYnQELY+9a+ayJAQtj71r5rIkD/AFH/YHQPQMjtHbuKoStAyO0du4qhK0DI7R27iqErQGT45JyQohtAZPjknJCiG0D2lC16nwYnQPnV/MHnCCFA9pQtep8GJ0D2lC16nwYnQDG6GyfidRJAMbobJ+J1EkD2lC16nwYnQMjtHbuKoStA7zn6/kIu5j9C2PvWvmsiQA==",
          "dtype": "f8"
         },
         "xaxis": "x",
         "y": {
          "bdata": "aKRBR2Y3KUDuSjEC8mYoQFWlzkSgPSpAVaXORKA9KkBVpc5EoD0qQKD8Nj8lmypAJR09TzHqKkBEGu6XB6ErQFWlzkSgPSpAFlW1u7FrEkDQKgaqtGIeQKWyxaOI0xhAP7JI3agbMECkfkxuSDMoQIXDE+8yBeY/HQNfZ+EHIUCwEJCnmWYiQHaMdZ9ImBtAsZbZSyFIH0DmjtnmLWkiQABJEDO2oiVAFlW1u7FrEkAi1N56DgQnQO5KMQLyZihAVaXORKA9KkAASRAztqIlQN3J5U3XiR1ASLI/T5eeJUAoFiVqZZwrQL2wSrr5nitA6oAebmaVIEBVokEsegEnQCLU3noOBCdAAEkQM7aiJUB2jHWfSJgbQE8IL1FS0i1AaKRBR2Y3KUBopEFHZjcpQGikQUdmNylAhcMT7zIF5j92gcaCazHtP3aMdZ9ImBtAs0AdWLzaKEDMazH+u5MmQIXDE+8yBeY/IaJVpBzeHkDky+v00focQBu6woALzCNAtI5tQGTsJEBgvWIBa7QhQGikQUdmNylAU5yUG3oxFUBrQ6v43VAgQABJEDO2oiVAO3T2kh2FL0AWVbW7sWsSQPdUTaovHANAs0AdWLzaKEAMdU/KfZwkQHaMdZ9ImBtAXY8smd5vGEDuSjEC8mYoQGK4sDnC2xhAxSA3d4zYLkBopEFHZjcpQC2la001MCVADHVPyn2cJECyCvQvzXASQCgWJWplnCtAKBYlamWcK0AoFiVqZZwrQHaMdZ9ImBtA0CoGqrRiHkBopEFHZjcpQG8kc7TCAyFA2rl9xx7LKUBopEFHZjcpQBZVtbuxaxJAU5yUG3oxFUBopEFHZjcpQCgWJWplnCtAhcMT7zIF5j+4JP1RABYoQA==",
          "dtype": "f8"
         },
         "yaxis": "y"
        },
        {
         "customdata": [
          [
           "Toca Mystery House",
           3.99
          ],
          [
           "My Little Princess : Stores",
           2.99
          ],
          [
           "Sago Mini Big City",
           3.99
          ],
          [
           "Pinkalicious Party",
           2.99
          ],
          [
           "Toca Builders",
           3.99
          ],
          [
           "Toca Life: City",
           3.99
          ],
          [
           "LEGO® Friends",
           4.99
          ],
          [
           "My Little Work – Garage",
           3.99
          ],
          [
           "Alizay, pirate girl",
           2.99
          ],
          [
           "Children Educational Game Full",
           7.49
          ],
          [
           "Hactar Go",
           2.99
          ],
          [
           "All-in-One Mahjong 3",
           0.99
          ],
          [
           "World Racers family board game",
           0.99
          ],
          [
           "SweetLand — Family Board Game",
           0.99
          ],
          [
           "Steam: Rails to Riches",
           4.99
          ],
          [
           "Whoowasit? - Best kids game!",
           2.99
          ],
          [
           "Lanterns: The Harvest Festival",
           4.99
          ],
          [
           "Tsuro - The Game of the Path",
           2.99
          ],
          [
           "THE aMAZEing Labyrinth",
           4.99
          ],
          [
           "Chess and Mate",
           4.99
          ],
          [
           "Avokiddo Emotions",
           2.99
          ],
          [
           "Nighty Night Circus",
           2.99
          ],
          [
           "Sago Mini Babies",
           3.99
          ],
          [
           "Dr. Panda & Toto's Treehouse",
           3.99
          ],
          [
           "Avokiddo Emotions",
           2.99
          ],
          [
           "Nighty Night Circus",
           2.99
          ],
          [
           "Sago Mini Babies",
           3.99
          ],
          [
           "Dr. Panda & Toto's Treehouse",
           3.99
          ],
          [
           "Minecraft",
           6.99
          ],
          [
           "Card Wars - Adventure Time",
           2.99
          ],
          [
           "C4droid - C/C++ compiler & IDE",
           2.99
          ],
          [
           "Mind Games Pro",
           2.99
          ],
          [
           "Speech Therapy: F",
           2.99
          ],
          [
           "F-Sim Space Shuttle",
           4.99
          ],
          [
           "Norwegian For Kids & Babies F",
           39.99
          ],
          [
           "most expensive app (H)",
           399.99
          ],
          [
           "Cut the Rope GOLD",
           0.99
          ],
          [
           "K.MOJI",
           1.99
          ],
          [
           "Math Games for Pre-K - Grade 4",
           1.99
          ],
          [
           "Fuzzy Numbers: Pre-K Number Foundation",
           5.99
          ],
          [
           "Anna.K Tarot",
           3.99
          ],
          [
           "Minecraft",
           6.99
          ],
          [
           "Guns'n'Glory Zombies Premium",
           2.99
          ],
          [
           "Guns'n'Glory Premium",
           2.99
          ],
          [
           "Guns'n'Glory Heroes Premium",
           2.99
          ],
          [
           "Age of Conquest: N. America",
           3.99
          ],
          [
           "Guns'n'Glory WW2 Premium",
           2.99
          ],
          [
           "Stand O’Food® (Full)",
           1.99
          ],
          [
           "Detect-O-Gromit (D.O.G 2)",
           2.49
          ],
          [
           "P Icon Pack",
           0.99
          ],
          [
           "Q Avatar Pro",
           1.49
          ],
          [
           "R Instructor",
           4.84
          ],
          [
           "Day R Premium",
           4.99
          ],
          [
           "Elemental Knights R Platinum",
           4.77
          ],
          [
           "Please, Don't Touch Anything",
           4.99
          ],
          [
           "Please Don't Touch Anything 3D",
           5.99
          ],
          [
           "Jurassic Life: T Rex Simulator",
           0.99
          ],
          [
           "FINAL FANTASY V",
           7.99
          ],
          [
           "DRAGON QUEST V",
           14.99
          ],
          [
           "X Construction",
           1.49
          ],
          [
           "Z Origins - (Z The Game)",
           2.99
          ],
          [
           "Math games for kids : times tables training",
           1.59
          ],
          [
           "My baby firework (Remove ad)",
           0.99
          ],
          [
           "Gunship III Vietnam People AF",
           4.99
          ],
          [
           "AG Subway Simulator Mobile",
           0.99
          ],
          [
           "Michael's AG Sound Board",
           0.99
          ],
          [
           "The Artificial Intelligence Project (A.I. Chat)",
           1.99
          ],
          [
           "Age of AI: War Strategy",
           2.49
          ],
          [
           "Hey AJ! It's Bedtime!",
           4.99
          ],
          [
           "I am Rich Plus",
           399.99
          ],
          [
           "I Am Rich Pro",
           399.99
          ],
          [
           "I Am Rich",
           389.99
          ],
          [
           "The Hunt for the Lost Treasure",
           2.99
          ],
          [
           "Attack the Light",
           2.99
          ],
          [
           "AP Government Review",
           2.99
          ],
          [
           "500 AP World History Questions",
           9.99
          ],
          [
           "iScore5 AP Psych",
           4.99
          ],
          [
           "meStudying: AP English Lit",
           4.99
          ],
          [
           "AP Series Solution Pro",
           1.99
          ],
          [
           "AP Art History Flashcards",
           29.99
          ],
          [
           "AQ Math Facts",
           2.99
          ],
          [
           "Five Nights at Freddy's 2",
           2.99
          ],
          [
           "INTERACTIVE CALCULUS PRO",
           0.99
          ],
          [
           "¡Ay Caramba!",
           1.99
          ],
          [
           "Alif Ba Ta Bullseye",
           1.99
          ],
          [
           "Learn Quran with Elif Ba",
           1.49
          ],
          [
           "Ain Arabic Kids Alif Ba ta",
           2.99
          ],
          [
           "Ice Crush 10.000 B.C.",
           0.99
          ],
          [
           "Car Driving Theory Test BC",
           1.49
          ],
          [
           "Truck Driving Test Class 3 BC",
           1.49
          ],
          [
           "My Virtual Boyfriend",
           0.99
          ],
          [
           "Baldur's Gate: Enhanced Edition",
           9.99
          ],
          [
           "CSCS BG (в български)",
           3.99
          ],
          [
           "LEGO ® Batman: Beyond Gotham",
           4.99
          ],
          [
           "Baldur's Gate II",
           9.99
          ],
          [
           "Battleheart Legacy",
           4.99
          ],
          [
           "Phonics Puzzles",
           2.99
          ],
          [
           "Chess of Blades (BL/Yaoi Game) (No VA)",
           14.99
          ],
          [
           "Beck & Bo: Toddler First Words",
           2.99
          ],
          [
           "Bo's Bedtime Story",
           2.49
          ],
          [
           "Dr.Dice - Sic bo analyzer",
           46.99
          ],
          [
           "Bo's Matching Game",
           0.99
          ],
          [
           "Bo's Dinnertime Story",
           2.49
          ],
          [
           "Bo's School Day",
           2.99
          ],
          [
           "Infinity Dungeon VIP",
           0.99
          ],
          [
           "TV Guide BR Gold",
           1.49
          ],
          [
           "BS Detector - Diss 'n' Gauges",
           1.49
          ],
          [
           "Hitman GO",
           0.99
          ],
          [
           "Theatre of the Absurd CE(Full)",
           2.99
          ],
          [
           "TI-84 CE Graphing Calculator Manual TI 84",
           4.99
          ],
          [
           "AC CE BJT Actorial",
           2
          ],
          [
           "Depths of Betrayal CE (Full)",
           2.99
          ],
          [
           "Führerschein Klasse CE, LKW 2018",
           2.49
          ],
          [
           "Dots puzzle",
           0.99
          ],
          [
           "Reading Race 1b: sh, ch words",
           3.99
          ],
          [
           "Speech Therapy: CH",
           1.99
          ],
          [
           "boattheory.ch Full 2018",
           19.4
          ],
          [
           "DRAGON QUEST IV",
           14.99
          ],
          [
           "USMLE Step 2 CK Flashcards",
           19.99
          ],
          [
           "Teen Titans GO Figure!",
           3.99
          ],
          [
           "CN Superstar Soccer: Goal!!!",
           2.99
          ],
          [
           "Teeny Titans - Teen Titans Go!",
           3.99
          ],
          [
           "Ski Safari: Adventure Time",
           0.99
          ],
          [
           "Rockstars of Ooo",
           1.99
          ],
          [
           "Flipped Out! - Powerpuff Girls",
           2.99
          ],
          [
           "Formula Cartoon All Stars",
           2.99
          ],
          [
           "Tetrobot and Co.",
           2.99
          ],
          [
           "Wuwu & Co.",
           2.99
          ],
          [
           "CS go bomb simulator",
           0.99
          ],
          [
           "Morse Player",
           1.99
          ],
          [
           "30WPM Amateur ham radio Koch CW Morse code trainer",
           1.49
          ],
          [
           "Learn CW",
           2.49
          ],
          [
           "TI-Nspire CX Calculator Manual",
           4.99
          ],
          [
           "go41cx",
           10
          ],
          [
           "The House of Da Vinci",
           4.99
          ],
          [
           "King of Math",
           2.99
          ],
          [
           "Peppa Pig: Party Time",
           2.99
          ],
          [
           "LEGO Batman: DC Super Heroes",
           4.99
          ],
          [
           "Myth Defense 2: DF Platinum",
           3.99
          ],
          [
           "ZombieVital DG",
           12.99
          ],
          [
           "Interactive NPC DM Tool",
           0.99
          ],
          [
           "Writing Wizard Premium - Handwriting",
           4.49
          ],
          [
           "DRAGON QUEST VIII",
           19.99
          ],
          [
           "DRAGON QUEST III",
           9.99
          ],
          [
           "DRAGON QUEST",
           2.99
          ],
          [
           "DRAGON QUEST II",
           4.99
          ],
          [
           "DRAGON QUEST VI",
           14.99
          ],
          [
           "CHRONO TRIGGER (Upgrade Ver.)",
           9.99
          ],
          [
           "FINAL FANTASY DIMENSIONS",
           13.99
          ],
          [
           "Dr. Panda Farm",
           2.99
          ],
          [
           "DR.MEEP",
           2.99
          ],
          [
           "Dr. Panda Art Class",
           2.99
          ],
          [
           "Dr. Panda's Swimming Pool",
           1.99
          ],
          [
           "Dr. Panda & Toto's Treehouse",
           3.99
          ],
          [
           "Dr. Seuss's ABC",
           3.99
          ],
          [
           "Dr. Panda Hospital",
           2.99
          ],
          [
           "Dr. Panda Restaurant 2",
           2.99
          ],
          [
           "Dr. Panda Supermarket",
           2.99
          ],
          [
           "Real Sheet ∞: Pathfinder + DT",
           2.99
          ],
          [
           "Bloons TD 5",
           2.99
          ],
          [
           "ZOOKEEPER DX TouchEdition",
           0.99
          ],
          [
           "Chronolink DX",
           0.99
          ],
          [
           "Bubble Shooter DX AdFree",
           2.99
          ],
          [
           "Dress Up RagazzA13 DX",
           0.99
          ],
          [
           "Unstoppaball DX",
           1.49
          ],
          [
           "Sokoban Land DX",
           2.99
          ],
          [
           "Train Sim Pro",
           1.49
          ],
          [
           "DZ Puzzle",
           0.99
          ],
          [
           "NBA JAM by EA SPORTS™",
           4.99
          ],
          [
           "RPG ブレイジング ソウルズ アクセレイト",
           10.99
          ],
          [
           "Carrier Landings Pro",
           12.99
          ],
          [
           "EG Classroom Decimals™",
           2.99
          ],
          [
           "Learn Music Notes",
           1.99
          ],
          [
           "Farming Simulator 16",
           2.99
          ],
          [
           "El Chavo",
           0.99
          ],
          [
           "Masha and the Bear- House Cleaning Games for Girls",
           1.99
          ],
          [
           "Masha and the Bear - Hair Salon and MakeUp Games",
           2.49
          ],
          [
           "Where's My Water?",
           1.99
          ],
          [
           "Out There Chronicles - Ep. 1",
           2.99
          ],
          [
           "Out There Chronicles - Ep. 2",
           2.99
          ],
          [
           "EP McGuffey Primer",
           1.99
          ],
          [
           "The Great Wobo Escape Ep.1",
           1.99
          ],
          [
           "Learn Italian with MosaLingua",
           4.99
          ],
          [
           "IF YOU TO EU PEGO",
           1.26
          ],
          [
           "European War 6: 1804",
           0.99
          ],
          [
           "XCOM®: Enemy Within",
           9.99
          ],
          [
           "Deus Ex GO",
           0.99
          ],
          [
           "SCI-FI UI",
           1.99
          ],
          [
           "FP VoiceBot",
           0.99
          ],
          [
           "sugar, sugar",
           1.2
          ],
          [
           "Word Search Tab 1 FR",
           1.04
          ]
         ],
         "hovertemplate": "Category=FAMILY<br>Log_Installs=%{x}<br>Log_Revenue=%{y}<br>App=%{customdata[0]}<br>Price=%{customdata[1]}<extra></extra>",
         "legendgroup": "FAMILY",
         "marker": {
          "color": "rgb(102,194,165)",
          "line": {
           "color": "DarkSlateGray",
           "width": 1
          },
          "opacity": 0.7,
          "size": 12,
          "symbol": "circle"
         },
         "mode": "markers",
         "name": "FAMILY",
         "orientation": "v",
         "showlegend": true,
         "type": "scatter",
         "x": {
          "bdata": "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",
          "dtype": "f8"
         },
         "xaxis": "x",
         "y": {
          "bdata": "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",
          "dtype": "f8"
         },
         "yaxis": "y"
        },
        {
         "customdata": [
          [
           "Monash Uni Low FODMAP Diet",
           9
          ],
          [
           "iBP Blood Pressure",
           0.99
          ],
          [
           "Pedi STAT",
           5.49
          ],
          [
           "ASCCP Mobile",
           9.99
          ],
          [
           "Journal Club: Medicine",
           6.99
          ],
          [
           "Paramedic Protocol Provider",
           10
          ],
          [
           "MommyMeds",
           3.99
          ],
          [
           "Medical ID - In Case of Emergency (ICE)",
           5.99
          ],
          [
           "Human Anatomy Atlas 2018: Complete 3D Human Body",
           24.99
          ],
          [
           "Essential Anatomy 3",
           11.99
          ],
          [
           "Vargo Anesthesia Mega App",
           79.99
          ],
          [
           "EMT Review Plus",
           11.99
          ],
          [
           "Muscle Trigger Point Anatomy",
           2.99
          ],
          [
           "2017 EMRA Antibiotic Guide",
           16.99
          ],
          [
           "ASRA Coags",
           3.99
          ],
          [
           "IBM Micromedex Drug Info",
           2.99
          ],
          [
           "Diabetes & Diet Tracker",
           9.99
          ],
          [
           "VeinSeek",
           3.99
          ],
          [
           "Block Buddy",
           14.99
          ],
          [
           "Super Hearing Secret Voices Recorder PRO",
           2.99
          ],
          [
           "EMT Study - NREMT Test Prep",
           3.99
          ],
          [
           "Calcium Pro",
           2.99
          ],
          [
           "Arrhythmias and Dysrhythmias",
           1
          ],
          [
           "EMT PASS",
           29.99
          ],
          [
           "Pocket Lab Values",
           2.99
          ],
          [
           "Medical terms (OFFLINE)",
           2.99
          ],
          [
           "Cardiac diagnosis (heart rate, arrhythmia)",
           12.99
          ],
          [
           "ERres- Emergency Medicine",
           4.99
          ],
          [
           "FHR 5-Tier 2.0",
           2.99
          ],
          [
           "AnatomyMapp",
           14.99
          ],
          [
           "OptoDrum",
           5.99
          ],
          [
           "Migraine, Headache Diary HeadApp Pro",
           3.49
          ],
          [
           "Blood Pressure Companion",
           0.99
          ],
          [
           "Visual Anatomy 2",
           2.49
          ],
          [
           "Muscle Premium - Human Anatomy, Kinesiology, Bones",
           24.99
          ],
          [
           "CCHT PREP",
           10.99
          ],
          [
           "Paramedic Meds",
           1.99
          ],
          [
           "Advanced Comprehension Therapy",
           24.99
          ],
          [
           "OmniMedix Medical Calculator",
           4.99
          ],
          [
           "Breathing Zone",
           3.99
          ],
          [
           "Lab Values + Medical Reference",
           2.99
          ],
          [
           "Recognise Foot",
           7.49
          ],
          [
           "Anti Mosquito simulation",
           1.5
          ],
          [
           "Pain Tracker & Diary",
           2.99
          ],
          [
           "Menstrual Calendar Premium",
           3.99
          ],
          [
           "Whist - Tinnitus Relief",
           1.99
          ],
          [
           "Critical Care Paramedic Review",
           9.99
          ],
          [
           "With Helper Pro Pill Reminder",
           3.99
          ],
          [
           "Manage My Pain Pro",
           3.99
          ],
          [
           "End Anxiety Pro - Stress, Panic Attack Help",
           3.99
          ],
          [
           "Acupuncture Assistant",
           7.99
          ],
          [
           "Number Therapy",
           14.99
          ],
          [
           "InfantRisk Center HCP",
           9.99
          ],
          [
           "EMT Tutor NREMT-B Study Guide",
           3.99
          ],
          [
           "Hospitalist Handbook",
           19.99
          ],
          [
           "PTA Content Master",
           29.99
          ],
          [
           "Navi Radiography Pro",
           15.99
          ],
          [
           "Nursing Care Plan NANDA Tables",
           0.99
          ],
          [
           "A Manual of Acupuncture",
           33.99
          ],
          [
           "palmPEDi: Pediatric Tape",
           0.99
          ],
          [
           "Vargo Anesthesia Mega App",
           79.99
          ],
          [
           "Monash Uni Low FODMAP Diet",
           9
          ],
          [
           "Human Anatomy Atlas 2018: Complete 3D Human Body",
           24.99
          ],
          [
           "ASCCP Mobile",
           9.99
          ],
          [
           "Paramedic Protocol Provider",
           10
          ],
          [
           "2017 EMRA Antibiotic Guide",
           16.99
          ],
          [
           "Essential Anatomy 3",
           11.99
          ],
          [
           "EMT PASS",
           29.99
          ],
          [
           "Block Buddy",
           14.99
          ],
          [
           "Language Therapy: Aphasia",
           74.99
          ],
          [
           "EMT Review Plus",
           11.99
          ],
          [
           "Journal Club: Medicine",
           6.99
          ],
          [
           "Pedi STAT",
           5.49
          ],
          [
           "AnatomyMapp",
           14.99
          ],
          [
           "Diabetes & Diet Tracker",
           9.99
          ],
          [
           "A Manual of Acupuncture",
           33.99
          ],
          [
           "PTA Content Master",
           29.99
          ],
          [
           "Muscle Premium - Human Anatomy, Kinesiology, Bones",
           24.99
          ],
          [
           "Cardiac diagnosis (heart rate, arrhythmia)",
           12.99
          ],
          [
           "LTC AS Legal",
           39.99
          ],
          [
           "Medical ID - In Case of Emergency (ICE)",
           5.99
          ],
          [
           "IBM Micromedex Drug Info",
           2.99
          ],
          [
           "Advanced Comprehension Therapy",
           24.99
          ],
          [
           "Hospitalist Handbook",
           19.99
          ],
          [
           "Visualmed",
           2.99
          ],
          [
           "ABG Master",
           0.99
          ],
          [
           "OrthoFlow",
           5.99
          ],
          [
           "Be the Expert in Phlebotomy - Professional Nursing",
           0.99
          ],
          [
           "EMT Tutor NREMT-B Study Guide",
           3.99
          ],
          [
           "Cardio Z",
           5.99
          ],
          [
           "AF-STROKE",
           5
          ],
          [
           "Gravidez ao Vivo",
           2.99
          ],
          [
           "BG Monitor Diabetes Pro",
           5.99
          ],
          [
           "iBP Blood Pressure",
           0.99
          ],
          [
           "Blood Pressure Companion",
           0.99
          ],
          [
           "bpresso PRO",
           5.49
          ],
          [
           "CE Genius Nurses Edition",
           3.99
          ],
          [
           "Squeezy CF",
           2.99
          ],
          [
           "Emergency Brain CT",
           0.99
          ],
          [
           "Abdominal CT Sectional Walker",
           9.99
          ],
          [
           "Interactive CT and MRI Anatomy",
           15.46
          ],
          [
           "CT and XR Dose Calculator",
           0.99
          ],
          [
           "Chest CT Sectional Walker",
           9.99
          ],
          [
           "Radiological Anatomy For FRCR1",
           6.99
          ],
          [
           "Differential Dx",
           3.99
          ],
          [
           "Human Anatomy Atlas 2018: Complete 3D Human Body",
           24.99
          ],
          [
           "EP Calipers",
           0.99
          ],
          [
           "EP Coding",
           0.99
          ],
          [
           "EP Cook Book",
           200
          ]
         ],
         "hovertemplate": "Category=MEDICAL<br>Log_Installs=%{x}<br>Log_Revenue=%{y}<br>App=%{customdata[0]}<br>Price=%{customdata[1]}<extra></extra>",
         "legendgroup": "MEDICAL",
         "marker": {
          "color": "rgb(252,141,98)",
          "line": {
           "color": "DarkSlateGray",
           "width": 1
          },
          "opacity": 0.7,
          "size": 12,
          "symbol": "circle"
         },
         "mode": "markers",
         "name": "MEDICAL",
         "orientation": "v",
         "showlegend": true,
         "type": "scatter",
         "x": {
          "bdata": "9pQtep8GJ0BC2PvWvmsiQELY+9a+ayJAQtj71r5rIkBC2PvWvmsiQELY+9a+ayJA+dX8wecIIUD51fzB5wghQPaULXqfBidADADImbyjJUBk+OSckKIbQELY+9a+ayJADADImbyjJUBk+OSckKIbQGT45JyQohtAQtj71r5rIkBk+OSckKIbQGT45JyQohtAZPjknJCiG0Axuhsn4nUSQPnV/MHnCCFA+dX8wecIIUAhGGH9zd0YQGT45JyQohtAQtj71r5rIkBk+OSckKIbQDG6GyfidRJAZPjknJCiG0AhGGH9zd0YQPnV/MHnCCFAZPjknJCiG0AhGGH9zd0YQGT45JyQohtA+dX8wecIIUBC2PvWvmsiQGT45JyQohtAQtj71r5rIkAxuhsn4nUSQGT45JyQohtA+dX8wecIIUBC2PvWvmsiQGT45JyQohtAZPjknJCiG0Axuhsn4nUSQAwAyJm8oyVAZPjknJCiG0Bk+OSckKIbQPnV/MHnCCFA+dX8wecIIUBk+OSckKIbQELY+9a+ayJA/wBR/2B0D0Bk+OSckKIbQELY+9a+ayJAZPjknJCiG0Bk+OSckKIbQCEYYf3N3RhAIRhh/c3dGEBk+OSckKIbQPnV/MHnCCFAZPjknJCiG0D2lC16nwYnQPaULXqfBidAQtj71r5rIkBC2PvWvmsiQGT45JyQohtADADImbyjJUBk+OSckKIbQGT45JyQohtAZPjknJCiG0BC2PvWvmsiQELY+9a+ayJAQtj71r5rIkD51fzB5wghQGT45JyQohtAZPjknJCiG0Bk+OSckKIbQELY+9a+ayJAMbobJ+J1EkAxuhsn4nUSQPnV/MHnCCFAQtj71r5rIkAxuhsn4nUSQGT45JyQohtA7zn6/kIu5j//AFH/YHQPQEw3f7fjLgNA7zn6/kIu5j9C2PvWvmsiQDG6GyfidRJAMbobJ+J1EkBk+OSckKIbQCEYYf3N3RhAQtj71r5rIkBk+OSckKIbQGT45JyQohtA7zn6/kIu5j9MN3+34y4DQEw3f7fjLgNAMbobJ+J1EkBk+OSckKIbQP8AUf9gdA9AMbobJ+J1EkAxuhsn4nUSQCEYYf3N3RhA9pQtep8GJ0Axuhsn4nUSQP8AUf9gdA9AAAAAAAAAAAA=",
          "dtype": "f8"
         },
         "xaxis": "x",
         "y": {
          "bdata": "7kiW7phrK0CwEJCnmWYiQPDQPlWa0yVAPyRLVxwGJ0A+7VaQRk8mQPaULXqfBidAgn5qZlTNI0DO8qnIWJ0kQMIvlkV6di1A+VAxnJKbKkD2Pm6MT5QmQOxTFT2LYydAuLyKh4LUJ0Dn/HXUGnsjQOqAHm5mlSBADHVPyn2cJEDyLx+3O2siQOqAHm5mlSBA7cFnMPw6I0DYlWBarNAWQIJ+amZUzSNATjCK/J05I0AhGGH9zd0YQPX0M7cHniRADHVPyn2cJEAKqYXNuAEgQD4bTtEzrhxAHQNfZ+EHIUAcsVrcAD4dQOxUtHD9ciZAowaeCmJlIUC7FBumPtwdQHaMdZ9ImBtAXvr4yu7bIkCj7IBPjtsoQMHJyvESnCJAG7rCgAvMI0CvG6y30ksfQB0DX2fhByFAgn5qZlTNI0AMdU/KfZwkQAp3rEnJ1yFACQuyjGtBHUDYlWBarNAWQP6ppus6aChA0CoGqrRiHkDyLx+3O2siQIJ+amZUzSNAgn5qZlTNI0DqgB5uZpUgQMxrMf67kyZAy8PSLKN7GkDyLx+3O2siQC2la001MCVAyWnA7FrOI0D19DO3B54kQFWFLU8w+SFApbLFo4jTGECgDPu5Id4kQG8kc7TCAyFA9j5ujE+UJkDuSJbumGsrQMIvlkV6di1APyRLVxwGJ0D2lC16nwYnQOf8ddQaeyNA+VAxnJKbKkD19DO3B54kQO3BZzD8OiNAmAJTX0NzJkDsUxU9i2MnQD7tVpBGTyZA8NA+VZrTJUDsVLRw/XImQPIvH7c7ayJAoAz7uSHeJED19DO3B54kQKPsgE+O2yhAPhtO0TOuHEAOR6esjZYgQM7yqchYnSRADHVPyn2cJECvG6y30ksfQMlpwOxaziNAZW8TRgIk9j/m5XiOM2APQN0rRNLabxBAhcMT7zIF5j8tpWtNNTAlQBbdP7p0lhlAIRhh/c3dGEAKqYXNuAEgQDc2BbuTAiBAsBCQp5lmIkB2jHWfSJgbQIhsfmLDOCFATplttw64+T9IVFNMMHILQPdUTaovHANAoP+PmYqhG0CxHFB5ykojQObleI4zYA9AoP+PmYqhG0Cr60FnTjQaQOVJTylGZR5Awi+WRXp2LUAWVbW7sWsSQObleI4zYA9AAAAAAAAAAAA=",
          "dtype": "f8"
         },
         "yaxis": "y"
        },
        {
         "customdata": [
          [
           "Facetune - For Free",
           5.99
          ],
          [
           "Lapse It • Time Lapse • Pro",
           2.99
          ],
          [
           "Facetune - For Free",
           5.99
          ],
          [
           "Camera FV-5",
           3.95
          ],
          [
           "Facetune - For Free",
           5.99
          ],
          [
           "F-Stop Gallery Pro",
           4.99
          ],
          [
           "F Length Sim (no Ads)",
           2
          ],
          [
           "Arto: f.infrared photo",
           1.49
          ],
          [
           "Pocket AC",
           9.99
          ],
          [
           "NewTek NDI",
           19.99
          ],
          [
           "AI Draw | Art Filter for Selfie",
           2.99
          ],
          [
           "Ai-Ball AV Recorder",
           2.99
          ],
          [
           "BeFunky Photo Editor Pro",
           1.99
          ],
          [
           "BL 1-Click Camera",
           3.99
          ],
          [
           "Camera FV-5",
           3.95
          ],
          [
           "BlackCam Pro - B&W Camera",
           1.49
          ],
          [
           "LC-DB",
           3.49
          ],
          [
           "Guide to Nikon Df",
           29.99
          ],
          [
           "Cameringo+ Filters Camera",
           2.99
          ],
          [
           "LightMeter (noAds)",
           1.99
          ],
          [
           "PhotoFrame for Synology DS",
           4.99
          ],
          [
           "EF Lens Simulator",
           9.99
          ]
         ],
         "hovertemplate": "Category=PHOTOGRAPHY<br>Log_Installs=%{x}<br>Log_Revenue=%{y}<br>App=%{customdata[0]}<br>Price=%{customdata[1]}<extra></extra>",
         "legendgroup": "PHOTOGRAPHY",
         "marker": {
          "color": "rgb(141,160,203)",
          "line": {
           "color": "DarkSlateGray",
           "width": 1
          },
          "opacity": 0.7,
          "size": 12,
          "symbol": "circle"
         },
         "mode": "markers",
         "name": "PHOTOGRAPHY",
         "orientation": "v",
         "showlegend": true,
         "type": "scatter",
         "x": {
          "bdata": "yO0du4qhK0D2lC16nwYnQMjtHbuKoStA9pQtep8GJ0DI7R27iqErQELY+9a+ayJATDd/t+MuA0AhGGH9zd0YQGT45JyQohtAZPjknJCiG0Bk+OSckKIbQPnV/MHnCCFADADImbyjJUAxuhsn4nUSQPaULXqfBidA9pQtep8GJ0BMN3+34y4DQEw3f7fjLgNAHja8rKY+KkBC2PvWvmsiQEw3f7fjLgNAMbobJ+J1EkA=",
          "dtype": "f8"
         },
         "xaxis": "x",
         "y": {
          "bdata": "UOu5exE2L0BopEFHZjcpQFDruXsRNi9AoC6QJfbFKUBQ67l7ETYvQABJEDO2oiVAsa5vlC5bCEB2jrOgenUaQPIvH7c7ayJAyWnA7FrOI0AKqYXNuAEgQE4wivydOSNAItTeeg4EJ0CR43N7QvcXQKAukCX2xSlAN1MIbsvSJ0DFuF2YWaUMQG3/lJu90xZAmkd4LG5vLEAbusKAC8wjQA+B8/hbcA9AoP+PmYqhG0A=",
          "dtype": "f8"
         },
         "yaxis": "y"
        },
        {
         "customdata": [
          [
           "Golfshot Plus: Golf GPS",
           29.99
          ],
          [
           "G-Force Driving Assistant",
           3.88
          ],
          [
           "O'Route Orienteering",
           3.02
          ],
          [
           "Mike V: Skateboard Party PRO",
           3.99
          ],
          [
           "True Skate",
           1.99
          ],
          [
           "Hunt Buddy BC",
           2.99
          ],
          [
           "iHunter BC",
           4.49
          ],
          [
           "iFish BC",
           3.99
          ],
          [
           "Basket Manager 2018 Pro",
           2.99
          ],
          [
           "Basket Manager 2016 Pro",
           0.99
          ],
          [
           "Basket Manager 2017 Pro",
           0.99
          ],
          [
           "BT Speed",
           4.8
          ],
          [
           "Dive-Store.ch",
           1.99
          ],
          [
           "Jetting for Honda CR dirt bike",
           3.49
          ],
          [
           "Absolute RC Heli Simulator",
           4.99
          ],
          [
           "Fodbold DK Pro",
           2.99
          ],
          [
           "Basketball Dynasty Manager 16",
           1.99
          ],
          [
           "PORTABLE SOCCER DX",
           1
          ],
          [
           "Active Soccer 2 DX",
           2.99
          ],
          [
           "LocaToWeb - Live GPS tracking",
           2.49
          ],
          [
           "FL SW Fishing Regulations",
           1.99
          ],
          [
           "FL Racing Manager 2015 Pro",
           0.99
          ],
          [
           "FL Racing Manager 2018 Pro",
           1.99
          ],
          [
           "Football Manager Mobile 2018",
           8.99
          ]
         ],
         "hovertemplate": "Category=SPORTS<br>Log_Installs=%{x}<br>Log_Revenue=%{y}<br>App=%{customdata[0]}<br>Price=%{customdata[1]}<extra></extra>",
         "legendgroup": "SPORTS",
         "marker": {
          "color": "rgb(231,138,195)",
          "line": {
           "color": "DarkSlateGray",
           "width": 1
          },
          "opacity": 0.7,
          "size": 12,
          "symbol": "circle"
         },
         "mode": "markers",
         "name": "SPORTS",
         "orientation": "v",
         "showlegend": true,
         "type": "scatter",
         "x": {
          "bdata": "DADImbyjJUAxuhsn4nUSQDG6GyfidRJADADImbyjJUDI7R27iqErQPnV/MHnCCFAZPjknJCiG0Bk+OSckKIbQGT45JyQohtAZPjknJCiG0Bk+OSckKIbQEw3f7fjLgNAAiAq+gur/D8xuhsn4nUSQELY+9a+ayJAZPjknJCiG0D51fzB5wghQPnV/MHnCCFAIRhh/c3dGEBk+OSckKIbQGT45JyQohtA+dX8wecIIUD51fzB5wghQPaULXqfBidA",
          "dtype": "f8"
         },
         "xaxis": "x",
         "y": {
          "bdata": "RampHPhwLED9xB+LtNoXQPP6xsXc2hZA/qmm6zpoKEBhyF3Z3QEtQE4wivydOSNAd55zU9XRIEDqgB5uZpUgQAqphc24ASBAdox1n0iYG0B2jHWfSJgbQFdaMq5yIg9AwP0mKI8lA0BtpGIHhm4XQABJEDO2oiVACqmFzbgBIEDmjtnmLWkiQPnV/MHnCCFAHLFa3AA+HUCxltlLIUgfQNAqBqq0Yh5AbyRztMIDIUDmjtnmLWkiQNvFMjcHaytA",
          "dtype": "f8"
         },
         "yaxis": "y"
        },
        {
         "customdata": [
          [
           "Beautiful Widgets Pro",
           2.49
          ],
          [
           "HD Widgets",
           0.99
          ],
          [
           "Kairo XP (for HD Widgets)",
           0.99
          ],
          [
           "BIG Launcher",
           9.99
          ],
          [
           "Smart Launcher Pro 3",
           4.49
          ],
          [
           "B-17 Flying Fortress WWII LWP",
           1.49
          ],
          [
           "Smart Launcher theme b. gold",
           1.99
          ],
          [
           "Next Launcher 3D Theme Hit-B",
           1.7
          ],
          [
           "C Locker Pro",
           2.99
          ],
          [
           "Neon Glow C - Icon Pack",
           0.99
          ],
          [
           "Koi Live Wallpaper",
           0.99
          ],
          [
           "F-1 watchface by Delta",
           2.49
          ],
          [
           "Next Launcher 3D Theme Hit-G",
           1.7
          ],
          [
           "Go",
           0.99
          ],
          [
           "G Theme 2 for LG V30, LG G6",
           1.49
          ],
          [
           "Dialer theme G Black Gold",
           1.49
          ],
          [
           "N Launcher Pro - Nougat 7.0",
           2.99
          ],
          [
           "Dark Infusion Substratum Theme for Android N & O",
           2.49
          ],
          [
           "Planet O - Icon Pack",
           0.99
          ],
          [
           "Prime Key for Nougat Launcher& O Launcher &KitKat",
           6.99
          ],
          [
           "Android P | Xperia™ Theme 4800+ icons",
           1.99
          ],
          [
           "Android P Home KLWP",
           1.49
          ],
          [
           "P-Home for KLWP",
           0.99
          ],
          [
           "[substratum] Vacuum: P",
           1.49
          ],
          [
           "[Sub/EMUI] P Pro - EMUI 8.1/8.0/5.X Theme",
           0.99
          ],
          [
           "Pacify Exceed (Android P) - Theme for Xperia™",
           1.49
          ],
          [
           "Theme Android P Design for LG V30",
           1.49
          ],
          [
           "Pistachio Launcher for Android P 9.0",
           1.49
          ],
          [
           "Theme Android P for LG G7 & V35",
           1.49
          ],
          [
           "Pacify (Android P theme) - Theme for Xperia™",
           0.99
          ],
          [
           "Popsicle Launcher for Android P 9.0 launcher",
           1.49
          ],
          [
           "Theme Android P Black design for LG V30",
           1.49
          ],
          [
           "Theme Android P Black for LG G7 & V35",
           1.49
          ],
          [
           "Pureness Pacify (Android P) - Theme for Xperia™",
           1.49
          ],
          [
           "Android P Style Icon Pack",
           0.99
          ],
          [
           "Pixel Oreo/P Dark White AMOLED UI - Icon Pack",
           1.49
          ],
          [
           "Neon-R (Red)",
           0.99
          ],
          [
           "S Launcher Pro for Galaxy",
           4.99
          ],
          [
           "PitchBlack S - Samsung Substratum Theme “For Oreo”",
           1.99
          ],
          [
           "weather HD",
           1.99
          ],
          [
           "Light X - Icon Pack",
           0.99
          ],
          [
           "iLauncher OS 12 Pro - Phone X",
           2.99
          ],
          [
           "X Back - Icon Pack",
           0.99
          ],
          [
           "Space Z 🌏 🚀Icon Pack Theme",
           1.49
          ],
          [
           "Watch Face Swiss AJ-6",
           0.99
          ],
          [
           "AJ Gray Icon Pack",
           0.99
          ],
          [
           "AJ Gray Dark Icon Pack",
           0.99
          ],
          [
           "AJ Blue Icon Pack",
           0.99
          ],
          [
           "AJ Turquoise Dark Icon Pack",
           0.99
          ],
          [
           "AJ Orange Icon Pack",
           0.99
          ],
          [
           "AP Themes for Kustom/KLWP",
           1.49
          ],
          [
           "Glanceable Ap Watch Face",
           0.99
          ],
          [
           "Ultimate Watch 2 watch face",
           0.99
          ],
          [
           "Pujie Black Watch Face for Android Wear OS",
           1.99
          ],
          [
           "AX Watch for WatchMaker",
           0.99
          ],
          [
           "Ay Yıldız - Xperia Live Theme",
           0.99
          ],
          [
           "SLANGY-Perfect BK World Theme",
           4.85
          ],
          [
           "BL Holo Theme",
           2
          ],
          [
           "Watch Face BW Inter",
           0.99
          ],
          [
           "Beautiful Widgets Pro",
           2.49
          ],
          [
           "HD Widgets",
           0.99
          ],
          [
           "Color Changer Pro [root]",
           0.99
          ],
          [
           "Lollipop Launcher Plus",
           4.99
          ],
          [
           "Next Launcher 3D Bold-CF Theme",
           0.99
          ],
          [
           "FAV KWGT",
           0.99
          ],
          [
           "Pixxy KWGT",
           0.99
          ],
          [
           "CI 174 Gray Icon Pack",
           0.99
          ],
          [
           "CM Launcher 3D Pro💎",
           4.99
          ],
          [
           "Swift Dark CM / CM13 Theme",
           1.99
          ],
          [
           "OMEGA Black UI Theme - CM 12+",
           0.99
          ],
          [
           "Asiimov Skin - CS GO Icon Pack",
           2.49
          ],
          [
           "DK Primrose for KLWP",
           0.99
          ],
          [
           "MultiPicture Live Wallpaper dn",
           1.99
          ],
          [
           "Day Night Live Wallpaper (All)",
           2.49
          ],
          [
           "RETRO Shocked DW-6000",
           1.49
          ],
          [
           "DX Glow - Clock Widget",
           0.99
          ],
          [
           "EM Launcher Pro",
           3.99
          ],
          [
           "EU Flags Live Wallpaper",
           0.99
          ],
          [
           "ADWLauncher 1 EX",
           2.49
          ],
          [
           "Device Info Ex Live Wallpaper",
           0.99
          ],
          [
           "GO Contacts EX Black & Grey",
           0.99
          ],
          [
           "Circle Colors Pack-FN Theme",
           0.99
          ],
          [
           "FO Bixby",
           0.99
          ]
         ],
         "hovertemplate": "Category=PERSONALIZATION<br>Log_Installs=%{x}<br>Log_Revenue=%{y}<br>App=%{customdata[0]}<br>Price=%{customdata[1]}<extra></extra>",
         "legendgroup": "PERSONALIZATION",
         "marker": {
          "color": "rgb(166,216,84)",
          "line": {
           "color": "DarkSlateGray",
           "width": 1
          },
          "opacity": 0.7,
          "size": 12,
          "symbol": "circle"
         },
         "mode": "markers",
         "name": "PERSONALIZATION",
         "orientation": "v",
         "showlegend": true,
         "type": "scatter",
         "x": {
          "bdata": "yO0du4qhK0DI7R27iqErQELY+9a+ayJAQtj71r5rIkD2lC16nwYnQDG6GyfidRJA+dX8wecIIUBk+OSckKIbQELY+9a+ayJAQtj71r5rIkD2lC16nwYnQEw3f7fjLgNAZPjknJCiG0D51fzB5wghQCEYYf3N3RhAIRhh/c3dGED2lC16nwYnQGT45JyQohtAQtj71r5rIkD51fzB5wghQDG6GyfidRJAAiAq+gur/D8xuhsn4nUSQGT45JyQohtAMbobJ+J1EkBMN3+34y4DQCEYYf3N3RhA7zn6/kIu5j8xuhsn4nUSQEw3f7fjLgNAAAAAAAAAAAAxuhsn4nUSQDG6GyfidRJA7zn6/kIu5j8xuhsn4nUSQPnV/MHnCCFAMbobJ+J1EkBk+OSckKIbQGT45JyQohtAQtj71r5rIkBC2PvWvmsiQP8AUf9gdA9AQtj71r5rIkBk+OSckKIbQDG6GyfidRJA/wBR/2B0D0BMN3+34y4DQP8AUf9gdA9ATDd/t+MuA0BMN3+34y4DQCEYYf3N3RhAAiAq+gur/D9C2PvWvmsiQPaULXqfBidA7zn6/kIu5j9MN3+34y4DQP8AUf9gdA9AIRhh/c3dGEBk+OSckKIbQMjtHbuKoStAyO0du4qhK0Bk+OSckKIbQGT45JyQohtAZPjknJCiG0Bk+OSckKIbQGT45JyQohtATDd/t+MuA0D2lC16nwYnQELY+9a+ayJAMbobJ+J1EkAxuhsn4nUSQO85+v5CLuY/Qtj71r5rIkAMAMiZvKMlQDG6GyfidRJA/wBR/2B0D0Bk+OSckKIbQELY+9a+ayJAHja8rKY+KkAMAMiZvKMlQCEYYf3N3RhA/wBR/2B0D0Axuhsn4nUSQA==",
          "dtype": "f8"
         },
         "xaxis": "x",
         "y": {
          "bdata": "aS02X6F0LUAoFiVqZZwrQLAQkKeZZiJAPyRLVxwGJ0DQybhLkQcqQJpOgfrjChRA5o7Z5i1pIkBj2uTEgcEdQAx1T8p9nCRAsBCQp5lmIkBVokEsegEnQNSfnomwCApAY9rkxIHBHUBvJHO0wgMhQHaOs6B6dRpAdo6zoHp1GkBopEFHZjcpQLGW2UshSB9AsBCQp5lmIkC0jm1AZOwkQFOclBt6MRVAEDXv2sUSAUAWVbW7sWsSQCGuXD6TOh1AFlW1u7FrEkAbacPpayEGQHaOs6B6dRpAdoHGgmsx7T+aToH64woUQPdUTaovHANAAAAAAAAAAACaToH64woUQJpOgfrjChRAdoHGgmsx7T8WVbW7sWsSQPD0noUL1SFAFlW1u7FrEkAdA19n4QchQNAqBqq0Yh5AG7rCgAvMI0CwEJCnmWYiQGDFt1ZMDhRAsBCQp5lmIkAhrlw+kzodQBZVtbuxaxJA5uV4jjNgD0D3VE2qLxwDQObleI4zYA9A91RNqi8cA0D3VE2qLxwDQHaOs6B6dRpAKJI/O8WI/D+wEJCnmWYiQO5KMQLyZihAhcMT7zIF5j/3VE2qLxwDQDJSj+//+hVAZPjknJCiG0B2jHWfSJgbQGktNl+hdC1AKBYlamWcK0B2jHWfSJgbQB0DX2fhByFAdox1n0iYG0B2jHWfSJgbQHaMdZ9ImBtA91RNqi8cA0BVpc5EoD0qQBu6woALzCNAFlW1u7FrEkAlcdHZ+RUWQIXDE+8yBeY/G7rCgAvMI0BJnWLA0XYnQJpOgfrjChRA5uV4jjNgD0DqgB5uZpUgQLAQkKeZZiJAIE/APL0RLEBIsj9Pl54lQKWyxaOI0xhA5uV4jjNgD0AWVbW7sWsSQA==",
          "dtype": "f8"
         },
         "yaxis": "y"
        },
        {
         "customdata": [
          [
           "aCalendar+ Calendar & Tasks",
           5.99
          ],
          [
           "Ramfer - CNC Lathe G-code Tool",
           2.99
          ],
          [
           "m>notes notepad",
           2.99
          ],
          [
           "Ad Removal: thereisonlywe",
           6.49
          ],
          [
           "Ad Remove Plugin for App2SD",
           1.29
          ],
          [
           "F05WatchFace for Android Wear",
           0.99
          ],
          [
           "PROFESSOR SEE-BA LINGUAGENS E SUAS TECNOLOGIAS",
           2.99
          ],
          [
           "Business Calendar Pro",
           4.99
          ],
          [
           "BI Barcode Scanner",
           0.99
          ],
          [
           "QR Code Pro",
           4.49
          ],
          [
           "cronometra-br",
           154.99
          ],
          [
           "California Cop Assist CA Cop",
           4.99
          ],
          [
           "CI Attendance",
           0.99
          ],
          [
           "CamScanner (License)",
           1.99
          ],
          [
           "Pocket RxTx Pro",
           3.99
          ],
          [
           "ACCDB MDB DB Manager Pro - Editor for MS Access",
           8.99
          ],
          [
           "Técnico Legislativo Câmara Legislativa DF",
           2.99
          ],
          [
           "Cargo de Praça PM DF",
           2.99
          ],
          [
           "Diseño de columnas NTC - RSEE 2017",
           0.99
          ],
          [
           "DL Image Manager",
           0.99
          ],
          [
           "MC.Fitting",
           8.49
          ],
          [
           "myGrow",
           4.29
          ],
          [
           "Ability DS UNO",
           2.6
          ],
          [
           "Inventory & Barcode scanner & WIFI scanner",
           1.49
          ],
          [
           "ES File Explorer/Manager PRO",
           2.99
          ],
          [
           "EX File Explorer File Manage Pro",
           1.99
          ],
          [
           "Organizer",
           2.99
          ],
          [
           "Police Field Interview FI Card",
           7.99
          ]
         ],
         "hovertemplate": "Category=PRODUCTIVITY<br>Log_Installs=%{x}<br>Log_Revenue=%{y}<br>App=%{customdata[0]}<br>Price=%{customdata[1]}<extra></extra>",
         "legendgroup": "PRODUCTIVITY",
         "marker": {
          "color": "rgb(255,217,47)",
          "line": {
           "color": "DarkSlateGray",
           "width": 1
          },
          "opacity": 0.7,
          "size": 12,
          "symbol": "circle"
         },
         "mode": "markers",
         "name": "PRODUCTIVITY",
         "orientation": "v",
         "showlegend": true,
         "type": "scatter",
         "x": {
          "bdata": "9pQtep8GJ0Axuhsn4nUSQGT45JyQohtAMbobJ+J1EkBk+OSckKIbQGT45JyQohtATDd/t+MuA0D2lC16nwYnQEw3f7fjLgNA9pQtep8GJ0AAAAAAAAAAADG6GyfidRJAAiAq+gur/D8eNryspj4qQPnV/MHnCCFAIRhh/c3dGEBMN3+34y4DQEw3f7fjLgNAMbobJ+J1EkBMN3+34y4DQGT45JyQohtAZPjknJCiG0D/AFH/YHQPQAwAyJm8oyVAHja8rKY+KkD/AFH/YHQPQAwAyJm8oyVAZPjknJCiG0A=",
          "dtype": "f8"
         },
         "xaxis": "x",
         "y": {
          "bdata": "oPw2PyWbKkDYlWBarNAWQAqphc24ASBAANRucWvoGUCTL8mpFqccQHaMdZ9ImBtASFRTTDByC0BVpc5EoD0qQPdUTaovHANA0Mm4S5EHKkAAAAAAAAAAAGK4sDnC2xhAKJI/O8WI/D+9sEq6+Z4rQIJ+amZUzSNAmaEWLGfSIEBIVFNMMHILQEhUU0wwcgtAFlW1u7FrEkD3VE2qLxwDQBKaSzLxFyJAi5KRQ4K6IEBiyCK6M4ATQFysSh/obyZAmkd4LG5vLECyCvQvzXASQLi8ioeC1CdAOJqaUt74IUA=",
          "dtype": "f8"
         },
         "yaxis": "y"
        },
        {
         "customdata": [
          [
           "Weather Live Pro",
           4.49
          ],
          [
           "Weather Live",
           5.99
          ],
          [
           "W Pro - Weather Forecast & Animated Weather Maps",
           1.99
          ],
          [
           "MyRadar NOAA Weather Radar Ad Free",
           2.99
          ],
          [
           "Weather & Radar Pro - Ad-Free",
           2.99
          ],
          [
           "Weather Data CH",
           2.99
          ],
          [
           "Weather Forecast Pro",
           3.99
          ],
          [
           "Florida Tides & Weather",
           6.99
          ]
         ],
         "hovertemplate": "Category=WEATHER<br>Log_Installs=%{x}<br>Log_Revenue=%{y}<br>App=%{customdata[0]}<br>Price=%{customdata[1]}<extra></extra>",
         "legendgroup": "WEATHER",
         "marker": {
          "color": "rgb(229,196,148)",
          "line": {
           "color": "DarkSlateGray",
           "width": 1
          },
          "opacity": 0.7,
          "size": 12,
          "symbol": "circle"
         },
         "mode": "markers",
         "name": "WEATHER",
         "orientation": "v",
         "showlegend": true,
         "type": "scatter",
         "x": {
          "bdata": "9pQtep8GJ0AeNryspj4qQCEYYf3N3RhAQtj71r5rIkD2lC16nwYnQCEYYf3N3RhA9pQtep8GJ0Bk+OSckKIbQA==",
          "dtype": "f8"
         },
         "xaxis": "x",
         "y": {
          "bdata": "0Mm4S5EHKkBVU2RRLdMtQMCzzOtvnRtADHVPyn2cJEBopEFHZjcpQByxWtwAPh1A2rl9xx7LKUBgvWIBa7QhQA==",
          "dtype": "f8"
         },
         "yaxis": "y"
        },
        {
         "customdata": [
          [
           "ADS-B Driver",
           1.99
          ],
          [
           "G Cloud Apps Backup Key * root",
           4.99
          ],
          [
           "G-Playlists",
           1.49
          ],
          [
           "G-NetTrack Pro",
           14.99
          ],
          [
           "G-NetReport Pro",
           25.99
          ],
          [
           "G-NetWiFi Pro",
           5.99
          ],
          [
           "Volume Slider Like Android P Volume Control",
           0.99
          ],
          [
           "Q-slope",
           1.76
          ],
          [
           "I Can't Wake Up!",
           2.99
          ],
          [
           "X-Plane to GPS",
           0.99
          ],
          [
           "Decibel X PRO - Sound Meter dBA, Noise Detector",
           3.99
          ],
          [
           "X Home Bar - Home Bar Gesture Pro",
           1.99
          ],
          [
           "ZArchiver Donate",
           2.5
          ],
          [
           "FVD Ad-Free",
           1.99
          ],
          [
           "Vpn Hosts (ad blocker & no root & support ipv6 )",
           2.99
          ],
          [
           "RAM Cleanup Ad-Free Option",
           2.99
          ],
          [
           "Easy Hotspot Ad Free",
           0.99
          ],
          [
           "AH Alarm Panel",
           4.99
          ],
          [
           "Message AI - Write Better Messages",
           2.99
          ],
          [
           "ap,wifi testing,iperf,ping,android,Bluetooth,tcp",
           2.99
          ],
          [
           "AV Tools Pro",
           2.49
          ],
          [
           "Analog Clock AW-7 PRO",
           1.99
          ],
          [
           "Analog and Digital Clock AW-7PRO",
           1.99
          ],
          [
           "Droid PRoCon BF3",
           0.99
          ],
          [
           "BusyBox Pro",
           2.49
          ],
          [
           "Power Widget",
           1.99
          ],
          [
           "BL File Explorer",
           1.99
          ],
          [
           "BL IP-Camera",
           3.99
          ],
          [
           "BL PowerPoint Remote",
           3.99
          ],
          [
           "BatControl Pro",
           3.99
          ],
          [
           "Sam.BN Pro",
           0.99
          ],
          [
           "BS Match Maker Premium",
           0.99
          ],
          [
           "Little Magnet BT Pro",
           0.99
          ],
          [
           "Battery Notifier Pro BT",
           2.59
          ],
          [
           "USB BT Wi-Fi Color Terminal Modem",
           8.99
          ],
          [
           "Bixby Button Remapper - bxActions Pro / Coffee",
           2.99
          ],
          [
           "Trinomial Factoring Wizard",
           0.99
          ],
          [
           "CB Frequencies",
           0.99
          ],
          [
           "Antenna Tool Premium",
           0.99
          ],
          [
           "Frequencies",
           0.99
          ],
          [
           "CF-Bench Pro",
           1.49
          ],
          [
           "Battery HD Pro",
           3.99
          ],
          [
           "Automagic * Automation",
           3.9
          ],
          [
           "FlashLight HD LED Pro",
           2.99
          ],
          [
           "UFO-CQ",
           0.99
          ],
          [
           "25WPM Amateur ham radio Koch CW Morse code trainer",
           1.49
          ],
          [
           "DCUO|CR Calculator Pro",
           0.99
          ],
          [
           "Servidor Privado CR y CoC - Royale Servers PRO",
           1.99
          ],
          [
           "CZ-Cyberon Voice Commander",
           5.99
          ],
          [
           "Scale Models DB",
           2.99
          ],
          [
           "ReDNAKET DB Normalization Tool",
           0.99
          ],
          [
           "db Meter - sound level meter with data logging",
           1.49
          ],
          [
           "Droidbug BusyBox Advance PRO",
           3.99
          ],
          [
           "Penny Puss",
           4.99
          ],
          [
           "Advanced Download Manager Pro",
           2.99
          ],
          [
           "DM Die Roller 9000",
           0.99
          ],
          [
           "Deep Sleep Battery Saver Pro",
           3.28
          ],
          [
           "iCam - Webcam Video Streaming",
           4.99
          ],
          [
           "DW Contacts widget",
           0.99
          ],
          [
           "KeePass DX Pro",
           5.99
          ],
          [
           "Electrician Calculator Pro",
           14.99
          ],
          [
           "EC music dictionary",
           1.99
          ],
          [
           "Silence Premium Do Not Disturb",
           2.95
          ],
          [
           "Trazado de tuberia El Tubero",
           1.97
          ],
          [
           "ai.type keyboard Plus + Emoji",
           4.49
          ],
          [
           "Tasker",
           2.99
          ],
          [
           "Advanced EX for HYUNDAI",
           4.99
          ],
          [
           "Advanced EX for MITSUBISHI",
           4.99
          ],
          [
           "Advanced EX for KIA",
           4.99
          ],
          [
           "Advanced EX for NISSAN",
           4.99
          ],
          [
           "Advanced EX for FIAT",
           4.99
          ],
          [
           "Advanced EX for RENAULT",
           4.99
          ],
          [
           "Volume Control Ex",
           1.49
          ],
          [
           "FiSwitch",
           1.99
          ],
          [
           "WiFi Monitor Pro - analyzer of Wi-Fi networks",
           2.99
          ],
          [
           "Wi-Fi Rabbit Unlock Key",
           1
          ],
          [
           "FJ Toolkit",
           1.49
          ],
          [
           "Kernel Manager for Franco Kernel ✨",
           3.49
          ]
         ],
         "hovertemplate": "Category=TOOLS<br>Log_Installs=%{x}<br>Log_Revenue=%{y}<br>App=%{customdata[0]}<br>Price=%{customdata[1]}<extra></extra>",
         "legendgroup": "TOOLS",
         "marker": {
          "color": "rgb(179,179,179)",
          "line": {
           "color": "DarkSlateGray",
           "width": 1
          },
          "opacity": 0.7,
          "size": 12,
          "symbol": "circle"
         },
         "mode": "markers",
         "name": "TOOLS",
         "orientation": "v",
         "showlegend": true,
         "type": "scatter",
         "x": {
          "bdata": "MbobJ+J1EkD51fzB5wghQGT45JyQohtA+dX8wecIIUBMN3+34y4DQDG6GyfidRJAQtj71r5rIkD/AFH/YHQPQELY+9a+ayJA+dX8wecIIUBk+OSckKIbQELY+9a+ayJAQtj71r5rIkBC2PvWvmsiQELY+9a+ayJAQtj71r5rIkBMN3+34y4DQDG6GyfidRJAMbobJ+J1EkBMN3+34y4DQGT45JyQohtAZPjknJCiG0Axuhsn4nUSQPnV/MHnCCFA9pQtep8GJ0BC2PvWvmsiQP8AUf9gdA9AMbobJ+J1EkAhGGH9zd0YQCEYYf3N3RhATDd/t+MuA0BMN3+34y4DQGT45JyQohtAQtj71r5rIkACICr6C6v8P0LY+9a+ayJAZPjknJCiG0Axuhsn4nUSQCEYYf3N3RhAIRhh/c3dGEBk+OSckKIbQPaULXqfBidAQtj71r5rIkAMAMiZvKMlQEw3f7fjLgNATDd/t+MuA0AhGGH9zd0YQDG6GyfidRJAZPjknJCiG0D/AFH/YHQPQEw3f7fjLgNA7zn6/kIu5j8xuhsn4nUSQGT45JyQohtADADImbyjJUACICr6C6v8P0LY+9a+ayJAQtj71r5rIkBk+OSckKIbQDG6GyfidRJAZPjknJCiG0AhGGH9zd0YQELY+9a+ayJAQtj71r5rIkD2lC16nwYnQMjtHbuKoStA+dX8wecIIUBk+OSckKIbQPnV/MHnCCFA+dX8wecIIUD51fzB5wghQPnV/MHnCCFAMbobJ+J1EkBC2PvWvmsiQGT45JyQohtA+dX8wecIIUAxuhsn4nUSQPaULXqfBidA",
          "dtype": "f8"
         },
         "xaxis": "x",
         "y": {
          "bdata": "U5yUG3oxFUAHc4qj1D8kQCGuXD6TOh1A7FS0cP1yJkAi1xourUEWQBbdP7p0lhlAsBCQp5lmIkD2iq4XXfQRQAx1T8p9nCRAbyRztMIDIUDqgB5uZpUgQBu6woALzCNAKubpCNtAJEAbusKAC8wjQAx1T8p9nCRADHVPyn2cJED3VE2qLxwDQGK4sDnC2xhA2JVgWqzQFkBIVFNMMHILQLGW2UshSB9A0CoGqrRiHkBTnJQbejEVQG8kc7TCAyFAabuQabXZKEAbusKAC8wjQLIK9C/NcBJAkeNze0L3F0DlSU8pRmUeQOVJTylGZR5A91RNqi8cA0D3VE2qLxwDQHaMdZ9ImBtAiPWyfvZSJED5QWKN1J4OQAx1T8p9nCRAdox1n0iYG0AWVbW7sWsSQKWyxaOI0xhApbLFo4jTGEAhrlw+kzodQNq5fcceyylAFOxFA4ckJUC4vIqHgtQnQPdUTaovHANAG2nD6WshBkClssWjiNMYQFOclBt6MRVAowaeCmJlIUBgxbdWTA4UQPdUTaovHANAdoHGgmsx7T+R43N7QvcXQB0DX2fhByFAuLyKh4LUJ0Aokj87xYj8P3CCCb7iyyRAAEkQM7aiJUB2jHWfSJgbQBbdP7p0lhlA7cFnMPw6I0DAs8zrb50bQLg6J4uYlSRAWfVWmd/GI0DQybhLkQcqQE8IL1FS0i1AB3OKo9Q/JEAdA19n4QchQAdziqPUPyRAB3OKo9Q/JEAHc4qj1D8kQAdziqPUPyRAmk6B+uMKFEAbusKAC8wjQAqphc24ASBA+dX8wecIIUCaToH64woUQLUhmKmRhilA",
          "dtype": "f8"
         },
         "yaxis": "y"
        },
        {
         "customdata": [
          [
           "Maps & GPS Navigation OsmAnd+",
           8.99
          ],
          [
           "Greater London A-Z 2016",
           8.49
          ],
          [
           "Es-Bg Offline Voice Translator",
           1.49
          ],
          [
           "Ultimate Public Campgrounds (Over 37,100 in US&CA)",
           3.99
          ],
          [
           "Navigator PRO - GPS Navigation with Offline Maps",
           2.49
          ],
          [
           "D.C. Driving/Walking Tours",
           4.99
          ],
          [
           "DC Metro Transit",
           2.99
          ],
          [
           "EG | Explore Folegandros",
           3.99
          ],
          [
           "Monastery of El Escorial",
           1.99
          ],
          [
           "YouCamp EU",
           2.56
          ],
          [
           "Campervan.Guide Pro",
           5.99
          ],
          [
           "XE Currency Pro",
           1.99
          ]
         ],
         "hovertemplate": "Category=TRAVEL_AND_LOCAL<br>Log_Installs=%{x}<br>Log_Revenue=%{y}<br>App=%{customdata[0]}<br>Price=%{customdata[1]}<extra></extra>",
         "legendgroup": "TRAVEL_AND_LOCAL",
         "marker": {
          "color": "rgb(102,194,165)",
          "line": {
           "color": "DarkSlateGray",
           "width": 1
          },
          "opacity": 0.7,
          "size": 12,
          "symbol": "circle"
         },
         "mode": "markers",
         "name": "TRAVEL_AND_LOCAL",
         "orientation": "v",
         "showlegend": true,
         "type": "scatter",
         "x": {
          "bdata": "9pQtep8GJ0Bk+OSckKIbQEw3f7fjLgNA+dX8wecIIUAMAMiZvKMlQP8AUf9gdA9A+dX8wecIIUAAAAAAAAAAAGT45JyQohtAZPjknJCiG0BC2PvWvmsiQELY+9a+ayJA",
          "dtype": "f8"
         },
         "xaxis": "x",
         "y": {
          "bdata": "28UyNwdrK0ASmksy8RciQBtpw+lrIQZAgn5qZlTNI0BJnWLA0XYnQOPQgZ0FGBZATjCK/J05I0AAAAAAAAAAANAqBqq0Yh5A6ukcPoJkH0AtmHDIOgAmQBu6woALzCNA",
          "dtype": "f8"
         },
         "yaxis": "y"
        },
        {
         "customdata": [
          [
           "A41 WatchFace for Android Wear Smart Watch",
           0.99
          ],
          [
           "H*nest Meditation",
           1.99
          ],
          [
           "💎 I'm rich",
           399.99
          ],
          [
           "I'm Rich - Trump Edition",
           400
          ],
          [
           "Kicker U",
           3.99
          ],
          [
           "Alarmy (Sleep If U Can) - Pro",
           2.49
          ],
          [
           "I am rich",
           399.99
          ],
          [
           "I am rich VIP",
           299.99
          ],
          [
           "I am extremely Rich",
           379.99
          ],
          [
           "I am Rich Person",
           37.99
          ],
          [
           "I am Millionaire - Richest guy in the town",
           2.49
          ],
          [
           "Sleep as Android Unlock",
           5.99
          ],
          [
           "Lunar Calendar",
           4.99
          ],
          [
           "Board Game Stats: Play tracking for tabletop games",
           2.99
          ],
          [
           "CA Speakers",
           0.99
          ],
          [
           "My Movies Pro - Movie & TV Collection Library",
           7.99
          ],
          [
           "AC DC Power Monitor",
           3.04
          ],
          [
           "The Secret Daily Teachings",
           4.99
          ],
          [
           "I'm Rich/Eu sou Rico/أنا غني/我很有錢",
           399.99
          ]
         ],
         "hovertemplate": "Category=LIFESTYLE<br>Log_Installs=%{x}<br>Log_Revenue=%{y}<br>App=%{customdata[0]}<br>Price=%{customdata[1]}<extra></extra>",
         "legendgroup": "LIFESTYLE",
         "marker": {
          "color": "rgb(252,141,98)",
          "line": {
           "color": "DarkSlateGray",
           "width": 1
          },
          "opacity": 0.7,
          "size": 12,
          "symbol": "circle"
         },
         "mode": "markers",
         "name": "LIFESTYLE",
         "orientation": "v",
         "showlegend": true,
         "type": "scatter",
         "x": {
          "bdata": "+dX8wecIIUD51fzB5wghQELY+9a+ayJAQtj71r5rIkD51fzB5wghQELY+9a+ayJA9pQtep8GJ0BC2PvWvmsiQGT45JyQohtAZPjknJCiG0D51fzB5wghQMjtHbuKoStAZPjknJCiG0D51fzB5wghQDG6GyfidRJAQtj71r5rIkBMN3+34y4DQGT45JyQohtAAAAAAAAAAAA=",
          "dtype": "f8"
         },
         "xaxis": "x",
         "y": {
          "bdata": "byRztMIDIUDmjtnmLWkiQMPD87pPZy5AncLSAVNnLkCCfmpmVM0jQNEabLfNPiRAQCgqER6BMUAuG5WVA9QtQP3qbVIgsilA6qgt8hcXJUBe+vjK7tsiQFDruXsRNi9AHQNfZ+EHIUBOMIr8nTkjQBZVtbuxaxJAzGsx/ruTJkAfSj0EEJMLQB0DX2fhByFAAAAAAAAAAAA=",
          "dtype": "f8"
         },
         "yaxis": "y"
        },
        {
         "customdata": [
          [
           "Ulysse Speedometer Pro",
           1.99
          ],
          [
           "FORD V SERIES CALC - NO LIMIT",
           9.99
          ],
          [
           "Билеты ПДД CD 2019 PRO",
           1.49
          ]
         ],
         "hovertemplate": "Category=AUTO_AND_VEHICLES<br>Log_Installs=%{x}<br>Log_Revenue=%{y}<br>App=%{customdata[0]}<br>Price=%{customdata[1]}<extra></extra>",
         "legendgroup": "AUTO_AND_VEHICLES",
         "marker": {
          "color": "rgb(141,160,203)",
          "line": {
           "color": "DarkSlateGray",
           "width": 1
          },
          "opacity": 0.7,
          "size": 12,
          "symbol": "circle"
         },
         "mode": "markers",
         "name": "AUTO_AND_VEHICLES",
         "orientation": "v",
         "showlegend": true,
         "type": "scatter",
         "x": {
          "bdata": "DADImbyjJUD/AFH/YHQPQDG6GyfidRJA",
          "dtype": "f8"
         },
         "xaxis": "x",
         "y": {
          "bdata": "ItTeeg4EJ0AmsQU9yNwYQJpOgfrjChRA",
          "dtype": "f8"
         },
         "yaxis": "y"
        },
        {
         "customdata": [
          [
           "Q Alerts: QAnon Drop Notifications, Research +++",
           0.99
          ],
          [
           "Égalité et Réconciliation",
           2.99
          ]
         ],
         "hovertemplate": "Category=NEWS_AND_MAGAZINES<br>Log_Installs=%{x}<br>Log_Revenue=%{y}<br>App=%{customdata[0]}<br>Price=%{customdata[1]}<extra></extra>",
         "legendgroup": "NEWS_AND_MAGAZINES",
         "marker": {
          "color": "rgb(231,138,195)",
          "line": {
           "color": "DarkSlateGray",
           "width": 1
          },
          "opacity": 0.7,
          "size": 12,
          "symbol": "circle"
         },
         "mode": "markers",
         "name": "NEWS_AND_MAGAZINES",
         "orientation": "v",
         "showlegend": true,
         "type": "scatter",
         "x": {
          "bdata": "+dX8wecIIUAhGGH9zd0YQA==",
          "dtype": "f8"
         },
         "xaxis": "x",
         "y": {
          "bdata": "byRztMIDIUAcsVrcAD4dQA==",
          "dtype": "f8"
         },
         "yaxis": "y"
        },
        {
         "customdata": [
          [
           "Shopping List S PRO",
           2.49
          ],
          [
           "Penny Finder",
           2.99
          ]
         ],
         "hovertemplate": "Category=SHOPPING<br>Log_Installs=%{x}<br>Log_Revenue=%{y}<br>App=%{customdata[0]}<br>Price=%{customdata[1]}<extra></extra>",
         "legendgroup": "SHOPPING",
         "marker": {
          "color": "rgb(166,216,84)",
          "line": {
           "color": "DarkSlateGray",
           "width": 1
          },
          "opacity": 0.7,
          "size": 12,
          "symbol": "circle"
         },
         "mode": "markers",
         "name": "SHOPPING",
         "orientation": "v",
         "showlegend": true,
         "type": "scatter",
         "x": {
          "bdata": "MbobJ+J1EkBC2PvWvmsiQA==",
          "dtype": "f8"
         },
         "xaxis": "x",
         "y": {
          "bdata": "JXHR2fkVFkAMdU/KfZwkQA==",
          "dtype": "f8"
         },
         "yaxis": "y"
        },
        {
         "customdata": [
          [
           "Don't Panic with Andrew J.",
           2.99
          ],
          [
           "Hey AJ! It's Saturday!",
           3.99
          ],
          [
           "Al'Quran Bahasa Indonesia PRO",
           4.49
          ],
          [
           "BC MVA Fines",
           1.75
          ],
          [
           "17th Edition Cable Sizer",
           3.08
          ],
          [
           "ch-mm Dict",
           1.96
          ],
          [
           "CZ-70 (CZ-50) pistol explained",
           5.99
          ],
          [
           "CZ-52 pistol explained",
           5.99
          ],
          [
           "CZ-27 pistol explained",
           5.99
          ],
          [
           "CZ-45 pistol explained",
           5.49
          ],
          [
           "Pistolet CZ-70 CZ-50 expliqué",
           5.99
          ],
          [
           "CZ-38 (vz 38) pistol explained",
           5.99
          ],
          [
           "Reksio cz. 1",
           0.99
          ],
          [
           "10,000 Quotes DB (Premium)",
           0.99
          ],
          [
           "Dungeons and Dragons DM Tools",
           1.99
          ],
          [
           "Cossack Dictionary (DN)",
           2.99
          ],
          [
           "Officiel du SCRABBLE LAROUSSE",
           4.6
          ],
          [
           "Schlaumeier",
           0.99
          ],
          [
           "O Céu e o Inferno",
           0.99
          ],
          [
           "EU RCD Guide",
           3.61
          ],
          [
           "FN pistol Model 1906 explained",
           5.49
          ],
          [
           "FN pistol model 1903 explained",
           6.49
          ],
          [
           "The FN \"Baby\" pistol explained",
           5.99
          ],
          [
           "FN FAL rifle explained",
           6.49
          ],
          [
           "The FN HP pistol explained",
           6.49
          ],
          [
           "FN model 1900 pistol explained",
           6.49
          ],
          [
           "Pistolet FN GP35 expliqué",
           5.99
          ],
          [
           "Pistolet FN 1906 expliqué",
           5.49
          ]
         ],
         "hovertemplate": "Category=BOOKS_AND_REFERENCE<br>Log_Installs=%{x}<br>Log_Revenue=%{y}<br>App=%{customdata[0]}<br>Price=%{customdata[1]}<extra></extra>",
         "legendgroup": "BOOKS_AND_REFERENCE",
         "marker": {
          "color": "rgb(255,217,47)",
          "line": {
           "color": "DarkSlateGray",
           "width": 1
          },
          "opacity": 0.7,
          "size": 12,
          "symbol": "circle"
         },
         "mode": "markers",
         "name": "BOOKS_AND_REFERENCE",
         "orientation": "v",
         "showlegend": true,
         "type": "scatter",
         "x": {
          "bdata": "+dX8wecIIUAxuhsn4nUSQELY+9a+ayJA/wBR/2B0D0Bk+OSckKIbQEw3f7fjLgNATDd/t+MuA0BMN3+34y4DQEw3f7fjLgNATDd/t+MuA0DvOfr+Qi7mPwIgKvoLq/w/TDd/t+MuA0AhGGH9zd0YQGT45JyQohtATDd/t+MuA0D51fzB5wghQAIgKvoLq/w/IRhh/c3dGEBMN3+34y4DQEw3f7fjLgNATDd/t+MuA0BMN3+34y4DQEw3f7fjLgNATDd/t+MuA0BMN3+34y4DQAIgKvoLq/w/TDd/t+MuA0A=",
          "dtype": "f8"
         },
         "xaxis": "x",
         "y": {
          "bdata": "TjCK/J05I0CR43N7QvcXQMOpXn2nbCVA/SKTOJjuEUAv3Pme5hAgQD5hu87LMwhA3StE0tpvEEDdK0TS2m8QQN0rRNLabxBAppHIQiEYEEAziMyklxz/P92Dl/l/dQtA91RNqi8cA0ClssWjiNMYQNAqBqq0Yh5ASFRTTDByC0AmuRd/KhYkQCiSPzvFiPw/pbLFo4jTGEDBFIYDsOgMQKaRyEIhGBBA1ZgVXafAEEDdK0TS2m8QQNWYFV2nwBBA1ZgVXafAEEDVmBVdp8AQQN2Dl/l/dQtAppHIQiEYEEA=",
          "dtype": "f8"
         },
         "yaxis": "y"
        },
        {
         "customdata": [
          [
           "W-History Standalone",
           0.99
          ],
          [
           "WhatsFake Pro (Ad free)",
           0.99
          ],
          [
           "Ak Parti Yardım Toplama",
           13.99
          ]
         ],
         "hovertemplate": "Category=SOCIAL<br>Log_Installs=%{x}<br>Log_Revenue=%{y}<br>App=%{customdata[0]}<br>Price=%{customdata[1]}<extra></extra>",
         "legendgroup": "SOCIAL",
         "marker": {
          "color": "rgb(229,196,148)",
          "line": {
           "color": "DarkSlateGray",
           "width": 1
          },
          "opacity": 0.7,
          "size": 12,
          "symbol": "circle"
         },
         "mode": "markers",
         "name": "SOCIAL",
         "orientation": "v",
         "showlegend": true,
         "type": "scatter",
         "x": {
          "bdata": "ZPjknJCiG0D51fzB5wghQAAAAAAAAAAA",
          "dtype": "f8"
         },
         "xaxis": "x",
         "y": {
          "bdata": "dox1n0iYG0BvJHO0wgMhQAAAAAAAAAAA",
          "dtype": "f8"
         },
         "yaxis": "y"
        },
        {
         "customdata": [
          [
           "X Launcher Pro: PhoneX Theme, OS11 Control Center",
           1.99
          ],
          [
           "X Launcher Pro - IOS Style Theme & Control Center",
           1.99
          ],
          [
           "X Launcher Prime: With OS Style Theme & No Ads",
           1.99
          ]
         ],
         "hovertemplate": "Category=ART_AND_DESIGN<br>Log_Installs=%{x}<br>Log_Revenue=%{y}<br>App=%{customdata[0]}<br>Price=%{customdata[1]}<extra></extra>",
         "legendgroup": "ART_AND_DESIGN",
         "marker": {
          "color": "rgb(179,179,179)",
          "line": {
           "color": "DarkSlateGray",
           "width": 1
          },
          "opacity": 0.7,
          "size": 12,
          "symbol": "circle"
         },
         "mode": "markers",
         "name": "ART_AND_DESIGN",
         "orientation": "v",
         "showlegend": true,
         "type": "scatter",
         "x": {
          "bdata": "+dX8wecIIUBC2PvWvmsiQGT45JyQohtA",
          "dtype": "f8"
         },
         "xaxis": "x",
         "y": {
          "bdata": "5o7Z5i1pIkAbusKAC8wjQNAqBqq0Yh5A",
          "dtype": "f8"
         },
         "yaxis": "y"
        },
        {
         "customdata": [
          [
           "Flud (Ad free)",
           1.49
          ],
          [
           "tTorrent - ad free",
           1.99
          ],
          [
           "BSPlayer",
           5.99
          ],
          [
           "Online TV CZ/SK PRO",
           0.99
          ]
         ],
         "hovertemplate": "Category=VIDEO_PLAYERS<br>Log_Installs=%{x}<br>Log_Revenue=%{y}<br>App=%{customdata[0]}<br>Price=%{customdata[1]}<extra></extra>",
         "legendgroup": "VIDEO_PLAYERS",
         "marker": {
          "color": "rgb(102,194,165)",
          "line": {
           "color": "DarkSlateGray",
           "width": 1
          },
          "opacity": 0.7,
          "size": 12,
          "symbol": "circle"
         },
         "mode": "markers",
         "name": "VIDEO_PLAYERS",
         "orientation": "v",
         "showlegend": true,
         "type": "scatter",
         "x": {
          "bdata": "Qtj71r5rIkBC2PvWvmsiQAwAyJm8oyVAZPjknJCiG0A=",
          "dtype": "f8"
         },
         "xaxis": "x",
         "y": {
          "bdata": "NvPO6eY3I0AbusKAC8wjQCrFS0dBOClAdox1n0iYG0A=",
          "dtype": "f8"
         },
         "yaxis": "y"
        },
        {
         "customdata": [
          [
           "I Am Rich Premium",
           399.99
          ],
          [
           "I am Rich!",
           399.99
          ],
          [
           "I am rich(premium)",
           399.99
          ],
          [
           "I am Rich Premium Plus",
           18.99
          ],
          [
           "I am rich (Most expensive app)",
           399.99
          ],
          [
           "I am Rich",
           399.99
          ],
          [
           "I AM RICH PRO PLUS",
           399.99
          ],
          [
           "Ba Financial Calculator plus",
           3.99
          ],
          [
           "Financial Calculator BA Chien.",
           3.99
          ],
          [
           "BA Pro Financial Calculator",
           1.99
          ],
          [
           "My Budget Book",
           2.99
          ],
          [
           "Bitcoin BX Thailand PRO",
           4.99
          ],
          [
           "amm dz",
           5.99
          ],
          [
           "Dz kayas",
           28.99
          ],
          [
           "Eu sou Rico",
           30.99
          ],
          [
           "Eu Sou Rico",
           394.99
          ],
          [
           "Ray Financial Calculator Pro",
           2.99
          ]
         ],
         "hovertemplate": "Category=FINANCE<br>Log_Installs=%{x}<br>Log_Revenue=%{y}<br>App=%{customdata[0]}<br>Price=%{customdata[1]}<extra></extra>",
         "legendgroup": "FINANCE",
         "marker": {
          "color": "rgb(252,141,98)",
          "line": {
           "color": "DarkSlateGray",
           "width": 1
          },
          "opacity": 0.7,
          "size": 12,
          "symbol": "circle"
         },
         "mode": "markers",
         "name": "FINANCE",
         "orientation": "v",
         "showlegend": true,
         "type": "scatter",
         "x": {
          "bdata": "DADImbyjJUBk+OSckKIbQPnV/MHnCCFAQtj71r5rIkBk+OSckKIbQPnV/MHnCCFAZPjknJCiG0Bk+OSckKIbQCEYYf3N3RhAZPjknJCiG0D2lC16nwYnQDG6GyfidRJA7zn6/kIu5j/vOfr+Qi7mPwAAAAAAAAAAAAAAAAAAAABC2PvWvmsiQA==",
          "dtype": "f8"
         },
         "xaxis": "x",
         "y": {
          "bdata": "6rad+avPMEC2PYaXY8wpQH6pZ5NrBC1AGAMI7fpOKEC2PYaXY8wpQH6pZ5NrBC1Atj2Gl2PMKUDqgB5uZpUgQOVJTylGZR5A0CoGqrRiHkBopEFHZjcpQGK4sDnC2xhAM4jMpJcc/z+/algu+DQLQAAAAAAAAAAAAAAAAAAAAAAMdU/KfZwkQA==",
          "dtype": "f8"
         },
         "yaxis": "y"
        },
        {
         "customdata": [
          [
           "BringGo AU & NZ",
           0.99
          ],
          [
           "BackCountry Navigator TOPO GPS PRO",
           11.99
          ],
          [
           "CE Map - Interactive Conan Exiles Map",
           0.99
          ],
          [
           "Paris ci la Sortie du Métro",
           2.99
          ],
          [
           "Jeppesen CR Flight Computer",
           9.99
          ]
         ],
         "hovertemplate": "Category=MAPS_AND_NAVIGATION<br>Log_Installs=%{x}<br>Log_Revenue=%{y}<br>App=%{customdata[0]}<br>Price=%{customdata[1]}<extra></extra>",
         "legendgroup": "MAPS_AND_NAVIGATION",
         "marker": {
          "color": "rgb(141,160,203)",
          "line": {
           "color": "DarkSlateGray",
           "width": 1
          },
          "opacity": 0.7,
          "size": 12,
          "symbol": "circle"
         },
         "mode": "markers",
         "name": "MAPS_AND_NAVIGATION",
         "orientation": "v",
         "showlegend": true,
         "type": "scatter",
         "x": {
          "bdata": "Qtj71r5rIkD2lC16nwYnQGT45JyQohtAQtj71r5rIkAxuhsn4nUSQA==",
          "dtype": "f8"
         },
         "xaxis": "x",
         "y": {
          "bdata": "sBCQp5lmIkAjtySwdv4rQHaMdZ9ImBtADHVPyn2cJECg/4+ZiqEbQA==",
          "dtype": "f8"
         },
         "yaxis": "y"
        },
        {
         "customdata": [
          [
           "Baby Connect (activity log)",
           4.99
          ],
          [
           "SharedCare™ Co-parenting",
           4.59
          ]
         ],
         "hovertemplate": "Category=PARENTING<br>Log_Installs=%{x}<br>Log_Revenue=%{y}<br>App=%{customdata[0]}<br>Price=%{customdata[1]}<extra></extra>",
         "legendgroup": "PARENTING",
         "marker": {
          "color": "rgb(231,138,195)",
          "line": {
           "color": "DarkSlateGray",
           "width": 1
          },
          "opacity": 0.7,
          "size": 12,
          "symbol": "circle"
         },
         "mode": "markers",
         "name": "PARENTING",
         "orientation": "v",
         "showlegend": true,
         "type": "scatter",
         "x": {
          "bdata": "DADImbyjJUAxuhsn4nUSQA==",
          "dtype": "f8"
         },
         "xaxis": "x",
         "y": {
          "bdata": "s0AdWLzaKEDBy6I8YIYYQA==",
          "dtype": "f8"
         },
         "yaxis": "y"
        },
        {
         "customdata": [
          [
           "Socle Commun BO du 23-04-2015",
           0.99
          ]
         ],
         "hovertemplate": "Category=LIBRARIES_AND_DEMO<br>Log_Installs=%{x}<br>Log_Revenue=%{y}<br>App=%{customdata[0]}<br>Price=%{customdata[1]}<extra></extra>",
         "legendgroup": "LIBRARIES_AND_DEMO",
         "marker": {
          "color": "rgb(166,216,84)",
          "line": {
           "color": "DarkSlateGray",
           "width": 1
          },
          "opacity": 0.7,
          "size": 12,
          "symbol": "circle"
         },
         "mode": "markers",
         "name": "LIBRARIES_AND_DEMO",
         "orientation": "v",
         "showlegend": true,
         "type": "scatter",
         "x": {
          "bdata": "MbobJ+J1EkA=",
          "dtype": "f8"
         },
         "xaxis": "x",
         "y": {
          "bdata": "FlW1u7FrEkA=",
          "dtype": "f8"
         },
         "yaxis": "y"
        },
        {
         "customdata": [
          [
           "BP Fitness Lead Scanner",
           109.99
          ]
         ],
         "hovertemplate": "Category=EVENTS<br>Log_Installs=%{x}<br>Log_Revenue=%{y}<br>App=%{customdata[0]}<br>Price=%{customdata[1]}<extra></extra>",
         "legendgroup": "EVENTS",
         "marker": {
          "color": "rgb(255,217,47)",
          "line": {
           "color": "DarkSlateGray",
           "width": 1
          },
          "opacity": 0.7,
          "size": 12,
          "symbol": "circle"
         },
         "mode": "markers",
         "name": "EVENTS",
         "orientation": "v",
         "showlegend": true,
         "type": "scatter",
         "x": {
          "bdata": "7zn6/kIu5j8=",
          "dtype": "f8"
         },
         "xaxis": "x",
         "y": {
          "bdata": "Y/Wqd3fWEkA=",
          "dtype": "f8"
         },
         "yaxis": "y"
        },
        {
         "hovertemplate": "Log_Installs=%{x}<br>Trend=%{y}<extra></extra>",
         "legendgroup": "",
         "line": {
          "color": "#636efa",
          "dash": "solid"
         },
         "marker": {
          "line": {
           "color": "DarkSlateGray",
           "width": 1
          },
          "size": 12,
          "symbol": "circle"
         },
         "mode": "lines",
         "name": "",
         "orientation": "v",
         "showlegend": false,
         "type": "scatter",
         "x": {
          "bdata": "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",
          "dtype": "f8"
         },
         "xaxis": "x",
         "y": {
          "bdata": "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",
          "dtype": "f8"
         },
         "yaxis": "y"
        }
       ],
       "layout": {
        "font": {
         "color": "grey"
        },
        "height": 600,
        "legend": {
         "title": {
          "text": "Category"
         },
         "tracegroupgap": 0
        },
        "template": {
         "data": {
          "bar": [
           {
            "error_x": {
             "color": "#2a3f5f"
            },
            "error_y": {
             "color": "#2a3f5f"
            },
            "marker": {
             "line": {
              "color": "#E5ECF6",
              "width": 0.5
             },
             "pattern": {
              "fillmode": "overlay",
              "size": 10,
              "solidity": 0.2
             }
            },
            "type": "bar"
           }
          ],
          "barpolar": [
           {
            "marker": {
             "line": {
              "color": "#E5ECF6",
              "width": 0.5
             },
             "pattern": {
              "fillmode": "overlay",
              "size": 10,
              "solidity": 0.2
             }
            },
            "type": "barpolar"
           }
          ],
          "carpet": [
           {
            "aaxis": {
             "endlinecolor": "#2a3f5f",
             "gridcolor": "white",
             "linecolor": "white",
             "minorgridcolor": "white",
             "startlinecolor": "#2a3f5f"
            },
            "baxis": {
             "endlinecolor": "#2a3f5f",
             "gridcolor": "white",
             "linecolor": "white",
             "minorgridcolor": "white",
             "startlinecolor": "#2a3f5f"
            },
            "type": "carpet"
           }
          ],
          "choropleth": [
           {
            "colorbar": {
             "outlinewidth": 0,
             "ticks": ""
            },
            "type": "choropleth"
           }
          ],
          "contour": [
           {
            "colorbar": {
             "outlinewidth": 0,
             "ticks": ""
            },
            "colorscale": [
             [
              0,
              "#0d0887"
             ],
             [
              0.1111111111111111,
              "#46039f"
             ],
             [
              0.2222222222222222,
              "#7201a8"
             ],
             [
              0.3333333333333333,
              "#9c179e"
             ],
             [
              0.4444444444444444,
              "#bd3786"
             ],
             [
              0.5555555555555556,
              "#d8576b"
             ],
             [
              0.6666666666666666,
              "#ed7953"
             ],
             [
              0.7777777777777778,
              "#fb9f3a"
             ],
             [
              0.8888888888888888,
              "#fdca26"
             ],
             [
              1,
              "#f0f921"
             ]
            ],
            "type": "contour"
           }
          ],
          "contourcarpet": [
           {
            "colorbar": {
             "outlinewidth": 0,
             "ticks": ""
            },
            "type": "contourcarpet"
           }
          ],
          "heatmap": [
           {
            "colorbar": {
             "outlinewidth": 0,
             "ticks": ""
            },
            "colorscale": [
             [
              0,
              "#0d0887"
             ],
             [
              0.1111111111111111,
              "#46039f"
             ],
             [
              0.2222222222222222,
              "#7201a8"
             ],
             [
              0.3333333333333333,
              "#9c179e"
             ],
             [
              0.4444444444444444,
              "#bd3786"
             ],
             [
              0.5555555555555556,
              "#d8576b"
             ],
             [
              0.6666666666666666,
              "#ed7953"
             ],
             [
              0.7777777777777778,
              "#fb9f3a"
             ],
             [
              0.8888888888888888,
              "#fdca26"
             ],
             [
              1,
              "#f0f921"
             ]
            ],
            "type": "heatmap"
           }
          ],
          "histogram": [
           {
            "marker": {
             "pattern": {
              "fillmode": "overlay",
              "size": 10,
              "solidity": 0.2
             }
            },
            "type": "histogram"
           }
          ],
          "histogram2d": [
           {
            "colorbar": {
             "outlinewidth": 0,
             "ticks": ""
            },
            "colorscale": [
             [
              0,
              "#0d0887"
             ],
             [
              0.1111111111111111,
              "#46039f"
             ],
             [
              0.2222222222222222,
              "#7201a8"
             ],
             [
              0.3333333333333333,
              "#9c179e"
             ],
             [
              0.4444444444444444,
              "#bd3786"
             ],
             [
              0.5555555555555556,
              "#d8576b"
             ],
             [
              0.6666666666666666,
              "#ed7953"
             ],
             [
              0.7777777777777778,
              "#fb9f3a"
             ],
             [
              0.8888888888888888,
              "#fdca26"
             ],
             [
              1,
              "#f0f921"
             ]
            ],
            "type": "histogram2d"
           }
          ],
          "histogram2dcontour": [
           {
            "colorbar": {
             "outlinewidth": 0,
             "ticks": ""
            },
            "colorscale": [
             [
              0,
              "#0d0887"
             ],
             [
              0.1111111111111111,
              "#46039f"
             ],
             [
              0.2222222222222222,
              "#7201a8"
             ],
             [
              0.3333333333333333,
              "#9c179e"
             ],
             [
              0.4444444444444444,
              "#bd3786"
             ],
             [
              0.5555555555555556,
              "#d8576b"
             ],
             [
              0.6666666666666666,
              "#ed7953"
             ],
             [
              0.7777777777777778,
              "#fb9f3a"
             ],
             [
              0.8888888888888888,
              "#fdca26"
             ],
             [
              1,
              "#f0f921"
             ]
            ],
            "type": "histogram2dcontour"
           }
          ],
          "mesh3d": [
           {
            "colorbar": {
             "outlinewidth": 0,
             "ticks": ""
            },
            "type": "mesh3d"
           }
          ],
          "parcoords": [
           {
            "line": {
             "colorbar": {
              "outlinewidth": 0,
              "ticks": ""
             }
            },
            "type": "parcoords"
           }
          ],
          "pie": [
           {
            "automargin": true,
            "type": "pie"
           }
          ],
          "scatter": [
           {
            "fillpattern": {
             "fillmode": "overlay",
             "size": 10,
             "solidity": 0.2
            },
            "type": "scatter"
           }
          ],
          "scatter3d": [
           {
            "line": {
             "colorbar": {
              "outlinewidth": 0,
              "ticks": ""
             }
            },
            "marker": {
             "colorbar": {
              "outlinewidth": 0,
              "ticks": ""
             }
            },
            "type": "scatter3d"
           }
          ],
          "scattercarpet": [
           {
            "marker": {
             "colorbar": {
              "outlinewidth": 0,
              "ticks": ""
             }
            },
            "type": "scattercarpet"
           }
          ],
          "scattergeo": [
           {
            "marker": {
             "colorbar": {
              "outlinewidth": 0,
              "ticks": ""
             }
            },
            "type": "scattergeo"
           }
          ],
          "scattergl": [
           {
            "marker": {
             "colorbar": {
              "outlinewidth": 0,
              "ticks": ""
             }
            },
            "type": "scattergl"
           }
          ],
          "scattermap": [
           {
            "marker": {
             "colorbar": {
              "outlinewidth": 0,
              "ticks": ""
             }
            },
            "type": "scattermap"
           }
          ],
          "scattermapbox": [
           {
            "marker": {
             "colorbar": {
              "outlinewidth": 0,
              "ticks": ""
             }
            },
            "type": "scattermapbox"
           }
          ],
          "scatterpolar": [
           {
            "marker": {
             "colorbar": {
              "outlinewidth": 0,
              "ticks": ""
             }
            },
            "type": "scatterpolar"
           }
          ],
          "scatterpolargl": [
           {
            "marker": {
             "colorbar": {
              "outlinewidth": 0,
              "ticks": ""
             }
            },
            "type": "scatterpolargl"
           }
          ],
          "scatterternary": [
           {
            "marker": {
             "colorbar": {
              "outlinewidth": 0,
              "ticks": ""
             }
            },
            "type": "scatterternary"
           }
          ],
          "surface": [
           {
            "colorbar": {
             "outlinewidth": 0,
             "ticks": ""
            },
            "colorscale": [
             [
              0,
              "#0d0887"
             ],
             [
              0.1111111111111111,
              "#46039f"
             ],
             [
              0.2222222222222222,
              "#7201a8"
             ],
             [
              0.3333333333333333,
              "#9c179e"
             ],
             [
              0.4444444444444444,
              "#bd3786"
             ],
             [
              0.5555555555555556,
              "#d8576b"
             ],
             [
              0.6666666666666666,
              "#ed7953"
             ],
             [
              0.7777777777777778,
              "#fb9f3a"
             ],
             [
              0.8888888888888888,
              "#fdca26"
             ],
             [
              1,
              "#f0f921"
             ]
            ],
            "type": "surface"
           }
          ],
          "table": [
           {
            "cells": {
             "fill": {
              "color": "#EBF0F8"
             },
             "line": {
              "color": "white"
             }
            },
            "header": {
             "fill": {
              "color": "#C8D4E3"
             },
             "line": {
              "color": "white"
             }
            },
            "type": "table"
           }
          ]
         },
         "layout": {
          "annotationdefaults": {
           "arrowcolor": "#2a3f5f",
           "arrowhead": 0,
           "arrowwidth": 1
          },
          "autotypenumbers": "strict",
          "coloraxis": {
           "colorbar": {
            "outlinewidth": 0,
            "ticks": ""
           }
          },
          "colorscale": {
           "diverging": [
            [
             0,
             "#8e0152"
            ],
            [
             0.1,
             "#c51b7d"
            ],
            [
             0.2,
             "#de77ae"
            ],
            [
             0.3,
             "#f1b6da"
            ],
            [
             0.4,
             "#fde0ef"
            ],
            [
             0.5,
             "#f7f7f7"
            ],
            [
             0.6,
             "#e6f5d0"
            ],
            [
             0.7,
             "#b8e186"
            ],
            [
             0.8,
             "#7fbc41"
            ],
            [
             0.9,
             "#4d9221"
            ],
            [
             1,
             "#276419"
            ]
           ],
           "sequential": [
            [
             0,
             "#0d0887"
            ],
            [
             0.1111111111111111,
             "#46039f"
            ],
            [
             0.2222222222222222,
             "#7201a8"
            ],
            [
             0.3333333333333333,
             "#9c179e"
            ],
            [
             0.4444444444444444,
             "#bd3786"
            ],
            [
             0.5555555555555556,
             "#d8576b"
            ],
            [
             0.6666666666666666,
             "#ed7953"
            ],
            [
             0.7777777777777778,
             "#fb9f3a"
            ],
            [
             0.8888888888888888,
             "#fdca26"
            ],
            [
             1,
             "#f0f921"
            ]
           ],
           "sequentialminus": [
            [
             0,
             "#0d0887"
            ],
            [
             0.1111111111111111,
             "#46039f"
            ],
            [
             0.2222222222222222,
             "#7201a8"
            ],
            [
             0.3333333333333333,
             "#9c179e"
            ],
            [
             0.4444444444444444,
             "#bd3786"
            ],
            [
             0.5555555555555556,
             "#d8576b"
            ],
            [
             0.6666666666666666,
             "#ed7953"
            ],
            [
             0.7777777777777778,
             "#fb9f3a"
            ],
            [
             0.8888888888888888,
             "#fdca26"
            ],
            [
             1,
             "#f0f921"
            ]
           ]
          },
          "colorway": [
           "#636efa",
           "#EF553B",
           "#00cc96",
           "#ab63fa",
           "#FFA15A",
           "#19d3f3",
           "#FF6692",
           "#B6E880",
           "#FF97FF",
           "#FECB52"
          ],
          "font": {
           "color": "#2a3f5f"
          },
          "geo": {
           "bgcolor": "white",
           "lakecolor": "white",
           "landcolor": "#E5ECF6",
           "showlakes": true,
           "showland": true,
           "subunitcolor": "white"
          },
          "hoverlabel": {
           "align": "left"
          },
          "hovermode": "closest",
          "mapbox": {
           "style": "light"
          },
          "paper_bgcolor": "white",
          "plot_bgcolor": "#E5ECF6",
          "polar": {
           "angularaxis": {
            "gridcolor": "white",
            "linecolor": "white",
            "ticks": ""
           },
           "bgcolor": "#E5ECF6",
           "radialaxis": {
            "gridcolor": "white",
            "linecolor": "white",
            "ticks": ""
           }
          },
          "scene": {
           "xaxis": {
            "backgroundcolor": "#E5ECF6",
            "gridcolor": "white",
            "gridwidth": 2,
            "linecolor": "white",
            "showbackground": true,
            "ticks": "",
            "zerolinecolor": "white"
           },
           "yaxis": {
            "backgroundcolor": "#E5ECF6",
            "gridcolor": "white",
            "gridwidth": 2,
            "linecolor": "white",
            "showbackground": true,
            "ticks": "",
            "zerolinecolor": "white"
           },
           "zaxis": {
            "backgroundcolor": "#E5ECF6",
            "gridcolor": "white",
            "gridwidth": 2,
            "linecolor": "white",
            "showbackground": true,
            "ticks": "",
            "zerolinecolor": "white"
           }
          },
          "shapedefaults": {
           "line": {
            "color": "#2a3f5f"
           }
          },
          "ternary": {
           "aaxis": {
            "gridcolor": "white",
            "linecolor": "white",
            "ticks": ""
           },
           "baxis": {
            "gridcolor": "white",
            "linecolor": "white",
            "ticks": ""
           },
           "bgcolor": "#E5ECF6",
           "caxis": {
            "gridcolor": "white",
            "linecolor": "white",
            "ticks": ""
           }
          },
          "title": {
           "x": 0.05
          },
          "xaxis": {
           "automargin": true,
           "gridcolor": "white",
           "linecolor": "white",
           "ticks": "",
           "title": {
            "standoff": 15
           },
           "zerolinecolor": "white",
           "zerolinewidth": 2
          },
          "yaxis": {
           "automargin": true,
           "gridcolor": "white",
           "linecolor": "white",
           "ticks": "",
           "title": {
            "standoff": 15
           },
           "zerolinecolor": "white",
           "zerolinewidth": 2
          }
         }
        },
        "title": {
         "font": {
          "color": "DarkSlateGray",
          "family": "Arial",
          "size": 25
         },
         "text": "Relationship between Revenue and Number of Installs for Paid Apps",
         "x": 0.5
        },
        "width": 1100,
        "xaxis": {
         "anchor": "y",
         "domain": [
          0,
          1
         ],
         "gridcolor": "gray",
         "gridwidth": 0.2,
         "showgrid": true,
         "title": {
          "text": "Number of Installs"
         }
        },
        "yaxis": {
         "anchor": "x",
         "domain": [
          0,
          1
         ],
         "gridcolor": "gray",
         "gridwidth": 0.2,
         "showgrid": true,
         "title": {
          "text": "Revenue (USD)"
         }
        }
       }
      }
     },
     "metadata": {},
     "output_type": "display_data"
    }
   ],
   "source": [
    "import statsmodels.api as sm\n",
    "import plotly.express as px\n",
    "\n",
    "fig1 = px.scatter(\n",
    "    paid_apps,     # DataFrame containing only paid apps\n",
    "    x='Log_Installs', # X-axis: Log-transformed number of installs\n",
    "    y='Log_Revenue',  # Y-axis: Log-transformed revenue\n",
    "    color='Category', # Color-code points based on app category\n",
    "    title='Relationship between Revenue and Number of Installs for Paid Apps', # plot title\n",
    "    hover_data=['App', 'Price'], # Additional information displayed on hover\n",
    "    color_discrete_sequence=px.colors.qualitative.Set2, # Custom color palette\n",
    "    opacity=0.7  # Make overlapping points more visible\n",
    ")\n",
    "\n",
    "\n",
    "#-- Manually Compute the Trendline using Ordinary Least Squares (OLS) Regression\n",
    "\n",
    "# Define independent variable (Log_Installs) and add a constant for regression\n",
    "X = sm.add_constant(paid_apps['Log_Installs']) \n",
    "y = paid_apps['Log_Revenue'] # Define dependent variable (Log_Revenue)\n",
    "\n",
    "model = sm.OLS(y, X).fit() # Fit an OLS regression model\n",
    "paid_apps['Trend'] = model.predict(X)  # Predict trendline values using the fitted model\n",
    "\n",
    "\n",
    "#-- Add single trendline to scatter plot\n",
    "fig1.add_traces(px.line(\n",
    "    paid_apps.sort_values(by='Log_Installs'), # Sort by X-axis for smooth trendline\n",
    "    x='Log_Installs',\n",
    "    y='Trend'\n",
    ").data)\n",
    "\n",
    "\n",
    "#-- Customize plot layout for better appearance\n",
    "fig1.update_layout(\n",
    "    width=1100,  # Set the width of the plot\n",
    "    height=600, # Set the height of the plot\n",
    "    font_color='grey',      # Set default text color to white\n",
    "    title_font={'size': 25, 'family': 'Arial', 'color': 'DarkSlateGray'}, # Customize title style\n",
    "    title_x=0.5,  # Center-align the title\n",
    "    xaxis=dict(title_font={'size': 12, 'color': 'white'}, showgrid=True, gridcolor='gray', gridwidth=0.2), # Add light gray gridlines\n",
    "    yaxis=dict(title_font={'size': 12, 'color': 'white'}, showgrid=True, gridcolor='gray', gridwidth=0.2), # Add light gray gridlines\n",
    "    xaxis_title='Number of Installs',\n",
    "    yaxis_title='Revenue (USD)'\n",
    ")\n",
    "\n",
    "#-- Customize Scatter Points Appearance\n",
    "fig1.update_traces(marker=dict(size=12, line=dict(width=1, color='DarkSlateGray'))) # Set the size of scatter points & Add border around points\n",
    "\n",
    "# Show the plot\n",
    "fig1.show()"
   ]
  },
  {
   "cell_type": "markdown",
   "metadata": {},
   "source": [
    "<div class=\"alert alert-block alert-warning\">  \n",
    "<b>Warning:</b> Plotly interactive plots only appear after running the cells.  \n",
    "</div> "
   ]
  },
  {
   "cell_type": "markdown",
   "metadata": {},
   "source": [
    "<img src=\"../Images/task_01.png\" alt=\"Description\">"
   ]
  },
  {
   "cell_type": "markdown",
   "metadata": {},
   "source": [
    "<div style=\"border-radius:10px; border:#DEB887 solid; padding: 15px; background-color: #7FFFD4; font-size:100%; text-align:left\">\n",
    "\n",
    "<!-- <h3 align=\"center\"><font color='#DAA520'>💡 1st Task:</font></h3> -->\n",
    "    \n",
    "\n",
    "🪼 Generate a word cloud for the most frequent keywords found in 5-star reviews, but \n",
    "exclude common stopwords and app names. Additionally, filter the reviews to include \n",
    "only those from apps in the \"Health & Fitness\" category. "
   ]
  },
  {
   "cell_type": "code",
   "execution_count": 77,
   "metadata": {},
   "outputs": [
    {
     "name": "stderr",
     "output_type": "stream",
     "text": [
      "[nltk_data] Downloading package stopwords to\n",
      "[nltk_data]     C:\\Users\\mebub_9a7jdi8\\AppData\\Roaming\\nltk_data...\n",
      "[nltk_data]   Package stopwords is already up-to-date!\n"
     ]
    },
    {
     "data": {
      "text/plain": [
       "True"
      ]
     },
     "execution_count": 77,
     "metadata": {},
     "output_type": "execute_result"
    }
   ],
   "source": [
    "# Download NLTK stopwords (if not already downloaded)\n",
    "nltk.download('stopwords')"
   ]
  },
  {
   "cell_type": "code",
   "execution_count": 78,
   "metadata": {},
   "outputs": [],
   "source": [
    "# Merging the datasets to include app category in the review data\n",
    "merged_data = pd.merge(review_data, playstore_data[['App', 'Category']], on='App', how='left')"
   ]
  },
  {
   "cell_type": "code",
   "execution_count": 79,
   "metadata": {},
   "outputs": [],
   "source": [
    "# Filter reviews\n",
    "filtered_reviews = merged_data[\n",
    "    (merged_data['Sentiment_Polarity'] == 1.0) & \n",
    "    (merged_data['Category'] == 'HEALTH_AND_FITNESS')\n",
    "]"
   ]
  },
  {
   "cell_type": "code",
   "execution_count": 80,
   "metadata": {},
   "outputs": [],
   "source": [
    "# Get health & fitness app names\n",
    "health_fitness_apps = playstore_data[playstore_data['Category'] == 'HEALTH_AND_FITNESS']['App'].unique()"
   ]
  },
  {
   "cell_type": "code",
   "execution_count": 81,
   "metadata": {},
   "outputs": [],
   "source": [
    "# Basic stopwords list\n",
    "stop_words = {\n",
    "    'a', 'an', 'and', 'are', 'as', 'at', 'be', 'by', 'for', 'from', 'has', 'he',\n",
    "    'in', 'is', 'it', 'its', 'of', 'on', 'that', 'the', 'to', 'was', 'were',\n",
    "    'will', 'with', 'app', 'apps', 'use', 'using', 'get', 'got', 'one', 'really',\n",
    "    'like', 'good', 'great', 'best', 'love', 'thank', 'thanks', 'amazing',\n",
    "    'awesome', 'excellent', 'would', 'much', 'many', 'since', 'also', 'very',\n",
    "    'way', 'well', 'far', 'can', 'could', 'should', 'this', 'that', 'they',\n",
    "    'i', 'im', \"i'm\", 'ive', \"i've\", 'just', 'makes', 'made', 'make'\n",
    "}"
   ]
  },
  {
   "cell_type": "code",
   "execution_count": 82,
   "metadata": {},
   "outputs": [],
   "source": [
    "def preprocess_text(text, app_names):\n",
    "    # Convert to lowercase\n",
    "    text = text.lower()\n",
    "    \n",
    "    # Remove app names\n",
    "    for app_name in app_names:\n",
    "        text = text.replace(app_name.lower(), '')\n",
    "    \n",
    "    # Remove special characters and digits\n",
    "    text = re.sub(r'[^a-zA-Z\\s]', '', text) \n",
    "    \n",
    "    # Remove single characters\n",
    "    text = re.sub(r'\\b[a-zA-Z]\\b', '', text)\n",
    "    \n",
    "    return text"
   ]
  },
  {
   "cell_type": "code",
   "execution_count": 83,
   "metadata": {},
   "outputs": [],
   "source": [
    "# Preprocess all reviews\n",
    "processed_text = \" \".join(\n",
    "    preprocess_text(review, health_fitness_apps)\n",
    "    for review in filtered_reviews['Translated_Review'].dropna()\n",
    ")\n",
    "\n",
    "# Custom color function for health/fitness theme\n",
    "def health_color_func(word, font_size, position, orientation, random_state=None, **kwargs):\n",
    "    health_colors = ['#640d5f',\n",
    "              '#be3144', \n",
    "              '#5c7285',\n",
    "              '#872341', \n",
    "              '#4635b1']  \n",
    "    return np.random.choice(health_colors)"
   ]
  },
  {
   "cell_type": "code",
   "execution_count": 84,
   "metadata": {},
   "outputs": [
    {
     "data": {
      "image/png": "[encoded data removed]",
      "text/plain": [
       "<Figure size 1000x500 with 1 Axes>"
      ]
     },
     "metadata": {},
     "output_type": "display_data"
    },
    {
     "name": "stdout",
     "output_type": "stream",
     "text": [
      "\n",
      "Most frequent words and their counts:\n",
      "used: 26\n",
      "wish: 25\n",
      "pay: 25\n",
      "monthly: 25\n",
      "cheaper: 25\n",
      "buying: 25\n",
      "premium: 25\n",
      "yet: 25\n",
      "food: 16\n",
      "foods: 12\n",
      "eat: 10\n",
      "updated: 8\n",
      "says: 8\n",
      "wonderful: 6\n",
      "you: 6\n",
      "said: 6\n",
      "works: 6\n",
      "working: 6\n",
      "cant: 5\n",
      "health: 5\n"
     ]
    }
   ],
   "source": [
    "# Generate the word cloud\n",
    "wordcloud = WordCloud(\n",
    "    width=1600,\n",
    "    height=800,\n",
    "    background_color='white',\n",
    "    stopwords=stop_words,\n",
    "    max_words=100,\n",
    "    color_func=health_color_func,\n",
    "    min_font_size=10,\n",
    "    max_font_size=150,\n",
    "    random_state=42,\n",
    "    collocations=True,\n",
    "    normalize_plurals=True,\n",
    "    margin=10,\n",
    ").generate(processed_text)\n",
    "\n",
    "# Create the plot\n",
    "plt.figure(figsize=(10, 5), facecolor='white')\n",
    "plt.imshow(wordcloud, interpolation='bilinear')\n",
    "plt.axis('off')\n",
    "plt.title('Word Cloud for 5-Star Reviews in Health & Fitness Category', \n",
    "          fontsize=16, \n",
    "          pad=20, \n",
    "          fontweight='bold')\n",
    "\n",
    "# Save with high DPI\n",
    "plt.savefig('health_fitness_wordcloud.png', \n",
    "            dpi=300, \n",
    "            bbox_inches='tight', \n",
    "            facecolor='white')\n",
    "plt.show()\n",
    "\n",
    "# Print most common words and their frequencies\n",
    "words = [word for word in processed_text.split() if word not in stop_words and len(word) > 2]\n",
    "word_freq = Counter(words).most_common(20)\n",
    "print(\"\\nMost frequent words and their counts:\")\n",
    "for word, freq in word_freq:\n",
    "    print(f\"{word}: {freq}\")"
   ]
  },
  {
   "cell_type": "markdown",
   "metadata": {},
   "source": [
    "<div style=\"border-radius:10px; border:green solid; padding: 5px; height: 50px; background-color: white; font-size:150%; text-align:left\">\n",
    "  <h4 align=\"center\"><font color='blue'>💡 Using mask</font></h4>\n",
    "</div>"
   ]
  },
  {
   "cell_type": "code",
   "execution_count": 85,
   "metadata": {},
   "outputs": [],
   "source": [
    "mask = np.array(Image.open('../Images/man.jpg')) # Load the image as a numpy array"
   ]
  },
  {
   "cell_type": "code",
   "execution_count": 86,
   "metadata": {},
   "outputs": [
    {
     "data": {
      "image/png": "[encoded data removed]",
      "text/plain": [
       "<Figure size 1000x500 with 1 Axes>"
      ]
     },
     "metadata": {},
     "output_type": "display_data"
    }
   ],
   "source": [
    "# Generate the word cloud with the image mask\n",
    "wordcloud = WordCloud(\n",
    "    width=1600, # Set the width of the canvas\n",
    "    height=800, # Set the height of the canvas\n",
    "    background_color='white',\n",
    "    stopwords=stop_words,\n",
    "    max_words=100,\n",
    "    color_func=health_color_func,# Use the custom color function\n",
    "    random_state=42,\n",
    "    collocations=True, # Detect bigrams or trigrams\n",
    "    normalize_plurals=True, # Normalize plurals\n",
    "    mask=mask # Use the image mask\n",
    ").generate(processed_text)\n",
    "\n",
    "# Create the plot\n",
    "plt.figure(figsize=(10, 5), facecolor='white')\n",
    "plt.imshow(wordcloud, interpolation='bilinear')\n",
    "plt.axis('off')\n",
    "plt.title('Word Cloud for 5-Star Reviews in Health & Fitness Category', \n",
    "          fontsize=16, \n",
    "          pad=20, \n",
    "          fontweight='bold')\n",
    "\n",
    "# # Save with high DPI\n",
    "# plt.savefig('health_fitness_wordcloud.png', \n",
    "#             dpi=300, # High DPI \n",
    "#             bbox_inches='tight', \n",
    "#             facecolor='white')\n",
    "plt.show()"
   ]
  },
  {
   "cell_type": "markdown",
   "metadata": {},
   "source": [
    "<div style=\"border-radius:10px; border:#DEB887 solid; padding: 15px; background-color: #7FFFD4; font-size:100%; text-align:left\">\n",
    "\n",
    "<!-- <h3 align=\"center\"><font color='#DAA520'>💡 1st Task:</font></h3> -->\n",
    "    \n",
    "\n",
    "🪼 Visualize the sentiment distribution (positive, neutral, negative) of user reviews \n",
    "using a stacked bar chart, segmented by rating groups (e.g., 1-2 stars, 3-4 stars, 4-5\n",
    "stars). Include only apps with more than 1,000 reviews and group by the top 5 \n",
    "categories."
   ]
  },
  {
   "cell_type": "code",
   "execution_count": 87,
   "metadata": {},
   "outputs": [],
   "source": [
    "# Filter apps with more than 1,000 reviews\n",
    "playstore_data['Reviews'] = pd.to_numeric(playstore_data['Reviews'], errors='coerce')\n",
    "playstore_filtered = playstore_data[playstore_data['Reviews'] > 1000]\n",
    "\n",
    "# Get top 5 categories by number of apps\n",
    "top_categories = playstore_filtered['Category'].value_counts().head(5).index\n",
    "playstore_filtered = playstore_filtered[playstore_filtered['Category'].isin(top_categories)]\n",
    "\n",
    "# Merge datasets on 'App' column\n",
    "merged_data_02 = pd.merge(review_data, playstore_filtered, on='App')\n",
    "\n",
    "# Remove rows with NaN sentiment values\n",
    "merged_data_02 = merged_data_02.dropna(subset=['Sentiment'])\n",
    "\n",
    "# Create rating groups\n",
    "merged_data_02['Rating_Group'] = pd.cut(merged_data_02['Rating'], bins=[0, 2, 4, 5], labels=['1-2 stars', '3-4 stars', '4-5 stars'])\n",
    "\n",
    "# Aggregate sentiment counts by rating group and category\n",
    "sentiment_counts = merged_data_02.groupby(['Category', 'Rating_Group', 'Sentiment']).size().unstack(fill_value=0).reset_index()\n",
    "\n",
    "# Melt the data to long format for Plotly\n",
    "sentiment_melted = pd.melt(sentiment_counts, id_vars=['Category', 'Rating_Group'], var_name='Sentiment', value_name='Count')"
   ]
  },
  {
   "cell_type": "code",
   "execution_count": 88,
   "metadata": {},
   "outputs": [
    {
     "data": {
      "application/vnd.plotly.v1+json": {
       "config": {
        "plotlyServerURL": "https://plot.ly"
       },
       "data": [
        {
         "hovertemplate": "Sentiment=Negative<br>Category=FAMILY<br>Rating Groups=%{x}<br>Review Count=%{text}<extra></extra>",
         "legendgroup": "Negative",
         "marker": {
          "color": "#d62728",
          "pattern": {
           "shape": ""
          }
         },
         "name": "Negative",
         "orientation": "v",
         "showlegend": true,
         "text": {
          "bdata": "AAAAAAAAAAAAAAAAAABeQAAAAAAARJZA",
          "dtype": "f8"
         },
         "textposition": "auto",
         "type": "bar",
         "x": [
          "1-2 stars",
          "3-4 stars",
          "4-5 stars"
         ],
         "xaxis": "x",
         "y": {
          "bdata": "AAB4AJEF",
          "dtype": "i2"
         },
         "yaxis": "y"
        },
        {
         "hovertemplate": "Sentiment=Negative<br>Category=GAME<br>Rating Groups=%{x}<br>Review Count=%{text}<extra></extra>",
         "legendgroup": "Negative",
         "marker": {
          "color": "#d62728",
          "pattern": {
           "shape": ""
          }
         },
         "name": "Negative",
         "orientation": "v",
         "showlegend": false,
         "text": {
          "bdata": "AAAAAAAAAAAAAAAAAIBTQAAAAAAABrxA",
          "dtype": "f8"
         },
         "textposition": "auto",
         "type": "bar",
         "x": [
          "1-2 stars",
          "3-4 stars",
          "4-5 stars"
         ],
         "xaxis": "x2",
         "y": {
          "bdata": "AABOAAYc",
          "dtype": "i2"
         },
         "yaxis": "y2"
        },
        {
         "hovertemplate": "Sentiment=Negative<br>Category=PHOTOGRAPHY<br>Rating Groups=%{x}<br>Review Count=%{text}<extra></extra>",
         "legendgroup": "Negative",
         "marker": {
          "color": "#d62728",
          "pattern": {
           "shape": ""
          }
         },
         "name": "Negative",
         "orientation": "v",
         "showlegend": false,
         "text": {
          "bdata": "AAAAAAAAAAAAAAAAAIBEQAAAAAAAwHtA",
          "dtype": "f8"
         },
         "textposition": "auto",
         "type": "bar",
         "x": [
          "1-2 stars",
          "3-4 stars",
          "4-5 stars"
         ],
         "xaxis": "x3",
         "y": {
          "bdata": "AAApALwB",
          "dtype": "i2"
         },
         "yaxis": "y3"
        },
        {
         "hovertemplate": "Sentiment=Negative<br>Category=PRODUCTIVITY<br>Rating Groups=%{x}<br>Review Count=%{text}<extra></extra>",
         "legendgroup": "Negative",
         "marker": {
          "color": "#d62728",
          "pattern": {
           "shape": ""
          }
         },
         "name": "Negative",
         "orientation": "v",
         "showlegend": false,
         "text": {
          "bdata": "AAAAAAAAAAAAAAAAAAA1QAAAAAAA4IFA",
          "dtype": "f8"
         },
         "textposition": "auto",
         "type": "bar",
         "x": [
          "1-2 stars",
          "3-4 stars",
          "4-5 stars"
         ],
         "xaxis": "x4",
         "y": {
          "bdata": "AAAVADwC",
          "dtype": "i2"
         },
         "yaxis": "y4"
        },
        {
         "hovertemplate": "Sentiment=Negative<br>Category=TOOLS<br>Rating Groups=%{x}<br>Review Count=%{text}<extra></extra>",
         "legendgroup": "Negative",
         "marker": {
          "color": "#d62728",
          "pattern": {
           "shape": ""
          }
         },
         "name": "Negative",
         "orientation": "v",
         "showlegend": false,
         "text": {
          "bdata": "AAAAAAAAAAAAAAAAAABNQAAAAAAAEHJA",
          "dtype": "f8"
         },
         "textposition": "auto",
         "type": "bar",
         "x": [
          "1-2 stars",
          "3-4 stars",
          "4-5 stars"
         ],
         "xaxis": "x5",
         "y": {
          "bdata": "AAA6ACEB",
          "dtype": "i2"
         },
         "yaxis": "y5"
        },
        {
         "hovertemplate": "Sentiment=Neutral<br>Category=FAMILY<br>Rating Groups=%{x}<br>Review Count=%{text}<extra></extra>",
         "legendgroup": "Neutral",
         "marker": {
          "color": "#ff7f0e",
          "pattern": {
           "shape": ""
          }
         },
         "name": "Neutral",
         "orientation": "v",
         "showlegend": true,
         "text": {
          "bdata": "AAAAAAAAAAAAAAAAAMBQQAAAAAAAEHhA",
          "dtype": "f8"
         },
         "textposition": "auto",
         "type": "bar",
         "x": [
          "1-2 stars",
          "3-4 stars",
          "4-5 stars"
         ],
         "xaxis": "x",
         "y": {
          "bdata": "AABDAIEB",
          "dtype": "i2"
         },
         "yaxis": "y"
        },
        {
         "hovertemplate": "Sentiment=Neutral<br>Category=GAME<br>Rating Groups=%{x}<br>Review Count=%{text}<extra></extra>",
         "legendgroup": "Neutral",
         "marker": {
          "color": "#ff7f0e",
          "pattern": {
           "shape": ""
          }
         },
         "name": "Neutral",
         "orientation": "v",
         "showlegend": false,
         "text": {
          "bdata": "AAAAAAAAAAAAAAAAAAAsQAAAAAAAuIhA",
          "dtype": "f8"
         },
         "textposition": "auto",
         "type": "bar",
         "x": [
          "1-2 stars",
          "3-4 stars",
          "4-5 stars"
         ],
         "xaxis": "x2",
         "y": {
          "bdata": "AAAOABcD",
          "dtype": "i2"
         },
         "yaxis": "y2"
        },
        {
         "hovertemplate": "Sentiment=Neutral<br>Category=PHOTOGRAPHY<br>Rating Groups=%{x}<br>Review Count=%{text}<extra></extra>",
         "legendgroup": "Neutral",
         "marker": {
          "color": "#ff7f0e",
          "pattern": {
           "shape": ""
          }
         },
         "name": "Neutral",
         "orientation": "v",
         "showlegend": false,
         "text": {
          "bdata": "AAAAAAAAAAAAAAAAAAAxQAAAAAAA4HBA",
          "dtype": "f8"
         },
         "textposition": "auto",
         "type": "bar",
         "x": [
          "1-2 stars",
          "3-4 stars",
          "4-5 stars"
         ],
         "xaxis": "x3",
         "y": {
          "bdata": "AAARAA4B",
          "dtype": "i2"
         },
         "yaxis": "y3"
        },
        {
         "hovertemplate": "Sentiment=Neutral<br>Category=PRODUCTIVITY<br>Rating Groups=%{x}<br>Review Count=%{text}<extra></extra>",
         "legendgroup": "Neutral",
         "marker": {
          "color": "#ff7f0e",
          "pattern": {
           "shape": ""
          }
         },
         "name": "Neutral",
         "orientation": "v",
         "showlegend": false,
         "text": {
          "bdata": "AAAAAAAAAAAAAAAAAAAsQAAAAAAAkHZA",
          "dtype": "f8"
         },
         "textposition": "auto",
         "type": "bar",
         "x": [
          "1-2 stars",
          "3-4 stars",
          "4-5 stars"
         ],
         "xaxis": "x4",
         "y": {
          "bdata": "AAAOAGkB",
          "dtype": "i2"
         },
         "yaxis": "y4"
        },
        {
         "hovertemplate": "Sentiment=Neutral<br>Category=TOOLS<br>Rating Groups=%{x}<br>Review Count=%{text}<extra></extra>",
         "legendgroup": "Neutral",
         "marker": {
          "color": "#ff7f0e",
          "pattern": {
           "shape": ""
          }
         },
         "name": "Neutral",
         "orientation": "v",
         "showlegend": false,
         "text": {
          "bdata": "AAAAAAAAAAAAAAAAAABTQAAAAAAAkHFA",
          "dtype": "f8"
         },
         "textposition": "auto",
         "type": "bar",
         "x": [
          "1-2 stars",
          "3-4 stars",
          "4-5 stars"
         ],
         "xaxis": "x5",
         "y": {
          "bdata": "AABMABkB",
          "dtype": "i2"
         },
         "yaxis": "y5"
        },
        {
         "hovertemplate": "Sentiment=Positive<br>Category=FAMILY<br>Rating Groups=%{x}<br>Review Count=%{text}<extra></extra>",
         "legendgroup": "Positive",
         "marker": {
          "color": "#2ca02c",
          "pattern": {
           "shape": ""
          }
         },
         "name": "Positive",
         "orientation": "v",
         "showlegend": true,
         "text": {
          "bdata": "AAAAAAAAAAAAAAAAAIBoQAAAAAAAZKxA",
          "dtype": "f8"
         },
         "textposition": "auto",
         "type": "bar",
         "x": [
          "1-2 stars",
          "3-4 stars",
          "4-5 stars"
         ],
         "xaxis": "x",
         "y": {
          "bdata": "AADEADIO",
          "dtype": "i2"
         },
         "yaxis": "y"
        },
        {
         "hovertemplate": "Sentiment=Positive<br>Category=GAME<br>Rating Groups=%{x}<br>Review Count=%{text}<extra></extra>",
         "legendgroup": "Positive",
         "marker": {
          "color": "#2ca02c",
          "pattern": {
           "shape": ""
          }
         },
         "name": "Positive",
         "orientation": "v",
         "showlegend": false,
         "text": {
          "bdata": "AAAAAAAAAAAAAAAAAABfQAAAAAAANsVA",
          "dtype": "f8"
         },
         "textposition": "auto",
         "type": "bar",
         "x": [
          "1-2 stars",
          "3-4 stars",
          "4-5 stars"
         ],
         "xaxis": "x2",
         "y": {
          "bdata": "AAB8AGwq",
          "dtype": "i2"
         },
         "yaxis": "y2"
        },
        {
         "hovertemplate": "Sentiment=Positive<br>Category=PHOTOGRAPHY<br>Rating Groups=%{x}<br>Review Count=%{text}<extra></extra>",
         "legendgroup": "Positive",
         "marker": {
          "color": "#2ca02c",
          "pattern": {
           "shape": ""
          }
         },
         "name": "Positive",
         "orientation": "v",
         "showlegend": false,
         "text": {
          "bdata": "AAAAAAAAAAAAAAAAAABUQAAAAAAAdJlA",
          "dtype": "f8"
         },
         "textposition": "auto",
         "type": "bar",
         "x": [
          "1-2 stars",
          "3-4 stars",
          "4-5 stars"
         ],
         "xaxis": "x3",
         "y": {
          "bdata": "AABQAF0G",
          "dtype": "i2"
         },
         "yaxis": "y3"
        },
        {
         "hovertemplate": "Sentiment=Positive<br>Category=PRODUCTIVITY<br>Rating Groups=%{x}<br>Review Count=%{text}<extra></extra>",
         "legendgroup": "Positive",
         "marker": {
          "color": "#2ca02c",
          "pattern": {
           "shape": ""
          }
         },
         "name": "Positive",
         "orientation": "v",
         "showlegend": false,
         "text": {
          "bdata": "AAAAAAAAAAAAAAAAAABEQAAAAAAAVKBA",
          "dtype": "f8"
         },
         "textposition": "auto",
         "type": "bar",
         "x": [
          "1-2 stars",
          "3-4 stars",
          "4-5 stars"
         ],
         "xaxis": "x4",
         "y": {
          "bdata": "AAAoACoI",
          "dtype": "i2"
         },
         "yaxis": "y4"
        },
        {
         "hovertemplate": "Sentiment=Positive<br>Category=TOOLS<br>Rating Groups=%{x}<br>Review Count=%{text}<extra></extra>",
         "legendgroup": "Positive",
         "marker": {
          "color": "#2ca02c",
          "pattern": {
           "shape": ""
          }
         },
         "name": "Positive",
         "orientation": "v",
         "showlegend": false,
         "text": {
          "bdata": "AAAAAAAAAAAAAAAAACBhQAAAAAAAyI1A",
          "dtype": "f8"
         },
         "textposition": "auto",
         "type": "bar",
         "x": [
          "1-2 stars",
          "3-4 stars",
          "4-5 stars"
         ],
         "xaxis": "x5",
         "y": {
          "bdata": "AACJALkD",
          "dtype": "i2"
         },
         "yaxis": "y5"
        }
       ],
       "layout": {
        "annotations": [
         {
          "font": {},
          "showarrow": false,
          "text": "Category=FAMILY",
          "x": 0.09200000000000001,
          "xanchor": "center",
          "xref": "paper",
          "y": 1,
          "yanchor": "bottom",
          "yref": "paper"
         },
         {
          "font": {},
          "showarrow": false,
          "text": "Category=GAME",
          "x": 0.29600000000000004,
          "xanchor": "center",
          "xref": "paper",
          "y": 1,
          "yanchor": "bottom",
          "yref": "paper"
         },
         {
          "font": {},
          "showarrow": false,
          "text": "Category=PHOTOGRAPHY",
          "x": 0.5,
          "xanchor": "center",
          "xref": "paper",
          "y": 1,
          "yanchor": "bottom",
          "yref": "paper"
         },
         {
          "font": {},
          "showarrow": false,
          "text": "Category=PRODUCTIVITY",
          "x": 0.7040000000000002,
          "xanchor": "center",
          "xref": "paper",
          "y": 1,
          "yanchor": "bottom",
          "yref": "paper"
         },
         {
          "font": {},
          "showarrow": false,
          "text": "Category=TOOLS",
          "x": 0.908,
          "xanchor": "center",
          "xref": "paper",
          "y": 1,
          "yanchor": "bottom",
          "yref": "paper"
         }
        ],
        "barmode": "stack",
        "font": {
         "size": 12
        },
        "height": 700,
        "legend": {
         "title": {
          "text": "Sentiment"
         },
         "tracegroupgap": 0
        },
        "template": {
         "data": {
          "bar": [
           {
            "error_x": {
             "color": "#2a3f5f"
            },
            "error_y": {
             "color": "#2a3f5f"
            },
            "marker": {
             "line": {
              "color": "#E5ECF6",
              "width": 0.5
             },
             "pattern": {
              "fillmode": "overlay",
              "size": 10,
              "solidity": 0.2
             }
            },
            "type": "bar"
           }
          ],
          "barpolar": [
           {
            "marker": {
             "line": {
              "color": "#E5ECF6",
              "width": 0.5
             },
             "pattern": {
              "fillmode": "overlay",
              "size": 10,
              "solidity": 0.2
             }
            },
            "type": "barpolar"
           }
          ],
          "carpet": [
           {
            "aaxis": {
             "endlinecolor": "#2a3f5f",
             "gridcolor": "white",
             "linecolor": "white",
             "minorgridcolor": "white",
             "startlinecolor": "#2a3f5f"
            },
            "baxis": {
             "endlinecolor": "#2a3f5f",
             "gridcolor": "white",
             "linecolor": "white",
             "minorgridcolor": "white",
             "startlinecolor": "#2a3f5f"
            },
            "type": "carpet"
           }
          ],
          "choropleth": [
           {
            "colorbar": {
             "outlinewidth": 0,
             "ticks": ""
            },
            "type": "choropleth"
           }
          ],
          "contour": [
           {
            "colorbar": {
             "outlinewidth": 0,
             "ticks": ""
            },
            "colorscale": [
             [
              0,
              "#0d0887"
             ],
             [
              0.1111111111111111,
              "#46039f"
             ],
             [
              0.2222222222222222,
              "#7201a8"
             ],
             [
              0.3333333333333333,
              "#9c179e"
             ],
             [
              0.4444444444444444,
              "#bd3786"
             ],
             [
              0.5555555555555556,
              "#d8576b"
             ],
             [
              0.6666666666666666,
              "#ed7953"
             ],
             [
              0.7777777777777778,
              "#fb9f3a"
             ],
             [
              0.8888888888888888,
              "#fdca26"
             ],
             [
              1,
              "#f0f921"
             ]
            ],
            "type": "contour"
           }
          ],
          "contourcarpet": [
           {
            "colorbar": {
             "outlinewidth": 0,
             "ticks": ""
            },
            "type": "contourcarpet"
           }
          ],
          "heatmap": [
           {
            "colorbar": {
             "outlinewidth": 0,
             "ticks": ""
            },
            "colorscale": [
             [
              0,
              "#0d0887"
             ],
             [
              0.1111111111111111,
              "#46039f"
             ],
             [
              0.2222222222222222,
              "#7201a8"
             ],
             [
              0.3333333333333333,
              "#9c179e"
             ],
             [
              0.4444444444444444,
              "#bd3786"
             ],
             [
              0.5555555555555556,
              "#d8576b"
             ],
             [
              0.6666666666666666,
              "#ed7953"
             ],
             [
              0.7777777777777778,
              "#fb9f3a"
             ],
             [
              0.8888888888888888,
              "#fdca26"
             ],
             [
              1,
              "#f0f921"
             ]
            ],
            "type": "heatmap"
           }
          ],
          "histogram": [
           {
            "marker": {
             "pattern": {
              "fillmode": "overlay",
              "size": 10,
              "solidity": 0.2
             }
            },
            "type": "histogram"
           }
          ],
          "histogram2d": [
           {
            "colorbar": {
             "outlinewidth": 0,
             "ticks": ""
            },
            "colorscale": [
             [
              0,
              "#0d0887"
             ],
             [
              0.1111111111111111,
              "#46039f"
             ],
             [
              0.2222222222222222,
              "#7201a8"
             ],
             [
              0.3333333333333333,
              "#9c179e"
             ],
             [
              0.4444444444444444,
              "#bd3786"
             ],
             [
              0.5555555555555556,
              "#d8576b"
             ],
             [
              0.6666666666666666,
              "#ed7953"
             ],
             [
              0.7777777777777778,
              "#fb9f3a"
             ],
             [
              0.8888888888888888,
              "#fdca26"
             ],
             [
              1,
              "#f0f921"
             ]
            ],
            "type": "histogram2d"
           }
          ],
          "histogram2dcontour": [
           {
            "colorbar": {
             "outlinewidth": 0,
             "ticks": ""
            },
            "colorscale": [
             [
              0,
              "#0d0887"
             ],
             [
              0.1111111111111111,
              "#46039f"
             ],
             [
              0.2222222222222222,
              "#7201a8"
             ],
             [
              0.3333333333333333,
              "#9c179e"
             ],
             [
              0.4444444444444444,
              "#bd3786"
             ],
             [
              0.5555555555555556,
              "#d8576b"
             ],
             [
              0.6666666666666666,
              "#ed7953"
             ],
             [
              0.7777777777777778,
              "#fb9f3a"
             ],
             [
              0.8888888888888888,
              "#fdca26"
             ],
             [
              1,
              "#f0f921"
             ]
            ],
            "type": "histogram2dcontour"
           }
          ],
          "mesh3d": [
           {
            "colorbar": {
             "outlinewidth": 0,
             "ticks": ""
            },
            "type": "mesh3d"
           }
          ],
          "parcoords": [
           {
            "line": {
             "colorbar": {
              "outlinewidth": 0,
              "ticks": ""
             }
            },
            "type": "parcoords"
           }
          ],
          "pie": [
           {
            "automargin": true,
            "type": "pie"
           }
          ],
          "scatter": [
           {
            "fillpattern": {
             "fillmode": "overlay",
             "size": 10,
             "solidity": 0.2
            },
            "type": "scatter"
           }
          ],
          "scatter3d": [
           {
            "line": {
             "colorbar": {
              "outlinewidth": 0,
              "ticks": ""
             }
            },
            "marker": {
             "colorbar": {
              "outlinewidth": 0,
              "ticks": ""
             }
            },
            "type": "scatter3d"
           }
          ],
          "scattercarpet": [
           {
            "marker": {
             "colorbar": {
              "outlinewidth": 0,
              "ticks": ""
             }
            },
            "type": "scattercarpet"
           }
          ],
          "scattergeo": [
           {
            "marker": {
             "colorbar": {
              "outlinewidth": 0,
              "ticks": ""
             }
            },
            "type": "scattergeo"
           }
          ],
          "scattergl": [
           {
            "marker": {
             "colorbar": {
              "outlinewidth": 0,
              "ticks": ""
             }
            },
            "type": "scattergl"
           }
          ],
          "scattermap": [
           {
            "marker": {
             "colorbar": {
              "outlinewidth": 0,
              "ticks": ""
             }
            },
            "type": "scattermap"
           }
          ],
          "scattermapbox": [
           {
            "marker": {
             "colorbar": {
              "outlinewidth": 0,
              "ticks": ""
             }
            },
            "type": "scattermapbox"
           }
          ],
          "scatterpolar": [
           {
            "marker": {
             "colorbar": {
              "outlinewidth": 0,
              "ticks": ""
             }
            },
            "type": "scatterpolar"
           }
          ],
          "scatterpolargl": [
           {
            "marker": {
             "colorbar": {
              "outlinewidth": 0,
              "ticks": ""
             }
            },
            "type": "scatterpolargl"
           }
          ],
          "scatterternary": [
           {
            "marker": {
             "colorbar": {
              "outlinewidth": 0,
              "ticks": ""
             }
            },
            "type": "scatterternary"
           }
          ],
          "surface": [
           {
            "colorbar": {
             "outlinewidth": 0,
             "ticks": ""
            },
            "colorscale": [
             [
              0,
              "#0d0887"
             ],
             [
              0.1111111111111111,
              "#46039f"
             ],
             [
              0.2222222222222222,
              "#7201a8"
             ],
             [
              0.3333333333333333,
              "#9c179e"
             ],
             [
              0.4444444444444444,
              "#bd3786"
             ],
             [
              0.5555555555555556,
              "#d8576b"
             ],
             [
              0.6666666666666666,
              "#ed7953"
             ],
             [
              0.7777777777777778,
              "#fb9f3a"
             ],
             [
              0.8888888888888888,
              "#fdca26"
             ],
             [
              1,
              "#f0f921"
             ]
            ],
            "type": "surface"
           }
          ],
          "table": [
           {
            "cells": {
             "fill": {
              "color": "#EBF0F8"
             },
             "line": {
              "color": "white"
             }
            },
            "header": {
             "fill": {
              "color": "#C8D4E3"
             },
             "line": {
              "color": "white"
             }
            },
            "type": "table"
           }
          ]
         },
         "layout": {
          "annotationdefaults": {
           "arrowcolor": "#2a3f5f",
           "arrowhead": 0,
           "arrowwidth": 1
          },
          "autotypenumbers": "strict",
          "coloraxis": {
           "colorbar": {
            "outlinewidth": 0,
            "ticks": ""
           }
          },
          "colorscale": {
           "diverging": [
            [
             0,
             "#8e0152"
            ],
            [
             0.1,
             "#c51b7d"
            ],
            [
             0.2,
             "#de77ae"
            ],
            [
             0.3,
             "#f1b6da"
            ],
            [
             0.4,
             "#fde0ef"
            ],
            [
             0.5,
             "#f7f7f7"
            ],
            [
             0.6,
             "#e6f5d0"
            ],
            [
             0.7,
             "#b8e186"
            ],
            [
             0.8,
             "#7fbc41"
            ],
            [
             0.9,
             "#4d9221"
            ],
            [
             1,
             "#276419"
            ]
           ],
           "sequential": [
            [
             0,
             "#0d0887"
            ],
            [
             0.1111111111111111,
             "#46039f"
            ],
            [
             0.2222222222222222,
             "#7201a8"
            ],
            [
             0.3333333333333333,
             "#9c179e"
            ],
            [
             0.4444444444444444,
             "#bd3786"
            ],
            [
             0.5555555555555556,
             "#d8576b"
            ],
            [
             0.6666666666666666,
             "#ed7953"
            ],
            [
             0.7777777777777778,
             "#fb9f3a"
            ],
            [
             0.8888888888888888,
             "#fdca26"
            ],
            [
             1,
             "#f0f921"
            ]
           ],
           "sequentialminus": [
            [
             0,
             "#0d0887"
            ],
            [
             0.1111111111111111,
             "#46039f"
            ],
            [
             0.2222222222222222,
             "#7201a8"
            ],
            [
             0.3333333333333333,
             "#9c179e"
            ],
            [
             0.4444444444444444,
             "#bd3786"
            ],
            [
             0.5555555555555556,
             "#d8576b"
            ],
            [
             0.6666666666666666,
             "#ed7953"
            ],
            [
             0.7777777777777778,
             "#fb9f3a"
            ],
            [
             0.8888888888888888,
             "#fdca26"
            ],
            [
             1,
             "#f0f921"
            ]
           ]
          },
          "colorway": [
           "#636efa",
           "#EF553B",
           "#00cc96",
           "#ab63fa",
           "#FFA15A",
           "#19d3f3",
           "#FF6692",
           "#B6E880",
           "#FF97FF",
           "#FECB52"
          ],
          "font": {
           "color": "#2a3f5f"
          },
          "geo": {
           "bgcolor": "white",
           "lakecolor": "white",
           "landcolor": "#E5ECF6",
           "showlakes": true,
           "showland": true,
           "subunitcolor": "white"
          },
          "hoverlabel": {
           "align": "left"
          },
          "hovermode": "closest",
          "mapbox": {
           "style": "light"
          },
          "paper_bgcolor": "white",
          "plot_bgcolor": "#E5ECF6",
          "polar": {
           "angularaxis": {
            "gridcolor": "white",
            "linecolor": "white",
            "ticks": ""
           },
           "bgcolor": "#E5ECF6",
           "radialaxis": {
            "gridcolor": "white",
            "linecolor": "white",
            "ticks": ""
           }
          },
          "scene": {
           "xaxis": {
            "backgroundcolor": "#E5ECF6",
            "gridcolor": "white",
            "gridwidth": 2,
            "linecolor": "white",
            "showbackground": true,
            "ticks": "",
            "zerolinecolor": "white"
           },
           "yaxis": {
            "backgroundcolor": "#E5ECF6",
            "gridcolor": "white",
            "gridwidth": 2,
            "linecolor": "white",
            "showbackground": true,
            "ticks": "",
            "zerolinecolor": "white"
           },
           "zaxis": {
            "backgroundcolor": "#E5ECF6",
            "gridcolor": "white",
            "gridwidth": 2,
            "linecolor": "white",
            "showbackground": true,
            "ticks": "",
            "zerolinecolor": "white"
           }
          },
          "shapedefaults": {
           "line": {
            "color": "#2a3f5f"
           }
          },
          "ternary": {
           "aaxis": {
            "gridcolor": "white",
            "linecolor": "white",
            "ticks": ""
           },
           "baxis": {
            "gridcolor": "white",
            "linecolor": "white",
            "ticks": ""
           },
           "bgcolor": "#E5ECF6",
           "caxis": {
            "gridcolor": "white",
            "linecolor": "white",
            "ticks": ""
           }
          },
          "title": {
           "x": 0.05
          },
          "xaxis": {
           "automargin": true,
           "gridcolor": "white",
           "linecolor": "white",
           "ticks": "",
           "title": {
            "standoff": 15
           },
           "zerolinecolor": "white",
           "zerolinewidth": 2
          },
          "yaxis": {
           "automargin": true,
           "gridcolor": "white",
           "linecolor": "white",
           "ticks": "",
           "title": {
            "standoff": 15
           },
           "zerolinecolor": "white",
           "zerolinewidth": 2
          }
         }
        },
        "title": {
         "text": "Sentiment Distribution by Rating Groups (Top 5 Categories)",
         "x": 0.5
        },
        "width": 1000,
        "xaxis": {
         "anchor": "y",
         "domain": [
          0,
          0.18400000000000002
         ],
         "title": {
          "text": "Rating Groups"
         }
        },
        "xaxis2": {
         "anchor": "y2",
         "domain": [
          0.20400000000000001,
          0.388
         ],
         "matches": "x",
         "title": {
          "text": "Rating Groups"
         }
        },
        "xaxis3": {
         "anchor": "y3",
         "domain": [
          0.40800000000000003,
          0.5920000000000001
         ],
         "matches": "x",
         "title": {
          "text": "Rating Groups"
         }
        },
        "xaxis4": {
         "anchor": "y4",
         "domain": [
          0.6120000000000001,
          0.7960000000000002
         ],
         "matches": "x",
         "title": {
          "text": "Rating Groups"
         }
        },
        "xaxis5": {
         "anchor": "y5",
         "domain": [
          0.8160000000000001,
          1
         ],
         "matches": "x",
         "title": {
          "text": "Rating Groups"
         }
        },
        "yaxis": {
         "anchor": "x",
         "domain": [
          0,
          1
         ],
         "title": {
          "text": "Review Count"
         }
        },
        "yaxis2": {
         "anchor": "x2",
         "domain": [
          0,
          1
         ],
         "matches": "y",
         "showticklabels": false
        },
        "yaxis3": {
         "anchor": "x3",
         "domain": [
          0,
          1
         ],
         "matches": "y",
         "showticklabels": false
        },
        "yaxis4": {
         "anchor": "x4",
         "domain": [
          0,
          1
         ],
         "matches": "y",
         "showticklabels": false
        },
        "yaxis5": {
         "anchor": "x5",
         "domain": [
          0,
          1
         ],
         "matches": "y",
         "showticklabels": false
        }
       }
      }
     },
     "metadata": {},
     "output_type": "display_data"
    }
   ],
   "source": [
    "# Create the Plotly stacked bar chart\n",
    "fig = px.bar(sentiment_melted, x='Rating_Group', y='Count', color='Sentiment',\n",
    "             facet_col='Category', barmode='stack', text='Count',\n",
    "             color_discrete_map={'Positive': '#2ca02c', 'Neutral': '#ff7f0e', 'Negative': '#d62728'},\n",
    "             labels={'Rating_Group': 'Rating Groups', 'Count': 'Review Count'},\n",
    "             title='Sentiment Distribution by Rating Groups (Top 5 Categories)')\n",
    "\n",
    "# Update layout for better readability\n",
    "fig.update_layout(height=700, width=1000, title_x=0.5, \n",
    "                  xaxis_title='Rating Groups', yaxis_title='Review Count',\n",
    "                  legend_title_text='Sentiment',\n",
    "                  font=dict(size=12))\n",
    "\n",
    "fig.show()"
   ]
  },
  {
   "cell_type": "markdown",
   "metadata": {},
   "source": [
    "<div class=\"alert alert-block alert-warning\">  \n",
    "<b>Warning:</b> Plotly interactive plots only appear after running the cells.  \n",
    "</div> "
   ]
  },
  {
   "cell_type": "markdown",
   "metadata": {},
   "source": [
    "<img src=\"../Images/task_03.png\" alt=\"Description\">"
   ]
  },
  {
   "cell_type": "code",
   "execution_count": 89,
   "metadata": {},
   "outputs": [],
   "source": [
    "# Group by category, rating group, and sentiment to show total counts\n",
    "sentiment_summary = sentiment_melted.groupby(['Category', 'Rating_Group', 'Sentiment'])['Count'].sum().reset_index()"
   ]
  },
  {
   "cell_type": "code",
   "execution_count": 93,
   "metadata": {},
   "outputs": [
    {
     "name": "stdout",
     "output_type": "stream",
     "text": [
      "╒════╤══════════════╤════════════════╤═════════════╤═════════╕\n",
      "│    │ Category     │ Rating_Group   │ Sentiment   │   Count │\n",
      "╞════╪══════════════╪════════════════╪═════════════╪═════════╡\n",
      "│  0 │ FAMILY       │ 1-2 stars      │ Negative    │       0 │\n",
      "├────┼──────────────┼────────────────┼─────────────┼─────────┤\n",
      "│  1 │ FAMILY       │ 1-2 stars      │ Neutral     │       0 │\n",
      "├────┼──────────────┼────────────────┼─────────────┼─────────┤\n",
      "│  2 │ FAMILY       │ 1-2 stars      │ Positive    │       0 │\n",
      "├────┼──────────────┼────────────────┼─────────────┼─────────┤\n",
      "│  3 │ FAMILY       │ 3-4 stars      │ Negative    │     120 │\n",
      "├────┼──────────────┼────────────────┼─────────────┼─────────┤\n",
      "│  4 │ FAMILY       │ 3-4 stars      │ Neutral     │      67 │\n",
      "├────┼──────────────┼────────────────┼─────────────┼─────────┤\n",
      "│  5 │ FAMILY       │ 3-4 stars      │ Positive    │     196 │\n",
      "├────┼──────────────┼────────────────┼─────────────┼─────────┤\n",
      "│  6 │ FAMILY       │ 4-5 stars      │ Negative    │    1425 │\n",
      "├────┼──────────────┼────────────────┼─────────────┼─────────┤\n",
      "│  7 │ FAMILY       │ 4-5 stars      │ Neutral     │     385 │\n",
      "├────┼──────────────┼────────────────┼─────────────┼─────────┤\n",
      "│  8 │ FAMILY       │ 4-5 stars      │ Positive    │    3634 │\n",
      "├────┼──────────────┼────────────────┼─────────────┼─────────┤\n",
      "│  9 │ GAME         │ 1-2 stars      │ Negative    │       0 │\n",
      "├────┼──────────────┼────────────────┼─────────────┼─────────┤\n",
      "│ 10 │ GAME         │ 1-2 stars      │ Neutral     │       0 │\n",
      "├────┼──────────────┼────────────────┼─────────────┼─────────┤\n",
      "│ 11 │ GAME         │ 1-2 stars      │ Positive    │       0 │\n",
      "├────┼──────────────┼────────────────┼─────────────┼─────────┤\n",
      "│ 12 │ GAME         │ 3-4 stars      │ Negative    │      78 │\n",
      "├────┼──────────────┼────────────────┼─────────────┼─────────┤\n",
      "│ 13 │ GAME         │ 3-4 stars      │ Neutral     │      14 │\n",
      "├────┼──────────────┼────────────────┼─────────────┼─────────┤\n",
      "│ 14 │ GAME         │ 3-4 stars      │ Positive    │     124 │\n",
      "├────┼──────────────┼────────────────┼─────────────┼─────────┤\n",
      "│ 15 │ GAME         │ 4-5 stars      │ Negative    │    7174 │\n",
      "├────┼──────────────┼────────────────┼─────────────┼─────────┤\n",
      "│ 16 │ GAME         │ 4-5 stars      │ Neutral     │     791 │\n",
      "├────┼──────────────┼────────────────┼─────────────┼─────────┤\n",
      "│ 17 │ GAME         │ 4-5 stars      │ Positive    │   10860 │\n",
      "├────┼──────────────┼────────────────┼─────────────┼─────────┤\n",
      "│ 18 │ PHOTOGRAPHY  │ 1-2 stars      │ Negative    │       0 │\n",
      "├────┼──────────────┼────────────────┼─────────────┼─────────┤\n",
      "│ 19 │ PHOTOGRAPHY  │ 1-2 stars      │ Neutral     │       0 │\n",
      "├────┼──────────────┼────────────────┼─────────────┼─────────┤\n",
      "│ 20 │ PHOTOGRAPHY  │ 1-2 stars      │ Positive    │       0 │\n",
      "├────┼──────────────┼────────────────┼─────────────┼─────────┤\n",
      "│ 21 │ PHOTOGRAPHY  │ 3-4 stars      │ Negative    │      41 │\n",
      "├────┼──────────────┼────────────────┼─────────────┼─────────┤\n",
      "│ 22 │ PHOTOGRAPHY  │ 3-4 stars      │ Neutral     │      17 │\n",
      "├────┼──────────────┼────────────────┼─────────────┼─────────┤\n",
      "│ 23 │ PHOTOGRAPHY  │ 3-4 stars      │ Positive    │      80 │\n",
      "├────┼──────────────┼────────────────┼─────────────┼─────────┤\n",
      "│ 24 │ PHOTOGRAPHY  │ 4-5 stars      │ Negative    │     444 │\n",
      "├────┼──────────────┼────────────────┼─────────────┼─────────┤\n",
      "│ 25 │ PHOTOGRAPHY  │ 4-5 stars      │ Neutral     │     270 │\n",
      "├────┼──────────────┼────────────────┼─────────────┼─────────┤\n",
      "│ 26 │ PHOTOGRAPHY  │ 4-5 stars      │ Positive    │    1629 │\n",
      "├────┼──────────────┼────────────────┼─────────────┼─────────┤\n",
      "│ 27 │ PRODUCTIVITY │ 1-2 stars      │ Negative    │       0 │\n",
      "├────┼──────────────┼────────────────┼─────────────┼─────────┤\n",
      "│ 28 │ PRODUCTIVITY │ 1-2 stars      │ Neutral     │       0 │\n",
      "├────┼──────────────┼────────────────┼─────────────┼─────────┤\n",
      "│ 29 │ PRODUCTIVITY │ 1-2 stars      │ Positive    │       0 │\n",
      "├────┼──────────────┼────────────────┼─────────────┼─────────┤\n",
      "│ 30 │ PRODUCTIVITY │ 3-4 stars      │ Negative    │      21 │\n",
      "├────┼──────────────┼────────────────┼─────────────┼─────────┤\n",
      "│ 31 │ PRODUCTIVITY │ 3-4 stars      │ Neutral     │      14 │\n",
      "├────┼──────────────┼────────────────┼─────────────┼─────────┤\n",
      "│ 32 │ PRODUCTIVITY │ 3-4 stars      │ Positive    │      40 │\n",
      "├────┼──────────────┼────────────────┼─────────────┼─────────┤\n",
      "│ 33 │ PRODUCTIVITY │ 4-5 stars      │ Negative    │     572 │\n",
      "├────┼──────────────┼────────────────┼─────────────┼─────────┤\n",
      "│ 34 │ PRODUCTIVITY │ 4-5 stars      │ Neutral     │     361 │\n",
      "├────┼──────────────┼────────────────┼─────────────┼─────────┤\n",
      "│ 35 │ PRODUCTIVITY │ 4-5 stars      │ Positive    │    2090 │\n",
      "├────┼──────────────┼────────────────┼─────────────┼─────────┤\n",
      "│ 36 │ TOOLS        │ 1-2 stars      │ Negative    │       0 │\n",
      "├────┼──────────────┼────────────────┼─────────────┼─────────┤\n",
      "│ 37 │ TOOLS        │ 1-2 stars      │ Neutral     │       0 │\n",
      "├────┼──────────────┼────────────────┼─────────────┼─────────┤\n",
      "│ 38 │ TOOLS        │ 1-2 stars      │ Positive    │       0 │\n",
      "├────┼──────────────┼────────────────┼─────────────┼─────────┤\n",
      "│ 39 │ TOOLS        │ 3-4 stars      │ Negative    │      58 │\n",
      "├────┼──────────────┼────────────────┼─────────────┼─────────┤\n",
      "│ 40 │ TOOLS        │ 3-4 stars      │ Neutral     │      76 │\n",
      "├────┼──────────────┼────────────────┼─────────────┼─────────┤\n",
      "│ 41 │ TOOLS        │ 3-4 stars      │ Positive    │     137 │\n",
      "├────┼──────────────┼────────────────┼─────────────┼─────────┤\n",
      "│ 42 │ TOOLS        │ 4-5 stars      │ Negative    │     289 │\n",
      "├────┼──────────────┼────────────────┼─────────────┼─────────┤\n",
      "│ 43 │ TOOLS        │ 4-5 stars      │ Neutral     │     281 │\n",
      "├────┼──────────────┼────────────────┼─────────────┼─────────┤\n",
      "│ 44 │ TOOLS        │ 4-5 stars      │ Positive    │     953 │\n",
      "╘════╧══════════════╧════════════════╧═════════════╧═════════╛\n"
     ]
    }
   ],
   "source": [
    "print(tabulate(sentiment_summary, headers='keys', tablefmt=\"fancy_grid\")) # Display the summary table"
   ]
  },
  {
   "cell_type": "markdown",
   "metadata": {},
   "source": [
    "<div style=\"border-radius:10px; border:#DEB887 solid; padding: 15px; background-color: #7FFFD4; font-size:100%; text-align:left\">\n",
    "\n",
    "<!-- <h3 align=\"center\"><font color='#DAA520'>💡 1st Task:</font></h3> -->\n",
    "    \n",
    "\n",
    "🪼 Create an interactive choropleth map using Plotly to visualize global installs by \n",
    "categories . Apply filters to show data for only the top 5 app categories and highlight\n",
    "categories where the number of installs exceeds 1 million and App category should not\n",
    "start with character “A” , “C” , “G” and “S” . this graph should work only between \n",
    "6PM IST to 8 PM IST apart from that time we should not show this graph in dashboard \n",
    "itself."
   ]
  },
  {
   "cell_type": "code",
   "execution_count": 94,
   "metadata": {},
   "outputs": [],
   "source": [
    "# Replace 'Free' with 0 and remove other non-numeric characters like \"+\" and \",\"\n",
    "playstore_data['Installs'] = playstore_data['Installs'].replace('Free', '0')\n",
    "playstore_data['Installs'] = playstore_data['Installs'].replace({'\\+': '', ',': ''}, regex=True)\n",
    "\n",
    "# Convert the 'Installs' column to numeric, coercing errors (e.g., invalid entries will become NaN)\n",
    "playstore_data['Installs'] = pd.to_numeric(playstore_data['Installs'], errors='coerce')\n",
    "\n",
    "# Drop rows where 'Installs' is NaN\n",
    "playstore_data = playstore_data.dropna(subset=['Installs'])\n",
    "\n",
    "# Filter out categories that start with 'A', 'C', 'G', or 'S'\n",
    "filtered_data = playstore_data[~playstore_data['Category'].str.startswith(('A', 'C', 'G', 'S'))]\n",
    "\n",
    "# Filter categories with more than 1 million installs\n",
    "filtered_data = filtered_data[filtered_data['Installs'] > 1000000]\n",
    "\n",
    "# Get the top 5 categories by the number of apps\n",
    "top_categories = filtered_data['Category'].value_counts().head(5).index\n",
    "filtered_data = filtered_data[filtered_data['Category'].isin(top_categories)]"
   ]
  },
  {
   "cell_type": "markdown",
   "metadata": {},
   "source": [
    "<div class=\"alert alert-block alert-danger\">  \n",
    "<b>Warning:</b> Since there is no country data in the dataset, we leave the map blank and indicate the issue.  \n",
    "</div>"
   ]
  },
  {
   "cell_type": "code",
   "execution_count": 96,
   "metadata": {},
   "outputs": [
    {
     "data": {
      "application/vnd.plotly.v1+json": {
       "config": {
        "plotlyServerURL": "https://plot.ly"
       },
       "data": [
        {
         "colorscale": [
          [
           0,
           "#636efa"
          ],
          [
           1,
           "#636efa"
          ]
         ],
         "geo": "geo",
         "hovertemplate": "locations=%{location}<extra></extra>",
         "locationmode": "country names",
         "locations": [],
         "name": "",
         "showlegend": true,
         "showscale": false,
         "type": "choropleth",
         "z": []
        }
       ],
       "layout": {
        "annotations": [
         {
          "font": {
           "color": "red",
           "size": 20
          },
          "showarrow": false,
          "text": "No country data available in the dataset.",
          "x": 0.5,
          "xref": "paper",
          "y": 0.5,
          "yref": "paper"
         }
        ],
        "geo": {
         "center": {},
         "domain": {
          "x": [
           0,
           1
          ],
          "y": [
           0,
           1
          ]
         },
         "projection": {
          "type": "equirectangular"
         },
         "showcoastlines": false,
         "showframe": false
        },
        "legend": {
         "tracegroupgap": 0
        },
        "template": {
         "data": {
          "bar": [
           {
            "error_x": {
             "color": "#2a3f5f"
            },
            "error_y": {
             "color": "#2a3f5f"
            },
            "marker": {
             "line": {
              "color": "#E5ECF6",
              "width": 0.5
             },
             "pattern": {
              "fillmode": "overlay",
              "size": 10,
              "solidity": 0.2
             }
            },
            "type": "bar"
           }
          ],
          "barpolar": [
           {
            "marker": {
             "line": {
              "color": "#E5ECF6",
              "width": 0.5
             },
             "pattern": {
              "fillmode": "overlay",
              "size": 10,
              "solidity": 0.2
             }
            },
            "type": "barpolar"
           }
          ],
          "carpet": [
           {
            "aaxis": {
             "endlinecolor": "#2a3f5f",
             "gridcolor": "white",
             "linecolor": "white",
             "minorgridcolor": "white",
             "startlinecolor": "#2a3f5f"
            },
            "baxis": {
             "endlinecolor": "#2a3f5f",
             "gridcolor": "white",
             "linecolor": "white",
             "minorgridcolor": "white",
             "startlinecolor": "#2a3f5f"
            },
            "type": "carpet"
           }
          ],
          "choropleth": [
           {
            "colorbar": {
             "outlinewidth": 0,
             "ticks": ""
            },
            "type": "choropleth"
           }
          ],
          "contour": [
           {
            "colorbar": {
             "outlinewidth": 0,
             "ticks": ""
            },
            "colorscale": [
             [
              0,
              "#0d0887"
             ],
             [
              0.1111111111111111,
              "#46039f"
             ],
             [
              0.2222222222222222,
              "#7201a8"
             ],
             [
              0.3333333333333333,
              "#9c179e"
             ],
             [
              0.4444444444444444,
              "#bd3786"
             ],
             [
              0.5555555555555556,
              "#d8576b"
             ],
             [
              0.6666666666666666,
              "#ed7953"
             ],
             [
              0.7777777777777778,
              "#fb9f3a"
             ],
             [
              0.8888888888888888,
              "#fdca26"
             ],
             [
              1,
              "#f0f921"
             ]
            ],
            "type": "contour"
           }
          ],
          "contourcarpet": [
           {
            "colorbar": {
             "outlinewidth": 0,
             "ticks": ""
            },
            "type": "contourcarpet"
           }
          ],
          "heatmap": [
           {
            "colorbar": {
             "outlinewidth": 0,
             "ticks": ""
            },
            "colorscale": [
             [
              0,
              "#0d0887"
             ],
             [
              0.1111111111111111,
              "#46039f"
             ],
             [
              0.2222222222222222,
              "#7201a8"
             ],
             [
              0.3333333333333333,
              "#9c179e"
             ],
             [
              0.4444444444444444,
              "#bd3786"
             ],
             [
              0.5555555555555556,
              "#d8576b"
             ],
             [
              0.6666666666666666,
              "#ed7953"
             ],
             [
              0.7777777777777778,
              "#fb9f3a"
             ],
             [
              0.8888888888888888,
              "#fdca26"
             ],
             [
              1,
              "#f0f921"
             ]
            ],
            "type": "heatmap"
           }
          ],
          "histogram": [
           {
            "marker": {
             "pattern": {
              "fillmode": "overlay",
              "size": 10,
              "solidity": 0.2
             }
            },
            "type": "histogram"
           }
          ],
          "histogram2d": [
           {
            "colorbar": {
             "outlinewidth": 0,
             "ticks": ""
            },
            "colorscale": [
             [
              0,
              "#0d0887"
             ],
             [
              0.1111111111111111,
              "#46039f"
             ],
             [
              0.2222222222222222,
              "#7201a8"
             ],
             [
              0.3333333333333333,
              "#9c179e"
             ],
             [
              0.4444444444444444,
              "#bd3786"
             ],
             [
              0.5555555555555556,
              "#d8576b"
             ],
             [
              0.6666666666666666,
              "#ed7953"
             ],
             [
              0.7777777777777778,
              "#fb9f3a"
             ],
             [
              0.8888888888888888,
              "#fdca26"
             ],
             [
              1,
              "#f0f921"
             ]
            ],
            "type": "histogram2d"
           }
          ],
          "histogram2dcontour": [
           {
            "colorbar": {
             "outlinewidth": 0,
             "ticks": ""
            },
            "colorscale": [
             [
              0,
              "#0d0887"
             ],
             [
              0.1111111111111111,
              "#46039f"
             ],
             [
              0.2222222222222222,
              "#7201a8"
             ],
             [
              0.3333333333333333,
              "#9c179e"
             ],
             [
              0.4444444444444444,
              "#bd3786"
             ],
             [
              0.5555555555555556,
              "#d8576b"
             ],
             [
              0.6666666666666666,
              "#ed7953"
             ],
             [
              0.7777777777777778,
              "#fb9f3a"
             ],
             [
              0.8888888888888888,
              "#fdca26"
             ],
             [
              1,
              "#f0f921"
             ]
            ],
            "type": "histogram2dcontour"
           }
          ],
          "mesh3d": [
           {
            "colorbar": {
             "outlinewidth": 0,
             "ticks": ""
            },
            "type": "mesh3d"
           }
          ],
          "parcoords": [
           {
            "line": {
             "colorbar": {
              "outlinewidth": 0,
              "ticks": ""
             }
            },
            "type": "parcoords"
           }
          ],
          "pie": [
           {
            "automargin": true,
            "type": "pie"
           }
          ],
          "scatter": [
           {
            "fillpattern": {
             "fillmode": "overlay",
             "size": 10,
             "solidity": 0.2
            },
            "type": "scatter"
           }
          ],
          "scatter3d": [
           {
            "line": {
             "colorbar": {
              "outlinewidth": 0,
              "ticks": ""
             }
            },
            "marker": {
             "colorbar": {
              "outlinewidth": 0,
              "ticks": ""
             }
            },
            "type": "scatter3d"
           }
          ],
          "scattercarpet": [
           {
            "marker": {
             "colorbar": {
              "outlinewidth": 0,
              "ticks": ""
             }
            },
            "type": "scattercarpet"
           }
          ],
          "scattergeo": [
           {
            "marker": {
             "colorbar": {
              "outlinewidth": 0,
              "ticks": ""
             }
            },
            "type": "scattergeo"
           }
          ],
          "scattergl": [
           {
            "marker": {
             "colorbar": {
              "outlinewidth": 0,
              "ticks": ""
             }
            },
            "type": "scattergl"
           }
          ],
          "scattermap": [
           {
            "marker": {
             "colorbar": {
              "outlinewidth": 0,
              "ticks": ""
             }
            },
            "type": "scattermap"
           }
          ],
          "scattermapbox": [
           {
            "marker": {
             "colorbar": {
              "outlinewidth": 0,
              "ticks": ""
             }
            },
            "type": "scattermapbox"
           }
          ],
          "scatterpolar": [
           {
            "marker": {
             "colorbar": {
              "outlinewidth": 0,
              "ticks": ""
             }
            },
            "type": "scatterpolar"
           }
          ],
          "scatterpolargl": [
           {
            "marker": {
             "colorbar": {
              "outlinewidth": 0,
              "ticks": ""
             }
            },
            "type": "scatterpolargl"
           }
          ],
          "scatterternary": [
           {
            "marker": {
             "colorbar": {
              "outlinewidth": 0,
              "ticks": ""
             }
            },
            "type": "scatterternary"
           }
          ],
          "surface": [
           {
            "colorbar": {
             "outlinewidth": 0,
             "ticks": ""
            },
            "colorscale": [
             [
              0,
              "#0d0887"
             ],
             [
              0.1111111111111111,
              "#46039f"
             ],
             [
              0.2222222222222222,
              "#7201a8"
             ],
             [
              0.3333333333333333,
              "#9c179e"
             ],
             [
              0.4444444444444444,
              "#bd3786"
             ],
             [
              0.5555555555555556,
              "#d8576b"
             ],
             [
              0.6666666666666666,
              "#ed7953"
             ],
             [
              0.7777777777777778,
              "#fb9f3a"
             ],
             [
              0.8888888888888888,
              "#fdca26"
             ],
             [
              1,
              "#f0f921"
             ]
            ],
            "type": "surface"
           }
          ],
          "table": [
           {
            "cells": {
             "fill": {
              "color": "#EBF0F8"
             },
             "line": {
              "color": "white"
             }
            },
            "header": {
             "fill": {
              "color": "#C8D4E3"
             },
             "line": {
              "color": "white"
             }
            },
            "type": "table"
           }
          ]
         },
         "layout": {
          "annotationdefaults": {
           "arrowcolor": "#2a3f5f",
           "arrowhead": 0,
           "arrowwidth": 1
          },
          "autotypenumbers": "strict",
          "coloraxis": {
           "colorbar": {
            "outlinewidth": 0,
            "ticks": ""
           }
          },
          "colorscale": {
           "diverging": [
            [
             0,
             "#8e0152"
            ],
            [
             0.1,
             "#c51b7d"
            ],
            [
             0.2,
             "#de77ae"
            ],
            [
             0.3,
             "#f1b6da"
            ],
            [
             0.4,
             "#fde0ef"
            ],
            [
             0.5,
             "#f7f7f7"
            ],
            [
             0.6,
             "#e6f5d0"
            ],
            [
             0.7,
             "#b8e186"
            ],
            [
             0.8,
             "#7fbc41"
            ],
            [
             0.9,
             "#4d9221"
            ],
            [
             1,
             "#276419"
            ]
           ],
           "sequential": [
            [
             0,
             "#0d0887"
            ],
            [
             0.1111111111111111,
             "#46039f"
            ],
            [
             0.2222222222222222,
             "#7201a8"
            ],
            [
             0.3333333333333333,
             "#9c179e"
            ],
            [
             0.4444444444444444,
             "#bd3786"
            ],
            [
             0.5555555555555556,
             "#d8576b"
            ],
            [
             0.6666666666666666,
             "#ed7953"
            ],
            [
             0.7777777777777778,
             "#fb9f3a"
            ],
            [
             0.8888888888888888,
             "#fdca26"
            ],
            [
             1,
             "#f0f921"
            ]
           ],
           "sequentialminus": [
            [
             0,
             "#0d0887"
            ],
            [
             0.1111111111111111,
             "#46039f"
            ],
            [
             0.2222222222222222,
             "#7201a8"
            ],
            [
             0.3333333333333333,
             "#9c179e"
            ],
            [
             0.4444444444444444,
             "#bd3786"
            ],
            [
             0.5555555555555556,
             "#d8576b"
            ],
            [
             0.6666666666666666,
             "#ed7953"
            ],
            [
             0.7777777777777778,
             "#fb9f3a"
            ],
            [
             0.8888888888888888,
             "#fdca26"
            ],
            [
             1,
             "#f0f921"
            ]
           ]
          },
          "colorway": [
           "#636efa",
           "#EF553B",
           "#00cc96",
           "#ab63fa",
           "#FFA15A",
           "#19d3f3",
           "#FF6692",
           "#B6E880",
           "#FF97FF",
           "#FECB52"
          ],
          "font": {
           "color": "#2a3f5f"
          },
          "geo": {
           "bgcolor": "white",
           "lakecolor": "white",
           "landcolor": "#E5ECF6",
           "showlakes": true,
           "showland": true,
           "subunitcolor": "white"
          },
          "hoverlabel": {
           "align": "left"
          },
          "hovermode": "closest",
          "mapbox": {
           "style": "light"
          },
          "paper_bgcolor": "white",
          "plot_bgcolor": "#E5ECF6",
          "polar": {
           "angularaxis": {
            "gridcolor": "white",
            "linecolor": "white",
            "ticks": ""
           },
           "bgcolor": "#E5ECF6",
           "radialaxis": {
            "gridcolor": "white",
            "linecolor": "white",
            "ticks": ""
           }
          },
          "scene": {
           "xaxis": {
            "backgroundcolor": "#E5ECF6",
            "gridcolor": "white",
            "gridwidth": 2,
            "linecolor": "white",
            "showbackground": true,
            "ticks": "",
            "zerolinecolor": "white"
           },
           "yaxis": {
            "backgroundcolor": "#E5ECF6",
            "gridcolor": "white",
            "gridwidth": 2,
            "linecolor": "white",
            "showbackground": true,
            "ticks": "",
            "zerolinecolor": "white"
           },
           "zaxis": {
            "backgroundcolor": "#E5ECF6",
            "gridcolor": "white",
            "gridwidth": 2,
            "linecolor": "white",
            "showbackground": true,
            "ticks": "",
            "zerolinecolor": "white"
           }
          },
          "shapedefaults": {
           "line": {
            "color": "#2a3f5f"
           }
          },
          "ternary": {
           "aaxis": {
            "gridcolor": "white",
            "linecolor": "white",
            "ticks": ""
           },
           "baxis": {
            "gridcolor": "white",
            "linecolor": "white",
            "ticks": ""
           },
           "bgcolor": "#E5ECF6",
           "caxis": {
            "gridcolor": "white",
            "linecolor": "white",
            "ticks": ""
           }
          },
          "title": {
           "x": 0.05
          },
          "xaxis": {
           "automargin": true,
           "gridcolor": "white",
           "linecolor": "white",
           "ticks": "",
           "title": {
            "standoff": 15
           },
           "zerolinecolor": "white",
           "zerolinewidth": 2
          },
          "yaxis": {
           "automargin": true,
           "gridcolor": "white",
           "linecolor": "white",
           "ticks": "",
           "title": {
            "standoff": 15
           },
           "zerolinecolor": "white",
           "zerolinewidth": 2
          }
         }
        },
        "title": {
         "text": "Global App Installs by Category (Country data unavailable)",
         "x": 0.5
        }
       }
      }
     },
     "metadata": {},
     "output_type": "display_data"
    }
   ],
   "source": [
    "fig = px.choropleth(\n",
    "    locations=[],  # No data for locations\n",
    "    locationmode='country names',\n",
    "    title=\"Global App Installs by Category (Country data unavailable)\" # Title of the plot\n",
    ")\n",
    "\n",
    "# Update layout to show that no data is available\n",
    "fig.update_layout(\n",
    "    geo=dict(\n",
    "        showframe=False,# Hide the frame\n",
    "        showcoastlines=False,# Hide the coastlines\n",
    "        projection_type='equirectangular'\n",
    "    ),\n",
    "    title_x=0.5,\n",
    "    annotations=[\n",
    "        dict(\n",
    "            x=0.5, # Center the title\n",
    "            y=0.5, # Center the title\n",
    "            text=\"No country data available in the dataset.\",\n",
    "            showarrow=False,\n",
    "            font=dict(size=20, color=\"red\"), # Increase font size and make it red\n",
    "            xref=\"paper\", # Position the text relative to the paper\n",
    "            yref=\"paper\" # Position the text relative to the paper\n",
    "        )\n",
    "    ]\n",
    ")\n",
    "\n",
    "fig.show()"
   ]
  },
  {
   "cell_type": "markdown",
   "metadata": {},
   "source": [
    "<div class=\"alert alert-block alert-warning\">  \n",
    "<b>Warning:</b> Plotly interactive plots only appear after running the cells.  \n",
    "</div> "
   ]
  },
  {
   "cell_type": "markdown",
   "metadata": {},
   "source": [
    "<img src=\"../Images/global_installation.png\" alt=\"Description\">"
   ]
  },
  {
   "cell_type": "markdown",
   "metadata": {},
   "source": [
    "<div style=\"border-radius:10px; border:#DEB887 solid; padding: 15px; background-color: #7FFFD4; font-size:100%; text-align:left\">\n",
    "\n",
    "<!-- <h3 align=\"center\"><font color='#DAA520'>💡 1st Task:</font></h3> -->\n",
    "    \n",
    "\n",
    "🪼 Create a dual-axis chart comparing the average installs and revenue for free vs. \n",
    "paid apps within the top 3 app categories. Apply filters to exclude apps with fewer \n",
    "than 10,000 installs and revenue below $10,000 and android version should be more \n",
    "than 4.0 as well as size should be more than 15M and content rating should be Everyone\n",
    "and app name should not have more than 30 characters including space and special \n",
    "character .this graph should work only between 1 PM IST to 2 PM IST apart from that \n",
    "time we should not show this graph in dashboard itself."
   ]
  },
  {
   "cell_type": "markdown",
   "metadata": {},
   "source": []
  }
 ],
 "metadata": {
  "kernelspec": {
   "display_name": "Python 3",
   "language": "python",
   "name": "python3"
  },
  "language_info": {
   "codemirror_mode": {
    "name": "ipython",
    "version": 3
   },
   "file_extension": ".py",
   "mimetype": "text/x-python",
   "name": "python",
   "nbconvert_exporter": "python",
   "pygments_lexer": "ipython3",
   "version": "3.12.4"
  }
 },
 "nbformat": 4,
 "nbformat_minor": 4
}
